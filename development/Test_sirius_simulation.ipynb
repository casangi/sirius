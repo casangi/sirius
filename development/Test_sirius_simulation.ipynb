{
 "cells": [
  {
   "cell_type": "code",
   "execution_count": 35,
   "id": "3aadcd20-4edb-4bfd-bfa1-fbcfaa6d415f",
   "metadata": {},
   "outputs": [],
   "source": [
    "c = 299792458\n",
    "#from direction_rotate import _calc_rotation_mats\n",
    "import matplotlib.pyplot as plt\n",
    "import xarray as xr\n",
    "import dask.array as da\n",
    "import cngi.conversion.convert_ms as convert_ms\n",
    "import cngi.conversion.convert_image as convert_image\n",
    "from cngi.dio import read_vis\n",
    "import numpy as np\n",
    "from astropy.coordinates import SkyCoord\n",
    "from sirius import simulation, calc_vis_point\n",
    "from sympy import *\n",
    "from astropy.wcs import WCS\n",
    "import time\n",
    "from astropy.time import Time"
   ]
  },
  {
   "cell_type": "code",
   "execution_count": 36,
   "id": "9a7c5f07-48c6-4af6-a247-142384c21c7e",
   "metadata": {},
   "outputs": [],
   "source": [
    "#Load Data from converted CASA simulated ms (steal uvw values)\n",
    "ms_file = 'point_source_sim_vis/mosaic_point_source_sim_dovp_True.vis.zarr' #remember to change pb_parms['pb_func'] = 'casa_airy'\n",
    "#ms_file = 'point_source_sim_vis/point_source_sim_dovp_False.vis.zarr'\n",
    "#remember to change pb_parms['pb_func'] = 'none'\n",
    "#ms_file = 'zenith_point_source_sim_dovp_False.vis.zarr'"
   ]
  },
  {
   "cell_type": "code",
   "execution_count": 37,
   "id": "96435d03-339d-4e7b-a0fd-0114a1fb7ae3",
   "metadata": {},
   "outputs": [
    {
     "name": "stdout",
     "output_type": "stream",
     "text": [
      "<xarray.Dataset>\n",
      "Dimensions:           (antenna_ids: 27, feed_ids: 27, field_ids: 2, observation_ids: 1, polarization_ids: 1, source_ids: 2, spw_ids: 1, state_ids: 1)\n",
      "Coordinates:\n",
      "  * antenna_ids       (antenna_ids) int64 0 1 2 3 4 5 6 ... 20 21 22 23 24 25 26\n",
      "    antennas          (antenna_ids) <U16 'W01' 'W02' 'W03' ... 'N07' 'N08' 'N09'\n",
      "  * field_ids         (field_ids) int64 0 1\n",
      "    fields            (field_ids) <U5 'fake' 'fake2'\n",
      "  * feed_ids          (feed_ids) int64 0 0 0 0 0 0 0 0 0 0 ... 0 0 0 0 0 0 0 0 0\n",
      "  * observation_ids   (observation_ids) int64 0\n",
      "    observations      (observation_ids) <U16 'CASA simulation'\n",
      "  * polarization_ids  (polarization_ids) int64 0\n",
      "  * source_ids        (source_ids) int64 0 1\n",
      "    sources           (source_ids) <U5 'fake' 'fake2'\n",
      "  * spw_ids           (spw_ids) int64 0\n",
      "  * state_ids         (state_ids) int64 0\n",
      "Data variables:\n",
      "    *empty*\n",
      "Attributes:\n",
      "    xds0:             <xarray.Dataset>\\nDimensions:                (baseline:...\n",
      "    ANTENNA:          <xarray.Dataset>\\nDimensions:        (antenna_id: 27, d...\n",
      "    FEED:             <xarray.Dataset>\\nDimensions:             (d0: 27, d1: ...\n",
      "    FIELD:            <xarray.Dataset>\\nDimensions:        (d1: 1, d2: 2, fie...\n",
      "    OBSERVATION:      <xarray.Dataset>\\nDimensions:         (d1: 2, observati...\n",
      "    POINTING:         <xarray.Dataset>\\nDimensions:      (antenna_id: 27, d2:...\n",
      "    POLARIZATION:     <xarray.Dataset>\\nDimensions:       (d0: 1, d1: 2, d2: ...\n",
      "    SOURCE:           <xarray.Dataset>\\nDimensions:             (d0: 2, d1: 2...\n",
      "    SPECTRAL_WINDOW:  <xarray.Dataset>\\nDimensions:             (d1: 3, spect...\n",
      "    STATE:            <xarray.Dataset>\\nDimensions:   (state_id: 1)\\nCoordina...\n"
     ]
    }
   ],
   "source": [
    "mxds = read_vis(ms_file)\n",
    "print(mxds)"
   ]
  },
  {
   "cell_type": "code",
   "execution_count": 4,
   "id": "789b9b5c-764c-4fd0-b719-a51af1f3630b",
   "metadata": {},
   "outputs": [],
   "source": [
    "vis_xds = read_vis(ms_file).xds0"
   ]
  },
  {
   "cell_type": "code",
   "execution_count": 5,
   "id": "3f80d07d-cdb9-4f8c-8526-76f45fc962e3",
   "metadata": {},
   "outputs": [],
   "source": [
    "cas_vis_data = vis_xds.DATA.data.compute()"
   ]
  },
  {
   "cell_type": "code",
   "execution_count": 6,
   "id": "26c30be4-ac3d-47ae-b02c-e1393a8353b0",
   "metadata": {},
   "outputs": [],
   "source": [
    "uvw = vis_xds.UVW.data.compute()"
   ]
  },
  {
   "cell_type": "code",
   "execution_count": 7,
   "id": "9a37d9ef-441d-4d5b-810a-0f5276e4ba0f",
   "metadata": {},
   "outputs": [],
   "source": [
    "freq_chan = vis_xds.chan.values"
   ]
  },
  {
   "cell_type": "code",
   "execution_count": 8,
   "id": "7106a69d-4c73-4353-bc29-edc00df17228",
   "metadata": {},
   "outputs": [
    {
     "data": {
      "text/plain": [
       "(10, 351, 3, 2)"
      ]
     },
     "execution_count": 8,
     "metadata": {},
     "output_type": "execute_result"
    }
   ],
   "source": [
    "cas_vis_data.shape"
   ]
  },
  {
   "cell_type": "markdown",
   "id": "c83d8ce2-690c-4ce8-8144-4f9f489695b7",
   "metadata": {},
   "source": [
    "### Sirius Simulation"
   ]
  },
  {
   "cell_type": "code",
   "execution_count": 9,
   "id": "c5853ef6-f75c-4add-a324-98d273537d46",
   "metadata": {},
   "outputs": [],
   "source": [
    "#Setup phase centre (rename pointing_ra_dec to phase_center)\n",
    "#pointing_ra_dec:  [n_time, 2]                   (singleton: n_time, n_baseline)\n",
    "phase_center = SkyCoord(ra='20h00m28.5s',dec='+40d44m01.5s',frame='fk5') #sim\n",
    "phase_center2 = SkyCoord(ra='19h58m28.5s',dec='+40d44m01.5s',frame='fk5')\n",
    "#To do: concat, check shape\n",
    "#pointing_skycoord = SkyCoord(ra='0h0m0.0s',dec='90d00m00.0s',frame='fk5') #zenith\n",
    "phase_center_ra_dec = np.array([phase_center.ra.rad,phase_center.dec.rad]).reshape((1, 2))*np.ones(5).reshape((5, 1))\n",
    "phase_center_ra_dec2 = np.array([phase_center2.ra.rad,phase_center2.dec.rad]).reshape((1, 2))*np.ones(5).reshape((5, 1))\n",
    "phase_center_ra_dec = np.append(phase_center_ra_dec, phase_center_ra_dec2, axis = 0)"
   ]
  },
  {
   "cell_type": "code",
   "execution_count": 10,
   "id": "fc63634c-3e92-4cc9-934a-fc894e2fe52d",
   "metadata": {},
   "outputs": [
    {
     "data": {
      "text/plain": [
       "array([5.22933369, 0.71093805])"
      ]
     },
     "execution_count": 10,
     "metadata": {},
     "output_type": "execute_result"
    }
   ],
   "source": [
    "phase_center_ra_dec[5]"
   ]
  },
  {
   "cell_type": "code",
   "execution_count": 11,
   "id": "dca22fd7-eaf8-4df6-95d6-b4e3190f8fef",
   "metadata": {},
   "outputs": [],
   "source": [
    "#Pointing_ra_dec\n",
    "pointing_ra_dec = np.zeros((1, 1, 2)) #Singleton"
   ]
  },
  {
   "cell_type": "code",
   "execution_count": 12,
   "id": "55b94c5f-2a76-49f3-84dd-ae82c451cb20",
   "metadata": {},
   "outputs": [],
   "source": [
    "#Setup point source skycoord\n",
    "#point_source_ra_dec:  [n_time, n_point_sources, 2]          (singleton: n_time)\n",
    "point_source_skycoord = SkyCoord(ra='20h00m28.5s',dec='+40d44m01.5s',frame='fk5') #sim\n",
    "point_source_skycoord2 = SkyCoord(ra='19h58m28.5s',dec='+40d44m01.5s',frame='fk5') #sim\n",
    "#point_source_skycoord = SkyCoord(ra='19h59m0.0s',dec='+89d54m01.5s',frame='fk5') #zenith\n",
    "point_source_ra_dec = np.array([point_source_skycoord.ra.rad,point_source_skycoord.dec.rad])[None,None,:]*np.ones(10).reshape(10, 1, 1)\n",
    "point_source_ra_dec2 = np.array([point_source_skycoord2.ra.rad,point_source_skycoord2.dec.rad])[None,None,:]*np.ones(10).reshape(10, 1, 1)\n",
    "point_source_ra_dec = np.append(point_source_ra_dec, point_source_ra_dec2, axis = 1)"
   ]
  },
  {
   "cell_type": "code",
   "execution_count": 13,
   "id": "b727377a-6932-4c19-b00e-861087f4888a",
   "metadata": {},
   "outputs": [
    {
     "data": {
      "text/plain": [
       "array([[5.22933369, 0.71093805],\n",
       "       [5.22933369, 0.71093805],\n",
       "       [5.22933369, 0.71093805],\n",
       "       [5.22933369, 0.71093805],\n",
       "       [5.22933369, 0.71093805],\n",
       "       [5.22933369, 0.71093805],\n",
       "       [5.22933369, 0.71093805],\n",
       "       [5.22933369, 0.71093805],\n",
       "       [5.22933369, 0.71093805],\n",
       "       [5.22933369, 0.71093805]])"
      ]
     },
     "execution_count": 13,
     "metadata": {},
     "output_type": "execute_result"
    }
   ],
   "source": [
    "point_source_ra_dec[:, 1]"
   ]
  },
  {
   "cell_type": "code",
   "execution_count": 14,
   "id": "24c5fe49-af8a-4464-bb62-822e6c523049",
   "metadata": {},
   "outputs": [
    {
     "data": {
      "text/plain": [
       "array([[5.23806033, 0.71093805],\n",
       "       [5.22933369, 0.71093805]])"
      ]
     },
     "execution_count": 14,
     "metadata": {},
     "output_type": "execute_result"
    }
   ],
   "source": [
    "point_source_ra_dec[0]"
   ]
  },
  {
   "cell_type": "code",
   "execution_count": 15,
   "id": "1156cb2e-edca-4478-aca2-92418ad0f35b",
   "metadata": {},
   "outputs": [],
   "source": [
    "#Source flux\n",
    "#point_source_flux: [n_time, n_chan, n_pol, n_point_sources] (singleton: n_time, n_chan, n_pol)\n",
    "point_source_flux = np.array([2.17, 2.17])[None,None,None,:]*np.ones(10).reshape(10, 1, 1, 1)"
   ]
  },
  {
   "cell_type": "code",
   "execution_count": 16,
   "id": "0ebca430-a882-49ed-8dbd-7fd464013918",
   "metadata": {},
   "outputs": [
    {
     "data": {
      "text/plain": [
       "(10, 1, 1, 2)"
      ]
     },
     "execution_count": 16,
     "metadata": {},
     "output_type": "execute_result"
    }
   ],
   "source": [
    "point_source_flux.shape"
   ]
  },
  {
   "cell_type": "code",
   "execution_count": 17,
   "id": "7af821b9-d836-4831-948c-24d465be76f1",
   "metadata": {},
   "outputs": [],
   "source": [
    "#Primary Beam Model parameters\n",
    "pb_parms = {}\n",
    "pb_parms['pb_func'] = 'casa_airy' # casa_airy/airy/none\n",
    "#pb_parms['pb_func'] = 'none'\n",
    "pb_parms['dish_diameter'] = 24.5\n",
    "pb_parms['blockage_diameter'] = 0.0\n",
    "pb_parms['ipower'] = 1 #CHANGE\n",
    "pb_parms['pb_limit'] = 1e-5"
   ]
  },
  {
   "cell_type": "code",
   "execution_count": 18,
   "id": "60b29233-dcbb-418a-9287-d95303763c75",
   "metadata": {},
   "outputs": [],
   "source": [
    "n_time, n_baseline, n_chan, n_pol = cas_vis_data.shape\n",
    "antenna1 = np.zeros(n_baseline)\n",
    "antenna2 = np.zeros(n_baseline)\n",
    "n_ant = 1"
   ]
  },
  {
   "cell_type": "code",
   "execution_count": 19,
   "id": "f9f8ad81-8c43-4133-b7cf-e5fb58994fa9",
   "metadata": {},
   "outputs": [
    {
     "data": {
      "text/plain": [
       "(10, 2)"
      ]
     },
     "execution_count": 19,
     "metadata": {},
     "output_type": "execute_result"
    }
   ],
   "source": [
    "phase_center_ra_dec.shape"
   ]
  },
  {
   "cell_type": "code",
   "execution_count": 20,
   "id": "cc01af06-000c-4536-9f31-afaba85fb737",
   "metadata": {
    "tags": []
   },
   "outputs": [
    {
     "name": "stdout",
     "output_type": "stream",
     "text": [
      "Compute Time 1.525804042816162\n"
     ]
    }
   ],
   "source": [
    "start = time.time()\n",
    "vis_data = calc_vis_point.calc_vis(uvw,cas_vis_data.shape,point_source_flux,point_source_ra_dec,pointing_ra_dec,phase_center_ra_dec,antenna1,antenna2,n_ant,freq_chan,pb_parms)\n",
    "print('Compute Time', time.time()-start)"
   ]
  },
  {
   "cell_type": "code",
   "execution_count": 21,
   "id": "7a06f6b9-7433-4649-8368-c8031d7b2e5c",
   "metadata": {},
   "outputs": [
    {
     "name": "stdout",
     "output_type": "stream",
     "text": [
      "Compute Time 1.4932208061218262\n"
     ]
    }
   ],
   "source": [
    "start = time.time()\n",
    "sim_vis_data = simulation.simulation(\"\",uvw,(),(cas_vis_data.shape,point_source_flux,point_source_ra_dec,pointing_ra_dec,phase_center_ra_dec,antenna1,antenna2,n_ant,freq_chan,pb_parms))\n",
    "print('Compute Time', time.time()-start)"
   ]
  },
  {
   "cell_type": "markdown",
   "id": "27c7fb58-a098-4f38-be08-432851041455",
   "metadata": {},
   "source": [
    "### Check that simulation and calc_vis are equal"
   ]
  },
  {
   "cell_type": "code",
   "execution_count": 27,
   "id": "96bb93a0-bb11-4c51-bceb-103dca7a8a60",
   "metadata": {},
   "outputs": [],
   "source": [
    "check_abs_dif = np.ravel(np.abs(vis_data[:,:,:,0]-sim_vis_data[:,:,:,0])/np.abs(vis_data[:,:,:,0]))"
   ]
  },
  {
   "cell_type": "code",
   "execution_count": 28,
   "id": "380e4427-2594-4add-bad4-f0cc37727229",
   "metadata": {},
   "outputs": [
    {
     "data": {
      "text/plain": [
       "Text(0, 0.5, 'Relative Change (out of 1)')"
      ]
     },
     "execution_count": 28,
     "metadata": {},
     "output_type": "execute_result"
    },
    {
     "data": {
      "image/png": "[encoded data removed]",
      "text/plain": [
       "<Figure size 432x288 with 1 Axes>"
      ]
     },
     "metadata": {
      "needs_background": "light"
     },
     "output_type": "display_data"
    }
   ],
   "source": [
    "plt.figure()\n",
    "plt.plot(check_abs_dif)\n",
    "plt.xlabel('Vis Number (ravel)')\n",
    "plt.ylabel('Relative Change (out of 1)')"
   ]
  },
  {
   "cell_type": "markdown",
   "id": "97289456-655e-4985-b7c8-3e8de335a9b2",
   "metadata": {},
   "source": [
    "### Compare CASA and Sirius"
   ]
  },
  {
   "cell_type": "code",
   "execution_count": 22,
   "id": "d13e5908-1ef4-4b83-aad0-8925dfd96a5f",
   "metadata": {},
   "outputs": [],
   "source": [
    "abs_dif = np.ravel(np.abs(cas_vis_data[:,:,:,0]-sim_vis_data[:,:,:,0])/np.abs(sim_vis_data[:,:,:,0]))"
   ]
  },
  {
   "cell_type": "code",
   "execution_count": 23,
   "id": "f0f93e90-e4b7-440a-a7a2-d3df12b50224",
   "metadata": {},
   "outputs": [
    {
     "data": {
      "text/plain": [
       "(10, 351, 3, 2)"
      ]
     },
     "execution_count": 23,
     "metadata": {},
     "output_type": "execute_result"
    }
   ],
   "source": [
    "cas_vis_data.shape"
   ]
  },
  {
   "cell_type": "code",
   "execution_count": 24,
   "id": "13e64450-d640-4a6a-96bc-2c8d7f5a33ee",
   "metadata": {},
   "outputs": [
    {
     "data": {
      "text/plain": [
       "(10, 351, 3, 2)"
      ]
     },
     "execution_count": 24,
     "metadata": {},
     "output_type": "execute_result"
    }
   ],
   "source": [
    "vis_data.shape"
   ]
  },
  {
   "cell_type": "code",
   "execution_count": 25,
   "id": "14a147e1-e466-4ba7-939e-8db99341d93a",
   "metadata": {},
   "outputs": [
    {
     "data": {
      "text/plain": [
       "(10, 351, 3, 2)"
      ]
     },
     "execution_count": 25,
     "metadata": {},
     "output_type": "execute_result"
    }
   ],
   "source": [
    "sim_vis_data.shape"
   ]
  },
  {
   "cell_type": "code",
   "execution_count": 26,
   "id": "bd3c14ff-f1f0-4cb0-8fca-a7050781f22d",
   "metadata": {},
   "outputs": [
    {
     "data": {
      "text/plain": [
       "Text(0, 0.5, 'Relative Change (out of 1)')"
      ]
     },
     "execution_count": 26,
     "metadata": {},
     "output_type": "execute_result"
    },
    {
     "data": {
      "image/png": "[encoded data removed]",
      "text/plain": [
       "<Figure size 432x288 with 1 Axes>"
      ]
     },
     "metadata": {
      "needs_background": "light"
     },
     "output_type": "display_data"
    }
   ],
   "source": [
    "plt.figure()\n",
    "plt.plot(abs_dif)\n",
    "plt.xlabel('Vis Number (ravel)')\n",
    "plt.ylabel('Relative Change (out of 1)')"
   ]
  },
  {
   "cell_type": "markdown",
   "id": "2776fb53-1a87-45a6-b593-40290eaa60cc",
   "metadata": {},
   "source": [
    "### Create Image Using ngCASA"
   ]
  },
  {
   "cell_type": "code",
   "execution_count": 31,
   "id": "6d0e39d7-bbcc-41ac-825f-299a6da85b21",
   "metadata": {},
   "outputs": [],
   "source": [
    "#from cngi.vis import apply_flags\n",
    "from ngcasa.imaging import make_imaging_weight\n",
    "from ngcasa.imaging import make_image\n",
    "from ngcasa.imaging import make_pb\n",
    "from ngcasa.imaging import make_gridding_convolution_function\n",
    "from cngi.dio import write_image\n",
    "import dask\n",
    "import dask.array as da"
   ]
  },
  {
   "cell_type": "code",
   "execution_count": 32,
   "id": "630e5e81-db83-42df-a067-e76e3e6da81a",
   "metadata": {},
   "outputs": [],
   "source": [
    "rad_to_deg =  180/np.pi\n",
    "deg_to_rad = np.pi/180\n",
    "arcsec_to_deg = 1/3600\n",
    "arcsec_to_rad = np.pi/(180*3600)"
   ]
  },
  {
   "cell_type": "code",
   "execution_count": 33,
   "id": "76bdcef6-fd0a-451f-8a02-543b500d7572",
   "metadata": {},
   "outputs": [],
   "source": [
    "#mxds = apply_flags(mxds, 'xds0', flags='FLAG')\n",
    "mxds.attrs['xds1'] = mxds.attrs['xds0'].isel(pol=slice(0,1))\n",
    "mxds.attrs['xds1']['DATA'] = xr.DataArray(da.from_array(vis_data[:,:,:,0][:,:,:,None],chunks=mxds.attrs['xds1']['DATA'].chunks),coords=mxds.attrs['xds1']['DATA'].coords)"
   ]
  },
  {
   "cell_type": "code",
   "execution_count": 34,
   "id": "3313046d-25a2-43fb-922d-e599e9f80666",
   "metadata": {},
   "outputs": [
    {
     "data": {
      "text/plain": [
       "<xarray.core.options.set_options at 0x7f5dc4625710>"
      ]
     },
     "execution_count": 34,
     "metadata": {},
     "output_type": "execute_result"
    }
   ],
   "source": [
    "from ngcasa.imaging import direction_rotate\n",
    "xr.set_options(display_style=\"html\")"
   ]
  },
  {
   "cell_type": "code",
   "execution_count": 35,
   "id": "ad78adb8-380c-4776-b25b-101f5d49d234",
   "metadata": {},
   "outputs": [],
   "source": [
    "grid_parms = {}\n",
    "grid_parms['chan_mode'] = 'cube'\n",
    "grid_parms['image_size'] = [800,400]\n",
    "grid_parms['cell_size'] = [5,5]\n",
    "grid_parms['phase_center'] = (mxds.FIELD.PHASE_DIR[0,0,:].data.compute() + mxds.FIELD.PHASE_DIR[1,0,:].data.compute())/2"
   ]
  },
  {
   "cell_type": "code",
   "execution_count": 36,
   "id": "331fb2f4-15da-479a-962c-d58736799a85",
   "metadata": {},
   "outputs": [
    {
     "data": {
      "text/plain": [
       "[{'0': {'data': 'DATA',\n",
       "   'flag': 'FLAG',\n",
       "   'id': '0',\n",
       "   'uvw': 'UVW',\n",
       "   'weight': 'DATA_WEIGHT'},\n",
       "  '1': {'data': 'CORRECTED_DATA',\n",
       "   'flag': 'FLAG',\n",
       "   'id': '1',\n",
       "   'uvw': 'UVW',\n",
       "   'weight': 'CORRECTED_DATA_WEIGHT'}}]"
      ]
     },
     "execution_count": 36,
     "metadata": {},
     "output_type": "execute_result"
    }
   ],
   "source": [
    "mxds.xds1.data_groups"
   ]
  },
  {
   "cell_type": "code",
   "execution_count": 37,
   "id": "1b8d20d5-dcd0-4974-8388-c4cd3469a565",
   "metadata": {},
   "outputs": [
    {
     "name": "stdout",
     "output_type": "stream",
     "text": [
      "######################### Start direction_rotate #########################\n",
      "Setting data_group_in  to  {'data': 'DATA', 'flag': 'FLAG', 'id': '0', 'uvw': 'UVW', 'weight': 'DATA_WEIGHT'}\n",
      "Setting default data_group_out  to  {'data': 'DATA_ROT', 'flag': 'FLAG', 'id': '2', 'uvw': 'UVW_ROT', 'weight': 'DATA_WEIGHT'}\n",
      "######################### Created graph for direction_rotate #########################\n"
     ]
    }
   ],
   "source": [
    "sel_parms = {}\n",
    "sel_parms['xds'] = 'xds1' #KEEP USING XDS1 THROUGHOUT\n",
    "sel_parms['data_group_in_id'] = 0 #CHANGE TO DATA GROUP 2 AFTER ROTATION\n",
    "\n",
    "rotation_parms = {}\n",
    "rotation_parms['new_phase_center'] = grid_parms['phase_center']\n",
    "rotation_parms['common_tangent_reprojection'] = True\n",
    "rotation_parms['single_precision'] = False\n",
    "\n",
    "mxds = direction_rotate(mxds, rotation_parms, sel_parms)"
   ]
  },
  {
   "cell_type": "code",
   "execution_count": 38,
   "id": "2729e6ad-8322-40a4-8f20-ad98758c1fb8",
   "metadata": {},
   "outputs": [
    {
     "data": {
      "text/plain": [
       "[{'0': {'data': 'DATA',\n",
       "   'flag': 'FLAG',\n",
       "   'id': '0',\n",
       "   'uvw': 'UVW',\n",
       "   'weight': 'DATA_WEIGHT'},\n",
       "  '1': {'data': 'CORRECTED_DATA',\n",
       "   'flag': 'FLAG',\n",
       "   'id': '1',\n",
       "   'uvw': 'UVW',\n",
       "   'weight': 'CORRECTED_DATA_WEIGHT'},\n",
       "  '2': {'data': 'DATA_ROT',\n",
       "   'flag': 'FLAG',\n",
       "   'id': '2',\n",
       "   'uvw': 'UVW_ROT',\n",
       "   'weight': 'DATA_WEIGHT'}}]"
      ]
     },
     "execution_count": 38,
     "metadata": {},
     "output_type": "execute_result"
    }
   ],
   "source": [
    "mxds.xds1.data_groups"
   ]
  },
  {
   "cell_type": "code",
   "execution_count": 39,
   "id": "c281966c-fa45-499c-814f-e9100afb0dfe",
   "metadata": {},
   "outputs": [],
   "source": [
    "imaging_weights_parms = {}\n",
    "imaging_weights_parms['weighting'] = 'natural'"
   ]
  },
  {
   "cell_type": "code",
   "execution_count": 40,
   "id": "2be86fd6-eec3-4be7-aae0-c0b1e7d591f1",
   "metadata": {},
   "outputs": [],
   "source": [
    "sel_parms = {}\n",
    "sel_parms['xds'] = 'xds1'\n",
    "sel_parms['data_group_in_id'] = 2"
   ]
  },
  {
   "cell_type": "code",
   "execution_count": 41,
   "id": "bf430815-db61-4767-80ab-bfdfa2227d83",
   "metadata": {},
   "outputs": [
    {
     "name": "stdout",
     "output_type": "stream",
     "text": [
      "######################### Start make_imaging_weights #########################\n",
      "Setting data_group_in  to  {'data': 'DATA_ROT', 'flag': 'FLAG', 'id': '2', 'uvw': 'UVW_ROT', 'weight': 'DATA_WEIGHT'}\n",
      "Setting default data_group_out  to  {'data': 'DATA_ROT', 'flag': 'FLAG', 'id': '2', 'uvw': 'UVW_ROT', 'weight': 'DATA_WEIGHT', 'imaging_weight': 'IMAGING_WEIGHT'}\n",
      "Since weighting is natural input weight will be reused as imaging weight.\n",
      "######################### Created graph for make_imaging_weight #########################\n"
     ]
    }
   ],
   "source": [
    "mxds = make_imaging_weight(mxds, imaging_weights_parms, grid_parms, sel_parms)"
   ]
  },
  {
   "cell_type": "code",
   "execution_count": 42,
   "id": "f7a93444-5597-48e9-80e1-e52eb86c1286",
   "metadata": {},
   "outputs": [],
   "source": [
    "vis_sel_parms = {}\n",
    "vis_sel_parms['xds'] = 'xds1'\n",
    "vis_sel_parms['data_group_in_id'] = 2"
   ]
  },
  {
   "cell_type": "code",
   "execution_count": 43,
   "id": "d75be9a0-4762-46dd-92aa-d4249ae5bef1",
   "metadata": {},
   "outputs": [],
   "source": [
    "img_sel_parms = {}\n",
    "img_sel_parms['data_group_out_id'] = 0"
   ]
  },
  {
   "cell_type": "code",
   "execution_count": 44,
   "id": "b9546449-8563-4ddc-a7f3-0f1bbd40f4e7",
   "metadata": {},
   "outputs": [
    {
     "name": "stdout",
     "output_type": "stream",
     "text": [
      "######################### Start make_gridding_convolution_function #########################\n",
      "Setting data_group_in  to  {'data': 'DATA_ROT', 'flag': 'FLAG', 'id': '2', 'uvw': 'UVW_ROT', 'weight': 'DATA_WEIGHT', 'imaging_weight': 'DATA_WEIGHT'}\n",
      "Setting default data_group_out  to  {'data': 'DATA_ROT', 'flag': 'FLAG', 'id': '3', 'uvw': 'UVW_ROT', 'weight': 'DATA_WEIGHT', 'imaging_weight': 'DATA_WEIGHT'}\n",
      "Setting default chan_tolerance_factor  to  0.005\n",
      "Setting default support_cut_level  to  0.025\n",
      "Setting default a_chan_num_chunk  to  3\n",
      "Setting default image_center  to  [400 200]\n",
      "Setting default fft_padding  to  1.2\n",
      "#########################  Created graph for make_gridding_convolution_function #########################\n"
     ]
    },
    {
     "data": {
      "text/plain": [
       "(<xarray.Dataset>\n",
       " Dimensions:             (baseline: 3, chan: 3, conv_baseline: 1, conv_chan: 3, conv_pol: 1, field_id: 2, l: 800, m: 400, pol: 1, u: 250, v: 250, xy: 2)\n",
       " Coordinates:\n",
       "   * u                   (u) int64 0 1 2 3 4 5 6 ... 243 244 245 246 247 248 249\n",
       "   * v                   (v) int64 0 1 2 3 4 5 6 ... 243 244 245 246 247 248 249\n",
       "   * xy                  (xy) int64 0 1\n",
       "   * field_id            (field_id) int64 0 1\n",
       "   * l                   (l) int64 0 1 2 3 4 5 6 ... 793 794 795 796 797 798 799\n",
       "   * m                   (m) int64 0 1 2 3 4 5 6 ... 393 394 395 396 397 398 399\n",
       " Dimensions without coordinates: baseline, chan, conv_baseline, conv_chan, conv_pol, pol\n",
       " Data variables:\n",
       "     SUPPORT             (conv_baseline, conv_chan, conv_pol, xy) int64 19 ... 13\n",
       "     WEIGHT_CONV_KERNEL  (conv_baseline, conv_chan, conv_pol, u, v) float64 4....\n",
       "     PS_CORR_IMAGE       (l, m) float64 1.0 1.0 1.0 1.0 1.0 ... 1.0 1.0 1.0 1.0\n",
       "     CF_BASELINE_MAP     (baseline) int64 0 0 0\n",
       "     CF_CHAN_MAP         (chan) int64 0 1 2\n",
       "     CF_POL_MAP          (pol) int64 0\n",
       "     CONV_KERNEL         (conv_baseline, conv_chan, conv_pol, u, v) float64 -3...\n",
       "     PHASE_GRADIENT      (field_id, u, v) complex128 (0.13103157457659714+0.99...\n",
       " Attributes:\n",
       "     cell_uv:       [-4.29718346  8.59436693]\n",
       "     oversampling:  [10 10],)"
      ]
     },
     "execution_count": 44,
     "metadata": {},
     "output_type": "execute_result"
    }
   ],
   "source": [
    "from cngi.dio import write_image\n",
    "write_imagegrid_parms = {}\n",
    "grid_parms['chan_mode'] = 'cube'\n",
    "grid_parms['image_size'] = [800,400]\n",
    "grid_parms['cell_size'] = [5,5]\n",
    "grid_parms['phase_center'] = (mxds.FIELD.PHASE_DIR[0,0,:].data.compute() + mxds.FIELD.PHASE_DIR[1,0,:].data.compute())/2\n",
    "gcf_parms = {}\n",
    "gcf_parms['function'] = 'alma_airy'\n",
    "gcf_parms['list_dish_diameters'] = np.array([24.5])\n",
    "gcf_parms['list_blockage_diameters'] = np.array([0])\n",
    "gcf_parms['max_support'] = [24, 24]\n",
    "gcf_parms['oversampling'] = [10, 10]\n",
    "unique_ant_indx = mxds.ANTENNA.DISH_DIAMETER.values\n",
    "unique_ant_indx[unique_ant_indx == 25.0] = 0\n",
    "mxds.ANTENNA.DISH_DIAMETER.values\n",
    "gcf_parms['unique_ant_indx'] = unique_ant_indx.astype(int)\n",
    "gcf_parms['phase_center'] = grid_parms['phase_center']\n",
    "sel_parms = {}\n",
    "sel_parms['xds'] = 'xds1'\n",
    "sel_parms['data_group_in_id'] = 2\n",
    "gcf_xds = make_gridding_convolution_function(mxds, gcf_parms, grid_parms, sel_parms)\n",
    "dask.compute(gcf_xds)"
   ]
  },
  {
   "cell_type": "code",
   "execution_count": 45,
   "id": "b29d677f-0811-4dbb-98fe-7837d6f5db7e",
   "metadata": {},
   "outputs": [
    {
     "name": "stdout",
     "output_type": "stream",
     "text": [
      "######################### Start make_mosaic_pb #########################\n",
      "Setting default image_center  to  [400 200]\n",
      "Setting default fft_padding  to  1.2\n",
      "Setting data_group_in  to  {'data': 'DATA_ROT', 'flag': 'FLAG', 'id': '2', 'uvw': 'UVW_ROT', 'weight': 'DATA_WEIGHT', 'imaging_weight': 'DATA_WEIGHT'}\n",
      "Setting default data_group_out  to  {'data': 'DATA_ROT', 'flag': 'FLAG', 'id': '3', 'uvw': 'UVW_ROT', 'weight': 'DATA_WEIGHT', 'imaging_weight': 'DATA_WEIGHT'}\n",
      "Setting default data_group_in  to  {'id': '0'}\n",
      "Setting default data_group_out [' pb ']  to  PB\n",
      "Setting default data_group_out [' weight_pb ']  to  WEIGHT_PB\n",
      "Setting default data_group_out [' weight_pb_sum_weight ']  to  WEIGHT_PB_SUM_WEIGHT\n",
      "#########################  Created graph for make_mosaic_pb #########################\n",
      "######################### Start make_image_with_gcf #########################\n",
      "Setting default image_center  to  [400 200]\n",
      "Setting default fft_padding  to  1.2\n",
      "Setting default single_precision  to  True\n",
      "Setting data_group_in  to  {'data': 'DATA_ROT', 'flag': 'FLAG', 'id': '2', 'uvw': 'UVW_ROT', 'weight': 'DATA_WEIGHT', 'imaging_weight': 'DATA_WEIGHT'}\n",
      "Setting default data_group_out  to  {'data': 'DATA_ROT', 'flag': 'FLAG', 'id': '3', 'uvw': 'UVW_ROT', 'weight': 'DATA_WEIGHT', 'imaging_weight': 'DATA_WEIGHT'}\n",
      "Setting data_group_in  to  {'id': '0', 'pb': 'PB', 'weight_pb': 'WEIGHT_PB', 'weight_pb_sum_weight': 'WEIGHT_PB_SUM_WEIGHT'}\n",
      "Setting default data_group_out [' pb ']  to  PB\n",
      "Setting default data_group_out [' weight_pb ']  to  WEIGHT_PB\n",
      "Setting default data_group_out [' weight_pb_sum_weight ']  to  WEIGHT_PB_SUM_WEIGHT\n",
      "Setting default data_group_out [' sum_weight ']  to  SUM_WEIGHT\n",
      "Setting default data_group_out [' image ']  to  IMAGE\n",
      "grid sizes 960 480\n",
      "#########################  Created graph for make_mosaic_with_gcf #########################\n"
     ]
    }
   ],
   "source": [
    "from ngcasa.imaging import make_image_with_gcf\n",
    "from ngcasa.imaging import make_mosaic_pb\n",
    "img_xds = xr.Dataset() #empty dataset\n",
    "vis_sel_parms = {}\n",
    "vis_sel_parms['xds'] = 'xds1'\n",
    "vis_sel_parms['data_group_in_id'] = 2\n",
    "\n",
    "img_xds = make_mosaic_pb(mxds,gcf_xds,img_xds,vis_sel_parms,img_sel_parms,grid_parms)\n",
    "\n",
    "vis_select_parms = {}\n",
    "vis_select_parms['xds'] = 'xds1'\n",
    "vis_select_parms['data_group_in_id'] = 2\n",
    "\n",
    "img_select_parms = {}\n",
    "img_select_parms['data_group_in_id'] = 0\n",
    "img_select_parms['data_group_out_id'] = 0\n",
    "\n",
    "norm_parms = {}\n",
    "norm_parms['norm_type'] = 'flat_sky'\n",
    "\n",
    "img_xds = make_image_with_gcf(mxds,gcf_xds, img_xds, grid_parms, norm_parms, vis_select_parms, img_select_parms)\n",
    "#Need make_image_with_gcf instead of make_image, add make_gridding_convolutional_function, direction_rotate\n",
    "#Note: if no primary beam, use 'flat_noise' instead of 'flat_sky'"
   ]
  },
  {
   "cell_type": "code",
   "execution_count": 46,
   "id": "813aa8a1-cde4-4060-a131-1700fb0e954f",
   "metadata": {},
   "outputs": [
    {
     "data": {
      "text/plain": [
       "[{'0': {'id': '0',\n",
       "   'pb': 'PB',\n",
       "   'weight_pb': 'WEIGHT_PB',\n",
       "   'weight_pb_sum_weight': 'WEIGHT_PB_SUM_WEIGHT',\n",
       "   'sum_weight': 'SUM_WEIGHT',\n",
       "   'image': 'IMAGE'}}]"
      ]
     },
     "execution_count": 46,
     "metadata": {},
     "output_type": "execute_result"
    }
   ],
   "source": [
    "img_xds.data_groups"
   ]
  },
  {
   "cell_type": "code",
   "execution_count": 47,
   "id": "48a9da02-2d6b-4d87-b2c5-a834b87fbeb6",
   "metadata": {},
   "outputs": [
    {
     "data": {
      "text/plain": [
       "[{'0': {'data': 'DATA',\n",
       "   'flag': 'FLAG',\n",
       "   'id': '0',\n",
       "   'uvw': 'UVW',\n",
       "   'weight': 'DATA_WEIGHT'},\n",
       "  '1': {'data': 'CORRECTED_DATA',\n",
       "   'flag': 'FLAG',\n",
       "   'id': '1',\n",
       "   'uvw': 'UVW',\n",
       "   'weight': 'CORRECTED_DATA_WEIGHT'},\n",
       "  '2': {'data': 'DATA_ROT',\n",
       "   'flag': 'FLAG',\n",
       "   'id': '2',\n",
       "   'uvw': 'UVW_ROT',\n",
       "   'weight': 'DATA_WEIGHT',\n",
       "   'imaging_weight': 'DATA_WEIGHT'}}]"
      ]
     },
     "execution_count": 47,
     "metadata": {},
     "output_type": "execute_result"
    }
   ],
   "source": [
    "mxds.xds1.data_groups"
   ]
  },
  {
   "cell_type": "code",
   "execution_count": 48,
   "id": "c3f79034-c642-4e8b-9387-5aece34b6984",
   "metadata": {},
   "outputs": [],
   "source": [
    "#Select chan 1\n",
    "chan = 1\n",
    "ngcasa_image_name = 'IMAGE'\n",
    "pb_limit = 0.2\n",
    "#extent = extent=(np.min(casa_img_xds.m),np.max(casa_img_xds.m),np.min(casa_img_xds.l),np.max(casa_img_xds.l))\n",
    "\n",
    "mosaic_pb = img_xds.PB.isel(chan=chan)\n",
    "mosaic_img = img_xds[ngcasa_image_name].isel(chan=chan)\n",
    "mosaic_img = mosaic_img.where(mosaic_pb > np.max(mosaic_pb)*pb_limit,other=np.nan)"
   ]
  },
  {
   "cell_type": "code",
   "execution_count": 49,
   "id": "abb076a3-ff4c-4bdf-ab82-d5103adff2c4",
   "metadata": {},
   "outputs": [
    {
     "data": {
      "text/html": [
       "<div><svg style=\"position: absolute; width: 0; height: 0; overflow: hidden\">\n",
       "<defs>\n",
       "<symbol id=\"icon-database\" viewBox=\"0 0 32 32\">\n",
       "<path d=\"M16 0c-8.837 0-16 2.239-16 5v4c0 2.761 7.163 5 16 5s16-2.239 16-5v-4c0-2.761-7.163-5-16-5z\"></path>\n",
       "<path d=\"M16 17c-8.837 0-16-2.239-16-5v6c0 2.761 7.163 5 16 5s16-2.239 16-5v-6c0 2.761-7.163 5-16 5z\"></path>\n",
       "<path d=\"M16 26c-8.837 0-16-2.239-16-5v6c0 2.761 7.163 5 16 5s16-2.239 16-5v-6c0 2.761-7.163 5-16 5z\"></path>\n",
       "</symbol>\n",
       "<symbol id=\"icon-file-text2\" viewBox=\"0 0 32 32\">\n",
       "<path d=\"M28.681 7.159c-0.694-0.947-1.662-2.053-2.724-3.116s-2.169-2.030-3.116-2.724c-1.612-1.182-2.393-1.319-2.841-1.319h-15.5c-1.378 0-2.5 1.121-2.5 2.5v27c0 1.378 1.122 2.5 2.5 2.5h23c1.378 0 2.5-1.122 2.5-2.5v-19.5c0-0.448-0.137-1.23-1.319-2.841zM24.543 5.457c0.959 0.959 1.712 1.825 2.268 2.543h-4.811v-4.811c0.718 0.556 1.584 1.309 2.543 2.268zM28 29.5c0 0.271-0.229 0.5-0.5 0.5h-23c-0.271 0-0.5-0.229-0.5-0.5v-27c0-0.271 0.229-0.5 0.5-0.5 0 0 15.499-0 15.5 0v7c0 0.552 0.448 1 1 1h7v19.5z\"></path>\n",
       "<path d=\"M23 26h-14c-0.552 0-1-0.448-1-1s0.448-1 1-1h14c0.552 0 1 0.448 1 1s-0.448 1-1 1z\"></path>\n",
       "<path d=\"M23 22h-14c-0.552 0-1-0.448-1-1s0.448-1 1-1h14c0.552 0 1 0.448 1 1s-0.448 1-1 1z\"></path>\n",
       "<path d=\"M23 18h-14c-0.552 0-1-0.448-1-1s0.448-1 1-1h14c0.552 0 1 0.448 1 1s-0.448 1-1 1z\"></path>\n",
       "</symbol>\n",
       "</defs>\n",
       "</svg>\n",
       "<style>/* CSS stylesheet for displaying xarray objects in jupyterlab.\n",
       " *\n",
       " */\n",
       "\n",
       ":root {\n",
       "  --xr-font-color0: var(--jp-content-font-color0, rgba(0, 0, 0, 1));\n",
       "  --xr-font-color2: var(--jp-content-font-color2, rgba(0, 0, 0, 0.54));\n",
       "  --xr-font-color3: var(--jp-content-font-color3, rgba(0, 0, 0, 0.38));\n",
       "  --xr-border-color: var(--jp-border-color2, #e0e0e0);\n",
       "  --xr-disabled-color: var(--jp-layout-color3, #bdbdbd);\n",
       "  --xr-background-color: var(--jp-layout-color0, white);\n",
       "  --xr-background-color-row-even: var(--jp-layout-color1, white);\n",
       "  --xr-background-color-row-odd: var(--jp-layout-color2, #eeeeee);\n",
       "}\n",
       "\n",
       "html[theme=dark],\n",
       "body.vscode-dark {\n",
       "  --xr-font-color0: rgba(255, 255, 255, 1);\n",
       "  --xr-font-color2: rgba(255, 255, 255, 0.54);\n",
       "  --xr-font-color3: rgba(255, 255, 255, 0.38);\n",
       "  --xr-border-color: #1F1F1F;\n",
       "  --xr-disabled-color: #515151;\n",
       "  --xr-background-color: #111111;\n",
       "  --xr-background-color-row-even: #111111;\n",
       "  --xr-background-color-row-odd: #313131;\n",
       "}\n",
       "\n",
       ".xr-wrap {\n",
       "  display: block;\n",
       "  min-width: 300px;\n",
       "  max-width: 700px;\n",
       "}\n",
       "\n",
       ".xr-text-repr-fallback {\n",
       "  /* fallback to plain text repr when CSS is not injected (untrusted notebook) */\n",
       "  display: none;\n",
       "}\n",
       "\n",
       ".xr-header {\n",
       "  padding-top: 6px;\n",
       "  padding-bottom: 6px;\n",
       "  margin-bottom: 4px;\n",
       "  border-bottom: solid 1px var(--xr-border-color);\n",
       "}\n",
       "\n",
       ".xr-header > div,\n",
       ".xr-header > ul {\n",
       "  display: inline;\n",
       "  margin-top: 0;\n",
       "  margin-bottom: 0;\n",
       "}\n",
       "\n",
       ".xr-obj-type,\n",
       ".xr-array-name {\n",
       "  margin-left: 2px;\n",
       "  margin-right: 10px;\n",
       "}\n",
       "\n",
       ".xr-obj-type {\n",
       "  color: var(--xr-font-color2);\n",
       "}\n",
       "\n",
       ".xr-sections {\n",
       "  padding-left: 0 !important;\n",
       "  display: grid;\n",
       "  grid-template-columns: 150px auto auto 1fr 20px 20px;\n",
       "}\n",
       "\n",
       ".xr-section-item {\n",
       "  display: contents;\n",
       "}\n",
       "\n",
       ".xr-section-item input {\n",
       "  display: none;\n",
       "}\n",
       "\n",
       ".xr-section-item input + label {\n",
       "  color: var(--xr-disabled-color);\n",
       "}\n",
       "\n",
       ".xr-section-item input:enabled + label {\n",
       "  cursor: pointer;\n",
       "  color: var(--xr-font-color2);\n",
       "}\n",
       "\n",
       ".xr-section-item input:enabled + label:hover {\n",
       "  color: var(--xr-font-color0);\n",
       "}\n",
       "\n",
       ".xr-section-summary {\n",
       "  grid-column: 1;\n",
       "  color: var(--xr-font-color2);\n",
       "  font-weight: 500;\n",
       "}\n",
       "\n",
       ".xr-section-summary > span {\n",
       "  display: inline-block;\n",
       "  padding-left: 0.5em;\n",
       "}\n",
       "\n",
       ".xr-section-summary-in:disabled + label {\n",
       "  color: var(--xr-font-color2);\n",
       "}\n",
       "\n",
       ".xr-section-summary-in + label:before {\n",
       "  display: inline-block;\n",
       "  content: '►';\n",
       "  font-size: 11px;\n",
       "  width: 15px;\n",
       "  text-align: center;\n",
       "}\n",
       "\n",
       ".xr-section-summary-in:disabled + label:before {\n",
       "  color: var(--xr-disabled-color);\n",
       "}\n",
       "\n",
       ".xr-section-summary-in:checked + label:before {\n",
       "  content: '▼';\n",
       "}\n",
       "\n",
       ".xr-section-summary-in:checked + label > span {\n",
       "  display: none;\n",
       "}\n",
       "\n",
       ".xr-section-summary,\n",
       ".xr-section-inline-details {\n",
       "  padding-top: 4px;\n",
       "  padding-bottom: 4px;\n",
       "}\n",
       "\n",
       ".xr-section-inline-details {\n",
       "  grid-column: 2 / -1;\n",
       "}\n",
       "\n",
       ".xr-section-details {\n",
       "  display: none;\n",
       "  grid-column: 1 / -1;\n",
       "  margin-bottom: 5px;\n",
       "}\n",
       "\n",
       ".xr-section-summary-in:checked ~ .xr-section-details {\n",
       "  display: contents;\n",
       "}\n",
       "\n",
       ".xr-array-wrap {\n",
       "  grid-column: 1 / -1;\n",
       "  display: grid;\n",
       "  grid-template-columns: 20px auto;\n",
       "}\n",
       "\n",
       ".xr-array-wrap > label {\n",
       "  grid-column: 1;\n",
       "  vertical-align: top;\n",
       "}\n",
       "\n",
       ".xr-preview {\n",
       "  color: var(--xr-font-color3);\n",
       "}\n",
       "\n",
       ".xr-array-preview,\n",
       ".xr-array-data {\n",
       "  padding: 0 5px !important;\n",
       "  grid-column: 2;\n",
       "}\n",
       "\n",
       ".xr-array-data,\n",
       ".xr-array-in:checked ~ .xr-array-preview {\n",
       "  display: none;\n",
       "}\n",
       "\n",
       ".xr-array-in:checked ~ .xr-array-data,\n",
       ".xr-array-preview {\n",
       "  display: inline-block;\n",
       "}\n",
       "\n",
       ".xr-dim-list {\n",
       "  display: inline-block !important;\n",
       "  list-style: none;\n",
       "  padding: 0 !important;\n",
       "  margin: 0;\n",
       "}\n",
       "\n",
       ".xr-dim-list li {\n",
       "  display: inline-block;\n",
       "  padding: 0;\n",
       "  margin: 0;\n",
       "}\n",
       "\n",
       ".xr-dim-list:before {\n",
       "  content: '(';\n",
       "}\n",
       "\n",
       ".xr-dim-list:after {\n",
       "  content: ')';\n",
       "}\n",
       "\n",
       ".xr-dim-list li:not(:last-child):after {\n",
       "  content: ',';\n",
       "  padding-right: 5px;\n",
       "}\n",
       "\n",
       ".xr-has-index {\n",
       "  font-weight: bold;\n",
       "}\n",
       "\n",
       ".xr-var-list,\n",
       ".xr-var-item {\n",
       "  display: contents;\n",
       "}\n",
       "\n",
       ".xr-var-item > div,\n",
       ".xr-var-item label,\n",
       ".xr-var-item > .xr-var-name span {\n",
       "  background-color: var(--xr-background-color-row-even);\n",
       "  margin-bottom: 0;\n",
       "}\n",
       "\n",
       ".xr-var-item > .xr-var-name:hover span {\n",
       "  padding-right: 5px;\n",
       "}\n",
       "\n",
       ".xr-var-list > li:nth-child(odd) > div,\n",
       ".xr-var-list > li:nth-child(odd) > label,\n",
       ".xr-var-list > li:nth-child(odd) > .xr-var-name span {\n",
       "  background-color: var(--xr-background-color-row-odd);\n",
       "}\n",
       "\n",
       ".xr-var-name {\n",
       "  grid-column: 1;\n",
       "}\n",
       "\n",
       ".xr-var-dims {\n",
       "  grid-column: 2;\n",
       "}\n",
       "\n",
       ".xr-var-dtype {\n",
       "  grid-column: 3;\n",
       "  text-align: right;\n",
       "  color: var(--xr-font-color2);\n",
       "}\n",
       "\n",
       ".xr-var-preview {\n",
       "  grid-column: 4;\n",
       "}\n",
       "\n",
       ".xr-var-name,\n",
       ".xr-var-dims,\n",
       ".xr-var-dtype,\n",
       ".xr-preview,\n",
       ".xr-attrs dt {\n",
       "  white-space: nowrap;\n",
       "  overflow: hidden;\n",
       "  text-overflow: ellipsis;\n",
       "  padding-right: 10px;\n",
       "}\n",
       "\n",
       ".xr-var-name:hover,\n",
       ".xr-var-dims:hover,\n",
       ".xr-var-dtype:hover,\n",
       ".xr-attrs dt:hover {\n",
       "  overflow: visible;\n",
       "  width: auto;\n",
       "  z-index: 1;\n",
       "}\n",
       "\n",
       ".xr-var-attrs,\n",
       ".xr-var-data {\n",
       "  display: none;\n",
       "  background-color: var(--xr-background-color) !important;\n",
       "  padding-bottom: 5px !important;\n",
       "}\n",
       "\n",
       ".xr-var-attrs-in:checked ~ .xr-var-attrs,\n",
       ".xr-var-data-in:checked ~ .xr-var-data {\n",
       "  display: block;\n",
       "}\n",
       "\n",
       ".xr-var-data > table {\n",
       "  float: right;\n",
       "}\n",
       "\n",
       ".xr-var-name span,\n",
       ".xr-var-data,\n",
       ".xr-attrs {\n",
       "  padding-left: 25px !important;\n",
       "}\n",
       "\n",
       ".xr-attrs,\n",
       ".xr-var-attrs,\n",
       ".xr-var-data {\n",
       "  grid-column: 1 / -1;\n",
       "}\n",
       "\n",
       "dl.xr-attrs {\n",
       "  padding: 0;\n",
       "  margin: 0;\n",
       "  display: grid;\n",
       "  grid-template-columns: 125px auto;\n",
       "}\n",
       "\n",
       ".xr-attrs dt,\n",
       ".xr-attrs dd {\n",
       "  padding: 0;\n",
       "  margin: 0;\n",
       "  float: left;\n",
       "  padding-right: 10px;\n",
       "  width: auto;\n",
       "}\n",
       "\n",
       ".xr-attrs dt {\n",
       "  font-weight: normal;\n",
       "  grid-column: 1;\n",
       "}\n",
       "\n",
       ".xr-attrs dt:hover span {\n",
       "  display: inline-block;\n",
       "  background: var(--xr-background-color);\n",
       "  padding-right: 10px;\n",
       "}\n",
       "\n",
       ".xr-attrs dd {\n",
       "  grid-column: 2;\n",
       "  white-space: pre-wrap;\n",
       "  word-break: break-all;\n",
       "}\n",
       "\n",
       ".xr-icon-database,\n",
       ".xr-icon-file-text2 {\n",
       "  display: inline-block;\n",
       "  vertical-align: middle;\n",
       "  width: 1em;\n",
       "  height: 1.5em !important;\n",
       "  stroke-width: 0;\n",
       "  stroke: currentColor;\n",
       "  fill: currentColor;\n",
       "}\n",
       "</style><pre class='xr-text-repr-fallback'>&lt;xarray.DataArray &#x27;IMAGE&#x27; (l: 800, m: 400, time: 1, pol: 1)&gt;\n",
       "dask.array&lt;where, shape=(800, 400, 1, 1), dtype=float32, chunksize=(800, 400, 1, 1), chunktype=numpy.ndarray&gt;\n",
       "Coordinates:\n",
       "    chan             float64 3.4e+09\n",
       "  * l                (l) float64 0.009696 0.009672 ... -0.009648 -0.009672\n",
       "  * m                (m) float64 -0.004848 -0.004824 -0.0048 ... 0.0048 0.004824\n",
       "  * pol              (pol) int64 5\n",
       "  * time             (time) datetime64[ns] 2019-10-04T02:55:38.491905280\n",
       "    chan_width       float64 dask.array&lt;chunksize=(), meta=np.ndarray&gt;\n",
       "    right_ascension  (l, m) float64 -1.037 -1.037 -1.037 ... -1.062 -1.062\n",
       "    declination      (l, m) float64 0.706 0.7061 0.7061 ... 0.7157 0.7157 0.7157</pre><div class='xr-wrap' hidden><div class='xr-header'><div class='xr-obj-type'>xarray.DataArray</div><div class='xr-array-name'>'IMAGE'</div><ul class='xr-dim-list'><li><span class='xr-has-index'>l</span>: 800</li><li><span class='xr-has-index'>m</span>: 400</li><li><span class='xr-has-index'>time</span>: 1</li><li><span class='xr-has-index'>pol</span>: 1</li></ul></div><ul class='xr-sections'><li class='xr-section-item'><div class='xr-array-wrap'><input id='section-e1da0c55-b225-4c78-898a-8fcc97c36c85' class='xr-array-in' type='checkbox' checked><label for='section-e1da0c55-b225-4c78-898a-8fcc97c36c85' title='Show/hide data repr'><svg class='icon xr-icon-database'><use xlink:href='#icon-database'></use></svg></label><div class='xr-array-preview xr-preview'><span>dask.array&lt;chunksize=(800, 400, 1, 1), meta=np.ndarray&gt;</span></div><div class='xr-array-data'><table>\n",
       "<tr>\n",
       "<td>\n",
       "<table>\n",
       "  <thead>\n",
       "    <tr><td> </td><th> Array </th><th> Chunk </th></tr>\n",
       "  </thead>\n",
       "  <tbody>\n",
       "    <tr><th> Bytes </th><td> 1.22 MiB </td> <td> 1.22 MiB </td></tr>\n",
       "    <tr><th> Shape </th><td> (800, 400, 1, 1) </td> <td> (800, 400, 1, 1) </td></tr>\n",
       "    <tr><th> Count </th><td> 400 Tasks </td><td> 1 Chunks </td></tr>\n",
       "    <tr><th> Type </th><td> float32 </td><td> numpy.ndarray </td></tr>\n",
       "  </tbody>\n",
       "</table>\n",
       "</td>\n",
       "<td>\n",
       "<svg width=\"490\" height=\"110\" style=\"stroke:rgb(0,0,0);stroke-width:1\" >\n",
       "\n",
       "  <!-- Horizontal lines -->\n",
       "  <line x1=\"0\" y1=\"0\" x2=\"120\" y2=\"0\" style=\"stroke-width:2\" />\n",
       "  <line x1=\"0\" y1=\"25\" x2=\"120\" y2=\"25\" style=\"stroke-width:2\" />\n",
       "\n",
       "  <!-- Vertical lines -->\n",
       "  <line x1=\"0\" y1=\"0\" x2=\"0\" y2=\"25\" style=\"stroke-width:2\" />\n",
       "  <line x1=\"120\" y1=\"0\" x2=\"120\" y2=\"25\" style=\"stroke-width:2\" />\n",
       "\n",
       "  <!-- Colored Rectangle -->\n",
       "  <polygon points=\"0.0,0.0 120.0,0.0 120.0,25.412616514582485 0.0,25.412616514582485\" style=\"fill:#ECB172A0;stroke-width:0\"/>\n",
       "\n",
       "  <!-- Text -->\n",
       "  <text x=\"60.000000\" y=\"45.412617\" font-size=\"1.0rem\" font-weight=\"100\" text-anchor=\"middle\" >800</text>\n",
       "  <text x=\"140.000000\" y=\"12.706308\" font-size=\"1.0rem\" font-weight=\"100\" text-anchor=\"middle\" transform=\"rotate(0,140.000000,12.706308)\">1</text>\n",
       "\n",
       "\n",
       "  <!-- Horizontal lines -->\n",
       "  <line x1=\"190\" y1=\"0\" x2=\"225\" y2=\"35\" style=\"stroke-width:2\" />\n",
       "  <line x1=\"190\" y1=\"25\" x2=\"225\" y2=\"60\" style=\"stroke-width:2\" />\n",
       "\n",
       "  <!-- Vertical lines -->\n",
       "  <line x1=\"190\" y1=\"0\" x2=\"190\" y2=\"25\" style=\"stroke-width:2\" />\n",
       "  <line x1=\"225\" y1=\"35\" x2=\"225\" y2=\"60\" style=\"stroke-width:2\" />\n",
       "\n",
       "  <!-- Colored Rectangle -->\n",
       "  <polygon points=\"190.0,0.0 225.29411764705884,35.294117647058826 225.29411764705884,60.70673416164131 190.0,25.412616514582485\" style=\"fill:#ECB172A0;stroke-width:0\"/>\n",
       "\n",
       "  <!-- Horizontal lines -->\n",
       "  <line x1=\"190\" y1=\"0\" x2=\"215\" y2=\"0\" style=\"stroke-width:2\" />\n",
       "  <line x1=\"225\" y1=\"35\" x2=\"250\" y2=\"35\" style=\"stroke-width:2\" />\n",
       "\n",
       "  <!-- Vertical lines -->\n",
       "  <line x1=\"190\" y1=\"0\" x2=\"225\" y2=\"35\" style=\"stroke-width:2\" />\n",
       "  <line x1=\"215\" y1=\"0\" x2=\"250\" y2=\"35\" style=\"stroke-width:2\" />\n",
       "\n",
       "  <!-- Colored Rectangle -->\n",
       "  <polygon points=\"190.0,0.0 215.41261651458248,0.0 250.7067341616413,35.294117647058826 225.29411764705884,35.294117647058826\" style=\"fill:#ECB172A0;stroke-width:0\"/>\n",
       "\n",
       "  <!-- Horizontal lines -->\n",
       "  <line x1=\"225\" y1=\"35\" x2=\"250\" y2=\"35\" style=\"stroke-width:2\" />\n",
       "  <line x1=\"225\" y1=\"60\" x2=\"250\" y2=\"60\" style=\"stroke-width:2\" />\n",
       "\n",
       "  <!-- Vertical lines -->\n",
       "  <line x1=\"225\" y1=\"35\" x2=\"225\" y2=\"60\" style=\"stroke-width:2\" />\n",
       "  <line x1=\"250\" y1=\"35\" x2=\"250\" y2=\"60\" style=\"stroke-width:2\" />\n",
       "\n",
       "  <!-- Colored Rectangle -->\n",
       "  <polygon points=\"225.29411764705884,35.294117647058826 250.70673416164132,35.294117647058826 250.70673416164132,60.70673416164131 225.29411764705884,60.70673416164131\" style=\"fill:#ECB172A0;stroke-width:0\"/>\n",
       "\n",
       "  <!-- Text -->\n",
       "  <text x=\"238.000426\" y=\"80.706734\" font-size=\"1.0rem\" font-weight=\"100\" text-anchor=\"middle\" >1</text>\n",
       "  <text x=\"270.706734\" y=\"48.000426\" font-size=\"1.0rem\" font-weight=\"100\" text-anchor=\"middle\" transform=\"rotate(0,270.706734,48.000426)\">1</text>\n",
       "  <text x=\"197.647059\" y=\"63.059675\" font-size=\"1.0rem\" font-weight=\"100\" text-anchor=\"middle\" transform=\"rotate(45,197.647059,63.059675)\">400</text>\n",
       "</svg>\n",
       "</td>\n",
       "</tr>\n",
       "</table></div></div></li><li class='xr-section-item'><input id='section-394c6853-211e-4883-a85d-bd49ae00c8a6' class='xr-section-summary-in' type='checkbox'  checked><label for='section-394c6853-211e-4883-a85d-bd49ae00c8a6' class='xr-section-summary' >Coordinates: <span>(8)</span></label><div class='xr-section-inline-details'></div><div class='xr-section-details'><ul class='xr-var-list'><li class='xr-var-item'><div class='xr-var-name'><span>chan</span></div><div class='xr-var-dims'>()</div><div class='xr-var-dtype'>float64</div><div class='xr-var-preview xr-preview'>3.4e+09</div><input id='attrs-780dcf8b-aa32-4f4b-8a5d-5fc2ce2862e8' class='xr-var-attrs-in' type='checkbox' disabled><label for='attrs-780dcf8b-aa32-4f4b-8a5d-5fc2ce2862e8' title='Show/Hide attributes'><svg class='icon xr-icon-file-text2'><use xlink:href='#icon-file-text2'></use></svg></label><input id='data-8bb3823b-c9d6-4aa3-90cf-2377ee3cd2cd' class='xr-var-data-in' type='checkbox'><label for='data-8bb3823b-c9d6-4aa3-90cf-2377ee3cd2cd' title='Show/Hide data repr'><svg class='icon xr-icon-database'><use xlink:href='#icon-database'></use></svg></label><div class='xr-var-attrs'><dl class='xr-attrs'></dl></div><div class='xr-var-data'><pre>array(3.4e+09)</pre></div></li><li class='xr-var-item'><div class='xr-var-name'><span class='xr-has-index'>l</span></div><div class='xr-var-dims'>(l)</div><div class='xr-var-dtype'>float64</div><div class='xr-var-preview xr-preview'>0.009696 0.009672 ... -0.009672</div><input id='attrs-01e241ce-a81a-465d-a692-eaa212d59c3d' class='xr-var-attrs-in' type='checkbox' disabled><label for='attrs-01e241ce-a81a-465d-a692-eaa212d59c3d' title='Show/Hide attributes'><svg class='icon xr-icon-file-text2'><use xlink:href='#icon-file-text2'></use></svg></label><input id='data-b0a112a0-0577-4daa-9032-6734cf071171' class='xr-var-data-in' type='checkbox'><label for='data-b0a112a0-0577-4daa-9032-6734cf071171' title='Show/Hide data repr'><svg class='icon xr-icon-database'><use xlink:href='#icon-database'></use></svg></label><div class='xr-var-attrs'><dl class='xr-attrs'></dl></div><div class='xr-var-data'><pre>array([ 0.009696,  0.009672,  0.009648, ..., -0.009624, -0.009648, -0.009672])</pre></div></li><li class='xr-var-item'><div class='xr-var-name'><span class='xr-has-index'>m</span></div><div class='xr-var-dims'>(m)</div><div class='xr-var-dtype'>float64</div><div class='xr-var-preview xr-preview'>-0.004848 -0.004824 ... 0.004824</div><input id='attrs-bdfe91ab-6ede-4a94-9b6a-08278a3864e6' class='xr-var-attrs-in' type='checkbox' disabled><label for='attrs-bdfe91ab-6ede-4a94-9b6a-08278a3864e6' title='Show/Hide attributes'><svg class='icon xr-icon-file-text2'><use xlink:href='#icon-file-text2'></use></svg></label><input id='data-689f536d-b896-4b5c-abda-089a49f3f5ba' class='xr-var-data-in' type='checkbox'><label for='data-689f536d-b896-4b5c-abda-089a49f3f5ba' title='Show/Hide data repr'><svg class='icon xr-icon-database'><use xlink:href='#icon-database'></use></svg></label><div class='xr-var-attrs'><dl class='xr-attrs'></dl></div><div class='xr-var-data'><pre>array([-0.004848, -0.004824, -0.0048  , ...,  0.004775,  0.0048  ,  0.004824])</pre></div></li><li class='xr-var-item'><div class='xr-var-name'><span class='xr-has-index'>pol</span></div><div class='xr-var-dims'>(pol)</div><div class='xr-var-dtype'>int64</div><div class='xr-var-preview xr-preview'>5</div><input id='attrs-0ebd494f-3c9e-4f17-86c0-a94856e97c64' class='xr-var-attrs-in' type='checkbox' disabled><label for='attrs-0ebd494f-3c9e-4f17-86c0-a94856e97c64' title='Show/Hide attributes'><svg class='icon xr-icon-file-text2'><use xlink:href='#icon-file-text2'></use></svg></label><input id='data-a67998ab-447f-4567-ac99-eab86a693798' class='xr-var-data-in' type='checkbox'><label for='data-a67998ab-447f-4567-ac99-eab86a693798' title='Show/Hide data repr'><svg class='icon xr-icon-database'><use xlink:href='#icon-database'></use></svg></label><div class='xr-var-attrs'><dl class='xr-attrs'></dl></div><div class='xr-var-data'><pre>array([5])</pre></div></li><li class='xr-var-item'><div class='xr-var-name'><span class='xr-has-index'>time</span></div><div class='xr-var-dims'>(time)</div><div class='xr-var-dtype'>datetime64[ns]</div><div class='xr-var-preview xr-preview'>2019-10-04T02:55:38.491905280</div><input id='attrs-acd6555e-77bd-4e9c-91cd-8be48fd29cdf' class='xr-var-attrs-in' type='checkbox' disabled><label for='attrs-acd6555e-77bd-4e9c-91cd-8be48fd29cdf' title='Show/Hide attributes'><svg class='icon xr-icon-file-text2'><use xlink:href='#icon-file-text2'></use></svg></label><input id='data-867755b2-1fb3-4f3e-b3fd-aa0d1f509e9d' class='xr-var-data-in' type='checkbox'><label for='data-867755b2-1fb3-4f3e-b3fd-aa0d1f509e9d' title='Show/Hide data repr'><svg class='icon xr-icon-database'><use xlink:href='#icon-database'></use></svg></label><div class='xr-var-attrs'><dl class='xr-attrs'></dl></div><div class='xr-var-data'><pre>array([&#x27;2019-10-04T02:55:38.491905280&#x27;], dtype=&#x27;datetime64[ns]&#x27;)</pre></div></li><li class='xr-var-item'><div class='xr-var-name'><span>chan_width</span></div><div class='xr-var-dims'>()</div><div class='xr-var-dtype'>float64</div><div class='xr-var-preview xr-preview'>dask.array&lt;chunksize=(), meta=np.ndarray&gt;</div><input id='attrs-00e04318-aafe-4f15-a132-2b274f14412a' class='xr-var-attrs-in' type='checkbox' disabled><label for='attrs-00e04318-aafe-4f15-a132-2b274f14412a' title='Show/Hide attributes'><svg class='icon xr-icon-file-text2'><use xlink:href='#icon-file-text2'></use></svg></label><input id='data-d2b4893f-c63d-42d3-899b-bab14d633694' class='xr-var-data-in' type='checkbox'><label for='data-d2b4893f-c63d-42d3-899b-bab14d633694' title='Show/Hide data repr'><svg class='icon xr-icon-database'><use xlink:href='#icon-database'></use></svg></label><div class='xr-var-attrs'><dl class='xr-attrs'></dl></div><div class='xr-var-data'><table>\n",
       "<tr>\n",
       "<td>\n",
       "<table>\n",
       "  <thead>\n",
       "    <tr><td> </td><th> Array </th><th> Chunk </th></tr>\n",
       "  </thead>\n",
       "  <tbody>\n",
       "    <tr><th> Bytes </th><td> 8 B </td> <td> 8.0 B </td></tr>\n",
       "    <tr><th> Shape </th><td> () </td> <td> () </td></tr>\n",
       "    <tr><th> Count </th><td> 6 Tasks </td><td> 1 Chunks </td></tr>\n",
       "    <tr><th> Type </th><td> float64 </td><td> numpy.ndarray </td></tr>\n",
       "  </tbody>\n",
       "</table>\n",
       "</td>\n",
       "<td>\n",
       "\n",
       "</td>\n",
       "</tr>\n",
       "</table></div></li><li class='xr-var-item'><div class='xr-var-name'><span>right_ascension</span></div><div class='xr-var-dims'>(l, m)</div><div class='xr-var-dtype'>float64</div><div class='xr-var-preview xr-preview'>-1.037 -1.037 ... -1.062 -1.062</div><input id='attrs-15fc2963-3e46-4a87-9ee8-9b13c2b61f89' class='xr-var-attrs-in' type='checkbox' disabled><label for='attrs-15fc2963-3e46-4a87-9ee8-9b13c2b61f89' title='Show/Hide attributes'><svg class='icon xr-icon-file-text2'><use xlink:href='#icon-file-text2'></use></svg></label><input id='data-9df0f674-63eb-4a48-841f-3dc9230ecc28' class='xr-var-data-in' type='checkbox'><label for='data-9df0f674-63eb-4a48-841f-3dc9230ecc28' title='Show/Hide data repr'><svg class='icon xr-icon-database'><use xlink:href='#icon-database'></use></svg></label><div class='xr-var-attrs'><dl class='xr-attrs'></dl></div><div class='xr-var-data'><pre>array([[-1.03674531, -1.03674504, -1.03674478, ..., -1.03663927,\n",
       "        -1.036639  , -1.03663873],\n",
       "       [-1.03677716, -1.0367769 , -1.03677664, ..., -1.03667139,\n",
       "        -1.03667112, -1.03667085],\n",
       "       [-1.03680902, -1.03680876, -1.0368085 , ..., -1.03670352,\n",
       "        -1.03670325, -1.03670298],\n",
       "       ...,\n",
       "       [-1.06213572, -1.06213598, -1.06213624, ..., -1.06224095,\n",
       "        -1.06224122, -1.06224149],\n",
       "       [-1.06216757, -1.06216783, -1.0621681 , ..., -1.06227307,\n",
       "        -1.06227334, -1.06227361],\n",
       "       [-1.06219943, -1.06219969, -1.06219995, ..., -1.0623052 ,\n",
       "        -1.06230547, -1.06230574]])</pre></div></li><li class='xr-var-item'><div class='xr-var-name'><span>declination</span></div><div class='xr-var-dims'>(l, m)</div><div class='xr-var-dtype'>float64</div><div class='xr-var-preview xr-preview'>0.706 0.7061 ... 0.7157 0.7157</div><input id='attrs-40e61e3e-716e-4b5f-962f-f00d3dcaaad3' class='xr-var-attrs-in' type='checkbox' disabled><label for='attrs-40e61e3e-716e-4b5f-962f-f00d3dcaaad3' title='Show/Hide attributes'><svg class='icon xr-icon-file-text2'><use xlink:href='#icon-file-text2'></use></svg></label><input id='data-a325aaf1-1eac-4468-a3c3-05704c7e118c' class='xr-var-data-in' type='checkbox'><label for='data-a325aaf1-1eac-4468-a3c3-05704c7e118c' title='Show/Hide data repr'><svg class='icon xr-icon-database'><use xlink:href='#icon-database'></use></svg></label><div class='xr-var-attrs'><dl class='xr-attrs'></dl></div><div class='xr-var-data'><pre>array([[0.70604958, 0.70607382, 0.70609806, ..., 0.71567284, 0.71569708,\n",
       "        0.71572132],\n",
       "       [0.70604978, 0.70607402, 0.70609826, ..., 0.71567304, 0.71569728,\n",
       "        0.71572152],\n",
       "       [0.70604999, 0.70607423, 0.70609847, ..., 0.71567324, 0.71569748,\n",
       "        0.71572172],\n",
       "       ...,\n",
       "       [0.70605019, 0.70607443, 0.70609867, ..., 0.71567344, 0.71569768,\n",
       "        0.71572192],\n",
       "       [0.70604999, 0.70607423, 0.70609847, ..., 0.71567324, 0.71569748,\n",
       "        0.71572172],\n",
       "       [0.70604978, 0.70607402, 0.70609826, ..., 0.71567304, 0.71569728,\n",
       "        0.71572152]])</pre></div></li></ul></div></li><li class='xr-section-item'><input id='section-fc9a2074-b437-4c84-b1ad-2775568f78b5' class='xr-section-summary-in' type='checkbox' disabled ><label for='section-fc9a2074-b437-4c84-b1ad-2775568f78b5' class='xr-section-summary'  title='Expand/collapse section'>Attributes: <span>(0)</span></label><div class='xr-section-inline-details'></div><div class='xr-section-details'><dl class='xr-attrs'></dl></div></li></ul></div></div>"
      ],
      "text/plain": [
       "<xarray.DataArray 'IMAGE' (l: 800, m: 400, time: 1, pol: 1)>\n",
       "dask.array<where, shape=(800, 400, 1, 1), dtype=float32, chunksize=(800, 400, 1, 1), chunktype=numpy.ndarray>\n",
       "Coordinates:\n",
       "    chan             float64 3.4e+09\n",
       "  * l                (l) float64 0.009696 0.009672 ... -0.009648 -0.009672\n",
       "  * m                (m) float64 -0.004848 -0.004824 -0.0048 ... 0.0048 0.004824\n",
       "  * pol              (pol) int64 5\n",
       "  * time             (time) datetime64[ns] 2019-10-04T02:55:38.491905280\n",
       "    chan_width       float64 dask.array<chunksize=(), meta=np.ndarray>\n",
       "    right_ascension  (l, m) float64 -1.037 -1.037 -1.037 ... -1.062 -1.062\n",
       "    declination      (l, m) float64 0.706 0.7061 0.7061 ... 0.7157 0.7157 0.7157"
      ]
     },
     "execution_count": 49,
     "metadata": {},
     "output_type": "execute_result"
    }
   ],
   "source": [
    "mosaic_img"
   ]
  },
  {
   "cell_type": "code",
   "execution_count": 50,
   "id": "65902c3f-c04b-4ae0-93e7-4e563a73be99",
   "metadata": {},
   "outputs": [
    {
     "data": {
      "text/html": [
       "<div><svg style=\"position: absolute; width: 0; height: 0; overflow: hidden\">\n",
       "<defs>\n",
       "<symbol id=\"icon-database\" viewBox=\"0 0 32 32\">\n",
       "<path d=\"M16 0c-8.837 0-16 2.239-16 5v4c0 2.761 7.163 5 16 5s16-2.239 16-5v-4c0-2.761-7.163-5-16-5z\"></path>\n",
       "<path d=\"M16 17c-8.837 0-16-2.239-16-5v6c0 2.761 7.163 5 16 5s16-2.239 16-5v-6c0 2.761-7.163 5-16 5z\"></path>\n",
       "<path d=\"M16 26c-8.837 0-16-2.239-16-5v6c0 2.761 7.163 5 16 5s16-2.239 16-5v-6c0 2.761-7.163 5-16 5z\"></path>\n",
       "</symbol>\n",
       "<symbol id=\"icon-file-text2\" viewBox=\"0 0 32 32\">\n",
       "<path d=\"M28.681 7.159c-0.694-0.947-1.662-2.053-2.724-3.116s-2.169-2.030-3.116-2.724c-1.612-1.182-2.393-1.319-2.841-1.319h-15.5c-1.378 0-2.5 1.121-2.5 2.5v27c0 1.378 1.122 2.5 2.5 2.5h23c1.378 0 2.5-1.122 2.5-2.5v-19.5c0-0.448-0.137-1.23-1.319-2.841zM24.543 5.457c0.959 0.959 1.712 1.825 2.268 2.543h-4.811v-4.811c0.718 0.556 1.584 1.309 2.543 2.268zM28 29.5c0 0.271-0.229 0.5-0.5 0.5h-23c-0.271 0-0.5-0.229-0.5-0.5v-27c0-0.271 0.229-0.5 0.5-0.5 0 0 15.499-0 15.5 0v7c0 0.552 0.448 1 1 1h7v19.5z\"></path>\n",
       "<path d=\"M23 26h-14c-0.552 0-1-0.448-1-1s0.448-1 1-1h14c0.552 0 1 0.448 1 1s-0.448 1-1 1z\"></path>\n",
       "<path d=\"M23 22h-14c-0.552 0-1-0.448-1-1s0.448-1 1-1h14c0.552 0 1 0.448 1 1s-0.448 1-1 1z\"></path>\n",
       "<path d=\"M23 18h-14c-0.552 0-1-0.448-1-1s0.448-1 1-1h14c0.552 0 1 0.448 1 1s-0.448 1-1 1z\"></path>\n",
       "</symbol>\n",
       "</defs>\n",
       "</svg>\n",
       "<style>/* CSS stylesheet for displaying xarray objects in jupyterlab.\n",
       " *\n",
       " */\n",
       "\n",
       ":root {\n",
       "  --xr-font-color0: var(--jp-content-font-color0, rgba(0, 0, 0, 1));\n",
       "  --xr-font-color2: var(--jp-content-font-color2, rgba(0, 0, 0, 0.54));\n",
       "  --xr-font-color3: var(--jp-content-font-color3, rgba(0, 0, 0, 0.38));\n",
       "  --xr-border-color: var(--jp-border-color2, #e0e0e0);\n",
       "  --xr-disabled-color: var(--jp-layout-color3, #bdbdbd);\n",
       "  --xr-background-color: var(--jp-layout-color0, white);\n",
       "  --xr-background-color-row-even: var(--jp-layout-color1, white);\n",
       "  --xr-background-color-row-odd: var(--jp-layout-color2, #eeeeee);\n",
       "}\n",
       "\n",
       "html[theme=dark],\n",
       "body.vscode-dark {\n",
       "  --xr-font-color0: rgba(255, 255, 255, 1);\n",
       "  --xr-font-color2: rgba(255, 255, 255, 0.54);\n",
       "  --xr-font-color3: rgba(255, 255, 255, 0.38);\n",
       "  --xr-border-color: #1F1F1F;\n",
       "  --xr-disabled-color: #515151;\n",
       "  --xr-background-color: #111111;\n",
       "  --xr-background-color-row-even: #111111;\n",
       "  --xr-background-color-row-odd: #313131;\n",
       "}\n",
       "\n",
       ".xr-wrap {\n",
       "  display: block;\n",
       "  min-width: 300px;\n",
       "  max-width: 700px;\n",
       "}\n",
       "\n",
       ".xr-text-repr-fallback {\n",
       "  /* fallback to plain text repr when CSS is not injected (untrusted notebook) */\n",
       "  display: none;\n",
       "}\n",
       "\n",
       ".xr-header {\n",
       "  padding-top: 6px;\n",
       "  padding-bottom: 6px;\n",
       "  margin-bottom: 4px;\n",
       "  border-bottom: solid 1px var(--xr-border-color);\n",
       "}\n",
       "\n",
       ".xr-header > div,\n",
       ".xr-header > ul {\n",
       "  display: inline;\n",
       "  margin-top: 0;\n",
       "  margin-bottom: 0;\n",
       "}\n",
       "\n",
       ".xr-obj-type,\n",
       ".xr-array-name {\n",
       "  margin-left: 2px;\n",
       "  margin-right: 10px;\n",
       "}\n",
       "\n",
       ".xr-obj-type {\n",
       "  color: var(--xr-font-color2);\n",
       "}\n",
       "\n",
       ".xr-sections {\n",
       "  padding-left: 0 !important;\n",
       "  display: grid;\n",
       "  grid-template-columns: 150px auto auto 1fr 20px 20px;\n",
       "}\n",
       "\n",
       ".xr-section-item {\n",
       "  display: contents;\n",
       "}\n",
       "\n",
       ".xr-section-item input {\n",
       "  display: none;\n",
       "}\n",
       "\n",
       ".xr-section-item input + label {\n",
       "  color: var(--xr-disabled-color);\n",
       "}\n",
       "\n",
       ".xr-section-item input:enabled + label {\n",
       "  cursor: pointer;\n",
       "  color: var(--xr-font-color2);\n",
       "}\n",
       "\n",
       ".xr-section-item input:enabled + label:hover {\n",
       "  color: var(--xr-font-color0);\n",
       "}\n",
       "\n",
       ".xr-section-summary {\n",
       "  grid-column: 1;\n",
       "  color: var(--xr-font-color2);\n",
       "  font-weight: 500;\n",
       "}\n",
       "\n",
       ".xr-section-summary > span {\n",
       "  display: inline-block;\n",
       "  padding-left: 0.5em;\n",
       "}\n",
       "\n",
       ".xr-section-summary-in:disabled + label {\n",
       "  color: var(--xr-font-color2);\n",
       "}\n",
       "\n",
       ".xr-section-summary-in + label:before {\n",
       "  display: inline-block;\n",
       "  content: '►';\n",
       "  font-size: 11px;\n",
       "  width: 15px;\n",
       "  text-align: center;\n",
       "}\n",
       "\n",
       ".xr-section-summary-in:disabled + label:before {\n",
       "  color: var(--xr-disabled-color);\n",
       "}\n",
       "\n",
       ".xr-section-summary-in:checked + label:before {\n",
       "  content: '▼';\n",
       "}\n",
       "\n",
       ".xr-section-summary-in:checked + label > span {\n",
       "  display: none;\n",
       "}\n",
       "\n",
       ".xr-section-summary,\n",
       ".xr-section-inline-details {\n",
       "  padding-top: 4px;\n",
       "  padding-bottom: 4px;\n",
       "}\n",
       "\n",
       ".xr-section-inline-details {\n",
       "  grid-column: 2 / -1;\n",
       "}\n",
       "\n",
       ".xr-section-details {\n",
       "  display: none;\n",
       "  grid-column: 1 / -1;\n",
       "  margin-bottom: 5px;\n",
       "}\n",
       "\n",
       ".xr-section-summary-in:checked ~ .xr-section-details {\n",
       "  display: contents;\n",
       "}\n",
       "\n",
       ".xr-array-wrap {\n",
       "  grid-column: 1 / -1;\n",
       "  display: grid;\n",
       "  grid-template-columns: 20px auto;\n",
       "}\n",
       "\n",
       ".xr-array-wrap > label {\n",
       "  grid-column: 1;\n",
       "  vertical-align: top;\n",
       "}\n",
       "\n",
       ".xr-preview {\n",
       "  color: var(--xr-font-color3);\n",
       "}\n",
       "\n",
       ".xr-array-preview,\n",
       ".xr-array-data {\n",
       "  padding: 0 5px !important;\n",
       "  grid-column: 2;\n",
       "}\n",
       "\n",
       ".xr-array-data,\n",
       ".xr-array-in:checked ~ .xr-array-preview {\n",
       "  display: none;\n",
       "}\n",
       "\n",
       ".xr-array-in:checked ~ .xr-array-data,\n",
       ".xr-array-preview {\n",
       "  display: inline-block;\n",
       "}\n",
       "\n",
       ".xr-dim-list {\n",
       "  display: inline-block !important;\n",
       "  list-style: none;\n",
       "  padding: 0 !important;\n",
       "  margin: 0;\n",
       "}\n",
       "\n",
       ".xr-dim-list li {\n",
       "  display: inline-block;\n",
       "  padding: 0;\n",
       "  margin: 0;\n",
       "}\n",
       "\n",
       ".xr-dim-list:before {\n",
       "  content: '(';\n",
       "}\n",
       "\n",
       ".xr-dim-list:after {\n",
       "  content: ')';\n",
       "}\n",
       "\n",
       ".xr-dim-list li:not(:last-child):after {\n",
       "  content: ',';\n",
       "  padding-right: 5px;\n",
       "}\n",
       "\n",
       ".xr-has-index {\n",
       "  font-weight: bold;\n",
       "}\n",
       "\n",
       ".xr-var-list,\n",
       ".xr-var-item {\n",
       "  display: contents;\n",
       "}\n",
       "\n",
       ".xr-var-item > div,\n",
       ".xr-var-item label,\n",
       ".xr-var-item > .xr-var-name span {\n",
       "  background-color: var(--xr-background-color-row-even);\n",
       "  margin-bottom: 0;\n",
       "}\n",
       "\n",
       ".xr-var-item > .xr-var-name:hover span {\n",
       "  padding-right: 5px;\n",
       "}\n",
       "\n",
       ".xr-var-list > li:nth-child(odd) > div,\n",
       ".xr-var-list > li:nth-child(odd) > label,\n",
       ".xr-var-list > li:nth-child(odd) > .xr-var-name span {\n",
       "  background-color: var(--xr-background-color-row-odd);\n",
       "}\n",
       "\n",
       ".xr-var-name {\n",
       "  grid-column: 1;\n",
       "}\n",
       "\n",
       ".xr-var-dims {\n",
       "  grid-column: 2;\n",
       "}\n",
       "\n",
       ".xr-var-dtype {\n",
       "  grid-column: 3;\n",
       "  text-align: right;\n",
       "  color: var(--xr-font-color2);\n",
       "}\n",
       "\n",
       ".xr-var-preview {\n",
       "  grid-column: 4;\n",
       "}\n",
       "\n",
       ".xr-var-name,\n",
       ".xr-var-dims,\n",
       ".xr-var-dtype,\n",
       ".xr-preview,\n",
       ".xr-attrs dt {\n",
       "  white-space: nowrap;\n",
       "  overflow: hidden;\n",
       "  text-overflow: ellipsis;\n",
       "  padding-right: 10px;\n",
       "}\n",
       "\n",
       ".xr-var-name:hover,\n",
       ".xr-var-dims:hover,\n",
       ".xr-var-dtype:hover,\n",
       ".xr-attrs dt:hover {\n",
       "  overflow: visible;\n",
       "  width: auto;\n",
       "  z-index: 1;\n",
       "}\n",
       "\n",
       ".xr-var-attrs,\n",
       ".xr-var-data {\n",
       "  display: none;\n",
       "  background-color: var(--xr-background-color) !important;\n",
       "  padding-bottom: 5px !important;\n",
       "}\n",
       "\n",
       ".xr-var-attrs-in:checked ~ .xr-var-attrs,\n",
       ".xr-var-data-in:checked ~ .xr-var-data {\n",
       "  display: block;\n",
       "}\n",
       "\n",
       ".xr-var-data > table {\n",
       "  float: right;\n",
       "}\n",
       "\n",
       ".xr-var-name span,\n",
       ".xr-var-data,\n",
       ".xr-attrs {\n",
       "  padding-left: 25px !important;\n",
       "}\n",
       "\n",
       ".xr-attrs,\n",
       ".xr-var-attrs,\n",
       ".xr-var-data {\n",
       "  grid-column: 1 / -1;\n",
       "}\n",
       "\n",
       "dl.xr-attrs {\n",
       "  padding: 0;\n",
       "  margin: 0;\n",
       "  display: grid;\n",
       "  grid-template-columns: 125px auto;\n",
       "}\n",
       "\n",
       ".xr-attrs dt,\n",
       ".xr-attrs dd {\n",
       "  padding: 0;\n",
       "  margin: 0;\n",
       "  float: left;\n",
       "  padding-right: 10px;\n",
       "  width: auto;\n",
       "}\n",
       "\n",
       ".xr-attrs dt {\n",
       "  font-weight: normal;\n",
       "  grid-column: 1;\n",
       "}\n",
       "\n",
       ".xr-attrs dt:hover span {\n",
       "  display: inline-block;\n",
       "  background: var(--xr-background-color);\n",
       "  padding-right: 10px;\n",
       "}\n",
       "\n",
       ".xr-attrs dd {\n",
       "  grid-column: 2;\n",
       "  white-space: pre-wrap;\n",
       "  word-break: break-all;\n",
       "}\n",
       "\n",
       ".xr-icon-database,\n",
       ".xr-icon-file-text2 {\n",
       "  display: inline-block;\n",
       "  vertical-align: middle;\n",
       "  width: 1em;\n",
       "  height: 1.5em !important;\n",
       "  stroke-width: 0;\n",
       "  stroke: currentColor;\n",
       "  fill: currentColor;\n",
       "}\n",
       "</style><pre class='xr-text-repr-fallback'>&lt;xarray.DataArray &#x27;IMAGE&#x27; (l: 800, m: 400)&gt;\n",
       "dask.array&lt;getitem, shape=(800, 400), dtype=float32, chunksize=(800, 400), chunktype=numpy.ndarray&gt;\n",
       "Coordinates:\n",
       "    chan             float64 3.4e+09\n",
       "  * l                (l) float64 0.009696 0.009672 ... -0.009648 -0.009672\n",
       "  * m                (m) float64 -0.004848 -0.004824 -0.0048 ... 0.0048 0.004824\n",
       "    pol              int64 5\n",
       "    time             datetime64[ns] 2019-10-04T02:55:38.491905280\n",
       "    chan_width       float64 dask.array&lt;chunksize=(), meta=np.ndarray&gt;\n",
       "    right_ascension  (l, m) float64 -1.037 -1.037 -1.037 ... -1.062 -1.062\n",
       "    declination      (l, m) float64 0.706 0.7061 0.7061 ... 0.7157 0.7157 0.7157</pre><div class='xr-wrap' hidden><div class='xr-header'><div class='xr-obj-type'>xarray.DataArray</div><div class='xr-array-name'>'IMAGE'</div><ul class='xr-dim-list'><li><span class='xr-has-index'>l</span>: 800</li><li><span class='xr-has-index'>m</span>: 400</li></ul></div><ul class='xr-sections'><li class='xr-section-item'><div class='xr-array-wrap'><input id='section-be4fb421-30d3-45bd-ab41-9cd778cb3687' class='xr-array-in' type='checkbox' checked><label for='section-be4fb421-30d3-45bd-ab41-9cd778cb3687' title='Show/hide data repr'><svg class='icon xr-icon-database'><use xlink:href='#icon-database'></use></svg></label><div class='xr-array-preview xr-preview'><span>dask.array&lt;chunksize=(800, 400), meta=np.ndarray&gt;</span></div><div class='xr-array-data'><table>\n",
       "<tr>\n",
       "<td>\n",
       "<table>\n",
       "  <thead>\n",
       "    <tr><td> </td><th> Array </th><th> Chunk </th></tr>\n",
       "  </thead>\n",
       "  <tbody>\n",
       "    <tr><th> Bytes </th><td> 1.22 MiB </td> <td> 1.22 MiB </td></tr>\n",
       "    <tr><th> Shape </th><td> (800, 400) </td> <td> (800, 400) </td></tr>\n",
       "    <tr><th> Count </th><td> 401 Tasks </td><td> 1 Chunks </td></tr>\n",
       "    <tr><th> Type </th><td> float32 </td><td> numpy.ndarray </td></tr>\n",
       "  </tbody>\n",
       "</table>\n",
       "</td>\n",
       "<td>\n",
       "<svg width=\"110\" height=\"170\" style=\"stroke:rgb(0,0,0);stroke-width:1\" >\n",
       "\n",
       "  <!-- Horizontal lines -->\n",
       "  <line x1=\"0\" y1=\"0\" x2=\"60\" y2=\"0\" style=\"stroke-width:2\" />\n",
       "  <line x1=\"0\" y1=\"120\" x2=\"60\" y2=\"120\" style=\"stroke-width:2\" />\n",
       "\n",
       "  <!-- Vertical lines -->\n",
       "  <line x1=\"0\" y1=\"0\" x2=\"0\" y2=\"120\" style=\"stroke-width:2\" />\n",
       "  <line x1=\"60\" y1=\"0\" x2=\"60\" y2=\"120\" style=\"stroke-width:2\" />\n",
       "\n",
       "  <!-- Colored Rectangle -->\n",
       "  <polygon points=\"0.0,0.0 60.0,0.0 60.0,120.0 0.0,120.0\" style=\"fill:#ECB172A0;stroke-width:0\"/>\n",
       "\n",
       "  <!-- Text -->\n",
       "  <text x=\"30.000000\" y=\"140.000000\" font-size=\"1.0rem\" font-weight=\"100\" text-anchor=\"middle\" >400</text>\n",
       "  <text x=\"80.000000\" y=\"60.000000\" font-size=\"1.0rem\" font-weight=\"100\" text-anchor=\"middle\" transform=\"rotate(-90,80.000000,60.000000)\">800</text>\n",
       "</svg>\n",
       "</td>\n",
       "</tr>\n",
       "</table></div></div></li><li class='xr-section-item'><input id='section-cbe305ec-ec7a-4154-adab-a3802feaf01e' class='xr-section-summary-in' type='checkbox'  checked><label for='section-cbe305ec-ec7a-4154-adab-a3802feaf01e' class='xr-section-summary' >Coordinates: <span>(8)</span></label><div class='xr-section-inline-details'></div><div class='xr-section-details'><ul class='xr-var-list'><li class='xr-var-item'><div class='xr-var-name'><span>chan</span></div><div class='xr-var-dims'>()</div><div class='xr-var-dtype'>float64</div><div class='xr-var-preview xr-preview'>3.4e+09</div><input id='attrs-80ae3be2-4bae-41ae-b178-846164f8998f' class='xr-var-attrs-in' type='checkbox' disabled><label for='attrs-80ae3be2-4bae-41ae-b178-846164f8998f' title='Show/Hide attributes'><svg class='icon xr-icon-file-text2'><use xlink:href='#icon-file-text2'></use></svg></label><input id='data-d553db54-f946-4360-a4ef-aebf0a2b15c6' class='xr-var-data-in' type='checkbox'><label for='data-d553db54-f946-4360-a4ef-aebf0a2b15c6' title='Show/Hide data repr'><svg class='icon xr-icon-database'><use xlink:href='#icon-database'></use></svg></label><div class='xr-var-attrs'><dl class='xr-attrs'></dl></div><div class='xr-var-data'><pre>array(3.4e+09)</pre></div></li><li class='xr-var-item'><div class='xr-var-name'><span class='xr-has-index'>l</span></div><div class='xr-var-dims'>(l)</div><div class='xr-var-dtype'>float64</div><div class='xr-var-preview xr-preview'>0.009696 0.009672 ... -0.009672</div><input id='attrs-d1b2c5b7-3f34-4311-888a-6a1bd1c52f41' class='xr-var-attrs-in' type='checkbox' disabled><label for='attrs-d1b2c5b7-3f34-4311-888a-6a1bd1c52f41' title='Show/Hide attributes'><svg class='icon xr-icon-file-text2'><use xlink:href='#icon-file-text2'></use></svg></label><input id='data-26e505c6-a494-41d3-9d76-09f1d0c25e13' class='xr-var-data-in' type='checkbox'><label for='data-26e505c6-a494-41d3-9d76-09f1d0c25e13' title='Show/Hide data repr'><svg class='icon xr-icon-database'><use xlink:href='#icon-database'></use></svg></label><div class='xr-var-attrs'><dl class='xr-attrs'></dl></div><div class='xr-var-data'><pre>array([ 0.009696,  0.009672,  0.009648, ..., -0.009624, -0.009648, -0.009672])</pre></div></li><li class='xr-var-item'><div class='xr-var-name'><span class='xr-has-index'>m</span></div><div class='xr-var-dims'>(m)</div><div class='xr-var-dtype'>float64</div><div class='xr-var-preview xr-preview'>-0.004848 -0.004824 ... 0.004824</div><input id='attrs-a12c0f7d-4b7a-4d5e-8c37-55a9ee4ec199' class='xr-var-attrs-in' type='checkbox' disabled><label for='attrs-a12c0f7d-4b7a-4d5e-8c37-55a9ee4ec199' title='Show/Hide attributes'><svg class='icon xr-icon-file-text2'><use xlink:href='#icon-file-text2'></use></svg></label><input id='data-99d6ac50-50e5-402e-b7ce-1f94c9aeb249' class='xr-var-data-in' type='checkbox'><label for='data-99d6ac50-50e5-402e-b7ce-1f94c9aeb249' title='Show/Hide data repr'><svg class='icon xr-icon-database'><use xlink:href='#icon-database'></use></svg></label><div class='xr-var-attrs'><dl class='xr-attrs'></dl></div><div class='xr-var-data'><pre>array([-0.004848, -0.004824, -0.0048  , ...,  0.004775,  0.0048  ,  0.004824])</pre></div></li><li class='xr-var-item'><div class='xr-var-name'><span>pol</span></div><div class='xr-var-dims'>()</div><div class='xr-var-dtype'>int64</div><div class='xr-var-preview xr-preview'>5</div><input id='attrs-cb5969f3-bd0d-4643-a888-8f854839fac3' class='xr-var-attrs-in' type='checkbox' disabled><label for='attrs-cb5969f3-bd0d-4643-a888-8f854839fac3' title='Show/Hide attributes'><svg class='icon xr-icon-file-text2'><use xlink:href='#icon-file-text2'></use></svg></label><input id='data-fdcb145f-5b6d-4611-88d1-56a4ebd3a7e3' class='xr-var-data-in' type='checkbox'><label for='data-fdcb145f-5b6d-4611-88d1-56a4ebd3a7e3' title='Show/Hide data repr'><svg class='icon xr-icon-database'><use xlink:href='#icon-database'></use></svg></label><div class='xr-var-attrs'><dl class='xr-attrs'></dl></div><div class='xr-var-data'><pre>array(5)</pre></div></li><li class='xr-var-item'><div class='xr-var-name'><span>time</span></div><div class='xr-var-dims'>()</div><div class='xr-var-dtype'>datetime64[ns]</div><div class='xr-var-preview xr-preview'>2019-10-04T02:55:38.491905280</div><input id='attrs-244fce98-5a48-4bd3-ae4b-0969a4cd729b' class='xr-var-attrs-in' type='checkbox' disabled><label for='attrs-244fce98-5a48-4bd3-ae4b-0969a4cd729b' title='Show/Hide attributes'><svg class='icon xr-icon-file-text2'><use xlink:href='#icon-file-text2'></use></svg></label><input id='data-bd2b5106-1586-480e-93da-ba02384da53c' class='xr-var-data-in' type='checkbox'><label for='data-bd2b5106-1586-480e-93da-ba02384da53c' title='Show/Hide data repr'><svg class='icon xr-icon-database'><use xlink:href='#icon-database'></use></svg></label><div class='xr-var-attrs'><dl class='xr-attrs'></dl></div><div class='xr-var-data'><pre>array(&#x27;2019-10-04T02:55:38.491905280&#x27;, dtype=&#x27;datetime64[ns]&#x27;)</pre></div></li><li class='xr-var-item'><div class='xr-var-name'><span>chan_width</span></div><div class='xr-var-dims'>()</div><div class='xr-var-dtype'>float64</div><div class='xr-var-preview xr-preview'>dask.array&lt;chunksize=(), meta=np.ndarray&gt;</div><input id='attrs-583fdf5f-e482-4e08-adfd-dd52008b5129' class='xr-var-attrs-in' type='checkbox' disabled><label for='attrs-583fdf5f-e482-4e08-adfd-dd52008b5129' title='Show/Hide attributes'><svg class='icon xr-icon-file-text2'><use xlink:href='#icon-file-text2'></use></svg></label><input id='data-20e95f33-cef3-4c01-8369-96600ad96add' class='xr-var-data-in' type='checkbox'><label for='data-20e95f33-cef3-4c01-8369-96600ad96add' title='Show/Hide data repr'><svg class='icon xr-icon-database'><use xlink:href='#icon-database'></use></svg></label><div class='xr-var-attrs'><dl class='xr-attrs'></dl></div><div class='xr-var-data'><table>\n",
       "<tr>\n",
       "<td>\n",
       "<table>\n",
       "  <thead>\n",
       "    <tr><td> </td><th> Array </th><th> Chunk </th></tr>\n",
       "  </thead>\n",
       "  <tbody>\n",
       "    <tr><th> Bytes </th><td> 8 B </td> <td> 8.0 B </td></tr>\n",
       "    <tr><th> Shape </th><td> () </td> <td> () </td></tr>\n",
       "    <tr><th> Count </th><td> 6 Tasks </td><td> 1 Chunks </td></tr>\n",
       "    <tr><th> Type </th><td> float64 </td><td> numpy.ndarray </td></tr>\n",
       "  </tbody>\n",
       "</table>\n",
       "</td>\n",
       "<td>\n",
       "\n",
       "</td>\n",
       "</tr>\n",
       "</table></div></li><li class='xr-var-item'><div class='xr-var-name'><span>right_ascension</span></div><div class='xr-var-dims'>(l, m)</div><div class='xr-var-dtype'>float64</div><div class='xr-var-preview xr-preview'>-1.037 -1.037 ... -1.062 -1.062</div><input id='attrs-3932f60e-7774-4376-b3f0-25a98b78e82d' class='xr-var-attrs-in' type='checkbox' disabled><label for='attrs-3932f60e-7774-4376-b3f0-25a98b78e82d' title='Show/Hide attributes'><svg class='icon xr-icon-file-text2'><use xlink:href='#icon-file-text2'></use></svg></label><input id='data-0156eb12-65ec-48b6-9ee5-35910fa40d0e' class='xr-var-data-in' type='checkbox'><label for='data-0156eb12-65ec-48b6-9ee5-35910fa40d0e' title='Show/Hide data repr'><svg class='icon xr-icon-database'><use xlink:href='#icon-database'></use></svg></label><div class='xr-var-attrs'><dl class='xr-attrs'></dl></div><div class='xr-var-data'><pre>array([[-1.03674531, -1.03674504, -1.03674478, ..., -1.03663927,\n",
       "        -1.036639  , -1.03663873],\n",
       "       [-1.03677716, -1.0367769 , -1.03677664, ..., -1.03667139,\n",
       "        -1.03667112, -1.03667085],\n",
       "       [-1.03680902, -1.03680876, -1.0368085 , ..., -1.03670352,\n",
       "        -1.03670325, -1.03670298],\n",
       "       ...,\n",
       "       [-1.06213572, -1.06213598, -1.06213624, ..., -1.06224095,\n",
       "        -1.06224122, -1.06224149],\n",
       "       [-1.06216757, -1.06216783, -1.0621681 , ..., -1.06227307,\n",
       "        -1.06227334, -1.06227361],\n",
       "       [-1.06219943, -1.06219969, -1.06219995, ..., -1.0623052 ,\n",
       "        -1.06230547, -1.06230574]])</pre></div></li><li class='xr-var-item'><div class='xr-var-name'><span>declination</span></div><div class='xr-var-dims'>(l, m)</div><div class='xr-var-dtype'>float64</div><div class='xr-var-preview xr-preview'>0.706 0.7061 ... 0.7157 0.7157</div><input id='attrs-ef36f564-289b-4e32-aec8-b851cd438f41' class='xr-var-attrs-in' type='checkbox' disabled><label for='attrs-ef36f564-289b-4e32-aec8-b851cd438f41' title='Show/Hide attributes'><svg class='icon xr-icon-file-text2'><use xlink:href='#icon-file-text2'></use></svg></label><input id='data-1678a0af-7e5c-434a-8bbe-e961a255bf18' class='xr-var-data-in' type='checkbox'><label for='data-1678a0af-7e5c-434a-8bbe-e961a255bf18' title='Show/Hide data repr'><svg class='icon xr-icon-database'><use xlink:href='#icon-database'></use></svg></label><div class='xr-var-attrs'><dl class='xr-attrs'></dl></div><div class='xr-var-data'><pre>array([[0.70604958, 0.70607382, 0.70609806, ..., 0.71567284, 0.71569708,\n",
       "        0.71572132],\n",
       "       [0.70604978, 0.70607402, 0.70609826, ..., 0.71567304, 0.71569728,\n",
       "        0.71572152],\n",
       "       [0.70604999, 0.70607423, 0.70609847, ..., 0.71567324, 0.71569748,\n",
       "        0.71572172],\n",
       "       ...,\n",
       "       [0.70605019, 0.70607443, 0.70609867, ..., 0.71567344, 0.71569768,\n",
       "        0.71572192],\n",
       "       [0.70604999, 0.70607423, 0.70609847, ..., 0.71567324, 0.71569748,\n",
       "        0.71572172],\n",
       "       [0.70604978, 0.70607402, 0.70609826, ..., 0.71567304, 0.71569728,\n",
       "        0.71572152]])</pre></div></li></ul></div></li><li class='xr-section-item'><input id='section-94540f47-f6de-4fe3-b606-1ff0a403f15a' class='xr-section-summary-in' type='checkbox' disabled ><label for='section-94540f47-f6de-4fe3-b606-1ff0a403f15a' class='xr-section-summary'  title='Expand/collapse section'>Attributes: <span>(0)</span></label><div class='xr-section-inline-details'></div><div class='xr-section-details'><dl class='xr-attrs'></dl></div></li></ul></div></div>"
      ],
      "text/plain": [
       "<xarray.DataArray 'IMAGE' (l: 800, m: 400)>\n",
       "dask.array<getitem, shape=(800, 400), dtype=float32, chunksize=(800, 400), chunktype=numpy.ndarray>\n",
       "Coordinates:\n",
       "    chan             float64 3.4e+09\n",
       "  * l                (l) float64 0.009696 0.009672 ... -0.009648 -0.009672\n",
       "  * m                (m) float64 -0.004848 -0.004824 -0.0048 ... 0.0048 0.004824\n",
       "    pol              int64 5\n",
       "    time             datetime64[ns] 2019-10-04T02:55:38.491905280\n",
       "    chan_width       float64 dask.array<chunksize=(), meta=np.ndarray>\n",
       "    right_ascension  (l, m) float64 -1.037 -1.037 -1.037 ... -1.062 -1.062\n",
       "    declination      (l, m) float64 0.706 0.7061 0.7061 ... 0.7157 0.7157 0.7157"
      ]
     },
     "execution_count": 50,
     "metadata": {},
     "output_type": "execute_result"
    }
   ],
   "source": [
    "mosaic_img[:, :, 0, 0]"
   ]
  },
  {
   "cell_type": "code",
   "execution_count": 51,
   "id": "51dea7f5-b83d-40aa-8622-addac68e52d3",
   "metadata": {},
   "outputs": [
    {
     "data": {
      "text/plain": [
       "<matplotlib.image.AxesImage at 0x7f5d36b30c50>"
      ]
     },
     "execution_count": 51,
     "metadata": {},
     "output_type": "execute_result"
    },
    {
     "data": {
      "image/png": "[encoded data removed]",
      "text/plain": [
       "<Figure size 432x288 with 1 Axes>"
      ]
     },
     "metadata": {
      "needs_background": "light"
     },
     "output_type": "display_data"
    }
   ],
   "source": [
    "plt.figure()\n",
    "#plt.imshow(img_xds.IMAGE.isel(chan=chan,time=0,pol=0))\n",
    "plt.imshow(mosaic_img[:, :, 0, 0])"
   ]
  },
  {
   "cell_type": "markdown",
   "id": "74684047-cd2c-41ac-91b0-a4a0afb07e93",
   "metadata": {},
   "source": [
    "### Calculate Pixel Position"
   ]
  },
  {
   "cell_type": "code",
   "execution_count": 44,
   "id": "89229f60-6349-4edf-81d3-7903b5dacdb8",
   "metadata": {},
   "outputs": [],
   "source": [
    "phase_center = grid_parms['phase_center']\n",
    "w = WCS(naxis=2)\n",
    "w.wcs.crpix = np.array(grid_parms['image_size'])//2\n",
    "w.wcs.cdelt = np.array([-20,20])*arcsec_to_deg\n",
    "w.wcs.crval = phase_center*rad_to_deg\n",
    "w.wcs.ctype = ['RA---SIN','DEC--SIN']"
   ]
  },
  {
   "cell_type": "code",
   "execution_count": 45,
   "id": "f3f7dad6-20ce-48b0-8843-ec3f83f3a523",
   "metadata": {},
   "outputs": [
    {
     "name": "stdout",
     "output_type": "stream",
     "text": [
      "source pix pos [[365.90135428 200.048544  ]]\n"
     ]
    }
   ],
   "source": [
    "lm_pix_pos = w.all_world2pix(point_source_ra_dec[0,:,:]*rad_to_deg, 1)\n",
    "print('source pix pos',lm_pix_pos)"
   ]
  },
  {
   "cell_type": "code",
   "execution_count": 83,
   "id": "a3d78fa4-13f5-4c50-a3c5-932d1a803301",
   "metadata": {},
   "outputs": [
    {
     "name": "stdout",
     "output_type": "stream",
     "text": [
      "source pix pos [[ 65.90135428 200.048544  ]\n",
      " [134.268903   140.04912485]]\n"
     ]
    }
   ],
   "source": [
    "lm_pix_pos = w.all_world2pix(pointing_ra_dec[0,:,:]*rad_to_deg, 1)\n",
    "print('source pix pos',lm_pix_pos)"
   ]
  },
  {
   "cell_type": "code",
   "execution_count": null,
   "id": "e6cc19de-7997-45e4-9003-a165bbcd5d06",
   "metadata": {},
   "outputs": [],
   "source": []
  },
  {
   "cell_type": "code",
   "execution_count": 42,
   "id": "171a2d19-2951-4ce0-b6c0-40f8412e0043",
   "metadata": {},
   "outputs": [
    {
     "name": "stdout",
     "output_type": "stream",
     "text": [
      "source lm pos [[-0.00156774  0.00203728]]\n"
     ]
    }
   ],
   "source": [
    "cell_size = np.array(grid_parms['cell_size'])*arcsec_to_rad\n",
    "cell_size[0] = -cell_size[0]\n",
    "image_center = np.array(grid_parms['image_size'])//2\n",
    "source_lm_pos = lm_pix_pos*cell_size - image_center*cell_size\n",
    "print('source lm pos',source_lm_pos)"
   ]
  },
  {
   "cell_type": "markdown",
   "id": "79bb7c25-40f1-4977-a548-fcff5abb2511",
   "metadata": {},
   "source": [
    "### Plot Primary Beam"
   ]
  },
  {
   "cell_type": "code",
   "execution_count": 4,
   "id": "3ce52e07-04b3-4894-addc-cbfbda27d07e",
   "metadata": {},
   "outputs": [],
   "source": [
    "from sirius._sirius_utils._make_pb_symmetric import _casa_airy_disk"
   ]
  },
  {
   "cell_type": "code",
   "execution_count": 58,
   "id": "5471a8c8-8b93-450c-98c4-b3369b958385",
   "metadata": {},
   "outputs": [],
   "source": [
    "grid_parms = {}\n",
    "grid_parms['chan_mode'] = 'continuum'\n",
    "grid_parms['image_size'] = np.array([200,400])\n",
    "grid_parms['cell_size'] = np.array([-20,20])*arcsec_to_rad\n",
    "grid_parms['phase_center'] = pointing_ra_dec[0,0,:]\n",
    "pol = [1]\n",
    "grid_parms['image_center'] = grid_parms['image_size']//2\n",
    "\n",
    "grid_parms2 = {}\n",
    "grid_parms2['chan_mode'] = 'continuum'\n",
    "grid_parms2['image_size'] = np.array([200,400])\n",
    "grid_parms2['cell_size'] = np.array([-20,20])*arcsec_to_rad\n",
    "grid_parms2['phase_center'] = pointing_ra_dec2[0,0,:]\n",
    "pol = [1]\n",
    "grid_parms2['image_center'] = grid_parms['image_size']//2"
   ]
  },
  {
   "cell_type": "code",
   "execution_count": 59,
   "id": "de89b4ad-3f7b-4572-8c78-e05b5a0ac11e",
   "metadata": {},
   "outputs": [],
   "source": [
    "pb_parms = {}\n",
    "pb_parms['pb_func'] = 'casa_airy'\n",
    "pb_parms['list_dish_diameters'] = [24.5] #Can make this smaller for larger primary beam\n",
    "pb_parms['list_blockage_diameters'] = [0.0]\n",
    "pb_parms['ipower'] = 2\n",
    "pb_parms['pb_limit'] = 0.2"
   ]
  },
  {
   "cell_type": "code",
   "execution_count": 60,
   "id": "fcaa1997-17c9-40f4-8b35-d43524cd56c6",
   "metadata": {},
   "outputs": [
    {
     "data": {
      "text/plain": [
       "array([[5.23369701, 0.71093805],\n",
       "       [4.95008101, 0.70512029]])"
      ]
     },
     "execution_count": 60,
     "metadata": {},
     "output_type": "execute_result"
    }
   ],
   "source": [
    "pointing_ra_dec[0, :, :]"
   ]
  },
  {
   "cell_type": "code",
   "execution_count": 61,
   "id": "efe2e249-95fd-4c77-8545-2fbcb8e7d492",
   "metadata": {},
   "outputs": [
    {
     "data": {
      "text/plain": [
       "array([[[4.95008101, 0.70512029]]])"
      ]
     },
     "execution_count": 61,
     "metadata": {},
     "output_type": "execute_result"
    }
   ],
   "source": [
    "pointing_ra_dec2"
   ]
  },
  {
   "cell_type": "code",
   "execution_count": 62,
   "id": "00678a31-8de0-40b9-976e-6d213bef1688",
   "metadata": {},
   "outputs": [],
   "source": [
    "pb = _casa_airy_disk(freq_chan,pol,pb_parms,grid_parms)\n",
    "pb2 = _casa_airy_disk(freq_chan,pol,pb_parms,grid_parms2)"
   ]
  },
  {
   "cell_type": "code",
   "execution_count": 63,
   "id": "d419fbcb-7ff3-413d-b83a-d196cebdf937",
   "metadata": {},
   "outputs": [
    {
     "data": {
      "image/png": "[encoded data removed]",
      "text/plain": [
       "<Figure size 432x288 with 1 Axes>"
      ]
     },
     "metadata": {
      "needs_background": "light"
     },
     "output_type": "display_data"
    }
   ],
   "source": [
    "plt.figure()\n",
    "plt.imshow(pb[:,:,1,0,0])\n",
    "#plt.imshow(pb2[:,:,1,0,0])\n",
    "\n",
    "plt.show()"
   ]
  },
  {
   "cell_type": "code",
   "execution_count": null,
   "id": "b4b9cab1-b7c6-457b-912d-eb4265657573",
   "metadata": {},
   "outputs": [],
   "source": []
  }
 ],
 "metadata": {
  "kernelspec": {
   "display_name": "Python 3",
   "language": "python",
   "name": "python3"
  },
  "language_info": {
   "codemirror_mode": {
    "name": "ipython",
    "version": 3
   },
   "file_extension": ".py",
   "mimetype": "text/x-python",
   "name": "python",
   "nbconvert_exporter": "python",
   "pygments_lexer": "ipython3",
   "version": "3.7.10"
  }
 },
 "nbformat": 4,
 "nbformat_minor": 5
}
