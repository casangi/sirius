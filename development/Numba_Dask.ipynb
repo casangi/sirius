{
 "cells": [
  {
   "cell_type": "code",
   "execution_count": 1,
   "id": "a6e99d28-fe95-4b06-bc4c-d303a44a8991",
   "metadata": {},
   "outputs": [],
   "source": [
    "import dask.array as da\n",
    "import numba\n",
    "import numpy as np"
   ]
  },
  {
   "cell_type": "markdown",
   "id": "2b65b165-b08d-47b9-bcba-21a2d4d3b8e6",
   "metadata": {},
   "source": [
    "# Dask from_delayed\n",
    "\n",
    "https://docs.dask.org/en/latest/delayed-collections.html"
   ]
  },
  {
   "cell_type": "markdown",
   "id": "45ea55ef-a844-473e-a9f8-347ddd16e4bb",
   "metadata": {},
   "source": [
    "# Dask Block/Chunks\n",
    "\n",
    "https://docs.dask.org/en/latest/array-stack.html\n",
    "\n",
    "https://docs.dask.org/en/latest/array-chunks.html"
   ]
  },
  {
   "cell_type": "code",
   "execution_count": 2,
   "id": "d1f1117c-7516-4119-a6af-1b2d8e468a6c",
   "metadata": {},
   "outputs": [],
   "source": [
    "arr0 = da.from_array(np.zeros((3, 4)), chunks=(1, 2))\n",
    "arr1 = da.from_array(np.ones((3, 4)), chunks=(1, 2))"
   ]
  },
  {
   "cell_type": "code",
   "execution_count": 3,
   "id": "6a67f6bb-f148-4a00-b303-ad0185474239",
   "metadata": {},
   "outputs": [
    {
     "data": {
      "text/html": [
       "<table>\n",
       "<tr>\n",
       "<td>\n",
       "<table>\n",
       "  <thead>\n",
       "    <tr><td> </td><th> Array </th><th> Chunk </th></tr>\n",
       "  </thead>\n",
       "  <tbody>\n",
       "    <tr><th> Bytes </th><td> 96 B </td> <td> 16 B </td></tr>\n",
       "    <tr><th> Shape </th><td> (3, 4) </td> <td> (1, 2) </td></tr>\n",
       "    <tr><th> Count </th><td> 6 Tasks </td><td> 6 Chunks </td></tr>\n",
       "    <tr><th> Type </th><td> float64 </td><td> numpy.ndarray </td></tr>\n",
       "  </tbody>\n",
       "</table>\n",
       "</td>\n",
       "<td>\n",
       "<svg width=\"170\" height=\"140\" style=\"stroke:rgb(0,0,0);stroke-width:1\" >\n",
       "\n",
       "  <!-- Horizontal lines -->\n",
       "  <line x1=\"0\" y1=\"0\" x2=\"120\" y2=\"0\" style=\"stroke-width:2\" />\n",
       "  <line x1=\"0\" y1=\"30\" x2=\"120\" y2=\"30\" />\n",
       "  <line x1=\"0\" y1=\"60\" x2=\"120\" y2=\"60\" />\n",
       "  <line x1=\"0\" y1=\"90\" x2=\"120\" y2=\"90\" style=\"stroke-width:2\" />\n",
       "\n",
       "  <!-- Vertical lines -->\n",
       "  <line x1=\"0\" y1=\"0\" x2=\"0\" y2=\"90\" style=\"stroke-width:2\" />\n",
       "  <line x1=\"60\" y1=\"0\" x2=\"60\" y2=\"90\" />\n",
       "  <line x1=\"120\" y1=\"0\" x2=\"120\" y2=\"90\" style=\"stroke-width:2\" />\n",
       "\n",
       "  <!-- Colored Rectangle -->\n",
       "  <polygon points=\"0.0,0.0 120.0,0.0 120.0,90.0 0.0,90.0\" style=\"fill:#ECB172A0;stroke-width:0\"/>\n",
       "\n",
       "  <!-- Text -->\n",
       "  <text x=\"60.000000\" y=\"110.000000\" font-size=\"1.0rem\" font-weight=\"100\" text-anchor=\"middle\" >4</text>\n",
       "  <text x=\"140.000000\" y=\"45.000000\" font-size=\"1.0rem\" font-weight=\"100\" text-anchor=\"middle\" transform=\"rotate(0,140.000000,45.000000)\">3</text>\n",
       "</svg>\n",
       "</td>\n",
       "</tr>\n",
       "</table>"
      ],
      "text/plain": [
       "dask.array<array, shape=(3, 4), dtype=float64, chunksize=(1, 2), chunktype=numpy.ndarray>"
      ]
     },
     "execution_count": 3,
     "metadata": {},
     "output_type": "execute_result"
    }
   ],
   "source": [
    "arr0"
   ]
  },
  {
   "cell_type": "code",
   "execution_count": 4,
   "id": "dc65530a-dd85-48c3-a8ad-c68e6a6d75ae",
   "metadata": {},
   "outputs": [
    {
     "data": {
      "text/plain": [
       "(6, 8)"
      ]
     },
     "execution_count": 4,
     "metadata": {},
     "output_type": "execute_result"
    }
   ],
   "source": [
    "data = [\n",
    "\n",
    "    [arr0, arr1],\n",
    "\n",
    "    [arr1, arr0]\n",
    "\n",
    "]\n",
    "\n",
    "x = da.block(data)\n",
    "\n",
    "x.shape"
   ]
  },
  {
   "cell_type": "code",
   "execution_count": 5,
   "id": "e8ccca6e-75a9-4df5-8c11-074dfa9c5467",
   "metadata": {},
   "outputs": [
    {
     "data": {
      "text/html": [
       "<table>\n",
       "<tr>\n",
       "<td>\n",
       "<table>\n",
       "  <thead>\n",
       "    <tr><td> </td><th> Array </th><th> Chunk </th></tr>\n",
       "  </thead>\n",
       "  <tbody>\n",
       "    <tr><th> Bytes </th><td> 384 B </td> <td> 16 B </td></tr>\n",
       "    <tr><th> Shape </th><td> (6, 8) </td> <td> (1, 2) </td></tr>\n",
       "    <tr><th> Count </th><td> 60 Tasks </td><td> 24 Chunks </td></tr>\n",
       "    <tr><th> Type </th><td> float64 </td><td> numpy.ndarray </td></tr>\n",
       "  </tbody>\n",
       "</table>\n",
       "</td>\n",
       "<td>\n",
       "<svg width=\"170\" height=\"140\" style=\"stroke:rgb(0,0,0);stroke-width:1\" >\n",
       "\n",
       "  <!-- Horizontal lines -->\n",
       "  <line x1=\"0\" y1=\"0\" x2=\"120\" y2=\"0\" style=\"stroke-width:2\" />\n",
       "  <line x1=\"0\" y1=\"15\" x2=\"120\" y2=\"15\" />\n",
       "  <line x1=\"0\" y1=\"30\" x2=\"120\" y2=\"30\" />\n",
       "  <line x1=\"0\" y1=\"45\" x2=\"120\" y2=\"45\" />\n",
       "  <line x1=\"0\" y1=\"60\" x2=\"120\" y2=\"60\" />\n",
       "  <line x1=\"0\" y1=\"75\" x2=\"120\" y2=\"75\" />\n",
       "  <line x1=\"0\" y1=\"90\" x2=\"120\" y2=\"90\" style=\"stroke-width:2\" />\n",
       "\n",
       "  <!-- Vertical lines -->\n",
       "  <line x1=\"0\" y1=\"0\" x2=\"0\" y2=\"90\" style=\"stroke-width:2\" />\n",
       "  <line x1=\"30\" y1=\"0\" x2=\"30\" y2=\"90\" />\n",
       "  <line x1=\"60\" y1=\"0\" x2=\"60\" y2=\"90\" />\n",
       "  <line x1=\"90\" y1=\"0\" x2=\"90\" y2=\"90\" />\n",
       "  <line x1=\"120\" y1=\"0\" x2=\"120\" y2=\"90\" style=\"stroke-width:2\" />\n",
       "\n",
       "  <!-- Colored Rectangle -->\n",
       "  <polygon points=\"0.0,0.0 120.0,0.0 120.0,90.0 0.0,90.0\" style=\"fill:#ECB172A0;stroke-width:0\"/>\n",
       "\n",
       "  <!-- Text -->\n",
       "  <text x=\"60.000000\" y=\"110.000000\" font-size=\"1.0rem\" font-weight=\"100\" text-anchor=\"middle\" >8</text>\n",
       "  <text x=\"140.000000\" y=\"45.000000\" font-size=\"1.0rem\" font-weight=\"100\" text-anchor=\"middle\" transform=\"rotate(0,140.000000,45.000000)\">6</text>\n",
       "</svg>\n",
       "</td>\n",
       "</tr>\n",
       "</table>"
      ],
      "text/plain": [
       "dask.array<concatenate, shape=(6, 8), dtype=float64, chunksize=(1, 2), chunktype=numpy.ndarray>"
      ]
     },
     "execution_count": 5,
     "metadata": {},
     "output_type": "execute_result"
    }
   ],
   "source": [
    "x"
   ]
  },
  {
   "cell_type": "markdown",
   "id": "9325c938-b3ae-4356-b8e9-debffd95bbea",
   "metadata": {},
   "source": [
    "# Numba"
   ]
  },
  {
   "cell_type": "code",
   "execution_count": 2,
   "id": "7c2e92d1-157b-4c53-931e-e4b57f7201b9",
   "metadata": {},
   "outputs": [],
   "source": [
    "@numba.jit\n",
    "def f(x, y):\n",
    "    # A somewhat trivial example\n",
    "    return x + y\n"
   ]
  },
  {
   "cell_type": "code",
   "execution_count": 3,
   "id": "64178ae4-eea2-4c7c-8ab4-c7039f5a0e9a",
   "metadata": {},
   "outputs": [],
   "source": [
    "@numba.jit(numba.int32(numba.int32, numba.int32))\n",
    "def f(x, y):\n",
    "    # A somewhat trivial example\n",
    "    return x + y"
   ]
  },
  {
   "cell_type": "code",
   "execution_count": 4,
   "id": "f3fdd5bd-6c20-49ae-a2e6-e539e191f3b2",
   "metadata": {},
   "outputs": [
    {
     "name": "stdout",
     "output_type": "stream",
     "text": [
      "Elapsed (with compilation) = 0.34642672538757324\n",
      "Elapsed (after compilation) = 8.225440979003906e-05\n"
     ]
    }
   ],
   "source": [
    "import time\n",
    "\n",
    "x = np.arange(100).reshape(10, 10).astype(\"float64\")\n",
    "\n",
    "@numba.jit(nopython=True)\n",
    "def go_fast(a): # Function is compiled and runs in machine code\n",
    "    trace = 0.0\n",
    "    for i in range(a.shape[0]):\n",
    "        trace += np.tanh(a[i, i])\n",
    "    return a + trace\n",
    "\n",
    "# DO NOT REPORT THIS... COMPILATION TIME IS INCLUDED IN THE EXECUTION TIME!\n",
    "start = time.time()\n",
    "go_fast(x)\n",
    "end = time.time()\n",
    "print(\"Elapsed (with compilation) = %s\" % (end - start))\n",
    "\n",
    "# NOW THE FUNCTION IS COMPILED, RE-TIME IT EXECUTING FROM CACHE\n",
    "start = time.time()\n",
    "go_fast(x)\n",
    "end = time.time()\n",
    "print(\"Elapsed (after compilation) = %s\" % (end - start))"
   ]
  },
  {
   "cell_type": "code",
   "execution_count": 7,
   "id": "8fb712b0-1233-40f3-8f35-71e5e8131266",
   "metadata": {},
   "outputs": [
    {
     "name": "stdout",
     "output_type": "stream",
     "text": [
      "770 ns ± 3.52 ns per loop (mean ± std. dev. of 7 runs, 1000000 loops each)\n"
     ]
    }
   ],
   "source": [
    "%%timeit\n",
    "t = go_fast(x)"
   ]
  },
  {
   "cell_type": "code",
   "execution_count": 8,
   "id": "6ad8b3fe-6002-4eda-9aad-2c1d33f8b778",
   "metadata": {},
   "outputs": [],
   "source": [
    "# Eager compilation\n",
    "@numba.jit(numba.float64[:, :](numba.float64[:, :]), nopython=True)\n",
    "def go_fast_2(a): # Function is compiled and runs in machine code\n",
    "    trace = 0.0\n",
    "    for i in range(a.shape[0]):\n",
    "        trace += np.tanh(a[i, i])\n",
    "    return a + trace\n"
   ]
  },
  {
   "cell_type": "code",
   "execution_count": 9,
   "id": "0d4e4881-6ab7-4cc0-bbd1-d1c28424bfcb",
   "metadata": {},
   "outputs": [
    {
     "name": "stdout",
     "output_type": "stream",
     "text": [
      "Elapsed (with compilation) = 0.0004935264587402344\n",
      "Elapsed (after compilation) = 0.0001430511474609375\n"
     ]
    }
   ],
   "source": [
    "# DO NOT REPORT THIS... COMPILATION TIME IS INCLUDED IN THE EXECUTION TIME!\n",
    "start = time.time()\n",
    "go_fast_2(x)\n",
    "end = time.time()\n",
    "print(\"Elapsed (with compilation) = %s\" % (end - start))\n",
    "\n",
    "# NOW THE FUNCTION IS COMPILED, RE-TIME IT EXECUTING FROM CACHE\n",
    "start = time.time()\n",
    "go_fast_2(x)\n",
    "end = time.time()\n",
    "print(\"Elapsed (after compilation) = %s\" % (end - start))"
   ]
  },
  {
   "cell_type": "code",
   "execution_count": 10,
   "id": "3e3c9a7c-a424-40d4-87d7-a38f63ecc1bd",
   "metadata": {},
   "outputs": [
    {
     "name": "stdout",
     "output_type": "stream",
     "text": [
      "735 ns ± 1.48 ns per loop (mean ± std. dev. of 7 runs, 1000000 loops each)\n"
     ]
    }
   ],
   "source": [
    "%%timeit\n",
    "go_fast_2(x)"
   ]
  },
  {
   "cell_type": "code",
   "execution_count": null,
   "id": "d7dd8b51-4a03-4083-8209-4f2768d3f370",
   "metadata": {},
   "outputs": [],
   "source": []
  }
 ],
 "metadata": {
  "kernelspec": {
   "display_name": "Python 3",
   "language": "python",
   "name": "python3"
  },
  "language_info": {
   "codemirror_mode": {
    "name": "ipython",
    "version": 3
   },
   "file_extension": ".py",
   "mimetype": "text/x-python",
   "name": "python",
   "nbconvert_exporter": "python",
   "pygments_lexer": "ipython3",
   "version": "3.7.10"
  }
 },
 "nbformat": 4,
 "nbformat_minor": 5
}
