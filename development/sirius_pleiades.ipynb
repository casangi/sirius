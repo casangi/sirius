{
 "cells": [
  {
   "cell_type": "code",
   "execution_count": 1,
   "id": "eee98c88-a476-4c97-ae90-b70dd7b4bca2",
   "metadata": {},
   "outputs": [],
   "source": [
    "import numpy as np\n",
    "c = 299792458\n",
    "#from direction_rotate import _calc_rotation_mats\n",
    "import matplotlib.pyplot as plt\n",
    "\n",
    "\n",
    "import xarray as xr\n",
    "import dask.array as da\n",
    "import cngi.conversion.convert_ms as convert_ms\n",
    "import cngi.conversion.convert_image as convert_image\n",
    "from cngi.dio import read_vis\n",
    "import numpy as np\n",
    "from astropy.coordinates import SkyCoord\n",
    "from sirius import calc_vis\n",
    "from astropy.wcs import WCS\n",
    "import time\n",
    "deg_to_rad = np.pi/180\n",
    "from sirius import make_ant_sky_jones, simulation\n",
    "from sirius._sirius_utils._ant_jones_term import _compute_rot_coords\n",
    "from sirius._sirius_utils._calc_parallactic_angles import _calc_parallactic_angles, _find_optimal_set_angle\n",
    "\n",
    "from astropy.time import Time\n",
    "from astropy.coordinates import (EarthLocation, SkyCoord,\n",
    "                                 AltAz, CIRS)\n",
    "import astropy.units as u\n",
    "\n",
    "import pkg_resources"
   ]
  },
  {
   "cell_type": "code",
   "execution_count": 2,
   "id": "2ed5374e-3014-4983-a333-f291610b0eeb",
   "metadata": {},
   "outputs": [
    {
     "name": "stdout",
     "output_type": "stream",
     "text": [
      "<xarray.DataArray 'time' (time: 350)>\n",
      "array(['2019-10-04T05:48:39.800061184', '2019-10-04T05:54:39.800061184',\n",
      "       '2019-10-04T06:00:39.800061184', ..., '2019-10-07T10:30:39.800061184',\n",
      "       '2019-10-07T10:36:39.800061184', '2019-10-07T10:42:39.800061184'],\n",
      "      dtype='datetime64[ns]')\n",
      "Coordinates:\n",
      "  * time     (time) datetime64[ns] 2019-10-04T05:48:39.800061184 ... 2019-10-...\n"
     ]
    }
   ],
   "source": [
    "tel_dir = pkg_resources.resource_filename('casadata', 'data/telescope_layout/data/vla.d.tel.zarr')\n",
    "#tel_xds = xr.open_zarr(tel_dir)\n",
    "\n",
    "\n",
    "mxds = read_vis('point_source_sim_vis/mosaic_pleiades_sim_dovp_True.vis.zarr')\n",
    "\n",
    "\n",
    "mxds.attrs['xds0'] = mxds.attrs['xds0']#.isel(time=slice(80,81))\n",
    "print(mxds.xds0.time)\n",
    "#(_)_s dimension can be singleton (value is reused)"
   ]
  },
  {
   "cell_type": "code",
   "execution_count": 3,
   "id": "02189d55-f951-4098-aab3-6b34a2661893",
   "metadata": {},
   "outputs": [
    {
     "data": {
      "text/plain": [
       "'/users/mbarth/miniconda3/envs/casa_env/lib/python3.7/site-packages/casadata/data/telescope_layout/data/vla.d.tel.zarr'"
      ]
     },
     "execution_count": 3,
     "metadata": {},
     "output_type": "execute_result"
    }
   ],
   "source": [
    "tel_dir"
   ]
  },
  {
   "cell_type": "markdown",
   "id": "07135069-dc08-4e60-9eb6-a4e688c13e1e",
   "metadata": {},
   "source": [
    "### Set up parameters for UVW calculation"
   ]
  },
  {
   "cell_type": "code",
   "execution_count": 13,
   "id": "05d17dcf-6b43-4415-b6d0-9f4b5c92a7e5",
   "metadata": {},
   "outputs": [],
   "source": [
    "ant_pos = mxds.ANTENNA.POSITION.values # [n_ant x 3]\n",
    "time_str = mxds.xds0.time.values        # [n_time]\n",
    "site = 'VLA'\n",
    "\n",
    "phase_center_ra_dec = mxds.FIELD.PHASE_DIR.sel(field_id=mxds.xds0.FIELD_ID.isel(baseline=0).values).values[:,0,:] #n_time x 2\n",
    "#print('phase_center_ra_dec',phase_center_ra_dec)\n",
    "#print('field ids',mxds.xds0.FIELD_ID.isel(baseline=0).values)\n",
    "\n",
    "ant1 = mxds.xds0.ANTENNA1.values\n",
    "ant2 = mxds.xds0.ANTENNA2.values"
   ]
  },
  {
   "cell_type": "code",
   "execution_count": 14,
   "id": "993c25b5-ed66-440a-9ff4-f4064f1bc05f",
   "metadata": {},
   "outputs": [
    {
     "name": "stdout",
     "output_type": "stream",
     "text": [
      "(350, 351, 3)\n"
     ]
    }
   ],
   "source": [
    "uvw_parms = {}\n",
    "uvw_parms['calc_method'] = 'astropy'\n",
    "uvw_parms['site'] = 'vla'\n",
    "uvw_parms['auto_corr'] = False\n",
    "\n",
    "uvw = mxds.xds0.UVW.values\n",
    "print(uvw.shape)"
   ]
  },
  {
   "cell_type": "code",
   "execution_count": 15,
   "id": "87f06f8a-d58d-4c71-b946-67ec1b3fd55d",
   "metadata": {},
   "outputs": [],
   "source": [
    "airy_disk_parms =  {'pb_func':'casa_airy','dish_diameter':24.5,'blockage_diameter':0.0}\n",
    "beam_models = [airy_disk_parms]\n",
    "n_ant = len(ant_pos)\n",
    "beam_model_map = np.zeros(n_ant,dtype=int)\n",
    "\n",
    "beam_parms = {}\n",
    "beam_parms['pa_radius'] = 0.2\n",
    "beam_parms['mueller_selection'] = np.array([0,15])\n",
    "\n",
    "freq_chan = mxds.xds0.chan.values\n",
    "pol = mxds.xds0.pol.values"
   ]
  },
  {
   "cell_type": "markdown",
   "id": "8e888e3f-253d-4e6a-9abf-2f845cc28352",
   "metadata": {},
   "source": [
    "### Setup Sources"
   ]
  },
  {
   "cell_type": "code",
   "execution_count": 16,
   "id": "b82ae699-bb51-44b8-ba51-a3d1adb8fc7f",
   "metadata": {},
   "outputs": [],
   "source": [
    "#pointing_ra_dec:  [n_time, n_ant, 2]          (singleton: n_time, n_ant)\n",
    "pointing_ra_dec = None #np.zeros((1, 1, 2)) #Singleton\n",
    "\n",
    "#point_source_ra_dec:  [n_time, n_point_sources, 2]          (singleton: n_time)\n",
    "ra = ['03h47m59.0s', '03h47m29.0s', '03h46m02.9s', '03h45m54.5s', '03h44m48.2s', '03h49m11.2s', '03h45m12.5s', '03h47m29.1s','03h49m09.7s','03h46m19.6s','03h45m49.6s', '03h44m52.5s']\n",
    "dec = ['+24d29m20.0s', '+24d17m22.2s', '+24d31m40.4s', '+24d33m16.2s', '+24d17m22.1s', '+24d08m12.2s','+24d28m02.2s', '+24d06m18.5s','+24d03m12.3s','+23d56m54.1s','+24d22m03.9s','+24d06m48.0s']\n",
    "point_source_skycoord = SkyCoord(ra=ra,dec=dec,frame='fk5') #sim\n",
    "\n",
    "'''\n",
    "03h47m29.1s +24d06m18.5s\n",
    "03h49m09.7s +24d03m12.3s\n",
    "03h46m19.6s +23d56m54.1s\n",
    "03h45m49.6s +24d22m03.9s\n",
    "03h44m52.5s +24d06m48.0s\n",
    "'''\n",
    "point_source_ra_dec = np.array([point_source_skycoord.ra.rad,point_source_skycoord.dec.rad]).T[None,:,:]"
   ]
  },
  {
   "cell_type": "code",
   "execution_count": 17,
   "id": "b8095d90-9473-4b32-90eb-e64aacd2ff69",
   "metadata": {},
   "outputs": [
    {
     "data": {
      "text/plain": [
       "(1, 12, 2)"
      ]
     },
     "execution_count": 17,
     "metadata": {},
     "output_type": "execute_result"
    }
   ],
   "source": [
    "point_source_ra_dec.shape"
   ]
  },
  {
   "cell_type": "code",
   "execution_count": 18,
   "id": "f6ad5511-7116-432e-80b1-e9971dfd053d",
   "metadata": {},
   "outputs": [],
   "source": [
    "# NB n_pol is no longer singleton\n",
    "#point_source_flux: [n_time, n_chan, n_pol, n_point_sources] (singleton: n_time, n_chan)\n",
    "point_source_flux = np.array([2.17, 0, 0, 2.17])[None,None,:,None] #has to be in instrument polarization: [RR,RL,LR,LL] or [XX,XY,YX,YY]. All 4 values are needed.\n",
    "point_source_flux = np.tile(point_source_flux,(1,1,1,12))\n",
    "point_source_flux[:, :, 0, -5:] = 3\n",
    "point_source_flux[:, :, 3, -5:] = 3\n",
    "point_source_flux[:, :, 0, -12:-9] = 1\n",
    "point_source_flux[:, :, 3, -12:-9] = 1\n",
    "pb_limit = 0.0045"
   ]
  },
  {
   "cell_type": "code",
   "execution_count": 19,
   "id": "550955b2-8501-4a90-af7b-9ab546841484",
   "metadata": {},
   "outputs": [
    {
     "data": {
      "text/plain": [
       "array([[[[1.  , 1.  , 1.  , 2.17, 2.17, 2.17, 2.17, 3.  , 3.  , 3.  ,\n",
       "          3.  , 3.  ],\n",
       "         [0.  , 0.  , 0.  , 0.  , 0.  , 0.  , 0.  , 0.  , 0.  , 0.  ,\n",
       "          0.  , 0.  ],\n",
       "         [0.  , 0.  , 0.  , 0.  , 0.  , 0.  , 0.  , 0.  , 0.  , 0.  ,\n",
       "          0.  , 0.  ],\n",
       "         [1.  , 1.  , 1.  , 2.17, 2.17, 2.17, 2.17, 3.  , 3.  , 3.  ,\n",
       "          3.  , 3.  ]]]])"
      ]
     },
     "execution_count": 19,
     "metadata": {},
     "output_type": "execute_result"
    }
   ],
   "source": [
    "point_source_flux"
   ]
  },
  {
   "cell_type": "code",
   "execution_count": 20,
   "id": "70fc711c-8f9c-4fcd-80c1-252bce61160d",
   "metadata": {},
   "outputs": [
    {
     "name": "stdout",
     "output_type": "stream",
     "text": [
      "[{'pb_func': 'casa_airy', 'dish_diameter': 24.5, 'blockage_diameter': 0.0}]\n",
      "pol [5 8]\n",
      "Completed time step  0 of 350\n",
      "Completed time step  1 of 350\n",
      "Completed time step  2 of 350\n",
      "Completed time step  3 of 350\n",
      "Completed time step  4 of 350\n",
      "Completed time step  5 of 350\n",
      "Completed time step  6 of 350\n",
      "Completed time step  7 of 350\n",
      "Completed time step  8 of 350\n",
      "Completed time step  9 of 350\n",
      "Completed time step  10 of 350\n",
      "Completed time step  11 of 350\n",
      "Completed time step  12 of 350\n",
      "Completed time step  13 of 350\n",
      "Completed time step  14 of 350\n",
      "Completed time step  15 of 350\n",
      "Completed time step  16 of 350\n",
      "Completed time step  17 of 350\n",
      "Completed time step  18 of 350\n",
      "Completed time step  19 of 350\n",
      "Completed time step  20 of 350\n",
      "Completed time step  21 of 350\n",
      "Completed time step  22 of 350\n",
      "Completed time step  23 of 350\n",
      "Completed time step  24 of 350\n",
      "Completed time step  25 of 350\n",
      "Completed time step  26 of 350\n",
      "Completed time step  27 of 350\n",
      "Completed time step  28 of 350\n",
      "Completed time step  29 of 350\n",
      "Completed time step  30 of 350\n",
      "Completed time step  31 of 350\n",
      "Completed time step  32 of 350\n",
      "Completed time step  33 of 350\n",
      "Completed time step  34 of 350\n",
      "Completed time step  35 of 350\n",
      "Completed time step  36 of 350\n",
      "Completed time step  37 of 350\n",
      "Completed time step  38 of 350\n",
      "Completed time step  39 of 350\n",
      "Completed time step  40 of 350\n",
      "Completed time step  41 of 350\n",
      "Completed time step  42 of 350\n",
      "Completed time step  43 of 350\n",
      "Completed time step  44 of 350\n",
      "Completed time step  45 of 350\n",
      "Completed time step  46 of 350\n",
      "Completed time step  47 of 350\n",
      "Completed time step  48 of 350\n",
      "Completed time step  49 of 350\n",
      "Completed time step  50 of 350\n",
      "Completed time step  51 of 350\n",
      "Completed time step  52 of 350\n",
      "Completed time step  53 of 350\n",
      "Completed time step  54 of 350\n",
      "Completed time step  55 of 350\n",
      "Completed time step  56 of 350\n",
      "Completed time step  57 of 350\n",
      "Completed time step  58 of 350\n",
      "Completed time step  59 of 350\n",
      "Completed time step  60 of 350\n",
      "Completed time step  61 of 350\n",
      "Completed time step  62 of 350\n",
      "Completed time step  63 of 350\n",
      "Completed time step  64 of 350\n",
      "Completed time step  65 of 350\n",
      "Completed time step  66 of 350\n",
      "Completed time step  67 of 350\n",
      "Completed time step  68 of 350\n",
      "Completed time step  69 of 350\n",
      "Completed time step  70 of 350\n",
      "Completed time step  71 of 350\n",
      "Completed time step  72 of 350\n",
      "Completed time step  73 of 350\n",
      "Completed time step  74 of 350\n",
      "Completed time step  75 of 350\n",
      "Completed time step  76 of 350\n",
      "Completed time step  77 of 350\n",
      "Completed time step  78 of 350\n",
      "Completed time step  79 of 350\n",
      "Completed time step  80 of 350\n",
      "Completed time step  81 of 350\n",
      "Completed time step  82 of 350\n",
      "Completed time step  83 of 350\n",
      "Completed time step  84 of 350\n",
      "Completed time step  85 of 350\n",
      "Completed time step  86 of 350\n",
      "Completed time step  87 of 350\n",
      "Completed time step  88 of 350\n",
      "Completed time step  89 of 350\n",
      "Completed time step  90 of 350\n",
      "Completed time step  91 of 350\n",
      "Completed time step  92 of 350\n",
      "Completed time step  93 of 350\n",
      "Completed time step  94 of 350\n",
      "Completed time step  95 of 350\n",
      "Completed time step  96 of 350\n",
      "Completed time step  97 of 350\n",
      "Completed time step  98 of 350\n",
      "Completed time step  99 of 350\n",
      "Completed time step  100 of 350\n",
      "Completed time step  101 of 350\n",
      "Completed time step  102 of 350\n",
      "Completed time step  103 of 350\n",
      "Completed time step  104 of 350\n",
      "Completed time step  105 of 350\n",
      "Completed time step  106 of 350\n",
      "Completed time step  107 of 350\n",
      "Completed time step  108 of 350\n",
      "Completed time step  109 of 350\n",
      "Completed time step  110 of 350\n",
      "Completed time step  111 of 350\n",
      "Completed time step  112 of 350\n",
      "Completed time step  113 of 350\n",
      "Completed time step  114 of 350\n",
      "Completed time step  115 of 350\n",
      "Completed time step  116 of 350\n",
      "Completed time step  117 of 350\n",
      "Completed time step  118 of 350\n",
      "Completed time step  119 of 350\n",
      "Completed time step  120 of 350\n",
      "Completed time step  121 of 350\n",
      "Completed time step  122 of 350\n",
      "Completed time step  123 of 350\n",
      "Completed time step  124 of 350\n",
      "Completed time step  125 of 350\n",
      "Completed time step  126 of 350\n",
      "Completed time step  127 of 350\n",
      "Completed time step  128 of 350\n",
      "Completed time step  129 of 350\n",
      "Completed time step  130 of 350\n",
      "Completed time step  131 of 350\n",
      "Completed time step  132 of 350\n",
      "Completed time step  133 of 350\n",
      "Completed time step  134 of 350\n",
      "Completed time step  135 of 350\n",
      "Completed time step  136 of 350\n",
      "Completed time step  137 of 350\n",
      "Completed time step  138 of 350\n",
      "Completed time step  139 of 350\n",
      "Completed time step  140 of 350\n",
      "Completed time step  141 of 350\n",
      "Completed time step  142 of 350\n",
      "Completed time step  143 of 350\n",
      "Completed time step  144 of 350\n",
      "Completed time step  145 of 350\n",
      "Completed time step  146 of 350\n",
      "Completed time step  147 of 350\n",
      "Completed time step  148 of 350\n",
      "Completed time step  149 of 350\n",
      "Completed time step  150 of 350\n",
      "Completed time step  151 of 350\n",
      "Completed time step  152 of 350\n",
      "Completed time step  153 of 350\n",
      "Completed time step  154 of 350\n",
      "Completed time step  155 of 350\n",
      "Completed time step  156 of 350\n",
      "Completed time step  157 of 350\n",
      "Completed time step  158 of 350\n",
      "Completed time step  159 of 350\n",
      "Completed time step  160 of 350\n",
      "Completed time step  161 of 350\n",
      "Completed time step  162 of 350\n",
      "Completed time step  163 of 350\n",
      "Completed time step  164 of 350\n",
      "Completed time step  165 of 350\n",
      "Completed time step  166 of 350\n",
      "Completed time step  167 of 350\n",
      "Completed time step  168 of 350\n",
      "Completed time step  169 of 350\n",
      "Completed time step  170 of 350\n",
      "Completed time step  171 of 350\n",
      "Completed time step  172 of 350\n",
      "Completed time step  173 of 350\n",
      "Completed time step  174 of 350\n",
      "Completed time step  175 of 350\n",
      "Completed time step  176 of 350\n",
      "Completed time step  177 of 350\n",
      "Completed time step  178 of 350\n",
      "Completed time step  179 of 350\n",
      "Completed time step  180 of 350\n",
      "Completed time step  181 of 350\n",
      "Completed time step  182 of 350\n",
      "Completed time step  183 of 350\n",
      "Completed time step  184 of 350\n",
      "Completed time step  185 of 350\n",
      "Completed time step  186 of 350\n",
      "Completed time step  187 of 350\n",
      "Completed time step  188 of 350\n",
      "Completed time step  189 of 350\n",
      "Completed time step  190 of 350\n",
      "Completed time step  191 of 350\n",
      "Completed time step  192 of 350\n",
      "Completed time step  193 of 350\n",
      "Completed time step  194 of 350\n",
      "Completed time step  195 of 350\n",
      "Completed time step  196 of 350\n",
      "Completed time step  197 of 350\n",
      "Completed time step  198 of 350\n",
      "Completed time step  199 of 350\n",
      "Completed time step  200 of 350\n",
      "Completed time step  201 of 350\n",
      "Completed time step  202 of 350\n",
      "Completed time step  203 of 350\n",
      "Completed time step  204 of 350\n",
      "Completed time step  205 of 350\n",
      "Completed time step  206 of 350\n",
      "Completed time step  207 of 350\n",
      "Completed time step  208 of 350\n",
      "Completed time step  209 of 350\n",
      "Completed time step  210 of 350\n",
      "Completed time step  211 of 350\n",
      "Completed time step  212 of 350\n",
      "Completed time step  213 of 350\n",
      "Completed time step  214 of 350\n",
      "Completed time step  215 of 350\n",
      "Completed time step  216 of 350\n",
      "Completed time step  217 of 350\n",
      "Completed time step  218 of 350\n",
      "Completed time step  219 of 350\n",
      "Completed time step  220 of 350\n",
      "Completed time step  221 of 350\n",
      "Completed time step  222 of 350\n",
      "Completed time step  223 of 350\n",
      "Completed time step  224 of 350\n",
      "Completed time step  225 of 350\n",
      "Completed time step  226 of 350\n",
      "Completed time step  227 of 350\n",
      "Completed time step  228 of 350\n",
      "Completed time step  229 of 350\n",
      "Completed time step  230 of 350\n",
      "Completed time step  231 of 350\n",
      "Completed time step  232 of 350\n",
      "Completed time step  233 of 350\n",
      "Completed time step  234 of 350\n",
      "Completed time step  235 of 350\n",
      "Completed time step  236 of 350\n",
      "Completed time step  237 of 350\n",
      "Completed time step  238 of 350\n",
      "Completed time step  239 of 350\n",
      "Completed time step  240 of 350\n",
      "Completed time step  241 of 350\n",
      "Completed time step  242 of 350\n",
      "Completed time step  243 of 350\n",
      "Completed time step  244 of 350\n",
      "Completed time step  245 of 350\n",
      "Completed time step  246 of 350\n",
      "Completed time step  247 of 350\n",
      "Completed time step  248 of 350\n",
      "Completed time step  249 of 350\n",
      "Completed time step  250 of 350\n",
      "Completed time step  251 of 350\n",
      "Completed time step  252 of 350\n",
      "Completed time step  253 of 350\n",
      "Completed time step  254 of 350\n",
      "Completed time step  255 of 350\n",
      "Completed time step  256 of 350\n",
      "Completed time step  257 of 350\n",
      "Completed time step  258 of 350\n",
      "Completed time step  259 of 350\n",
      "Completed time step  260 of 350\n",
      "Completed time step  261 of 350\n",
      "Completed time step  262 of 350\n",
      "Completed time step  263 of 350\n",
      "Completed time step  264 of 350\n",
      "Completed time step  265 of 350\n",
      "Completed time step  266 of 350\n",
      "Completed time step  267 of 350\n",
      "Completed time step  268 of 350\n",
      "Completed time step  269 of 350\n",
      "Completed time step  270 of 350\n",
      "Completed time step  271 of 350\n",
      "Completed time step  272 of 350\n",
      "Completed time step  273 of 350\n",
      "Completed time step  274 of 350\n",
      "Completed time step  275 of 350\n",
      "Completed time step  276 of 350\n",
      "Completed time step  277 of 350\n",
      "Completed time step  278 of 350\n",
      "Completed time step  279 of 350\n",
      "Completed time step  280 of 350\n",
      "Completed time step  281 of 350\n",
      "Completed time step  282 of 350\n",
      "Completed time step  283 of 350\n",
      "Completed time step  284 of 350\n",
      "Completed time step  285 of 350\n",
      "Completed time step  286 of 350\n",
      "Completed time step  287 of 350\n",
      "Completed time step  288 of 350\n",
      "Completed time step  289 of 350\n",
      "Completed time step  290 of 350\n",
      "Completed time step  291 of 350\n",
      "Completed time step  292 of 350\n",
      "Completed time step  293 of 350\n",
      "Completed time step  294 of 350\n",
      "Completed time step  295 of 350\n",
      "Completed time step  296 of 350\n",
      "Completed time step  297 of 350\n",
      "Completed time step  298 of 350\n",
      "Completed time step  299 of 350\n",
      "Completed time step  300 of 350\n",
      "Completed time step  301 of 350\n",
      "Completed time step  302 of 350\n",
      "Completed time step  303 of 350\n",
      "Completed time step  304 of 350\n",
      "Completed time step  305 of 350\n",
      "Completed time step  306 of 350\n",
      "Completed time step  307 of 350\n",
      "Completed time step  308 of 350\n",
      "Completed time step  309 of 350\n",
      "Completed time step  310 of 350\n",
      "Completed time step  311 of 350\n",
      "Completed time step  312 of 350\n",
      "Completed time step  313 of 350\n",
      "Completed time step  314 of 350\n",
      "Completed time step  315 of 350\n",
      "Completed time step  316 of 350\n",
      "Completed time step  317 of 350\n",
      "Completed time step  318 of 350\n",
      "Completed time step  319 of 350\n",
      "Completed time step  320 of 350\n",
      "Completed time step  321 of 350\n",
      "Completed time step  322 of 350\n",
      "Completed time step  323 of 350\n",
      "Completed time step  324 of 350\n",
      "Completed time step  325 of 350\n",
      "Completed time step  326 of 350\n",
      "Completed time step  327 of 350\n",
      "Completed time step  328 of 350\n",
      "Completed time step  329 of 350\n",
      "Completed time step  330 of 350\n",
      "Completed time step  331 of 350\n",
      "Completed time step  332 of 350\n",
      "Completed time step  333 of 350\n",
      "Completed time step  334 of 350\n",
      "Completed time step  335 of 350\n",
      "Completed time step  336 of 350\n",
      "Completed time step  337 of 350\n",
      "Completed time step  338 of 350\n",
      "Completed time step  339 of 350\n",
      "Completed time step  340 of 350\n",
      "Completed time step  341 of 350\n",
      "Completed time step  342 of 350\n",
      "Completed time step  343 of 350\n",
      "Completed time step  344 of 350\n",
      "Completed time step  345 of 350\n",
      "Completed time step  346 of 350\n",
      "Completed time step  347 of 350\n",
      "Completed time step  348 of 350\n",
      "Completed time step  349 of 350\n"
     ]
    }
   ],
   "source": [
    "vis_data, uvw = simulation(point_source_flux, point_source_ra_dec, pointing_ra_dec, phase_center_ra_dec, beam_parms,beam_models,beam_model_map,uvw_parms, ant_pos, time_str, freq_chan, pol, ant1, ant2, pb_limit, uvw) #None can be changed to uvw"
   ]
  },
  {
   "cell_type": "code",
   "execution_count": 21,
   "id": "451afe5a-7e5b-4b34-8217-d15c0676df69",
   "metadata": {},
   "outputs": [],
   "source": [
    "casa_vis_data = mxds.xds0.DATA.data.compute()"
   ]
  },
  {
   "cell_type": "code",
   "execution_count": 109,
   "id": "cbef2a34-844d-4237-82e7-e1919b6fcafb",
   "metadata": {},
   "outputs": [
    {
     "data": {
      "image/png": "[encoded data removed]",
      "text/plain": [
       "<Figure size 432x288 with 1 Axes>"
      ]
     },
     "metadata": {
      "needs_background": "light"
     },
     "output_type": "display_data"
    },
    {
     "data": {
      "image/png": "[encoded data removed]",
      "text/plain": [
       "<Figure size 432x288 with 1 Axes>"
      ]
     },
     "metadata": {
      "needs_background": "light"
     },
     "output_type": "display_data"
    },
    {
     "data": {
      "image/png": "[encoded data removed]",
      "text/plain": [
       "<Figure size 432x288 with 1 Axes>"
      ]
     },
     "metadata": {
      "needs_background": "light"
     },
     "output_type": "display_data"
    },
    {
     "data": {
      "image/png": "[encoded data removed]",
      "text/plain": [
       "<Figure size 432x288 with 1 Axes>"
      ]
     },
     "metadata": {
      "needs_background": "light"
     },
     "output_type": "display_data"
    }
   ],
   "source": [
    "dif = np.ravel((vis_data[:,:,:,0]-casa_vis_data[:,:,:,0])) #/np.abs(casa_vis_data[:,:,:,0])\n",
    "\n",
    "plt.figure()\n",
    "plt.plot(np.abs(dif))\n",
    "plt.xlabel('Vis Number (ravel)')\n",
    "plt.ylabel('Abs Dif')\n",
    "plt.show()\n",
    "\n",
    "plt.figure()\n",
    "plt.plot(np.imag(dif))\n",
    "plt.xlabel('Vis Number (ravel)')\n",
    "plt.ylabel('Imag Dif')\n",
    "plt.show()\n",
    "\n",
    "plt.figure()\n",
    "plt.plot(np.real(dif))\n",
    "plt.xlabel('Vis Number (ravel)')\n",
    "plt.ylabel('Real Dif')\n",
    "plt.show()\n",
    "\n",
    "plt.figure()\n",
    "plt.plot(np.abs(np.ravel(vis_data[:,:,:,0])),label='Sirius')\n",
    "plt.plot(np.abs(np.ravel(casa_vis_data[:,:,:,0])),label='CASA')\n",
    "plt.legend()\n",
    "plt.xlabel('Vis Number (ravel)')\n",
    "plt.ylabel('abs Vis')\n",
    "plt.show()"
   ]
  },
  {
   "cell_type": "markdown",
   "id": "e1859fb1-7fea-4282-966c-c0480fd569ae",
   "metadata": {},
   "source": [
    "### Imaging"
   ]
  },
  {
   "cell_type": "code",
   "execution_count": 22,
   "id": "64222012-68bf-4637-93e5-56397f1efb53",
   "metadata": {},
   "outputs": [],
   "source": [
    "from ngcasa.imaging import make_imaging_weight\n",
    "from ngcasa.imaging import make_image\n",
    "from ngcasa.imaging import make_pb\n",
    "from ngcasa.imaging import make_gridding_convolution_function\n",
    "from cngi.dio import write_image\n",
    "import dask\n",
    "import dask.array as da\n",
    "from ngcasa.imaging import direction_rotate\n",
    "from cngi.dio import write_image\n",
    "from ngcasa.imaging import make_image_with_gcf\n",
    "from ngcasa.imaging import make_mosaic_pb\n",
    "\n",
    "rad_to_deg =  180/np.pi\n",
    "deg_to_rad = np.pi/180\n",
    "arcsec_to_deg = 1/3600\n",
    "arcsec_to_rad = np.pi/(180*3600)"
   ]
  },
  {
   "cell_type": "code",
   "execution_count": 23,
   "id": "6904a48c-7d81-4c1c-b3aa-63057554470b",
   "metadata": {},
   "outputs": [],
   "source": [
    "#mxds = apply_flags(mxds, 'xds0', flags='FLAG')\n",
    "mxds.attrs['xds1'] = mxds.attrs['xds0'].isel(pol=slice(0,1))\n",
    "mxds.attrs['xds1']['DATA'] = xr.DataArray(da.from_array(vis_data[:,:,:,0][:,:,:,None],chunks=mxds.attrs['xds1']['DATA'].chunks),coords=mxds.attrs['xds1']['DATA'].coords)"
   ]
  },
  {
   "cell_type": "code",
   "execution_count": null,
   "id": "e7450a7c-ee32-45c0-9d48-7a32e60d3f61",
   "metadata": {},
   "outputs": [],
   "source": []
  },
  {
   "cell_type": "code",
   "execution_count": 24,
   "id": "10911713-a6d9-4970-9976-1cdc54b5ba18",
   "metadata": {},
   "outputs": [],
   "source": [
    "grid_parms = {}\n",
    "grid_parms['chan_mode'] = 'cube'\n",
    "grid_parms['image_size'] = [1600,800]\n",
    "grid_parms['cell_size'] = [5,5]\n",
    "\n",
    "point_source_skycoord = SkyCoord(ra='03h47m29.1s',dec='+24d12m18.5s',frame='fk5')\n",
    "grid_parms['phase_center'] = np.array([point_source_skycoord.ra.rad,point_source_skycoord.dec.rad])"
   ]
  },
  {
   "cell_type": "code",
   "execution_count": 25,
   "id": "2a8f7e77-f86a-4a13-9e1b-39cc31ef9541",
   "metadata": {},
   "outputs": [
    {
     "name": "stdout",
     "output_type": "stream",
     "text": [
      "######################### Start direction_rotate #########################\n",
      "Setting data_group_in  to  {'data': 'DATA', 'flag': 'FLAG', 'id': '0', 'uvw': 'UVW', 'weight': 'DATA_WEIGHT'}\n",
      "Setting default data_group_out  to  {'data': 'DATA_ROT', 'flag': 'FLAG', 'id': '2', 'uvw': 'UVW_ROT', 'weight': 'DATA_WEIGHT'}\n",
      "######################### Created graph for direction_rotate #########################\n"
     ]
    }
   ],
   "source": [
    "sel_parms = {}\n",
    "sel_parms['xds'] = 'xds1' #KEEP USING XDS1 THROUGHOUT\n",
    "sel_parms['data_group_in_id'] = 0 #CHANGE TO DATA GROUP 2 AFTER ROTATION\n",
    "\n",
    "rotation_parms = {}\n",
    "rotation_parms['new_phase_center'] = grid_parms['phase_center']\n",
    "rotation_parms['common_tangent_reprojection'] = True\n",
    "rotation_parms['single_precision'] = False\n",
    "\n",
    "mxds = direction_rotate(mxds, rotation_parms, sel_parms)"
   ]
  },
  {
   "cell_type": "code",
   "execution_count": 26,
   "id": "2a424037-30a9-471e-80ab-cd04d7e80294",
   "metadata": {},
   "outputs": [
    {
     "name": "stdout",
     "output_type": "stream",
     "text": [
      "######################### Start make_imaging_weights #########################\n",
      "Setting data_group_in  to  {'data': 'DATA_ROT', 'flag': 'FLAG', 'id': '2', 'uvw': 'UVW_ROT', 'weight': 'DATA_WEIGHT'}\n",
      "Setting default data_group_out  to  {'data': 'DATA_ROT', 'flag': 'FLAG', 'id': '2', 'uvw': 'UVW_ROT', 'weight': 'DATA_WEIGHT', 'imaging_weight': 'IMAGING_WEIGHT'}\n",
      "Since weighting is natural input weight will be reused as imaging weight.\n",
      "######################### Created graph for make_imaging_weight #########################\n"
     ]
    }
   ],
   "source": [
    "imaging_weights_parms = {}\n",
    "imaging_weights_parms['weighting'] = 'natural'\n",
    "\n",
    "sel_parms = {}\n",
    "sel_parms['xds'] = 'xds1'\n",
    "sel_parms['data_group_in_id'] = 2\n",
    "\n",
    "mxds = make_imaging_weight(mxds, imaging_weights_parms, grid_parms, sel_parms)"
   ]
  },
  {
   "cell_type": "code",
   "execution_count": 27,
   "id": "9ac9fae0-d702-4d23-9730-44ecf2165c0e",
   "metadata": {},
   "outputs": [],
   "source": [
    "vis_sel_parms = {}\n",
    "vis_sel_parms['xds'] = 'xds1'\n",
    "vis_sel_parms['data_group_in_id'] = 2\n",
    "\n",
    "img_sel_parms = {}\n",
    "img_sel_parms['data_group_out_id'] = 0"
   ]
  },
  {
   "cell_type": "code",
   "execution_count": 28,
   "id": "f518483a-9210-4fc9-af4f-72161857dac8",
   "metadata": {},
   "outputs": [
    {
     "name": "stdout",
     "output_type": "stream",
     "text": [
      "######################### Start make_gridding_convolution_function #########################\n",
      "Setting data_group_in  to  {'data': 'DATA_ROT', 'flag': 'FLAG', 'id': '2', 'uvw': 'UVW_ROT', 'weight': 'DATA_WEIGHT', 'imaging_weight': 'DATA_WEIGHT'}\n",
      "Setting default data_group_out  to  {'data': 'DATA_ROT', 'flag': 'FLAG', 'id': '3', 'uvw': 'UVW_ROT', 'weight': 'DATA_WEIGHT', 'imaging_weight': 'DATA_WEIGHT'}\n",
      "Setting default chan_tolerance_factor  to  0.005\n",
      "Setting default support_cut_level  to  0.025\n",
      "Setting default a_chan_num_chunk  to  3\n",
      "Setting default image_center  to  [800 400]\n",
      "Setting default fft_padding  to  1.2\n",
      "#########################  Created graph for make_gridding_convolution_function #########################\n"
     ]
    },
    {
     "data": {
      "text/plain": [
       "(<xarray.Dataset>\n",
       " Dimensions:             (baseline: 351, chan: 3, conv_baseline: 1, conv_chan: 3, conv_pol: 1, field_id: 35, l: 1600, m: 800, pol: 1, u: 490, v: 490, xy: 2)\n",
       " Coordinates:\n",
       "   * u                   (u) int64 0 1 2 3 4 5 6 ... 483 484 485 486 487 488 489\n",
       "   * v                   (v) int64 0 1 2 3 4 5 6 ... 483 484 485 486 487 488 489\n",
       "   * xy                  (xy) int64 0 1\n",
       "   * field_id            (field_id) int64 0 1 2 3 4 5 6 ... 28 29 30 31 32 33 34\n",
       "   * l                   (l) int64 0 1 2 3 4 5 ... 1594 1595 1596 1597 1598 1599\n",
       "   * m                   (m) int64 0 1 2 3 4 5 6 ... 793 794 795 796 797 798 799\n",
       " Dimensions without coordinates: baseline, chan, conv_baseline, conv_chan, conv_pol, pol\n",
       " Data variables:\n",
       "     SUPPORT             (conv_baseline, conv_chan, conv_pol, xy) int64 35 ... 23\n",
       "     WEIGHT_CONV_KERNEL  (conv_baseline, conv_chan, conv_pol, u, v) float64 -1...\n",
       "     PS_CORR_IMAGE       (l, m) float64 1.0 1.0 1.0 1.0 1.0 ... 1.0 1.0 1.0 1.0\n",
       "     CF_BASELINE_MAP     (baseline) int64 0 0 0 0 0 0 0 0 0 ... 0 0 0 0 0 0 0 0 0\n",
       "     CF_CHAN_MAP         (chan) int64 0 1 2\n",
       "     CF_POL_MAP          (pol) int64 0\n",
       "     CONV_KERNEL         (conv_baseline, conv_chan, conv_pol, u, v) float64 -1...\n",
       "     PHASE_GRADIENT      (field_id, u, v) complex128 (-0.18748594802401736-0.9...\n",
       " Attributes:\n",
       "     cell_uv:       [-2.14859173  4.29718346]\n",
       "     oversampling:  [10 10],)"
      ]
     },
     "execution_count": 28,
     "metadata": {},
     "output_type": "execute_result"
    }
   ],
   "source": [
    "write_imagegrid_parms = {}\n",
    "grid_parms['chan_mode'] = 'cube'\n",
    "grid_parms['image_size'] = [1600,800]\n",
    "grid_parms['cell_size'] = [5,5]\n",
    "\n",
    "point_source_skycoord = SkyCoord(ra='03h47m29.1s',dec='+24d12m18.5s',frame='fk5')\n",
    "grid_parms['phase_center'] = np.array([point_source_skycoord.ra.rad,point_source_skycoord.dec.rad])\n",
    "gcf_parms = {}\n",
    "gcf_parms['function'] = 'alma_airy'\n",
    "gcf_parms['list_dish_diameters'] = np.array([24.5])\n",
    "gcf_parms['list_blockage_diameters'] = np.array([0])\n",
    "#gcf_parms['max_support'] = [24, 24]\n",
    "#gcf_parms['oversampling'] = [10, 10]\n",
    "gcf_parms['max_support'] = [48, 48]\n",
    "gcf_parms['oversampling'] = [10, 10]\n",
    "unique_ant_indx = mxds.ANTENNA.DISH_DIAMETER.values\n",
    "unique_ant_indx[unique_ant_indx == 25.0] = 0\n",
    "mxds.ANTENNA.DISH_DIAMETER.values\n",
    "gcf_parms['unique_ant_indx'] = unique_ant_indx.astype(int)\n",
    "gcf_parms['phase_center'] = grid_parms['phase_center']\n",
    "sel_parms = {}\n",
    "sel_parms['xds'] = 'xds1'\n",
    "sel_parms['data_group_in_id'] = 2\n",
    "gcf_xds = make_gridding_convolution_function(mxds, gcf_parms, grid_parms, sel_parms)\n",
    "dask.compute(gcf_xds)"
   ]
  },
  {
   "cell_type": "code",
   "execution_count": 29,
   "id": "99ccf4b8-975d-4662-b2c4-1482092addf7",
   "metadata": {},
   "outputs": [
    {
     "name": "stdout",
     "output_type": "stream",
     "text": [
      "######################### Start make_mosaic_pb #########################\n",
      "Setting default image_center  to  [800 400]\n",
      "Setting default fft_padding  to  1.2\n",
      "Setting data_group_in  to  {'data': 'DATA_ROT', 'flag': 'FLAG', 'id': '2', 'uvw': 'UVW_ROT', 'weight': 'DATA_WEIGHT', 'imaging_weight': 'DATA_WEIGHT'}\n",
      "Setting default data_group_out  to  {'data': 'DATA_ROT', 'flag': 'FLAG', 'id': '3', 'uvw': 'UVW_ROT', 'weight': 'DATA_WEIGHT', 'imaging_weight': 'DATA_WEIGHT'}\n",
      "Setting default data_group_in  to  {'id': '0'}\n",
      "Setting default data_group_out [' pb ']  to  PB\n",
      "Setting default data_group_out [' weight_pb ']  to  WEIGHT_PB\n",
      "Setting default data_group_out [' weight_pb_sum_weight ']  to  WEIGHT_PB_SUM_WEIGHT\n",
      "#########################  Created graph for make_mosaic_pb #########################\n"
     ]
    }
   ],
   "source": [
    "img_xds = xr.Dataset() #empty dataset\n",
    "vis_sel_parms = {}\n",
    "vis_sel_parms['xds'] = 'xds1'\n",
    "vis_sel_parms['data_group_in_id'] = 2\n",
    "\n",
    "img_xds = make_mosaic_pb(mxds,gcf_xds,img_xds,vis_sel_parms,img_sel_parms,grid_parms)"
   ]
  },
  {
   "cell_type": "code",
   "execution_count": 30,
   "id": "2608f7d3-c402-436b-a5b7-60f08e361c17",
   "metadata": {},
   "outputs": [
    {
     "name": "stdout",
     "output_type": "stream",
     "text": [
      "######################### Start make_image_with_gcf #########################\n",
      "Setting default image_center  to  [800 400]\n",
      "Setting default fft_padding  to  1.2\n",
      "Setting default single_precision  to  True\n",
      "Setting data_group_in  to  {'data': 'DATA_ROT', 'flag': 'FLAG', 'id': '2', 'uvw': 'UVW_ROT', 'weight': 'DATA_WEIGHT', 'imaging_weight': 'DATA_WEIGHT'}\n",
      "Setting default data_group_out  to  {'data': 'DATA_ROT', 'flag': 'FLAG', 'id': '3', 'uvw': 'UVW_ROT', 'weight': 'DATA_WEIGHT', 'imaging_weight': 'DATA_WEIGHT'}\n",
      "Setting data_group_in  to  {'id': '0', 'pb': 'PB', 'weight_pb': 'WEIGHT_PB', 'weight_pb_sum_weight': 'WEIGHT_PB_SUM_WEIGHT'}\n",
      "Setting default data_group_out [' pb ']  to  PB\n",
      "Setting default data_group_out [' weight_pb ']  to  WEIGHT_PB\n",
      "Setting default data_group_out [' weight_pb_sum_weight ']  to  WEIGHT_PB_SUM_WEIGHT\n",
      "Setting default data_group_out [' sum_weight ']  to  SUM_WEIGHT\n",
      "Setting default data_group_out [' image ']  to  IMAGE\n",
      "grid sizes 1920 960\n",
      "#########################  Created graph for make_mosaic_with_gcf #########################\n"
     ]
    }
   ],
   "source": [
    "vis_select_parms = {}\n",
    "vis_select_parms['xds'] = 'xds1'\n",
    "vis_select_parms['data_group_in_id'] = 2\n",
    "\n",
    "img_select_parms = {}\n",
    "img_select_parms['data_group_in_id'] = 0\n",
    "img_select_parms['data_group_out_id'] = 0\n",
    "\n",
    "norm_parms = {}\n",
    "norm_parms['norm_type'] = 'flat_sky'\n",
    "\n",
    "img_xds = make_image_with_gcf(mxds,gcf_xds, img_xds, grid_parms, norm_parms, vis_select_parms, img_select_parms)"
   ]
  },
  {
   "cell_type": "code",
   "execution_count": 59,
   "id": "94ba020a-8c15-4fd1-8d94-fc7756ab0b89",
   "metadata": {},
   "outputs": [
    {
     "data": {
      "text/plain": [
       "(-0.5, 799.5, 1599.5, -0.5)"
      ]
     },
     "execution_count": 59,
     "metadata": {},
     "output_type": "execute_result"
    },
    {
     "data": {
      "image/png": "[encoded data removed]",
      "text/plain": [
       "<Figure size 864x864 with 1 Axes>"
      ]
     },
     "metadata": {
      "needs_background": "light"
     },
     "output_type": "display_data"
    }
   ],
   "source": [
    "chan = 1\n",
    "ngcasa_image_name = 'IMAGE'\n",
    "pb_limit = 0.2\n",
    "#extent = extent=(np.min(casa_img_xds.m),np.max(casa_img_xds.m),np.min(casa_img_xds.l),np.max(casa_img_xds.l))\n",
    "\n",
    "mosaic_pb = img_xds.PB.isel(chan=chan)\n",
    "mosaic_img = img_xds[ngcasa_image_name].isel(chan=chan)\n",
    "mosaic_img = mosaic_img.where(mosaic_pb > np.max(mosaic_pb)*pb_limit,other=np.nan)\n",
    "\n",
    "plt.figure(figsize = (12, 12))\n",
    "#plt.imshow(img_xds.IMAGE.isel(chan=chan,time=0,pol=0))\n",
    "plt.imshow(mosaic_img[:, :, 0, 0])\n",
    "plt.axis(\"off\")"
   ]
  },
  {
   "cell_type": "code",
   "execution_count": 49,
   "id": "86c9967c-12e1-430f-bd8c-58dae1028cf8",
   "metadata": {},
   "outputs": [],
   "source": [
    "from casatools import simulator, image\n",
    "dovp = True\n",
    "#gridder = 'standard'\n",
    "gridder = 'mosaic'\n",
    "#ms_name = 'zenith_point_source_sim_dovp_' + str(dovp) + '.ms'\n",
    "#im_name = 'zenith_point_source_sim_img/point_source_sim_dovp_' + str(dovp) + '_gridder_' + gridder\n",
    "\n",
    "ms_name = 'point_source_sim_vis/mosaic_pleiades_sim_dovp_' + str(dovp) + '.ms'\n",
    "im_name = 'point_source_sim_img/mosaic_pleiades_sim_dovp_' + str(dovp) + '_gridder_' + gridder\n",
    "ia = image()\n",
    "ia.open(im_name+\"cniter500.image\")\n",
    "data = ia.getchunk()"
   ]
  },
  {
   "cell_type": "code",
   "execution_count": 50,
   "id": "0f51bf99-d36d-423f-8a64-1c1262eda219",
   "metadata": {},
   "outputs": [],
   "source": [
    "chan = 1\n",
    "ngcasa_image_name = 'IMAGE'\n",
    "pb_limit = 0.2\n",
    "#extent = extent=(np.min(casa_img_xds.m),np.max(casa_img_xds.m),np.min(casa_img_xds.l),np.max(casa_img_xds.l))\n",
    "\n",
    "mosaic_pb = img_xds.PB.isel(chan=chan)\n",
    "mosaic_img = img_xds[ngcasa_image_name].isel(chan=chan)\n",
    "mosaic_img = mosaic_img.where(mosaic_pb > np.max(mosaic_pb)*pb_limit,other=np.nan)"
   ]
  },
  {
   "cell_type": "code",
   "execution_count": 51,
   "id": "9f10454a-f52f-4973-bb0f-efcad7052c7f",
   "metadata": {},
   "outputs": [
    {
     "data": {
      "text/plain": [
       "(1600, 800, 1, 3)"
      ]
     },
     "execution_count": 51,
     "metadata": {},
     "output_type": "execute_result"
    }
   ],
   "source": [
    "data.shape"
   ]
  },
  {
   "cell_type": "code",
   "execution_count": 52,
   "id": "ae79c96f-2e28-49a4-848f-59d3eca0ad21",
   "metadata": {},
   "outputs": [
    {
     "data": {
      "text/plain": [
       "(1600, 800, 1, 3, 1)"
      ]
     },
     "execution_count": 52,
     "metadata": {},
     "output_type": "execute_result"
    }
   ],
   "source": [
    "img_xds.PB.shape"
   ]
  },
  {
   "cell_type": "code",
   "execution_count": 53,
   "id": "7a7f4e7b-4ab1-46a3-babb-78bf26488066",
   "metadata": {},
   "outputs": [
    {
     "data": {
      "text/plain": [
       "(1600, 800)"
      ]
     },
     "execution_count": 53,
     "metadata": {},
     "output_type": "execute_result"
    }
   ],
   "source": [
    "data1.shape"
   ]
  },
  {
   "cell_type": "code",
   "execution_count": 54,
   "id": "50135a98-360d-450e-a438-51a5f85d8ca5",
   "metadata": {},
   "outputs": [
    {
     "data": {
      "text/plain": [
       "(1600, 800)"
      ]
     },
     "execution_count": 54,
     "metadata": {},
     "output_type": "execute_result"
    }
   ],
   "source": [
    "pb1.shape"
   ]
  },
  {
   "cell_type": "code",
   "execution_count": 55,
   "id": "80a85beb-d12a-4556-b7cd-3b39991d48cd",
   "metadata": {},
   "outputs": [
    {
     "data": {
      "text/plain": [
       "(-0.5, 799.5, 1599.5, -0.5)"
      ]
     },
     "execution_count": 55,
     "metadata": {},
     "output_type": "execute_result"
    },
    {
     "data": {
      "image/png": "[encoded data removed]",
      "text/plain": [
       "<Figure size 864x864 with 1 Axes>"
      ]
     },
     "metadata": {
      "needs_background": "light"
     },
     "output_type": "display_data"
    }
   ],
   "source": [
    "import matplotlib.pyplot as plt\n",
    "data1 = data[:, :, 0, 0].copy()\n",
    "pb1 = img_xds.PB[:,:, 0, 0, 0].values\n",
    "data1[pb1<pb_limit] = np.nan"
   ]
  },
  {
   "cell_type": "code",
   "execution_count": 57,
   "id": "2804dcca-4df7-423c-b32f-3ebfe2f429f8",
   "metadata": {},
   "outputs": [
    {
     "data": {
      "text/plain": [
       "(-0.5, 799.5, 1599.5, -0.5)"
      ]
     },
     "execution_count": 57,
     "metadata": {},
     "output_type": "execute_result"
    },
    {
     "data": {
      "image/png": "[encoded data removed]",
      "text/plain": [
       "<Figure size 864x864 with 1 Axes>"
      ]
     },
     "metadata": {
      "needs_background": "light"
     },
     "output_type": "display_data"
    }
   ],
   "source": [
    "plt.figure(figsize = (12, 12))\n",
    "#plt.imshow(img_xds.IMAGE.isel(chan=chan,time=0,pol=0))\n",
    "plt.imshow(data1, vmin = 0.1)\n",
    "plt.axis(\"off\")"
   ]
  },
  {
   "cell_type": "code",
   "execution_count": 21,
   "id": "1c0f965f-ef45-4c00-9f88-b45f79af2f36",
   "metadata": {},
   "outputs": [
    {
     "name": "stdout",
     "output_type": "stream",
     "text": [
      "<xarray.DataArray 'IMAGE' (l: 1600, m: 800)>\n",
      "dask.array<getitem, shape=(1600, 800), dtype=float32, chunksize=(1600, 800), chunktype=numpy.ndarray>\n",
      "Coordinates:\n",
      "    chan             float64 3.4e+09\n",
      "  * l                (l) float64 0.01939 0.01937 0.01934 ... -0.01934 -0.01937\n",
      "  * m                (m) float64 -0.009696 -0.009672 ... 0.009648 0.009672\n",
      "    pol              int64 5\n",
      "    time             datetime64[ns] 2019-10-05T17:15:39.800061184\n",
      "    chan_width       float64 dask.array<chunksize=(), meta=np.ndarray>\n",
      "    right_ascension  (l, m) float64 1.014 1.014 1.014 ... 0.9713 0.9713 0.9713\n",
      "    declination      (l, m) float64 0.4127 0.4127 0.4127 ... 0.432 0.432 0.432\n"
     ]
    }
   ],
   "source": [
    "print(mosaic_img[:, :, 0, 0])"
   ]
  },
  {
   "cell_type": "code",
   "execution_count": 121,
   "id": "4ae8810a-aa1e-4cf7-86d1-99f8bb28edda",
   "metadata": {},
   "outputs": [],
   "source": [
    "test = point_source_ra_dec[0, :, 0]"
   ]
  },
  {
   "cell_type": "code",
   "execution_count": 122,
   "id": "c99d765e-1868-4204-af83-1b4b3df3fdbd",
   "metadata": {},
   "outputs": [
    {
     "data": {
      "text/plain": [
       "array([0.99259056, 0.9999064 , 0.98753638, 0.98535472, 0.98120229])"
      ]
     },
     "execution_count": 122,
     "metadata": {},
     "output_type": "execute_result"
    }
   ],
   "source": [
    "test"
   ]
  },
  {
   "cell_type": "code",
   "execution_count": 162,
   "id": "3face05d-4a03-4b50-b2cd-dc364252db1a",
   "metadata": {},
   "outputs": [
    {
     "data": {
      "image/png": "[encoded data removed]",
      "text/plain": [
       "<Figure size 792x432 with 1 Axes>"
      ]
     },
     "metadata": {},
     "output_type": "display_data"
    }
   ],
   "source": [
    "plt.figure(figsize = (11, 6))\n",
    "ax = plt.gca()\n",
    "ax.set_facecolor('xkcd:royal purple')\n",
    "plt.plot(-point_source_ra_dec[0, -5:, 0], point_source_ra_dec[0, -5:, 1], \".y\", ms=15)\n",
    "plt.plot(-point_source_ra_dec[0, -9:-5, 0], point_source_ra_dec[0, -9:-5, 1], \".y\", ms = 10)\n",
    "plt.plot(-point_source_ra_dec[0, :, 0], point_source_ra_dec[0, :, 1], \".y\")\n",
    "plt.xlim(-1.005, -0.976)\n",
    "plt.ylim(.416, .431)\n",
    "#plt.axis(\"equal\")\n",
    "plt.xticks([])\n",
    "plt.yticks([])\n",
    "plt.show()"
   ]
  },
  {
   "cell_type": "code",
   "execution_count": null,
   "id": "650a943d-928d-41fe-9a0c-9703454eae4f",
   "metadata": {},
   "outputs": [],
   "source": []
  }
 ],
 "metadata": {
  "kernelspec": {
   "display_name": "Python 3",
   "language": "python",
   "name": "python3"
  },
  "language_info": {
   "codemirror_mode": {
    "name": "ipython",
    "version": 3
   },
   "file_extension": ".py",
   "mimetype": "text/x-python",
   "name": "python",
   "nbconvert_exporter": "python",
   "pygments_lexer": "ipython3",
   "version": "3.7.10"
  }
 },
 "nbformat": 4,
 "nbformat_minor": 5
}
