{
 "cells": [
  {
   "cell_type": "code",
   "execution_count": 1,
   "id": "d926399f-2ffe-4ecc-a3e2-d1a81edfd58f",
   "metadata": {},
   "outputs": [
    {
     "data": {
      "text/plain": [
       "['/users/mbarth/sirius/sirius/development',\n",
       " '/users/mbarth/miniconda3/envs/casa_env/lib/python37.zip',\n",
       " '/users/mbarth/miniconda3/envs/casa_env/lib/python3.7',\n",
       " '/users/mbarth/miniconda3/envs/casa_env/lib/python3.7/lib-dynload',\n",
       " '',\n",
       " '/users/mbarth/miniconda3/envs/casa_env/lib/python3.7/site-packages',\n",
       " '/users/mbarth/sirius',\n",
       " '/users/mbarth/miniconda3/envs/casa_env/lib/python3.7/site-packages/IPython/extensions',\n",
       " '/users/mbarth/.ipython']"
      ]
     },
     "execution_count": 1,
     "metadata": {},
     "output_type": "execute_result"
    }
   ],
   "source": [
    "import sys\n",
    "sys.path"
   ]
  },
  {
   "cell_type": "code",
   "execution_count": null,
   "id": "1eea3a72-71ce-453b-b40b-15098127b51c",
   "metadata": {},
   "outputs": [],
   "source": []
  },
  {
   "cell_type": "code",
   "execution_count": 4,
   "id": "eee98c88-a476-4c97-ae90-b70dd7b4bca2",
   "metadata": {},
   "outputs": [
    {
     "ename": "ImportError",
     "evalue": "cannot import name 'calc_vis' from 'sirius' (unknown location)",
     "output_type": "error",
     "traceback": [
      "\u001b[0;31m---------------------------------------------------------------------------\u001b[0m",
      "\u001b[0;31mImportError\u001b[0m                               Traceback (most recent call last)",
      "\u001b[0;32m<ipython-input-4-9c290e71af43>\u001b[0m in \u001b[0;36m<module>\u001b[0;34m\u001b[0m\n\u001b[1;32m     12\u001b[0m \u001b[0;32mimport\u001b[0m \u001b[0mnumpy\u001b[0m \u001b[0;32mas\u001b[0m \u001b[0mnp\u001b[0m\u001b[0;34m\u001b[0m\u001b[0;34m\u001b[0m\u001b[0m\n\u001b[1;32m     13\u001b[0m \u001b[0;32mfrom\u001b[0m \u001b[0mastropy\u001b[0m\u001b[0;34m.\u001b[0m\u001b[0mcoordinates\u001b[0m \u001b[0;32mimport\u001b[0m \u001b[0mSkyCoord\u001b[0m\u001b[0;34m\u001b[0m\u001b[0;34m\u001b[0m\u001b[0m\n\u001b[0;32m---> 14\u001b[0;31m \u001b[0;32mfrom\u001b[0m \u001b[0msirius\u001b[0m \u001b[0;32mimport\u001b[0m \u001b[0mcalc_vis\u001b[0m\u001b[0;34m\u001b[0m\u001b[0;34m\u001b[0m\u001b[0m\n\u001b[0m\u001b[1;32m     15\u001b[0m \u001b[0;32mfrom\u001b[0m \u001b[0mastropy\u001b[0m\u001b[0;34m.\u001b[0m\u001b[0mwcs\u001b[0m \u001b[0;32mimport\u001b[0m \u001b[0mWCS\u001b[0m\u001b[0;34m\u001b[0m\u001b[0;34m\u001b[0m\u001b[0m\n\u001b[1;32m     16\u001b[0m \u001b[0;32mimport\u001b[0m \u001b[0mtime\u001b[0m\u001b[0;34m\u001b[0m\u001b[0;34m\u001b[0m\u001b[0m\n",
      "\u001b[0;31mImportError\u001b[0m: cannot import name 'calc_vis' from 'sirius' (unknown location)"
     ]
    }
   ],
   "source": [
    "import numpy as np\n",
    "c = 299792458\n",
    "#from direction_rotate import _calc_rotation_mats\n",
    "import matplotlib.pyplot as plt\n",
    "\n",
    "\n",
    "import xarray as xr\n",
    "import dask.array as da\n",
    "import cngi.conversion.convert_ms as convert_ms\n",
    "import cngi.conversion.convert_image as convert_image\n",
    "from cngi.dio import read_vis\n",
    "import numpy as np\n",
    "from astropy.coordinates import SkyCoord\n",
    "from sirius import calc_vis\n",
    "from astropy.wcs import WCS\n",
    "import time\n",
    "deg_to_rad = np.pi/180\n",
    "from sirius import make_ant_sky_jones, simulation\n",
    "from sirius._sirius_utils._ant_jones_term import _compute_rot_coords\n",
    "from sirius._sirius_utils._calc_parallactic_angles import _calc_parallactic_angles, _find_optimal_set_angle\n",
    "\n",
    "from astropy.time import Time\n",
    "from astropy.coordinates import (EarthLocation, SkyCoord,\n",
    "                                 AltAz, CIRS)\n",
    "import astropy.units as u\n",
    "\n",
    "import pkg_resources"
   ]
  },
  {
   "cell_type": "code",
   "execution_count": 5,
   "id": "2ed5374e-3014-4983-a333-f291610b0eeb",
   "metadata": {},
   "outputs": [
    {
     "name": "stdout",
     "output_type": "stream",
     "text": [
      "<xarray.DataArray 'time' (time: 350)>\n",
      "array(['2019-10-04T05:48:39.760840448', '2019-10-04T05:54:39.760840448',\n",
      "       '2019-10-04T06:00:39.760840448', ..., '2019-10-05T16:30:39.760840448',\n",
      "       '2019-10-05T16:36:39.760840448', '2019-10-05T16:42:39.760840448'],\n",
      "      dtype='datetime64[ns]')\n",
      "Coordinates:\n",
      "  * time     (time) datetime64[ns] 2019-10-04T05:48:39.760840448 ... 2019-10-...\n"
     ]
    }
   ],
   "source": [
    "tel_dir = pkg_resources.resource_filename('casadata', 'data/telescope_layout/data/vla.d.tel.zarr')\n",
    "#tel_xds = xr.open_zarr(tel_dir)\n",
    "\n",
    "\n",
    "mxds = read_vis('point_source_sim_vis/mosaic_pleiades_sim_dovp_True.vis.zarr')\n",
    "\n",
    "\n",
    "mxds.attrs['xds0'] = mxds.attrs['xds0']#.isel(time=slice(80,81))\n",
    "print(mxds.xds0.time)\n",
    "#(_)_s dimension can be singleton (value is reused)"
   ]
  },
  {
   "cell_type": "code",
   "execution_count": 6,
   "id": "02189d55-f951-4098-aab3-6b34a2661893",
   "metadata": {},
   "outputs": [
    {
     "data": {
      "text/plain": [
       "'/users/mbarth/miniconda3/envs/casa_env/lib/python3.7/site-packages/casadata/data/telescope_layout/data/vla.d.tel.zarr'"
      ]
     },
     "execution_count": 6,
     "metadata": {},
     "output_type": "execute_result"
    }
   ],
   "source": [
    "tel_dir"
   ]
  },
  {
   "cell_type": "markdown",
   "id": "07135069-dc08-4e60-9eb6-a4e688c13e1e",
   "metadata": {},
   "source": [
    "### Set up parameters for UVW calculation"
   ]
  },
  {
   "cell_type": "code",
   "execution_count": 8,
   "id": "05d17dcf-6b43-4415-b6d0-9f4b5c92a7e5",
   "metadata": {},
   "outputs": [],
   "source": [
    "ant_pos = mxds.ANTENNA.POSITION.values # [n_ant x 3]\n",
    "time_str = mxds.xds0.time.values        # [n_time]\n",
    "site = 'VLA'\n",
    "\n",
    "phase_center_ra_dec = mxds.FIELD.PHASE_DIR.sel(field_id=mxds.xds0.FIELD_ID.isel(baseline=0).values).values[:,0,:] #n_time x 2\n",
    "#print('phase_center_ra_dec',phase_center_ra_dec)\n",
    "#print('field ids',mxds.xds0.FIELD_ID.isel(baseline=0).values)\n",
    "\n",
    "ant1 = mxds.xds0.ANTENNA1.values\n",
    "ant2 = mxds.xds0.ANTENNA2.values"
   ]
  },
  {
   "cell_type": "code",
   "execution_count": 9,
   "id": "993c25b5-ed66-440a-9ff4-f4064f1bc05f",
   "metadata": {},
   "outputs": [
    {
     "name": "stdout",
     "output_type": "stream",
     "text": [
      "(350, 351, 3)\n"
     ]
    }
   ],
   "source": [
    "uvw_parms = {}\n",
    "uvw_parms['calc_method'] = 'astropy'\n",
    "uvw_parms['site'] = 'vla'\n",
    "uvw_parms['auto_corr'] = False\n",
    "\n",
    "uvw = mxds.xds0.UVW.values\n",
    "print(uvw.shape)"
   ]
  },
  {
   "cell_type": "code",
   "execution_count": 10,
   "id": "87f06f8a-d58d-4c71-b946-67ec1b3fd55d",
   "metadata": {},
   "outputs": [],
   "source": [
    "airy_disk_parms =  {'pb_func':'casa_airy','dish_diameter':24.5,'blockage_diameter':0.0}\n",
    "beam_models = [airy_disk_parms]\n",
    "n_ant = len(ant_pos)\n",
    "beam_model_map = np.zeros(n_ant,dtype=int)\n",
    "\n",
    "beam_parms = {}\n",
    "beam_parms['pa_radius'] = 0.2\n",
    "beam_parms['mueller_selection'] = np.array([0,15])\n",
    "\n",
    "freq_chan = mxds.xds0.chan.values\n",
    "pol = mxds.xds0.pol.values"
   ]
  },
  {
   "cell_type": "markdown",
   "id": "8e888e3f-253d-4e6a-9abf-2f845cc28352",
   "metadata": {},
   "source": [
    "### Setup Sources"
   ]
  },
  {
   "cell_type": "code",
   "execution_count": 11,
   "id": "b82ae699-bb51-44b8-ba51-a3d1adb8fc7f",
   "metadata": {},
   "outputs": [],
   "source": [
    "#pointing_ra_dec:  [n_time, n_ant, 2]          (singleton: n_time, n_ant)\n",
    "pointing_ra_dec = None #np.zeros((1, 1, 2)) #Singleton\n",
    "\n",
    "#point_source_ra_dec:  [n_time, n_point_sources, 2]          (singleton: n_time)\n",
    "ra = ['03h47m29.1s','03h49m09.7s','03h46m19.6s','  03h45m49.6s', '03h44m52.5s']\n",
    "dec = ['+24d06m18.5s','+24d03m12.3s','+23d56m54.1s','+24d22m03.9s','+24d06m48.0s']\n",
    "point_source_skycoord = SkyCoord(ra=ra,dec=dec,frame='fk5') #sim\n",
    "\n",
    "'''\n",
    "03h47m29.1s +24d06m18.5s\n",
    "03h49m09.7s +24d03m12.3s\n",
    "03h46m19.6s +23d56m54.1s\n",
    "03h45m49.6s +24d22m03.9s\n",
    "03h44m52.5s +24d06m48.0s\n",
    "'''\n",
    "point_source_ra_dec = np.array([point_source_skycoord.ra.rad,point_source_skycoord.dec.rad]).T[None,:,:]"
   ]
  },
  {
   "cell_type": "code",
   "execution_count": 12,
   "id": "f6ad5511-7116-432e-80b1-e9971dfd053d",
   "metadata": {},
   "outputs": [],
   "source": [
    "# NB n_pol is no longer singleton\n",
    "#point_source_flux: [n_time, n_chan, n_pol, n_point_sources] (singleton: n_time, n_chan)\n",
    "point_source_flux = np.array([2.17, 0, 0, 2.17])[None,None,:,None] #has to be in instrument polarization: [RR,RL,LR,LL] or [XX,XY,YX,YY]. All 4 values are needed.\n",
    "point_source_flux = np.tile(point_source_flux,(1,1,1,5))\n",
    "\n",
    "pb_limit = 0.0045"
   ]
  },
  {
   "cell_type": "code",
   "execution_count": 17,
   "id": "70fc711c-8f9c-4fcd-80c1-252bce61160d",
   "metadata": {},
   "outputs": [
    {
     "ename": "TypeError",
     "evalue": "simulation() takes 4 positional arguments but 16 were given",
     "output_type": "error",
     "traceback": [
      "\u001b[0;31m---------------------------------------------------------------------------\u001b[0m",
      "\u001b[0;31mTypeError\u001b[0m                                 Traceback (most recent call last)",
      "\u001b[0;32m<ipython-input-17-ca7fa524754f>\u001b[0m in \u001b[0;36m<module>\u001b[0;34m\u001b[0m\n\u001b[0;32m----> 1\u001b[0;31m \u001b[0mvis_data\u001b[0m\u001b[0;34m,\u001b[0m \u001b[0muvw\u001b[0m \u001b[0;34m=\u001b[0m \u001b[0msimulation\u001b[0m\u001b[0;34m.\u001b[0m\u001b[0msimulation\u001b[0m\u001b[0;34m(\u001b[0m\u001b[0mpoint_source_flux\u001b[0m\u001b[0;34m,\u001b[0m \u001b[0mpoint_source_ra_dec\u001b[0m\u001b[0;34m,\u001b[0m \u001b[0mpointing_ra_dec\u001b[0m\u001b[0;34m,\u001b[0m \u001b[0mphase_center_ra_dec\u001b[0m\u001b[0;34m,\u001b[0m \u001b[0mbeam_parms\u001b[0m\u001b[0;34m,\u001b[0m\u001b[0mbeam_models\u001b[0m\u001b[0;34m,\u001b[0m\u001b[0mbeam_model_map\u001b[0m\u001b[0;34m,\u001b[0m\u001b[0muvw_parms\u001b[0m\u001b[0;34m,\u001b[0m \u001b[0mant_pos\u001b[0m\u001b[0;34m,\u001b[0m \u001b[0mtime_str\u001b[0m\u001b[0;34m,\u001b[0m \u001b[0mfreq_chan\u001b[0m\u001b[0;34m,\u001b[0m \u001b[0mpol\u001b[0m\u001b[0;34m,\u001b[0m \u001b[0mant1\u001b[0m\u001b[0;34m,\u001b[0m \u001b[0mant2\u001b[0m\u001b[0;34m,\u001b[0m \u001b[0mpb_limit\u001b[0m\u001b[0;34m,\u001b[0m \u001b[0muvw\u001b[0m\u001b[0;34m)\u001b[0m \u001b[0;31m#None can be changed to uvw\u001b[0m\u001b[0;34m\u001b[0m\u001b[0;34m\u001b[0m\u001b[0m\n\u001b[0m",
      "\u001b[0;31mTypeError\u001b[0m: simulation() takes 4 positional arguments but 16 were given"
     ]
    }
   ],
   "source": [
    "vis_data, uvw = simulation.simulation(point_source_flux, point_source_ra_dec, pointing_ra_dec, phase_center_ra_dec, beam_parms,beam_models,beam_model_map,uvw_parms, ant_pos, time_str, freq_chan, pol, ant1, ant2, pb_limit, uvw) #None can be changed to uvw"
   ]
  },
  {
   "cell_type": "code",
   "execution_count": null,
   "id": "451afe5a-7e5b-4b34-8217-d15c0676df69",
   "metadata": {},
   "outputs": [],
   "source": [
    "casa_vis_data = mxds.xds0.DATA.data.compute()"
   ]
  },
  {
   "cell_type": "code",
   "execution_count": null,
   "id": "cbef2a34-844d-4237-82e7-e1919b6fcafb",
   "metadata": {},
   "outputs": [],
   "source": [
    "dif = np.ravel((vis_data[:,:,:,0]-casa_vis_data[:,:,:,0])) #/np.abs(casa_vis_data[:,:,:,0])\n",
    "\n",
    "plt.figure()\n",
    "plt.plot(np.abs(dif))\n",
    "plt.xlabel('Vis Number (ravel)')\n",
    "plt.ylabel('Abs Dif')\n",
    "plt.show()\n",
    "\n",
    "plt.figure()\n",
    "plt.plot(np.imag(dif))\n",
    "plt.xlabel('Vis Number (ravel)')\n",
    "plt.ylabel('Imag Dif')\n",
    "plt.show()\n",
    "\n",
    "plt.figure()\n",
    "plt.plot(np.real(dif))\n",
    "plt.xlabel('Vis Number (ravel)')\n",
    "plt.ylabel('Real Dif')\n",
    "plt.show()\n",
    "\n",
    "plt.figure()\n",
    "plt.plot(np.abs(np.ravel(vis_data[:,:,:,0])),label='Sirius')\n",
    "plt.plot(np.abs(np.ravel(casa_vis_data[:,:,:,0])),label='CASA')\n",
    "plt.legend()\n",
    "plt.xlabel('Vis Number (ravel)')\n",
    "plt.ylabel('abs Vis')\n",
    "plt.show()"
   ]
  },
  {
   "cell_type": "markdown",
   "id": "e1859fb1-7fea-4282-966c-c0480fd569ae",
   "metadata": {},
   "source": [
    "### Imaging"
   ]
  },
  {
   "cell_type": "code",
   "execution_count": null,
   "id": "64222012-68bf-4637-93e5-56397f1efb53",
   "metadata": {},
   "outputs": [],
   "source": [
    "from ngcasa.imaging import make_imaging_weight\n",
    "from ngcasa.imaging import make_image\n",
    "from ngcasa.imaging import make_pb\n",
    "from ngcasa.imaging import make_gridding_convolution_function\n",
    "from cngi.dio import write_image\n",
    "import dask\n",
    "import dask.array as da\n",
    "from ngcasa.imaging import direction_rotate\n",
    "from cngi.dio import write_image\n",
    "from ngcasa.imaging import make_image_with_gcf\n",
    "from ngcasa.imaging import make_mosaic_pb\n",
    "\n",
    "rad_to_deg =  180/np.pi\n",
    "deg_to_rad = np.pi/180\n",
    "arcsec_to_deg = 1/3600\n",
    "arcsec_to_rad = np.pi/(180*3600)"
   ]
  },
  {
   "cell_type": "code",
   "execution_count": null,
   "id": "6904a48c-7d81-4c1c-b3aa-63057554470b",
   "metadata": {},
   "outputs": [],
   "source": [
    "#mxds = apply_flags(mxds, 'xds0', flags='FLAG')\n",
    "mxds.attrs['xds1'] = mxds.attrs['xds0'].isel(pol=slice(0,1))\n",
    "mxds.attrs['xds1']['DATA']\n",
    "xr.DataArray(da.from_array(vis_data[:,:,:,0][:,:,:,None],chunks=mxds.attrs['xds1']['DATA'].chunks),coords=mxds.attrs['xds1']['DATA'].coords)"
   ]
  },
  {
   "cell_type": "code",
   "execution_count": null,
   "id": "10911713-a6d9-4970-9976-1cdc54b5ba18",
   "metadata": {},
   "outputs": [],
   "source": [
    "grid_parms = {}\n",
    "grid_parms['chan_mode'] = 'cube'\n",
    "grid_parms['image_size'] = [1600,800]\n",
    "grid_parms['cell_size'] = [5,5]\n",
    "\n",
    "point_source_skycoord = SkyCoord(ra='03h47m29.1s',dec='+24d06m18.5s',frame='fk5')\n",
    "grid_parms['phase_center'] = np.array([point_source_skycoord.ra.rad,point_source_skycoord.dec.rad])"
   ]
  },
  {
   "cell_type": "code",
   "execution_count": null,
   "id": "2a8f7e77-f86a-4a13-9e1b-39cc31ef9541",
   "metadata": {},
   "outputs": [],
   "source": [
    "sel_parms = {}\n",
    "sel_parms['xds'] = 'xds1' #KEEP USING XDS1 THROUGHOUT\n",
    "sel_parms['data_group_in_id'] = 0 #CHANGE TO DATA GROUP 2 AFTER ROTATION\n",
    "\n",
    "rotation_parms = {}\n",
    "rotation_parms['new_phase_center'] = grid_parms['phase_center']\n",
    "rotation_parms['common_tangent_reprojection'] = True\n",
    "rotation_parms['single_precision'] = False\n",
    "\n",
    "mxds = direction_rotate(mxds, rotation_parms, sel_parms)"
   ]
  },
  {
   "cell_type": "code",
   "execution_count": null,
   "id": "2a424037-30a9-471e-80ab-cd04d7e80294",
   "metadata": {},
   "outputs": [],
   "source": [
    "imaging_weights_parms = {}\n",
    "imaging_weights_parms['weighting'] = 'natural'\n",
    "\n",
    "sel_parms = {}\n",
    "sel_parms['xds'] = 'xds1'\n",
    "sel_parms['data_group_in_id'] = 2\n",
    "\n",
    "mxds = make_imaging_weight(mxds, imaging_weights_parms, grid_parms, sel_parms)"
   ]
  },
  {
   "cell_type": "code",
   "execution_count": null,
   "id": "9ac9fae0-d702-4d23-9730-44ecf2165c0e",
   "metadata": {},
   "outputs": [],
   "source": [
    "vis_sel_parms = {}\n",
    "vis_sel_parms['xds'] = 'xds1'\n",
    "vis_sel_parms['data_group_in_id'] = 2\n",
    "\n",
    "img_sel_parms = {}\n",
    "img_sel_parms['data_group_out_id'] = 0"
   ]
  },
  {
   "cell_type": "code",
   "execution_count": null,
   "id": "f518483a-9210-4fc9-af4f-72161857dac8",
   "metadata": {},
   "outputs": [],
   "source": [
    "write_imagegrid_parms = {}\n",
    "grid_parms['chan_mode'] = 'cube'\n",
    "grid_parms['image_size'] = [1600,800]\n",
    "grid_parms['cell_size'] = [5,5]\n",
    "\n",
    "point_source_skycoord = SkyCoord(ra='03h47m29.1s',dec='+24d06m18.5s',frame='fk5')\n",
    "grid_parms['phase_center'] = np.array([point_source_skycoord.ra.rad,point_source_skycoord.dec.rad])\n",
    "gcf_parms = {}\n",
    "gcf_parms['function'] = 'alma_airy'\n",
    "gcf_parms['list_dish_diameters'] = np.array([24.5])\n",
    "gcf_parms['list_blockage_diameters'] = np.array([0])\n",
    "#gcf_parms['max_support'] = [24, 24]\n",
    "#gcf_parms['oversampling'] = [10, 10]\n",
    "gcf_parms['max_support'] = [48, 48]\n",
    "gcf_parms['oversampling'] = [10, 10]\n",
    "unique_ant_indx = mxds.ANTENNA.DISH_DIAMETER.values\n",
    "unique_ant_indx[unique_ant_indx == 25.0] = 0\n",
    "mxds.ANTENNA.DISH_DIAMETER.values\n",
    "gcf_parms['unique_ant_indx'] = unique_ant_indx.astype(int)\n",
    "gcf_parms['phase_center'] = grid_parms['phase_center']\n",
    "sel_parms = {}\n",
    "sel_parms['xds'] = 'xds1'\n",
    "sel_parms['data_group_in_id'] = 2\n",
    "gcf_xds = make_gridding_convolution_function(mxds, gcf_parms, grid_parms, sel_parms)\n",
    "dask.compute(gcf_xds)"
   ]
  },
  {
   "cell_type": "code",
   "execution_count": null,
   "id": "99ccf4b8-975d-4662-b2c4-1482092addf7",
   "metadata": {},
   "outputs": [],
   "source": [
    "img_xds = xr.Dataset() #empty dataset\n",
    "vis_sel_parms = {}\n",
    "vis_sel_parms['xds'] = 'xds1'\n",
    "vis_sel_parms['data_group_in_id'] = 2\n",
    "\n",
    "img_xds = make_mosaic_pb(mxds,gcf_xds,img_xds,vis_sel_parms,img_sel_parms,grid_parms)"
   ]
  },
  {
   "cell_type": "code",
   "execution_count": null,
   "id": "2608f7d3-c402-436b-a5b7-60f08e361c17",
   "metadata": {},
   "outputs": [],
   "source": [
    "vis_select_parms = {}\n",
    "vis_select_parms['xds'] = 'xds1'\n",
    "vis_select_parms['data_group_in_id'] = 2\n",
    "\n",
    "img_select_parms = {}\n",
    "img_select_parms['data_group_in_id'] = 0\n",
    "img_select_parms['data_group_out_id'] = 0\n",
    "\n",
    "norm_parms = {}\n",
    "norm_parms['norm_type'] = 'flat_sky'\n",
    "\n",
    "img_xds = make_image_with_gcf(mxds,gcf_xds, img_xds, grid_parms, norm_parms, vis_select_parms, img_select_parms)"
   ]
  },
  {
   "cell_type": "code",
   "execution_count": null,
   "id": "94ba020a-8c15-4fd1-8d94-fc7756ab0b89",
   "metadata": {},
   "outputs": [],
   "source": [
    "chan = 1\n",
    "ngcasa_image_name = 'IMAGE'\n",
    "pb_limit = 0.2\n",
    "#extent = extent=(np.min(casa_img_xds.m),np.max(casa_img_xds.m),np.min(casa_img_xds.l),np.max(casa_img_xds.l))\n",
    "\n",
    "mosaic_pb = img_xds.PB.isel(chan=chan)\n",
    "mosaic_img = img_xds[ngcasa_image_name].isel(chan=chan)\n",
    "mosaic_img = mosaic_img.where(mosaic_pb > np.max(mosaic_pb)*pb_limit,other=np.nan)\n",
    "\n",
    "plt.figure()\n",
    "#plt.imshow(img_xds.IMAGE.isel(chan=chan,time=0,pol=0))\n",
    "plt.imshow(mosaic_img[:, :, 0, 0])\n"
   ]
  }
 ],
 "metadata": {
  "kernelspec": {
   "display_name": "Python 3",
   "language": "python",
   "name": "python3"
  },
  "language_info": {
   "codemirror_mode": {
    "name": "ipython",
    "version": 3
   },
   "file_extension": ".py",
   "mimetype": "text/x-python",
   "name": "python",
   "nbconvert_exporter": "python",
   "pygments_lexer": "ipython3",
   "version": "3.7.10"
  }
 },
 "nbformat": 4,
 "nbformat_minor": 5
}
