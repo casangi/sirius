{
 "cells": [
  {
   "cell_type": "code",
   "execution_count": 2,
   "id": "84a483a3-624a-4517-a9a4-b025557b2d93",
   "metadata": {},
   "outputs": [
    {
     "name": "stdout",
     "output_type": "stream",
     "text": [
      "\u001b[1m============================= test session starts ==============================\u001b[0m\n",
      "platform linux -- Python 3.7.10, pytest-6.2.4, py-1.10.0, pluggy-0.13.1\n",
      "rootdir: /users/mbarth/sirius\n",
      "plugins: anyio-2.2.0\n",
      "collected 0 items                                                              \u001b[0m\u001b[1m\n",
      "\n",
      "\u001b[33m============================ \u001b[33mno tests ran\u001b[0m\u001b[33m in 3.35s\u001b[0m\u001b[33m =============================\u001b[0m\n"
     ]
    }
   ],
   "source": [
    "!pytest #filename of test"
   ]
  },
  {
   "cell_type": "markdown",
   "id": "ea06c7f8-3a81-4f48-ab3e-161a3adb11e9",
   "metadata": {},
   "source": [
    "# Resources:\n",
    "\n",
    "https://realpython.com/python-testing/\n",
    "\n",
    "https://docs.pytest.org/en/6.2.x/\n",
    "\n",
    "https://github.com/wkentaro/gdown\n",
    "\n",
    "#Note: Need to add pytest, gdown to requirements.txt and setup.py"
   ]
  },
  {
   "cell_type": "code",
   "execution_count": null,
   "id": "78481f18-57ab-402b-9b66-c011a814fc2b",
   "metadata": {},
   "outputs": [],
   "source": []
  }
 ],
 "metadata": {
  "kernelspec": {
   "display_name": "Python 3",
   "language": "python",
   "name": "python3"
  },
  "language_info": {
   "codemirror_mode": {
    "name": "ipython",
    "version": 3
   },
   "file_extension": ".py",
   "mimetype": "text/x-python",
   "name": "python",
   "nbconvert_exporter": "python",
   "pygments_lexer": "ipython3",
   "version": "3.7.10"
  }
 },
 "nbformat": 4,
 "nbformat_minor": 5
}
