{
 "cells": [
  {
   "cell_type": "code",
   "execution_count": 171,
   "id": "3aadcd20-4edb-4bfd-bfa1-fbcfaa6d415f",
   "metadata": {},
   "outputs": [],
   "source": [
    "c = 299792458\n",
    "#from direction_rotate import _calc_rotation_mats\n",
    "import matplotlib.pyplot as plt\n",
    "import xarray as xr\n",
    "import dask.array as da\n",
    "import cngi.conversion.convert_ms as convert_ms\n",
    "import cngi.conversion.convert_image as convert_image\n",
    "from cngi.dio import read_vis\n",
    "import numpy as np\n",
    "from astropy.coordinates import SkyCoord\n",
    "from sirius import calc_vis\n",
    "from sympy import *\n",
    "from astropy.wcs import WCS\n",
    "import time"
   ]
  },
  {
   "cell_type": "code",
   "execution_count": 172,
   "id": "9a7c5f07-48c6-4af6-a247-142384c21c7e",
   "metadata": {},
   "outputs": [],
   "source": [
    "#Load Data from converted CASA simulated ms (steal uvw values)\n",
    "ms_file = 'point_source_sim_vis/2_source_sim_dovp_True.vis.zarr' #remember to change pb_parms['pb_func'] = 'casa_airy'\n",
    "#ms_file = 'point_source_sim_vis/point_source_sim_dovp_False.vis.zarr'\n",
    "#remember to change pb_parms['pb_func'] = 'none'\n",
    "#ms_file = 'zenith_point_source_sim_dovp_False.vis.zarr'"
   ]
  },
  {
   "cell_type": "code",
   "execution_count": 173,
   "id": "96435d03-339d-4e7b-a0fd-0114a1fb7ae3",
   "metadata": {},
   "outputs": [
    {
     "name": "stdout",
     "output_type": "stream",
     "text": [
      "<xarray.Dataset>\n",
      "Dimensions:           (antenna_ids: 3, feed_ids: 3, field_ids: 1, observation_ids: 1, polarization_ids: 1, source_ids: 1, spw_ids: 1, state_ids: 1)\n",
      "Coordinates:\n",
      "  * antenna_ids       (antenna_ids) int64 0 1 2\n",
      "    antennas          (antenna_ids) <U16 'W01' 'W02' 'W03'\n",
      "  * field_ids         (field_ids) int64 0\n",
      "    fields            (field_ids) <U16 'fake'\n",
      "  * feed_ids          (feed_ids) int64 0 0 0\n",
      "  * observation_ids   (observation_ids) int64 0\n",
      "    observations      (observation_ids) <U16 'CASA simulation'\n",
      "  * polarization_ids  (polarization_ids) int64 0\n",
      "  * source_ids        (source_ids) int64 0\n",
      "    sources           (source_ids) <U16 'fake'\n",
      "  * spw_ids           (spw_ids) int64 0\n",
      "  * state_ids         (state_ids) int64 0\n",
      "Data variables:\n",
      "    *empty*\n",
      "Attributes:\n",
      "    xds0:             <xarray.Dataset>\\nDimensions:                (baseline:...\n",
      "    ANTENNA:          <xarray.Dataset>\\nDimensions:        (antenna_id: 3, d1...\n",
      "    FEED:             <xarray.Dataset>\\nDimensions:             (d0: 3, d1: 3...\n",
      "    FIELD:            <xarray.Dataset>\\nDimensions:        (d1: 1, d2: 2, fie...\n",
      "    OBSERVATION:      <xarray.Dataset>\\nDimensions:         (d1: 2, observati...\n",
      "    POINTING:         <xarray.Dataset>\\nDimensions:      (antenna_id: 3, d2: ...\n",
      "    POLARIZATION:     <xarray.Dataset>\\nDimensions:       (d0: 1, d1: 2, d2: ...\n",
      "    SOURCE:           <xarray.Dataset>\\nDimensions:             (d0: 1, d1: 2...\n",
      "    SPECTRAL_WINDOW:  <xarray.Dataset>\\nDimensions:             (d1: 3, spect...\n",
      "    STATE:            <xarray.Dataset>\\nDimensions:   (state_id: 1)\\nCoordina...\n"
     ]
    }
   ],
   "source": [
    "mxds = read_vis(ms_file)\n",
    "print(mxds)"
   ]
  },
  {
   "cell_type": "code",
   "execution_count": 174,
   "id": "789b9b5c-764c-4fd0-b719-a51af1f3630b",
   "metadata": {},
   "outputs": [],
   "source": [
    "vis_xds = read_vis(ms_file).xds0"
   ]
  },
  {
   "cell_type": "code",
   "execution_count": 175,
   "id": "3f80d07d-cdb9-4f8c-8526-76f45fc962e3",
   "metadata": {},
   "outputs": [],
   "source": [
    "cas_vis_data = vis_xds.DATA.data.compute()"
   ]
  },
  {
   "cell_type": "code",
   "execution_count": 176,
   "id": "26c30be4-ac3d-47ae-b02c-e1393a8353b0",
   "metadata": {},
   "outputs": [],
   "source": [
    "uvw = vis_xds.UVW.data.compute()"
   ]
  },
  {
   "cell_type": "code",
   "execution_count": 177,
   "id": "9a37d9ef-441d-4d5b-810a-0f5276e4ba0f",
   "metadata": {},
   "outputs": [],
   "source": [
    "freq_chan = vis_xds.chan.values"
   ]
  },
  {
   "cell_type": "markdown",
   "id": "c83d8ce2-690c-4ce8-8144-4f9f489695b7",
   "metadata": {},
   "source": [
    "### Sirius Simulation"
   ]
  },
  {
   "cell_type": "code",
   "execution_count": 178,
   "id": "c5853ef6-f75c-4add-a324-98d273537d46",
   "metadata": {},
   "outputs": [],
   "source": [
    "#Setup pointing centre\n",
    "#pointing_ra_dec:  [n_time, n_baseline, 2]                   (singleton: n_time, n_baseline)\n",
    "pointing_skycoord = SkyCoord(ra='19h59m28.5s',dec='+40d44m01.5s',frame='fk5') #sim\n",
    "#pointing_skycoord = SkyCoord(ra='0h0m0.0s',dec='90d00m00.0s',frame='fk5') #zenith\n",
    "pointing_ra_dec = np.array([pointing_skycoord.ra.rad,pointing_skycoord.dec.rad])[None,None,:]"
   ]
  },
  {
   "cell_type": "code",
   "execution_count": 205,
   "id": "55b94c5f-2a76-49f3-84dd-ae82c451cb20",
   "metadata": {},
   "outputs": [],
   "source": [
    "#Setup point source skycoord\n",
    "#point_source_ra_dec:  [n_time, n_point_sources, 2]          (singleton: n_time)\n",
    "point_source_skycoord = SkyCoord(ra='19h59m0.0s',dec='+40d51m01.5s',frame='fk5') #sim\n",
    "point_source_skycoord2 = SkyCoord(ra='19h58m9.0s',dec='+40d51m01.5s',frame='fk5')\n",
    "#point_source_skycoord = SkyCoord(ra='19h59m0.0s',dec='+89d54m01.5s',frame='fk5') #zenith\n",
    "point_source_ra_dec = np.array([point_source_skycoord.ra.rad,point_source_skycoord.dec.rad])[None,None,:]"
   ]
  },
  {
   "cell_type": "code",
   "execution_count": 206,
   "id": "2edc77d8-e6f7-4297-b556-4c9bd301324c",
   "metadata": {},
   "outputs": [
    {
     "data": {
      "text/plain": [
       "array([[[5.23162443, 0.71297427]]])"
      ]
     },
     "execution_count": 206,
     "metadata": {},
     "output_type": "execute_result"
    }
   ],
   "source": [
    "point_source_ra_dec"
   ]
  },
  {
   "cell_type": "code",
   "execution_count": 207,
   "id": "ef18ee3a-75ab-4ada-9054-23034d19c27c",
   "metadata": {},
   "outputs": [],
   "source": [
    "point_source_ra_dec2 = np.array([point_source_skycoord2.ra.rad,point_source_skycoord2.dec.rad])[None,None,:]\n",
    "point_source_ra_dec = np.append(point_source_ra_dec, point_source_ra_dec2, axis = 1)"
   ]
  },
  {
   "cell_type": "code",
   "execution_count": 208,
   "id": "9881381f-c893-4e56-bec0-9a3b5c06691f",
   "metadata": {},
   "outputs": [
    {
     "data": {
      "text/plain": [
       "(1, 2, 2)"
      ]
     },
     "execution_count": 208,
     "metadata": {},
     "output_type": "execute_result"
    }
   ],
   "source": [
    "point_source_ra_dec.shape"
   ]
  },
  {
   "cell_type": "code",
   "execution_count": 209,
   "id": "1156cb2e-edca-4478-aca2-92418ad0f35b",
   "metadata": {},
   "outputs": [],
   "source": [
    "#Source flux\n",
    "#point_source_flux: [n_time, n_chan, n_pol, n_point_sources] (singleton: n_time, n_chan, n_pol)\n",
    "point_source_flux = np.array([2.17, 2.17])[None,None,None,:]"
   ]
  },
  {
   "cell_type": "code",
   "execution_count": 210,
   "id": "170745a0-09c2-42cb-b40b-93be4b95f788",
   "metadata": {},
   "outputs": [
    {
     "data": {
      "text/plain": [
       "(1, 1, 1, 2)"
      ]
     },
     "execution_count": 210,
     "metadata": {},
     "output_type": "execute_result"
    }
   ],
   "source": [
    "point_source_flux.shape"
   ]
  },
  {
   "cell_type": "code",
   "execution_count": 235,
   "id": "7af821b9-d836-4831-948c-24d465be76f1",
   "metadata": {},
   "outputs": [],
   "source": [
    "#Primary Beam Model parameters\n",
    "pb_parms = {}\n",
    "#pb_parms['pb_func'] = 'casa_airy' \n",
    "pb_parms['pb_func'] = 'none' # casa_airy/airy/none\n",
    "pb_parms['dish_diameter'] = 24.5\n",
    "pb_parms['blockage_diameter'] = 0.0\n",
    "pb_parms['ipower'] = 2"
   ]
  },
  {
   "cell_type": "code",
   "execution_count": 236,
   "id": "cc01af06-000c-4536-9f31-afaba85fb737",
   "metadata": {},
   "outputs": [
    {
     "name": "stdout",
     "output_type": "stream",
     "text": [
      "Compute Time 0.022512435913085938\n"
     ]
    }
   ],
   "source": [
    "start = time.time()\n",
    "vis_data = calc_vis(uvw,cas_vis_data.shape,point_source_flux,point_source_ra_dec,pointing_ra_dec,freq_chan,pb_parms)\n",
    "print('Compute Time', time.time()-start)"
   ]
  },
  {
   "cell_type": "code",
   "execution_count": 237,
   "id": "d13e5908-1ef4-4b83-aad0-8925dfd96a5f",
   "metadata": {},
   "outputs": [],
   "source": [
    "abs_dif = np.ravel(np.abs(cas_vis_data[:,:,:,0]-vis_data[:,:,:,0])/np.abs(vis_data[:,:,:,0]))"
   ]
  },
  {
   "cell_type": "code",
   "execution_count": 238,
   "id": "bd3c14ff-f1f0-4cb0-8fca-a7050781f22d",
   "metadata": {},
   "outputs": [
    {
     "data": {
      "application/vnd.jupyter.widget-view+json": {
       "model_id": "99f22adbb92a4ae897449fa8c18d084f",
       "version_major": 2,
       "version_minor": 0
      },
      "text/plain": [
       "Canvas(toolbar=Toolbar(toolitems=[('Home', 'Reset original view', 'home', 'home'), ('Back', 'Back to previous …"
      ]
     },
     "metadata": {},
     "output_type": "display_data"
    },
    {
     "data": {
      "text/plain": [
       "Text(0, 0.5, 'Relative Change (out of 1)')"
      ]
     },
     "execution_count": 238,
     "metadata": {},
     "output_type": "execute_result"
    }
   ],
   "source": [
    "plt.figure()\n",
    "plt.plot(abs_dif)\n",
    "plt.xlabel('Vis Number (ravel)')\n",
    "plt.ylabel('Relative Change (out of 1)')"
   ]
  },
  {
   "cell_type": "markdown",
   "id": "2776fb53-1a87-45a6-b593-40290eaa60cc",
   "metadata": {},
   "source": [
    "### Create Image Using ngCASA"
   ]
  },
  {
   "cell_type": "code",
   "execution_count": 239,
   "id": "6d0e39d7-bbcc-41ac-825f-299a6da85b21",
   "metadata": {},
   "outputs": [],
   "source": [
    "#from cngi.vis import apply_flags\n",
    "from ngcasa.imaging import make_imaging_weight\n",
    "from ngcasa.imaging import make_image\n",
    "from ngcasa.imaging import make_pb\n",
    "from cngi.dio import write_image\n",
    "import dask\n",
    "import dask.array as da"
   ]
  },
  {
   "cell_type": "code",
   "execution_count": 240,
   "id": "630e5e81-db83-42df-a067-e76e3e6da81a",
   "metadata": {},
   "outputs": [],
   "source": [
    "rad_to_deg =  180/np.pi\n",
    "deg_to_rad = np.pi/180\n",
    "arcsec_to_deg = 1/3600\n",
    "arcsec_to_rad = np.pi/(180*3600)"
   ]
  },
  {
   "cell_type": "code",
   "execution_count": 241,
   "id": "76bdcef6-fd0a-451f-8a02-543b500d7572",
   "metadata": {},
   "outputs": [],
   "source": [
    "#mxds = apply_flags(mxds, 'xds0', flags='FLAG')\n",
    "mxds.attrs['xds1'] = mxds.attrs['xds0'].isel(pol=slice(0,1))\n",
    "mxds.attrs['xds1']['DATA'] = xr.DataArray(da.from_array(vis_data[:,:,:,0][:,:,:,None],chunks=mxds.attrs['xds1']['DATA'].chunks),coords=mxds.attrs['xds1']['DATA'].coords)"
   ]
  },
  {
   "cell_type": "code",
   "execution_count": 242,
   "id": "c281966c-fa45-499c-814f-e9100afb0dfe",
   "metadata": {},
   "outputs": [],
   "source": [
    "imaging_weights_parms = {}\n",
    "imaging_weights_parms['weighting'] = 'natural'"
   ]
  },
  {
   "cell_type": "code",
   "execution_count": 243,
   "id": "2be86fd6-eec3-4be7-aae0-c0b1e7d591f1",
   "metadata": {},
   "outputs": [],
   "source": [
    "sel_parms = {}\n",
    "sel_parms['xds'] = 'xds1'\n",
    "sel_parms['data_group_in_id'] = 0"
   ]
  },
  {
   "cell_type": "code",
   "execution_count": 244,
   "id": "0aa0bd13-0d7b-4104-a115-58f4cb0a7339",
   "metadata": {},
   "outputs": [],
   "source": [
    "grid_parms = {}\n",
    "grid_parms['chan_mode'] = 'cube'\n",
    "grid_parms['image_size'] = [200,400]\n",
    "grid_parms['cell_size'] = [20,20]\n",
    "grid_parms['phase_center'] = pointing_ra_dec[0,0,:]#mxds.FIELD.PHASE_DIR[0,0,:].data.compute()"
   ]
  },
  {
   "cell_type": "code",
   "execution_count": 245,
   "id": "bf430815-db61-4767-80ab-bfdfa2227d83",
   "metadata": {},
   "outputs": [
    {
     "name": "stdout",
     "output_type": "stream",
     "text": [
      "######################### Start make_imaging_weights #########################\n",
      "Setting data_group_in  to  {'data': 'DATA', 'flag': 'FLAG', 'id': '0', 'uvw': 'UVW', 'weight': 'DATA_WEIGHT'}\n",
      "Setting default data_group_out  to  {'data': 'DATA', 'flag': 'FLAG', 'id': '0', 'uvw': 'UVW', 'weight': 'DATA_WEIGHT', 'imaging_weight': 'IMAGING_WEIGHT'}\n",
      "Since weighting is natural input weight will be reused as imaging weight.\n",
      "######################### Created graph for make_imaging_weight #########################\n"
     ]
    }
   ],
   "source": [
    "mxds = make_imaging_weight(mxds, imaging_weights_parms, grid_parms, sel_parms)"
   ]
  },
  {
   "cell_type": "code",
   "execution_count": 246,
   "id": "f7a93444-5597-48e9-80e1-e52eb86c1286",
   "metadata": {},
   "outputs": [],
   "source": [
    "vis_sel_parms = {}\n",
    "vis_sel_parms['xds'] = 'xds1'\n",
    "vis_sel_parms['data_group_in_id'] = 0"
   ]
  },
  {
   "cell_type": "code",
   "execution_count": 247,
   "id": "d75be9a0-4762-46dd-92aa-d4249ae5bef1",
   "metadata": {},
   "outputs": [],
   "source": [
    "img_sel_parms = {}\n",
    "img_sel_parms['data_group_out_id'] = 0"
   ]
  },
  {
   "cell_type": "code",
   "execution_count": 248,
   "id": "b29d677f-0811-4dbb-98fe-7837d6f5db7e",
   "metadata": {},
   "outputs": [
    {
     "name": "stdout",
     "output_type": "stream",
     "text": [
      "######################### Start make_image #########################\n",
      "Setting default image_center  to  [100 200]\n",
      "Setting default fft_padding  to  1.2\n",
      "Setting data_group_in  to  {'data': 'DATA', 'flag': 'FLAG', 'id': '0', 'uvw': 'UVW', 'weight': 'DATA_WEIGHT', 'imaging_weight': 'DATA_WEIGHT'}\n",
      "Setting default data_group_out  to  {'data': 'DATA', 'flag': 'FLAG', 'id': '2', 'uvw': 'UVW', 'weight': 'DATA_WEIGHT', 'imaging_weight': 'DATA_WEIGHT'}\n",
      "Setting default data_group_in  to  {'id': '0'}\n",
      "Setting default data_group_out [' sum_weight ']  to  SUM_WEIGHT\n",
      "Setting default data_group_out [' image ']  to  IMAGE\n",
      "######################### Created graph for make_image #########################\n"
     ]
    }
   ],
   "source": [
    "img_xds = xr.Dataset() #empty dataset\n",
    "img_xds = make_image(mxds, img_xds, grid_parms, vis_sel_parms, img_sel_parms)"
   ]
  },
  {
   "cell_type": "code",
   "execution_count": 249,
   "id": "c3f79034-c642-4e8b-9387-5aece34b6984",
   "metadata": {},
   "outputs": [],
   "source": [
    "#Select chan 1\n",
    "chan = 1"
   ]
  },
  {
   "cell_type": "code",
   "execution_count": 250,
   "id": "51dea7f5-b83d-40aa-8622-addac68e52d3",
   "metadata": {},
   "outputs": [
    {
     "data": {
      "application/vnd.jupyter.widget-view+json": {
       "model_id": "185b27c2ecaf40c29780d90a4f304c0a",
       "version_major": 2,
       "version_minor": 0
      },
      "text/plain": [
       "Canvas(toolbar=Toolbar(toolitems=[('Home', 'Reset original view', 'home', 'home'), ('Back', 'Back to previous …"
      ]
     },
     "metadata": {},
     "output_type": "display_data"
    },
    {
     "data": {
      "text/plain": [
       "<matplotlib.image.AxesImage at 0x7f12943a2210>"
      ]
     },
     "execution_count": 250,
     "metadata": {},
     "output_type": "execute_result"
    }
   ],
   "source": [
    "%matplotlib widget\n",
    "plt.figure()\n",
    "plt.imshow(img_xds.IMAGE.isel(chan=chan,time=0,pol=0))"
   ]
  },
  {
   "cell_type": "markdown",
   "id": "74684047-cd2c-41ac-91b0-a4a0afb07e93",
   "metadata": {},
   "source": [
    "### Calculate Pixel Position"
   ]
  },
  {
   "cell_type": "code",
   "execution_count": 227,
   "id": "89229f60-6349-4edf-81d3-7903b5dacdb8",
   "metadata": {},
   "outputs": [],
   "source": [
    "phase_center = grid_parms['phase_center']\n",
    "w = WCS(naxis=2)\n",
    "w.wcs.crpix = np.array(grid_parms['image_size'])//2\n",
    "w.wcs.cdelt = np.array([-20,20])*arcsec_to_deg\n",
    "w.wcs.crval = phase_center*rad_to_deg\n",
    "w.wcs.ctype = ['RA---SIN','DEC--SIN']"
   ]
  },
  {
   "cell_type": "code",
   "execution_count": 228,
   "id": "f3f7dad6-20ce-48b0-8843-ec3f83f3a523",
   "metadata": {},
   "outputs": [
    {
     "name": "stdout",
     "output_type": "stream",
     "text": [
      "source pix pos [[145.10127896 221.08506083]]\n"
     ]
    }
   ],
   "source": [
    "lm_pix_pos = w.all_world2pix(point_source_ra_dec2[0,:,:]*rad_to_deg, 1)\n",
    "print('source pix pos',lm_pix_pos)"
   ]
  },
  {
   "cell_type": "code",
   "execution_count": 229,
   "id": "171a2d19-2951-4ce0-b6c0-40f8412e0043",
   "metadata": {},
   "outputs": [
    {
     "name": "stdout",
     "output_type": "stream",
     "text": [
      "source lm pos [[-0.00437314  0.00204447]]\n"
     ]
    }
   ],
   "source": [
    "cell_size = np.array(grid_parms['cell_size'])*arcsec_to_rad\n",
    "cell_size[0] = -cell_size[0]\n",
    "image_center = np.array(grid_parms['image_size'])//2\n",
    "source_lm_pos = lm_pix_pos*cell_size - image_center*cell_size\n",
    "print('source lm pos',source_lm_pos)"
   ]
  },
  {
   "cell_type": "markdown",
   "id": "79bb7c25-40f1-4977-a548-fcff5abb2511",
   "metadata": {},
   "source": [
    "### Plot Primary Beam"
   ]
  },
  {
   "cell_type": "code",
   "execution_count": 230,
   "id": "3ce52e07-04b3-4894-addc-cbfbda27d07e",
   "metadata": {},
   "outputs": [],
   "source": [
    "from sirius._sirius_utils._make_pb_symmetric import _casa_airy_disk"
   ]
  },
  {
   "cell_type": "code",
   "execution_count": 231,
   "id": "5471a8c8-8b93-450c-98c4-b3369b958385",
   "metadata": {},
   "outputs": [],
   "source": [
    "grid_parms = {}\n",
    "grid_parms['chan_mode'] = 'continuum'\n",
    "grid_parms['image_size'] = np.array([200,400])\n",
    "grid_parms['cell_size'] = np.array([-20,20])*arcsec_to_rad\n",
    "grid_parms['phase_center'] = pointing_ra_dec[0,0,:]\n",
    "pol = [1]\n",
    "grid_parms['image_center'] = grid_parms['image_size']//2"
   ]
  },
  {
   "cell_type": "code",
   "execution_count": 232,
   "id": "de89b4ad-3f7b-4572-8c78-e05b5a0ac11e",
   "metadata": {},
   "outputs": [],
   "source": [
    "pb_parms = {}\n",
    "pb_parms['pb_func'] = 'casa_airy'\n",
    "pb_parms['list_dish_diameters'] = [24.5]\n",
    "pb_parms['list_blockage_diameters'] = [0.0]\n",
    "pb_parms['ipower'] = 2"
   ]
  },
  {
   "cell_type": "code",
   "execution_count": 233,
   "id": "00678a31-8de0-40b9-976e-6d213bef1688",
   "metadata": {},
   "outputs": [],
   "source": [
    "pb = _casa_airy_disk(freq_chan,pol,pb_parms,grid_parms)"
   ]
  },
  {
   "cell_type": "code",
   "execution_count": 234,
   "id": "d419fbcb-7ff3-413d-b83a-d196cebdf937",
   "metadata": {},
   "outputs": [
    {
     "data": {
      "application/vnd.jupyter.widget-view+json": {
       "model_id": "573f84de3fc643deb0e7d0c8d14ee113",
       "version_major": 2,
       "version_minor": 0
      },
      "text/plain": [
       "Canvas(toolbar=Toolbar(toolitems=[('Home', 'Reset original view', 'home', 'home'), ('Back', 'Back to previous …"
      ]
     },
     "metadata": {},
     "output_type": "display_data"
    }
   ],
   "source": [
    "\n",
    "plt.figure()\n",
    "plt.imshow(pb[:,:,1,0,0])\n",
    "\n",
    "plt.show()"
   ]
  },
  {
   "cell_type": "code",
   "execution_count": null,
   "id": "b4b9cab1-b7c6-457b-912d-eb4265657573",
   "metadata": {},
   "outputs": [],
   "source": []
  },
  {
   "cell_type": "code",
   "execution_count": null,
   "id": "7a866403-b459-46c5-abd9-c221fcbbe6bf",
   "metadata": {},
   "outputs": [],
   "source": []
  },
  {
   "cell_type": "code",
   "execution_count": null,
   "id": "b7f4fb31-e821-4e72-8baf-09c3501c4719",
   "metadata": {},
   "outputs": [],
   "source": []
  }
 ],
 "metadata": {
  "kernelspec": {
   "display_name": "Python 3",
   "language": "python",
   "name": "python3"
  },
  "language_info": {
   "codemirror_mode": {
    "name": "ipython",
    "version": 3
   },
   "file_extension": ".py",
   "mimetype": "text/x-python",
   "name": "python",
   "nbconvert_exporter": "python",
   "pygments_lexer": "ipython3",
   "version": "3.7.10"
  }
 },
 "nbformat": 4,
 "nbformat_minor": 5
}
