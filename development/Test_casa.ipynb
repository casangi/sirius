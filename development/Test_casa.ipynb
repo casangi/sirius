{
 "cells": [
  {
   "cell_type": "code",
   "execution_count": 1,
   "id": "3f1c4c56-5460-4815-a34e-935059baa17f",
   "metadata": {},
   "outputs": [],
   "source": [
    "from casatools import simulator, image, table, coordsys, measures, componentlist, quanta, ctsys\n",
    "from casatasks import tclean, ft, imhead, listobs, exportfits, flagdata, bandpass, applycal\n",
    "from casatasks.private import simutil\n",
    "from cngi.conversion import convert_ms, convert_image\n",
    "\n",
    "import os\n",
    "import pylab as pl\n",
    "import numpy as np\n",
    "#from astropy.io import fits\n",
    "#from astropy.wcs import WCS\n",
    "\n",
    "from casatools import simulator\n",
    "from casatasks import tclean"
   ]
  },
  {
   "cell_type": "code",
   "execution_count": 2,
   "id": "cba8c499-e7d4-4f6a-a90c-cf17b0b80907",
   "metadata": {},
   "outputs": [],
   "source": [
    "sm = simulator()\n",
    "ia = image()\n",
    "tb = table()\n",
    "cs = coordsys()\n",
    "me = measures()\n",
    "qa = quanta()\n",
    "cl = componentlist()\n",
    "mysu = simutil.simutil()"
   ]
  },
  {
   "cell_type": "code",
   "execution_count": 3,
   "id": "8e862bea-2d8b-483d-bb7c-7d94942fd59b",
   "metadata": {},
   "outputs": [],
   "source": [
    "dovp = True\n",
    "gridder = 'standard'\n",
    "#gridder = 'mosaic'\n",
    "#ms_name = 'zenith_point_source_sim_dovp_' + str(dovp) + '.ms'\n",
    "#im_name = 'zenith_point_source_sim_img/point_source_sim_dovp_' + str(dovp) + '_gridder_' + gridder\n",
    "\n",
    "ms_name = 'point_source_sim_vis/point_source_sim_dovp_' + str(dovp) + '.ms'\n",
    "im_name = 'point_source_sim_img/point_source_sim_dovp_' + str(dovp) + '_gridder_' + gridder\n",
    "\n",
    "conf_file = 'tel_config/vla_small.d.cfg'\n",
    "#time_interval = ['-5.0h','5.0h']\n",
    "#integration_time = '600.0s'\n",
    "time_interval = ['-5.0h','5.0h']\n",
    "integration_time = '3600.0s'"
   ]
  },
  {
   "cell_type": "code",
   "execution_count": 4,
   "id": "577b4b62-abf9-4590-a5cd-8746fc246560",
   "metadata": {},
   "outputs": [
    {
     "data": {
      "text/plain": [
       "0"
      ]
     },
     "execution_count": 4,
     "metadata": {},
     "output_type": "execute_result"
    }
   ],
   "source": [
    "os.system('rm -rf ' + ms_name)"
   ]
  },
  {
   "cell_type": "code",
   "execution_count": 5,
   "id": "ef6e4b0f-e239-42f0-8eb0-a03cfbad27fd",
   "metadata": {},
   "outputs": [],
   "source": [
    "sm.open(ms=ms_name);"
   ]
  },
  {
   "cell_type": "code",
   "execution_count": 6,
   "id": "264d04d6-3a3c-4ac1-9475-c62336fc05ee",
   "metadata": {},
   "outputs": [],
   "source": [
    "q = mysu.readantenna(conf_file)"
   ]
  },
  {
   "cell_type": "code",
   "execution_count": 7,
   "id": "fa858ce1-687d-4b5c-a3b0-c8e7e5588058",
   "metadata": {},
   "outputs": [],
   "source": [
    "#CASA5\n",
    "#(x,y,z,d,an,an2,telname, obspos) = mysu.readantenna(conf_file)\n",
    "\n",
    "#CASA6\n",
    "(x,y,z,d,an,an2,telname, obspos) = mysu.readantenna(conf_file)"
   ]
  },
  {
   "cell_type": "code",
   "execution_count": 8,
   "id": "ca6ac317-e2df-40f4-9f4b-6de79d1ddb1a",
   "metadata": {},
   "outputs": [],
   "source": [
    "## Set the antenna configuration\n",
    "sm.setconfig(telescopename=telname,\n",
    "                        x=x,\n",
    "                        y=y,\n",
    "                        z=z,\n",
    "                        dishdiameter=d,\n",
    "                        mount=['alt-az'],\n",
    "                        antname=an,\n",
    "                        coordsystem='local',\n",
    "                        referencelocation=me.observatory(telname));"
   ]
  },
  {
   "cell_type": "code",
   "execution_count": 9,
   "id": "eadae687-b11d-4f01-ab76-d72fa2e5a719",
   "metadata": {},
   "outputs": [],
   "source": [
    "## Set the polarization mode (this goes to the FEED subtable)\n",
    "sm.setfeed(mode='perfect R L', pol=['']);"
   ]
  },
  {
   "cell_type": "code",
   "execution_count": 10,
   "id": "9ba069fa-1a08-4801-bec4-c4a3ebeeaa9b",
   "metadata": {},
   "outputs": [],
   "source": [
    "'''\n",
    "sm.setspwindow(spwname=\"SBand\",\n",
    "               freq='3.0GHz',\n",
    "               deltafreq='0.4GHz',\n",
    "               freqresolution='0.01GHz',\n",
    "               nchannels=3,\n",
    "               refcode='LSRK',\n",
    "               stokes='RR RL LR LL');\n",
    "'''\n",
    "\n",
    "sm.setspwindow(spwname=\"SBand\",\n",
    "               freq='3.0GHz',\n",
    "               deltafreq='0.4GHz',\n",
    "               freqresolution='0.01GHz',\n",
    "               nchannels=3,\n",
    "               refcode='LSRK',\n",
    "               stokes='RR LL');"
   ]
  },
  {
   "cell_type": "code",
   "execution_count": 11,
   "id": "0056dfbe-0a4d-45af-a0d9-08a7f8d25fc8",
   "metadata": {},
   "outputs": [
    {
     "data": {
      "text/plain": [
       "True"
      ]
     },
     "execution_count": 11,
     "metadata": {},
     "output_type": "execute_result"
    }
   ],
   "source": [
    "sm.setfield( sourcename=\"fake\",sourcedirection=me.direction(rf='J2000', v0='19h59m28.5s',v1='+40d44m01.5s'))\n",
    "#sm.setfield( sourcename=\"fake\",sourcedirection=me.direction(rf='J2000', v0='0h0m0.0s',v1='+90d00m0.0s')) #Zenith"
   ]
  },
  {
   "cell_type": "code",
   "execution_count": 12,
   "id": "1cb3d209-b920-4317-83fb-862047f56f24",
   "metadata": {},
   "outputs": [
    {
     "data": {
      "text/plain": [
       "True"
      ]
     },
     "execution_count": 12,
     "metadata": {},
     "output_type": "execute_result"
    }
   ],
   "source": [
    "## Leave autocorrelations out of the MS.\n",
    "sm.setauto(autocorrwt=0.0)"
   ]
  },
  {
   "cell_type": "code",
   "execution_count": 13,
   "id": "dc8e7752-a051-431a-a160-52c8d924802f",
   "metadata": {},
   "outputs": [],
   "source": [
    "sm.settimes(integrationtime=integration_time,\n",
    "                 usehourangle=True,\n",
    "                 referencetime=me.epoch('UTC','2019/10/4/00:00:00'));"
   ]
  },
  {
   "cell_type": "code",
   "execution_count": 14,
   "id": "bf24388e-a47a-439a-9b98-ba3b40689150",
   "metadata": {},
   "outputs": [],
   "source": [
    "sm.observe(sourcename=\"fake\",\n",
    "               spwname='SBand',\n",
    "               starttime=time_interval[0],\n",
    "               stoptime=time_interval[1]);"
   ]
  },
  {
   "cell_type": "code",
   "execution_count": 15,
   "id": "0e6a22b7-9f65-4598-90b2-7a21e38ecf3a",
   "metadata": {},
   "outputs": [
    {
     "data": {
      "text/plain": [
       "True"
      ]
     },
     "execution_count": 15,
     "metadata": {},
     "output_type": "execute_result"
    }
   ],
   "source": [
    "## Close the simulator\n",
    "sm.close()"
   ]
  },
  {
   "cell_type": "code",
   "execution_count": 16,
   "id": "bf68d4f1-5795-44ec-a8a7-3d0e33ad0583",
   "metadata": {},
   "outputs": [
    {
     "data": {
      "text/plain": [
       "0"
      ]
     },
     "execution_count": 16,
     "metadata": {},
     "output_type": "execute_result"
    }
   ],
   "source": [
    "clname=ms_name.split('.')[0] + '.cl'\n",
    "os.system('rm -rf '+ clname)"
   ]
  },
  {
   "cell_type": "code",
   "execution_count": 17,
   "id": "14afbd28-af0a-465a-a6ed-757f3be4595f",
   "metadata": {},
   "outputs": [
    {
     "data": {
      "text/plain": [
       "True"
      ]
     },
     "execution_count": 17,
     "metadata": {},
     "output_type": "execute_result"
    }
   ],
   "source": [
    "# Add sources, one at a time.\n",
    "# Call multiple times to add multiple sources. ( Change the 'dir', obviously )\n",
    "#    cl.addcomponent(dir='J2000 19h59m28.5s +40d44m01.5s',\n",
    "#                        flux=5.42,            # For a gaussian, this is the integrated area.\n",
    "#                        fluxunit='Jy',\n",
    "#                        freq='LSRK 3.0GHz',\n",
    "#                        shape='point',       ## Point source\n",
    "#    #                    shape='gaussian',   ## Gaussian\n",
    "#    #                    majoraxis=\"5.0arcmin\",\n",
    "#    #                    minoraxis='2.0arcmin',\n",
    "#                        spectrumtype=\"constant\",\n",
    "#                        index=-1.0)\n",
    "#Sim\n",
    "cl.addcomponent(dir='J2000 19h59m0.0s +40d51m01.5s',\n",
    "                    flux=2.17,            # For a gaussian, this is the integrated area.\n",
    "                    fluxunit='Jy',\n",
    "                    freq='LSRK 3.0GHz',\n",
    "                    shape='point',       ## Point source\n",
    "#                    shape='gaussian',   ## Gaussian\n",
    "#                    majoraxis=\"5.0arcmin\",\n",
    "#                    minoraxis='2.0arcmin',\n",
    "                    spectrumtype=\"constant\",\n",
    "                    index=-1.0)\n",
    "#    #Zenith\n",
    "#    cl.addcomponent(dir='J2000 19h59m0.0s +89d54m01.5s',\n",
    "#                        flux=2.17,            # For a gaussian, this is the integrated area.\n",
    "#                        fluxunit='Jy',\n",
    "#                        freq='LSRK 3.0GHz',\n",
    "#                        shape='point',       ## Point source\n",
    "#    #                    shape='gaussian',   ## Gaussian\n",
    "#    #                    majoraxis=\"5.0arcmin\",\n",
    "#    #                    minoraxis='2.0arcmin',\n",
    "#                        spectrumtype=\"constant\",\n",
    "#                        index=-1.0)\n",
    "\n",
    "\n",
    "#    cl.addcomponent(dir='J2000 19h59m0.0s +40d51m01.5s',\n",
    "#                        flux=3.145,            # For a gaussian, this is the integrated area.\n",
    "#                        fluxunit='Jy',\n",
    "#                        freq='LSRK 3.0GHz',\n",
    "#                        shape='point',       ## Point source\n",
    "#    #                    shape='gaussian',   ## Gaussian\n",
    "#    #                    majoraxis=\"5.0arcmin\",\n",
    "#    #                    minoraxis='2.0arcmin',\n",
    "#                        spectrumtype=\"constant\",\n",
    "#                        index=-1.0)\n",
    "\n",
    "#    cl.addcomponent(dir='J2000 19h59m55.5s +40d27m01.5s',\n",
    "#                        flux=7.56,            # For a gaussian, this is the integrated area.\n",
    "#                        fluxunit='Jy',\n",
    "#                        freq='LSRK 3.0GHz',\n",
    "#                        shape='point',       ## Point source\n",
    "#    #                    shape='gaussian',   ## Gaussian\n",
    "#    #                    majoraxis=\"5.0arcmin\",\n",
    "#    #                    minoraxis='2.0arcmin',\n",
    "#                        spectrumtype=\"constant\",\n",
    "#                        index=-1.0)\n",
    "\n",
    "cl.rename(filename=clname)\n",
    "cl.done()"
   ]
  },
  {
   "cell_type": "code",
   "execution_count": 18,
   "id": "24466824-0ee8-4276-a5b1-1604db755f10",
   "metadata": {},
   "outputs": [
    {
     "data": {
      "text/plain": [
       "True"
      ]
     },
     "execution_count": 18,
     "metadata": {},
     "output_type": "execute_result"
    }
   ],
   "source": [
    "#sm.setlimits(shadowlimit=100, elevationlimit='-180.0deg')\n",
    "   \n",
    "\n",
    "sm.openfromms(ms_name)"
   ]
  },
  {
   "cell_type": "code",
   "execution_count": 19,
   "id": "6a81b006-e9ea-4dbf-8c90-e0b067db9cee",
   "metadata": {},
   "outputs": [],
   "source": [
    "if dovp == False:\n",
    "    sm.setvp(dovp=dovp)\n",
    "else:\n",
    "    sm.setvp(dovp=dovp,usedefaultvp=True,dosquint=False)"
   ]
  },
  {
   "cell_type": "code",
   "execution_count": 20,
   "id": "74f734f9-8367-49aa-bba5-893b2c0f0039",
   "metadata": {},
   "outputs": [
    {
     "data": {
      "text/plain": [
       "True"
      ]
     },
     "execution_count": 20,
     "metadata": {},
     "output_type": "execute_result"
    }
   ],
   "source": [
    "sm.predict(complist = clname ,incremental=False)\n",
    "\n",
    "sm.close()"
   ]
  },
  {
   "cell_type": "code",
   "execution_count": 21,
   "id": "08ab1c39-c259-4ea4-9075-c20326d1dd68",
   "metadata": {},
   "outputs": [
    {
     "data": {
      "text/plain": [
       "{}"
      ]
     },
     "execution_count": 21,
     "metadata": {},
     "output_type": "execute_result"
    }
   ],
   "source": [
    "flagdata(vis=ms_name,mode='unflag')"
   ]
  },
  {
   "cell_type": "code",
   "execution_count": 22,
   "id": "c127bfbc-af72-4865-b10a-e48bf76d9e30",
   "metadata": {},
   "outputs": [
    {
     "data": {
      "text/plain": [
       "0"
      ]
     },
     "execution_count": 22,
     "metadata": {},
     "output_type": "execute_result"
    }
   ],
   "source": [
    "os.system('rm -rf '+ im_name + '.*')"
   ]
  },
  {
   "cell_type": "code",
   "execution_count": 23,
   "id": "a6dbe0fc-bb80-4791-b572-ae95a576d76f",
   "metadata": {},
   "outputs": [
    {
     "data": {
      "text/plain": [
       "{}"
      ]
     },
     "execution_count": 23,
     "metadata": {},
     "output_type": "execute_result"
    }
   ],
   "source": [
    "tclean(vis=ms_name,imagename=im_name,imsize=[200,400],cell=[20.0,20.0],specmode='cube',niter=0,pblimit=0.0,gridder=gridder,stokes='RR')"
   ]
  },
  {
   "cell_type": "code",
   "execution_count": 24,
   "id": "64a063d3-0750-4acb-8b70-d49a16b0ecfb",
   "metadata": {},
   "outputs": [
    {
     "name": "stdout",
     "output_type": "stream",
     "text": [
      "Completed ddi 0  process time 2.81 s.ATA...SPECTRAL_WINDOW_ID...                    \n",
      "Completed subtables  process time 3.91 s...                                     \n",
      "                                                  \n",
      "converting Image...\n",
      "processed image in 4.303727 secondsgridder_mosaic.weight chunk 0 of 1, col map...                        \n"
     ]
    },
    {
     "ename": "ValueError",
     "evalue": "conflicting sizes for dimension 'chan': length 5 on 'WEIGHT' and length 9 on {'l': 'IMAGE', 'm': 'IMAGE', 'time': 'IMAGE', 'chan': 'IMAGE', 'pol': 'IMAGE'}",
     "output_type": "error",
     "traceback": [
      "\u001b[0;31m---------------------------------------------------------------------------\u001b[0m",
      "\u001b[0;31mValueError\u001b[0m                                Traceback (most recent call last)",
      "\u001b[0;32m<ipython-input-24-ce7bc74dd038>\u001b[0m in \u001b[0;36m<module>\u001b[0;34m\u001b[0m\n\u001b[1;32m      1\u001b[0m \u001b[0mconvert_ms\u001b[0m\u001b[0;34m(\u001b[0m\u001b[0mms_name\u001b[0m\u001b[0;34m)\u001b[0m\u001b[0;34m\u001b[0m\u001b[0;34m\u001b[0m\u001b[0m\n\u001b[0;32m----> 2\u001b[0;31m \u001b[0mconvert_image\u001b[0m\u001b[0;34m(\u001b[0m\u001b[0mim_name\u001b[0m\u001b[0;34m)\u001b[0m\u001b[0;34m\u001b[0m\u001b[0;34m\u001b[0m\u001b[0m\n\u001b[0m",
      "\u001b[0;32m~/miniconda3/envs/casa_env/lib/python3.7/site-packages/cngi/conversion/convert_image.py\u001b[0m in \u001b[0;36mconvert_image\u001b[0;34m(infile, outfile, artifacts, compressor, chunks)\u001b[0m\n\u001b[1;32m    230\u001b[0m         \u001b[0mfid\u001b[0m\u001b[0;34m.\u001b[0m\u001b[0mwrite\u001b[0m\u001b[0;34m(\u001b[0m\u001b[0;34m'cngi-protoype '\u001b[0m \u001b[0;34m+\u001b[0m \u001b[0mversion\u001b[0m \u001b[0;34m+\u001b[0m \u001b[0;34m'\\n'\u001b[0m\u001b[0;34m)\u001b[0m\u001b[0;34m\u001b[0m\u001b[0;34m\u001b[0m\u001b[0m\n\u001b[1;32m    231\u001b[0m \u001b[0;34m\u001b[0m\u001b[0m\n\u001b[0;32m--> 232\u001b[0;31m     \u001b[0;32mreturn\u001b[0m \u001b[0mxarray\u001b[0m\u001b[0;34m.\u001b[0m\u001b[0mopen_zarr\u001b[0m\u001b[0;34m(\u001b[0m\u001b[0moutfile\u001b[0m\u001b[0;34m)\u001b[0m\u001b[0;34m\u001b[0m\u001b[0;34m\u001b[0m\u001b[0m\n\u001b[0m",
      "\u001b[0;32m~/miniconda3/envs/casa_env/lib/python3.7/site-packages/xarray/backends/zarr.py\u001b[0m in \u001b[0;36mopen_zarr\u001b[0;34m(store, group, synchronizer, chunks, decode_cf, mask_and_scale, decode_times, concat_characters, decode_coords, drop_variables, consolidated, overwrite_encoded_chunks, chunk_store, storage_options, decode_timedelta, use_cftime, **kwargs)\u001b[0m\n\u001b[1;32m    698\u001b[0m         \u001b[0mbackend_kwargs\u001b[0m\u001b[0;34m=\u001b[0m\u001b[0mbackend_kwargs\u001b[0m\u001b[0;34m,\u001b[0m\u001b[0;34m\u001b[0m\u001b[0;34m\u001b[0m\u001b[0m\n\u001b[1;32m    699\u001b[0m         \u001b[0mdecode_timedelta\u001b[0m\u001b[0;34m=\u001b[0m\u001b[0mdecode_timedelta\u001b[0m\u001b[0;34m,\u001b[0m\u001b[0;34m\u001b[0m\u001b[0;34m\u001b[0m\u001b[0m\n\u001b[0;32m--> 700\u001b[0;31m         \u001b[0muse_cftime\u001b[0m\u001b[0;34m=\u001b[0m\u001b[0muse_cftime\u001b[0m\u001b[0;34m,\u001b[0m\u001b[0;34m\u001b[0m\u001b[0;34m\u001b[0m\u001b[0m\n\u001b[0m\u001b[1;32m    701\u001b[0m     )\n\u001b[1;32m    702\u001b[0m     \u001b[0;32mreturn\u001b[0m \u001b[0mds\u001b[0m\u001b[0;34m\u001b[0m\u001b[0;34m\u001b[0m\u001b[0m\n",
      "\u001b[0;32m~/miniconda3/envs/casa_env/lib/python3.7/site-packages/xarray/backends/api.py\u001b[0m in \u001b[0;36mopen_dataset\u001b[0;34m(filename_or_obj, engine, chunks, cache, decode_cf, mask_and_scale, decode_times, decode_timedelta, use_cftime, concat_characters, decode_coords, drop_variables, backend_kwargs, *args, **kwargs)\u001b[0m\n\u001b[1;32m    498\u001b[0m         \u001b[0mdrop_variables\u001b[0m\u001b[0;34m=\u001b[0m\u001b[0mdrop_variables\u001b[0m\u001b[0;34m,\u001b[0m\u001b[0;34m\u001b[0m\u001b[0;34m\u001b[0m\u001b[0m\n\u001b[1;32m    499\u001b[0m         \u001b[0;34m**\u001b[0m\u001b[0mdecoders\u001b[0m\u001b[0;34m,\u001b[0m\u001b[0;34m\u001b[0m\u001b[0;34m\u001b[0m\u001b[0m\n\u001b[0;32m--> 500\u001b[0;31m         \u001b[0;34m**\u001b[0m\u001b[0mkwargs\u001b[0m\u001b[0;34m,\u001b[0m\u001b[0;34m\u001b[0m\u001b[0;34m\u001b[0m\u001b[0m\n\u001b[0m\u001b[1;32m    501\u001b[0m     )\n\u001b[1;32m    502\u001b[0m     ds = _dataset_from_backend_dataset(\n",
      "\u001b[0;32m~/miniconda3/envs/casa_env/lib/python3.7/site-packages/xarray/backends/zarr.py\u001b[0m in \u001b[0;36mopen_dataset\u001b[0;34m(self, filename_or_obj, mask_and_scale, decode_times, concat_characters, decode_coords, drop_variables, use_cftime, decode_timedelta, group, mode, synchronizer, consolidated, consolidate_on_close, chunk_store, storage_options, lock)\u001b[0m\n\u001b[1;32m    753\u001b[0m                 \u001b[0mdrop_variables\u001b[0m\u001b[0;34m=\u001b[0m\u001b[0mdrop_variables\u001b[0m\u001b[0;34m,\u001b[0m\u001b[0;34m\u001b[0m\u001b[0;34m\u001b[0m\u001b[0m\n\u001b[1;32m    754\u001b[0m                 \u001b[0muse_cftime\u001b[0m\u001b[0;34m=\u001b[0m\u001b[0muse_cftime\u001b[0m\u001b[0;34m,\u001b[0m\u001b[0;34m\u001b[0m\u001b[0;34m\u001b[0m\u001b[0m\n\u001b[0;32m--> 755\u001b[0;31m                 \u001b[0mdecode_timedelta\u001b[0m\u001b[0;34m=\u001b[0m\u001b[0mdecode_timedelta\u001b[0m\u001b[0;34m,\u001b[0m\u001b[0;34m\u001b[0m\u001b[0;34m\u001b[0m\u001b[0m\n\u001b[0m\u001b[1;32m    756\u001b[0m             )\n\u001b[1;32m    757\u001b[0m         \u001b[0;32mreturn\u001b[0m \u001b[0mds\u001b[0m\u001b[0;34m\u001b[0m\u001b[0;34m\u001b[0m\u001b[0m\n",
      "\u001b[0;32m~/miniconda3/envs/casa_env/lib/python3.7/site-packages/xarray/backends/store.py\u001b[0m in \u001b[0;36mopen_dataset\u001b[0;34m(self, store, mask_and_scale, decode_times, concat_characters, decode_coords, drop_variables, use_cftime, decode_timedelta)\u001b[0m\n\u001b[1;32m     35\u001b[0m         )\n\u001b[1;32m     36\u001b[0m \u001b[0;34m\u001b[0m\u001b[0m\n\u001b[0;32m---> 37\u001b[0;31m         \u001b[0mds\u001b[0m \u001b[0;34m=\u001b[0m \u001b[0mDataset\u001b[0m\u001b[0;34m(\u001b[0m\u001b[0mvars\u001b[0m\u001b[0;34m,\u001b[0m \u001b[0mattrs\u001b[0m\u001b[0;34m=\u001b[0m\u001b[0mattrs\u001b[0m\u001b[0;34m)\u001b[0m\u001b[0;34m\u001b[0m\u001b[0;34m\u001b[0m\u001b[0m\n\u001b[0m\u001b[1;32m     38\u001b[0m         \u001b[0mds\u001b[0m \u001b[0;34m=\u001b[0m \u001b[0mds\u001b[0m\u001b[0;34m.\u001b[0m\u001b[0mset_coords\u001b[0m\u001b[0;34m(\u001b[0m\u001b[0mcoord_names\u001b[0m\u001b[0;34m.\u001b[0m\u001b[0mintersection\u001b[0m\u001b[0;34m(\u001b[0m\u001b[0mvars\u001b[0m\u001b[0;34m)\u001b[0m\u001b[0;34m)\u001b[0m\u001b[0;34m\u001b[0m\u001b[0;34m\u001b[0m\u001b[0m\n\u001b[1;32m     39\u001b[0m         \u001b[0mds\u001b[0m\u001b[0;34m.\u001b[0m\u001b[0mset_close\u001b[0m\u001b[0;34m(\u001b[0m\u001b[0mstore\u001b[0m\u001b[0;34m.\u001b[0m\u001b[0mclose\u001b[0m\u001b[0;34m)\u001b[0m\u001b[0;34m\u001b[0m\u001b[0;34m\u001b[0m\u001b[0m\n",
      "\u001b[0;32m~/miniconda3/envs/casa_env/lib/python3.7/site-packages/xarray/core/dataset.py\u001b[0m in \u001b[0;36m__init__\u001b[0;34m(self, data_vars, coords, attrs)\u001b[0m\n\u001b[1;32m    738\u001b[0m \u001b[0;34m\u001b[0m\u001b[0m\n\u001b[1;32m    739\u001b[0m         variables, coord_names, dims, indexes, _ = merge_data_and_coords(\n\u001b[0;32m--> 740\u001b[0;31m             \u001b[0mdata_vars\u001b[0m\u001b[0;34m,\u001b[0m \u001b[0mcoords\u001b[0m\u001b[0;34m,\u001b[0m \u001b[0mcompat\u001b[0m\u001b[0;34m=\u001b[0m\u001b[0;34m\"broadcast_equals\"\u001b[0m\u001b[0;34m\u001b[0m\u001b[0;34m\u001b[0m\u001b[0m\n\u001b[0m\u001b[1;32m    741\u001b[0m         )\n\u001b[1;32m    742\u001b[0m \u001b[0;34m\u001b[0m\u001b[0m\n",
      "\u001b[0;32m~/miniconda3/envs/casa_env/lib/python3.7/site-packages/xarray/core/merge.py\u001b[0m in \u001b[0;36mmerge_data_and_coords\u001b[0;34m(data, coords, compat, join)\u001b[0m\n\u001b[1;32m    476\u001b[0m     \u001b[0mindexes\u001b[0m \u001b[0;34m=\u001b[0m \u001b[0mdict\u001b[0m\u001b[0;34m(\u001b[0m\u001b[0m_extract_indexes_from_coords\u001b[0m\u001b[0;34m(\u001b[0m\u001b[0mcoords\u001b[0m\u001b[0;34m)\u001b[0m\u001b[0;34m)\u001b[0m\u001b[0;34m\u001b[0m\u001b[0;34m\u001b[0m\u001b[0m\n\u001b[1;32m    477\u001b[0m     return merge_core(\n\u001b[0;32m--> 478\u001b[0;31m         \u001b[0mobjects\u001b[0m\u001b[0;34m,\u001b[0m \u001b[0mcompat\u001b[0m\u001b[0;34m,\u001b[0m \u001b[0mjoin\u001b[0m\u001b[0;34m,\u001b[0m \u001b[0mexplicit_coords\u001b[0m\u001b[0;34m=\u001b[0m\u001b[0mexplicit_coords\u001b[0m\u001b[0;34m,\u001b[0m \u001b[0mindexes\u001b[0m\u001b[0;34m=\u001b[0m\u001b[0mindexes\u001b[0m\u001b[0;34m\u001b[0m\u001b[0;34m\u001b[0m\u001b[0m\n\u001b[0m\u001b[1;32m    479\u001b[0m     )\n\u001b[1;32m    480\u001b[0m \u001b[0;34m\u001b[0m\u001b[0m\n",
      "\u001b[0;32m~/miniconda3/envs/casa_env/lib/python3.7/site-packages/xarray/core/merge.py\u001b[0m in \u001b[0;36mmerge_core\u001b[0;34m(objects, compat, join, combine_attrs, priority_arg, explicit_coords, indexes, fill_value)\u001b[0m\n\u001b[1;32m    629\u001b[0m     \u001b[0massert_unique_multiindex_level_names\u001b[0m\u001b[0;34m(\u001b[0m\u001b[0mvariables\u001b[0m\u001b[0;34m)\u001b[0m\u001b[0;34m\u001b[0m\u001b[0;34m\u001b[0m\u001b[0m\n\u001b[1;32m    630\u001b[0m \u001b[0;34m\u001b[0m\u001b[0m\n\u001b[0;32m--> 631\u001b[0;31m     \u001b[0mdims\u001b[0m \u001b[0;34m=\u001b[0m \u001b[0mcalculate_dimensions\u001b[0m\u001b[0;34m(\u001b[0m\u001b[0mvariables\u001b[0m\u001b[0;34m)\u001b[0m\u001b[0;34m\u001b[0m\u001b[0;34m\u001b[0m\u001b[0m\n\u001b[0m\u001b[1;32m    632\u001b[0m \u001b[0;34m\u001b[0m\u001b[0m\n\u001b[1;32m    633\u001b[0m     \u001b[0mcoord_names\u001b[0m\u001b[0;34m,\u001b[0m \u001b[0mnoncoord_names\u001b[0m \u001b[0;34m=\u001b[0m \u001b[0mdetermine_coords\u001b[0m\u001b[0;34m(\u001b[0m\u001b[0mcoerced\u001b[0m\u001b[0;34m)\u001b[0m\u001b[0;34m\u001b[0m\u001b[0;34m\u001b[0m\u001b[0m\n",
      "\u001b[0;32m~/miniconda3/envs/casa_env/lib/python3.7/site-packages/xarray/core/dataset.py\u001b[0m in \u001b[0;36mcalculate_dimensions\u001b[0;34m(variables)\u001b[0m\n\u001b[1;32m    203\u001b[0m             \u001b[0;32melif\u001b[0m \u001b[0mdims\u001b[0m\u001b[0;34m[\u001b[0m\u001b[0mdim\u001b[0m\u001b[0;34m]\u001b[0m \u001b[0;34m!=\u001b[0m \u001b[0msize\u001b[0m\u001b[0;34m:\u001b[0m\u001b[0;34m\u001b[0m\u001b[0;34m\u001b[0m\u001b[0m\n\u001b[1;32m    204\u001b[0m                 raise ValueError(\n\u001b[0;32m--> 205\u001b[0;31m                     \u001b[0;34mf\"conflicting sizes for dimension {dim!r}: \"\u001b[0m\u001b[0;34m\u001b[0m\u001b[0;34m\u001b[0m\u001b[0m\n\u001b[0m\u001b[1;32m    206\u001b[0m                     \u001b[0;34mf\"length {size} on {k!r} and length {dims[dim]} on {last_used!r}\"\u001b[0m\u001b[0;34m\u001b[0m\u001b[0;34m\u001b[0m\u001b[0m\n\u001b[1;32m    207\u001b[0m                 )\n",
      "\u001b[0;31mValueError\u001b[0m: conflicting sizes for dimension 'chan': length 5 on 'WEIGHT' and length 9 on {'l': 'IMAGE', 'm': 'IMAGE', 'time': 'IMAGE', 'chan': 'IMAGE', 'pol': 'IMAGE'}"
     ]
    }
   ],
   "source": [
    "convert_ms(ms_name)\n",
    "#convert_image(im_name)"
   ]
  },
  {
   "cell_type": "code",
   "execution_count": null,
   "id": "61d97be1-09a0-4176-a783-83ef348c3064",
   "metadata": {},
   "outputs": [],
   "source": []
  }
 ],
 "metadata": {
  "kernelspec": {
   "display_name": "Python 3",
   "language": "python",
   "name": "python3"
  },
  "language_info": {
   "codemirror_mode": {
    "name": "ipython",
    "version": 3
   },
   "file_extension": ".py",
   "mimetype": "text/x-python",
   "name": "python",
   "nbconvert_exporter": "python",
   "pygments_lexer": "ipython3",
   "version": "3.7.10"
  }
 },
 "nbformat": 4,
 "nbformat_minor": 5
}
