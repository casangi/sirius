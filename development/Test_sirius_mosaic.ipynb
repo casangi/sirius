{
 "cells": [
  {
   "cell_type": "code",
   "execution_count": 1,
   "id": "3aadcd20-4edb-4bfd-bfa1-fbcfaa6d415f",
   "metadata": {},
   "outputs": [],
   "source": [
    "c = 299792458\n",
    "#from direction_rotate import _calc_rotation_mats\n",
    "import matplotlib.pyplot as plt\n",
    "import xarray as xr\n",
    "import dask.array as da\n",
    "import cngi.conversion.convert_ms as convert_ms\n",
    "import cngi.conversion.convert_image as convert_image\n",
    "from cngi.dio import read_vis\n",
    "import numpy as np\n",
    "from astropy.coordinates import SkyCoord\n",
    "from sirius import calc_vis\n",
    "from sympy import *\n",
    "from astropy.wcs import WCS\n",
    "import time"
   ]
  },
  {
   "cell_type": "code",
   "execution_count": 2,
   "id": "9a7c5f07-48c6-4af6-a247-142384c21c7e",
   "metadata": {},
   "outputs": [],
   "source": [
    "#Load Data from converted CASA simulated ms (steal uvw values)\n",
    "ms_file = 'point_source_sim_vis/mosaic_point_source_sim_dovp_True.vis.zarr' #remember to change pb_parms['pb_func'] = 'casa_airy'\n",
    "#ms_file = 'point_source_sim_vis/point_source_sim_dovp_False.vis.zarr'\n",
    "#remember to change pb_parms['pb_func'] = 'none'\n",
    "#ms_file = 'zenith_point_source_sim_dovp_False.vis.zarr'"
   ]
  },
  {
   "cell_type": "code",
   "execution_count": 3,
   "id": "96435d03-339d-4e7b-a0fd-0114a1fb7ae3",
   "metadata": {},
   "outputs": [
    {
     "name": "stdout",
     "output_type": "stream",
     "text": [
      "<xarray.Dataset>\n",
      "Dimensions:           (antenna_ids: 3, feed_ids: 3, field_ids: 2, observation_ids: 1, polarization_ids: 1, source_ids: 2, spw_ids: 1, state_ids: 1)\n",
      "Coordinates:\n",
      "  * antenna_ids       (antenna_ids) int64 0 1 2\n",
      "    antennas          (antenna_ids) <U16 'W01' 'W02' 'W03'\n",
      "  * field_ids         (field_ids) int64 0 1\n",
      "    fields            (field_ids) <U5 'fake' 'fake2'\n",
      "  * feed_ids          (feed_ids) int64 0 0 0\n",
      "  * observation_ids   (observation_ids) int64 0\n",
      "    observations      (observation_ids) <U16 'CASA simulation'\n",
      "  * polarization_ids  (polarization_ids) int64 0\n",
      "  * source_ids        (source_ids) int64 0 1\n",
      "    sources           (source_ids) <U5 'fake' 'fake2'\n",
      "  * spw_ids           (spw_ids) int64 0\n",
      "  * state_ids         (state_ids) int64 0\n",
      "Data variables:\n",
      "    *empty*\n",
      "Attributes:\n",
      "    xds0:             <xarray.Dataset>\\nDimensions:                (baseline:...\n",
      "    ANTENNA:          <xarray.Dataset>\\nDimensions:        (antenna_id: 3, d1...\n",
      "    FEED:             <xarray.Dataset>\\nDimensions:             (d0: 3, d1: 3...\n",
      "    FIELD:            <xarray.Dataset>\\nDimensions:        (d1: 1, d2: 2, fie...\n",
      "    OBSERVATION:      <xarray.Dataset>\\nDimensions:         (d1: 2, observati...\n",
      "    POINTING:         <xarray.Dataset>\\nDimensions:      (antenna_id: 3, d2: ...\n",
      "    POLARIZATION:     <xarray.Dataset>\\nDimensions:       (d0: 1, d1: 2, d2: ...\n",
      "    SOURCE:           <xarray.Dataset>\\nDimensions:             (d0: 2, d1: 2...\n",
      "    SPECTRAL_WINDOW:  <xarray.Dataset>\\nDimensions:             (d1: 3, spect...\n",
      "    STATE:            <xarray.Dataset>\\nDimensions:   (state_id: 1)\\nCoordina...\n"
     ]
    }
   ],
   "source": [
    "mxds = read_vis(ms_file)\n",
    "print(mxds)"
   ]
  },
  {
   "cell_type": "code",
   "execution_count": 4,
   "id": "789b9b5c-764c-4fd0-b719-a51af1f3630b",
   "metadata": {},
   "outputs": [],
   "source": [
    "vis_xds = read_vis(ms_file).xds0"
   ]
  },
  {
   "cell_type": "code",
   "execution_count": 5,
   "id": "3f80d07d-cdb9-4f8c-8526-76f45fc962e3",
   "metadata": {},
   "outputs": [],
   "source": [
    "cas_vis_data = vis_xds.DATA.data.compute()"
   ]
  },
  {
   "cell_type": "code",
   "execution_count": 6,
   "id": "26c30be4-ac3d-47ae-b02c-e1393a8353b0",
   "metadata": {},
   "outputs": [],
   "source": [
    "uvw = vis_xds.UVW.data.compute()"
   ]
  },
  {
   "cell_type": "code",
   "execution_count": 7,
   "id": "9a37d9ef-441d-4d5b-810a-0f5276e4ba0f",
   "metadata": {},
   "outputs": [],
   "source": [
    "freq_chan = vis_xds.chan.values"
   ]
  },
  {
   "cell_type": "code",
   "execution_count": 8,
   "id": "7106a69d-4c73-4353-bc29-edc00df17228",
   "metadata": {},
   "outputs": [
    {
     "data": {
      "text/plain": [
       "(10, 3, 3, 2)"
      ]
     },
     "execution_count": 8,
     "metadata": {},
     "output_type": "execute_result"
    }
   ],
   "source": [
    "cas_vis_data.shape"
   ]
  },
  {
   "cell_type": "markdown",
   "id": "c83d8ce2-690c-4ce8-8144-4f9f489695b7",
   "metadata": {},
   "source": [
    "### Sirius Simulation"
   ]
  },
  {
   "cell_type": "code",
   "execution_count": 9,
   "id": "c5853ef6-f75c-4add-a324-98d273537d46",
   "metadata": {},
   "outputs": [],
   "source": [
    "#Setup pointing centre\n",
    "#pointing_ra_dec:  [n_time, n_baseline, 2]                   (singleton: n_time, n_baseline)\n",
    "pointing_skycoord = SkyCoord(ra='20h00m28.5s',dec='+40d44m01.5s',frame='fk5') #sim\n",
    "pointing_skycoord2 = SkyCoord(ra='19h58m28.5s',dec='+40d44m01.5s',frame='fk5')\n",
    "#To do: concat, check shape\n",
    "#pointing_skycoord = SkyCoord(ra='0h0m0.0s',dec='90d00m00.0s',frame='fk5') #zenith\n",
    "pointing_ra_dec = np.array([pointing_skycoord.ra.rad,pointing_skycoord.dec.rad])[None,None,:]*np.ones(5).reshape(5, 1, 1)\n",
    "pointing_ra_dec2 = np.array([pointing_skycoord2.ra.rad,pointing_skycoord2.dec.rad])[None,None,:]*np.ones(5).reshape(5, 1, 1)\n",
    "pointing_ra_dec = np.append(pointing_ra_dec, pointing_ra_dec2, axis = 0)"
   ]
  },
  {
   "cell_type": "code",
   "execution_count": 10,
   "id": "2321a985-5ed1-4f45-9464-2bf65ea804a6",
   "metadata": {},
   "outputs": [
    {
     "data": {
      "text/plain": [
       "(10, 1, 2)"
      ]
     },
     "execution_count": 10,
     "metadata": {},
     "output_type": "execute_result"
    }
   ],
   "source": [
    "pointing_ra_dec.shape"
   ]
  },
  {
   "cell_type": "code",
   "execution_count": 11,
   "id": "55b94c5f-2a76-49f3-84dd-ae82c451cb20",
   "metadata": {},
   "outputs": [],
   "source": [
    "#Setup point source skycoord\n",
    "#point_source_ra_dec:  [n_time, n_point_sources, 2]          (singleton: n_time)\n",
    "point_source_skycoord = SkyCoord(ra='20h00m28.5s',dec='+40d44m01.5s',frame='fk5') #sim\n",
    "point_source_skycoord2 = SkyCoord(ra='19h58m28.5s',dec='+40d44m01.5s',frame='fk5') #sim\n",
    "#point_source_skycoord = SkyCoord(ra='19h59m0.0s',dec='+89d54m01.5s',frame='fk5') #zenith\n",
    "point_source_ra_dec = np.array([point_source_skycoord.ra.rad,point_source_skycoord.dec.rad])[None,None,:]*np.ones(5).reshape(5, 1, 1)\n",
    "point_source_ra_dec2 = np.array([point_source_skycoord2.ra.rad,point_source_skycoord2.dec.rad])[None,None,:]*np.ones(5).reshape(5, 1, 1)\n",
    "point_source_ra_dec = np.append(point_source_ra_dec, point_source_ra_dec2, axis = 0)"
   ]
  },
  {
   "cell_type": "code",
   "execution_count": 12,
   "id": "b727377a-6932-4c19-b00e-861087f4888a",
   "metadata": {},
   "outputs": [
    {
     "data": {
      "text/plain": [
       "(10, 1, 2)"
      ]
     },
     "execution_count": 12,
     "metadata": {},
     "output_type": "execute_result"
    }
   ],
   "source": [
    "point_source_ra_dec.shape"
   ]
  },
  {
   "cell_type": "code",
   "execution_count": 13,
   "id": "1156cb2e-edca-4478-aca2-92418ad0f35b",
   "metadata": {},
   "outputs": [],
   "source": [
    "#Source flux\n",
    "#point_source_flux: [n_time, n_chan, n_pol, n_point_sources] (singleton: n_time, n_chan, n_pol)\n",
    "point_source_flux = np.array([2.17, 2.17])[None,None,None,:]*np.ones(10).reshape(10, 1, 1, 1)"
   ]
  },
  {
   "cell_type": "code",
   "execution_count": 14,
   "id": "0ebca430-a882-49ed-8dbd-7fd464013918",
   "metadata": {},
   "outputs": [
    {
     "data": {
      "text/plain": [
       "(10, 1, 1, 2)"
      ]
     },
     "execution_count": 14,
     "metadata": {},
     "output_type": "execute_result"
    }
   ],
   "source": [
    "point_source_flux.shape"
   ]
  },
  {
   "cell_type": "code",
   "execution_count": 15,
   "id": "7af821b9-d836-4831-948c-24d465be76f1",
   "metadata": {},
   "outputs": [],
   "source": [
    "#Primary Beam Model parameters\n",
    "pb_parms = {}\n",
    "pb_parms['pb_func'] = 'casa_airy' # casa_airy/airy/none\n",
    "#pb_parms['pb_func'] = 'none'\n",
    "pb_parms['dish_diameter'] = 24.5\n",
    "pb_parms['blockage_diameter'] = 0.0\n",
    "pb_parms['ipower'] = 2 #CHANGE"
   ]
  },
  {
   "cell_type": "code",
   "execution_count": 16,
   "id": "cc01af06-000c-4536-9f31-afaba85fb737",
   "metadata": {},
   "outputs": [
    {
     "name": "stdout",
     "output_type": "stream",
     "text": [
      "lmn is [0. 0. 0.]\n",
      "lmn is [0. 0. 0.]\n",
      "lmn is [0. 0. 0.]\n",
      "lmn is [0. 0. 0.]\n",
      "lmn is [0. 0. 0.]\n",
      "lmn is [0. 0. 0.]\n",
      "lmn is [0. 0. 0.]\n",
      "lmn is [0. 0. 0.]\n",
      "lmn is [0. 0. 0.]\n",
      "lmn is [0. 0. 0.]\n",
      "lmn is [0. 0. 0.]\n",
      "lmn is [0. 0. 0.]\n",
      "lmn is [0. 0. 0.]\n",
      "lmn is [0. 0. 0.]\n",
      "lmn is [0. 0. 0.]\n",
      "lmn is [0. 0. 0.]\n",
      "lmn is [0. 0. 0.]\n",
      "lmn is [0. 0. 0.]\n",
      "lmn is [0. 0. 0.]\n",
      "lmn is [0. 0. 0.]\n",
      "lmn is [0. 0. 0.]\n",
      "lmn is [0. 0. 0.]\n",
      "lmn is [0. 0. 0.]\n",
      "lmn is [0. 0. 0.]\n",
      "lmn is [0. 0. 0.]\n",
      "lmn is [0. 0. 0.]\n",
      "lmn is [0. 0. 0.]\n",
      "lmn is [0. 0. 0.]\n",
      "lmn is [0. 0. 0.]\n",
      "lmn is [0. 0. 0.]\n",
      "lmn is [0. 0. 0.]\n",
      "lmn is [0. 0. 0.]\n",
      "lmn is [0. 0. 0.]\n",
      "lmn is [0. 0. 0.]\n",
      "lmn is [0. 0. 0.]\n",
      "lmn is [0. 0. 0.]\n",
      "lmn is [0. 0. 0.]\n",
      "lmn is [0. 0. 0.]\n",
      "lmn is [0. 0. 0.]\n",
      "lmn is [0. 0. 0.]\n",
      "lmn is [0. 0. 0.]\n",
      "lmn is [0. 0. 0.]\n",
      "lmn is [0. 0. 0.]\n",
      "lmn is [0. 0. 0.]\n",
      "lmn is [0. 0. 0.]\n",
      "lmn is [0. 0. 0.]\n",
      "lmn is [0. 0. 0.]\n",
      "lmn is [0. 0. 0.]\n",
      "lmn is [0. 0. 0.]\n",
      "lmn is [0. 0. 0.]\n",
      "lmn is [0. 0. 0.]\n",
      "lmn is [0. 0. 0.]\n",
      "lmn is [0. 0. 0.]\n",
      "lmn is [0. 0. 0.]\n",
      "lmn is [0. 0. 0.]\n",
      "lmn is [0. 0. 0.]\n",
      "lmn is [0. 0. 0.]\n",
      "lmn is [0. 0. 0.]\n",
      "lmn is [0. 0. 0.]\n",
      "lmn is [0. 0. 0.]\n",
      "lmn is [0. 0. 0.]\n",
      "lmn is [0. 0. 0.]\n",
      "lmn is [0. 0. 0.]\n",
      "lmn is [0. 0. 0.]\n",
      "lmn is [0. 0. 0.]\n",
      "lmn is [0. 0. 0.]\n",
      "lmn is [0. 0. 0.]\n",
      "lmn is [0. 0. 0.]\n",
      "lmn is [0. 0. 0.]\n",
      "lmn is [0. 0. 0.]\n",
      "lmn is [0. 0. 0.]\n",
      "lmn is [0. 0. 0.]\n",
      "lmn is [0. 0. 0.]\n",
      "lmn is [0. 0. 0.]\n",
      "lmn is [0. 0. 0.]\n",
      "lmn is [0. 0. 0.]\n",
      "lmn is [0. 0. 0.]\n",
      "lmn is [0. 0. 0.]\n",
      "lmn is [0. 0. 0.]\n",
      "lmn is [0. 0. 0.]\n",
      "lmn is [0. 0. 0.]\n",
      "lmn is [0. 0. 0.]\n",
      "lmn is [0. 0. 0.]\n",
      "lmn is [0. 0. 0.]\n",
      "lmn is [0. 0. 0.]\n",
      "lmn is [0. 0. 0.]\n",
      "lmn is [0. 0. 0.]\n",
      "lmn is [0. 0. 0.]\n",
      "lmn is [0. 0. 0.]\n",
      "lmn is [0. 0. 0.]\n",
      "Compute Time 0.046694278717041016\n"
     ]
    }
   ],
   "source": [
    "start = time.time()\n",
    "vis_data = calc_vis(uvw,cas_vis_data.shape,point_source_flux,point_source_ra_dec,pointing_ra_dec,freq_chan,pb_parms)\n",
    "print('Compute Time', time.time()-start)"
   ]
  },
  {
   "cell_type": "code",
   "execution_count": 17,
   "id": "d13e5908-1ef4-4b83-aad0-8925dfd96a5f",
   "metadata": {},
   "outputs": [],
   "source": [
    "abs_dif = np.ravel(np.abs(cas_vis_data[:,:,:,0]-vis_data[:,:,:,0])/np.abs(vis_data[:,:,:,0]))"
   ]
  },
  {
   "cell_type": "code",
   "execution_count": 18,
   "id": "f0f93e90-e4b7-440a-a7a2-d3df12b50224",
   "metadata": {},
   "outputs": [
    {
     "data": {
      "text/plain": [
       "(10, 3, 3, 2)"
      ]
     },
     "execution_count": 18,
     "metadata": {},
     "output_type": "execute_result"
    }
   ],
   "source": [
    "cas_vis_data.shape"
   ]
  },
  {
   "cell_type": "code",
   "execution_count": 19,
   "id": "13e64450-d640-4a6a-96bc-2c8d7f5a33ee",
   "metadata": {},
   "outputs": [
    {
     "data": {
      "text/plain": [
       "(10, 3, 3, 2)"
      ]
     },
     "execution_count": 19,
     "metadata": {},
     "output_type": "execute_result"
    }
   ],
   "source": [
    "vis_data.shape"
   ]
  },
  {
   "cell_type": "code",
   "execution_count": 20,
   "id": "bd3c14ff-f1f0-4cb0-8fca-a7050781f22d",
   "metadata": {},
   "outputs": [
    {
     "data": {
      "text/plain": [
       "Text(0, 0.5, 'Relative Change (out of 1)')"
      ]
     },
     "execution_count": 20,
     "metadata": {},
     "output_type": "execute_result"
    },
    {
     "data": {
      "image/png": "[encoded data removed]",
      "text/plain": [
       "<Figure size 432x288 with 1 Axes>"
      ]
     },
     "metadata": {
      "needs_background": "light"
     },
     "output_type": "display_data"
    }
   ],
   "source": [
    "plt.figure()\n",
    "plt.plot(abs_dif)\n",
    "plt.xlabel('Vis Number (ravel)')\n",
    "plt.ylabel('Relative Change (out of 1)')"
   ]
  },
  {
   "cell_type": "markdown",
   "id": "2776fb53-1a87-45a6-b593-40290eaa60cc",
   "metadata": {},
   "source": [
    "### Create Image Using ngCASA"
   ]
  },
  {
   "cell_type": "code",
   "execution_count": 21,
   "id": "6d0e39d7-bbcc-41ac-825f-299a6da85b21",
   "metadata": {},
   "outputs": [],
   "source": [
    "#from cngi.vis import apply_flags\n",
    "from ngcasa.imaging import make_imaging_weight\n",
    "from ngcasa.imaging import make_image\n",
    "from ngcasa.imaging import make_pb\n",
    "from cngi.dio import write_image\n",
    "import dask\n",
    "import dask.array as da"
   ]
  },
  {
   "cell_type": "code",
   "execution_count": 22,
   "id": "630e5e81-db83-42df-a067-e76e3e6da81a",
   "metadata": {},
   "outputs": [],
   "source": [
    "rad_to_deg =  180/np.pi\n",
    "deg_to_rad = np.pi/180\n",
    "arcsec_to_deg = 1/3600\n",
    "arcsec_to_rad = np.pi/(180*3600)"
   ]
  },
  {
   "cell_type": "code",
   "execution_count": 23,
   "id": "76bdcef6-fd0a-451f-8a02-543b500d7572",
   "metadata": {},
   "outputs": [],
   "source": [
    "#mxds = apply_flags(mxds, 'xds0', flags='FLAG')\n",
    "mxds.attrs['xds1'] = mxds.attrs['xds0'].isel(pol=slice(0,1))\n",
    "mxds.attrs['xds1']['DATA'] = xr.DataArray(da.from_array(vis_data[:,:,:,0][:,:,:,None],chunks=mxds.attrs['xds1']['DATA'].chunks),coords=mxds.attrs['xds1']['DATA'].coords)"
   ]
  },
  {
   "cell_type": "code",
   "execution_count": 24,
   "id": "3313046d-25a2-43fb-922d-e599e9f80666",
   "metadata": {},
   "outputs": [
    {
     "data": {
      "text/plain": [
       "<xarray.core.options.set_options at 0x7f1cc4bf7fd0>"
      ]
     },
     "execution_count": 24,
     "metadata": {},
     "output_type": "execute_result"
    }
   ],
   "source": [
    "from ngcasa.imaging import direction_rotate\n",
    "xr.set_options(display_style=\"html\")"
   ]
  },
  {
   "cell_type": "code",
   "execution_count": 25,
   "id": "ad78adb8-380c-4776-b25b-101f5d49d234",
   "metadata": {},
   "outputs": [],
   "source": [
    "grid_parms = {}\n",
    "grid_parms['chan_mode'] = 'cube'\n",
    "grid_parms['image_size'] = [400,200]\n",
    "grid_parms['cell_size'] = [20,20]\n",
    "grid_parms['phase_center'] = mxds.FIELD.PHASE_DIR[0,0,:].data.compute()"
   ]
  },
  {
   "cell_type": "code",
   "execution_count": 26,
   "id": "331fb2f4-15da-479a-962c-d58736799a85",
   "metadata": {},
   "outputs": [
    {
     "data": {
      "text/plain": [
       "[{'0': {'data': 'DATA',\n",
       "   'flag': 'FLAG',\n",
       "   'id': '0',\n",
       "   'uvw': 'UVW',\n",
       "   'weight': 'DATA_WEIGHT'},\n",
       "  '1': {'data': 'CORRECTED_DATA',\n",
       "   'flag': 'FLAG',\n",
       "   'id': '1',\n",
       "   'uvw': 'UVW',\n",
       "   'weight': 'CORRECTED_DATA_WEIGHT'}}]"
      ]
     },
     "execution_count": 26,
     "metadata": {},
     "output_type": "execute_result"
    }
   ],
   "source": [
    "mxds.xds1.data_groups"
   ]
  },
  {
   "cell_type": "code",
   "execution_count": 27,
   "id": "1b8d20d5-dcd0-4974-8388-c4cd3469a565",
   "metadata": {},
   "outputs": [
    {
     "name": "stdout",
     "output_type": "stream",
     "text": [
      "######################### Start direction_rotate #########################\n",
      "Setting data_group_in  to  {'data': 'DATA', 'flag': 'FLAG', 'id': '0', 'uvw': 'UVW', 'weight': 'DATA_WEIGHT'}\n",
      "Setting default data_group_out  to  {'data': 'DATA_ROT', 'flag': 'FLAG', 'id': '2', 'uvw': 'UVW_ROT', 'weight': 'DATA_WEIGHT'}\n",
      "######################### Created graph for direction_rotate #########################\n"
     ]
    }
   ],
   "source": [
    "sel_parms = {}\n",
    "sel_parms['xds'] = 'xds1' #KEEP USING XDS1 THROUGHOUT\n",
    "sel_parms['data_group_in_id'] = 0 #CHANGE TO DATA GROUP 2 AFTER ROTATION\n",
    "\n",
    "rotation_parms = {}\n",
    "rotation_parms['new_phase_center'] = grid_parms['phase_center']\n",
    "rotation_parms['common_tangent_reprojection'] = True\n",
    "rotation_parms['single_precision'] = False\n",
    "\n",
    "mxds = direction_rotate(mxds, rotation_parms, sel_parms)"
   ]
  },
  {
   "cell_type": "code",
   "execution_count": 28,
   "id": "2729e6ad-8322-40a4-8f20-ad98758c1fb8",
   "metadata": {},
   "outputs": [
    {
     "data": {
      "text/plain": [
       "[{'0': {'data': 'DATA',\n",
       "   'flag': 'FLAG',\n",
       "   'id': '0',\n",
       "   'uvw': 'UVW',\n",
       "   'weight': 'DATA_WEIGHT'},\n",
       "  '1': {'data': 'CORRECTED_DATA',\n",
       "   'flag': 'FLAG',\n",
       "   'id': '1',\n",
       "   'uvw': 'UVW',\n",
       "   'weight': 'CORRECTED_DATA_WEIGHT'},\n",
       "  '2': {'data': 'DATA_ROT',\n",
       "   'flag': 'FLAG',\n",
       "   'id': '2',\n",
       "   'uvw': 'UVW_ROT',\n",
       "   'weight': 'DATA_WEIGHT'}}]"
      ]
     },
     "execution_count": 28,
     "metadata": {},
     "output_type": "execute_result"
    }
   ],
   "source": [
    "mxds.xds1.data_groups"
   ]
  },
  {
   "cell_type": "code",
   "execution_count": 29,
   "id": "c281966c-fa45-499c-814f-e9100afb0dfe",
   "metadata": {},
   "outputs": [],
   "source": [
    "imaging_weights_parms = {}\n",
    "imaging_weights_parms['weighting'] = 'natural'"
   ]
  },
  {
   "cell_type": "code",
   "execution_count": 30,
   "id": "2be86fd6-eec3-4be7-aae0-c0b1e7d591f1",
   "metadata": {},
   "outputs": [],
   "source": [
    "sel_parms = {}\n",
    "sel_parms['xds'] = 'xds1'\n",
    "sel_parms['data_group_in_id'] = 2"
   ]
  },
  {
   "cell_type": "code",
   "execution_count": 31,
   "id": "bf430815-db61-4767-80ab-bfdfa2227d83",
   "metadata": {},
   "outputs": [
    {
     "name": "stdout",
     "output_type": "stream",
     "text": [
      "######################### Start make_imaging_weights #########################\n",
      "Setting data_group_in  to  {'data': 'DATA_ROT', 'flag': 'FLAG', 'id': '2', 'uvw': 'UVW_ROT', 'weight': 'DATA_WEIGHT'}\n",
      "Setting default data_group_out  to  {'data': 'DATA_ROT', 'flag': 'FLAG', 'id': '2', 'uvw': 'UVW_ROT', 'weight': 'DATA_WEIGHT', 'imaging_weight': 'IMAGING_WEIGHT'}\n",
      "Since weighting is natural input weight will be reused as imaging weight.\n",
      "######################### Created graph for make_imaging_weight #########################\n"
     ]
    }
   ],
   "source": [
    "mxds = make_imaging_weight(mxds, imaging_weights_parms, grid_parms, sel_parms)"
   ]
  },
  {
   "cell_type": "code",
   "execution_count": 32,
   "id": "f7a93444-5597-48e9-80e1-e52eb86c1286",
   "metadata": {},
   "outputs": [],
   "source": [
    "vis_sel_parms = {}\n",
    "vis_sel_parms['xds'] = 'xds1'\n",
    "vis_sel_parms['data_group_in_id'] = 2"
   ]
  },
  {
   "cell_type": "code",
   "execution_count": 33,
   "id": "d75be9a0-4762-46dd-92aa-d4249ae5bef1",
   "metadata": {},
   "outputs": [],
   "source": [
    "img_sel_parms = {}\n",
    "img_sel_parms['data_group_out_id'] = 0"
   ]
  },
  {
   "cell_type": "code",
   "execution_count": 34,
   "id": "b9546449-8563-4ddc-a7f3-0f1bbd40f4e7",
   "metadata": {},
   "outputs": [
    {
     "name": "stdout",
     "output_type": "stream",
     "text": [
      "######################### Start make_gridding_convolution_function #########################\n",
      "Setting data_group_in  to  {'data': 'DATA_ROT', 'flag': 'FLAG', 'id': '2', 'uvw': 'UVW_ROT', 'weight': 'DATA_WEIGHT', 'imaging_weight': 'DATA_WEIGHT'}\n",
      "Setting default data_group_out  to  {'data': 'DATA_ROT', 'flag': 'FLAG', 'id': '3', 'uvw': 'UVW_ROT', 'weight': 'DATA_WEIGHT', 'imaging_weight': 'DATA_WEIGHT'}\n",
      "Setting default chan_tolerance_factor  to  0.005\n",
      "Setting default oversampling  to  [10, 10]\n",
      "Setting default max_support  to  [15, 15]\n",
      "Setting default support_cut_level  to  0.025\n",
      "Setting default a_chan_num_chunk  to  3\n",
      "Setting default image_center  to  [200 100]\n",
      "Setting default fft_padding  to  1.2\n",
      "#########################  Created graph for make_gridding_convolution_function #########################\n"
     ]
    }
   ],
   "source": [
    "from ngcasa.imaging import make_gridding_convolution_function\n",
    "from cngi.dio import write_image\n",
    "\n",
    "gcf_parms = {}\n",
    "gcf_parms['function'] = 'alma_airy'\n",
    "gcf_parms['list_dish_diameters'] = np.array([24.5])\n",
    "gcf_parms['list_blockage_diameters'] = np.array([0])\n",
    "\n",
    "unique_ant_indx = mxds.ANTENNA.DISH_DIAMETER.values\n",
    "unique_ant_indx[unique_ant_indx == 25] = 0\n",
    "\n",
    "gcf_parms['unique_ant_indx'] = unique_ant_indx.astype(int)\n",
    "gcf_parms['phase_center'] = grid_parms['phase_center']\n",
    "\n",
    "sel_parms = {}\n",
    "sel_parms['xds'] = 'xds1'\n",
    "sel_parms['data_group_in_id'] = 2\n",
    "\n",
    "gcf_xds = make_gridding_convolution_function(mxds, gcf_parms, grid_parms, sel_parms)"
   ]
  },
  {
   "cell_type": "code",
   "execution_count": 35,
   "id": "b29d677f-0811-4dbb-98fe-7837d6f5db7e",
   "metadata": {},
   "outputs": [
    {
     "name": "stdout",
     "output_type": "stream",
     "text": [
      "######################### Start make_mosaic_pb #########################\n",
      "Setting default image_center  to  [200 100]\n",
      "Setting default fft_padding  to  1.2\n",
      "Setting data_group_in  to  {'data': 'DATA_ROT', 'flag': 'FLAG', 'id': '2', 'uvw': 'UVW_ROT', 'weight': 'DATA_WEIGHT', 'imaging_weight': 'DATA_WEIGHT'}\n",
      "Setting default data_group_out  to  {'data': 'DATA_ROT', 'flag': 'FLAG', 'id': '3', 'uvw': 'UVW_ROT', 'weight': 'DATA_WEIGHT', 'imaging_weight': 'DATA_WEIGHT'}\n",
      "Setting default data_group_in  to  {'id': '0'}\n",
      "Setting default data_group_out [' pb ']  to  PB\n",
      "Setting default data_group_out [' weight_pb ']  to  WEIGHT_PB\n",
      "Setting default data_group_out [' weight_pb_sum_weight ']  to  WEIGHT_PB_SUM_WEIGHT\n",
      "#########################  Created graph for make_mosaic_pb #########################\n",
      "######################### Start make_image_with_gcf #########################\n",
      "Setting default image_center  to  [200 100]\n",
      "Setting default fft_padding  to  1.2\n",
      "Setting default single_precision  to  True\n",
      "Setting data_group_in  to  {'data': 'DATA_ROT', 'flag': 'FLAG', 'id': '2', 'uvw': 'UVW_ROT', 'weight': 'DATA_WEIGHT', 'imaging_weight': 'DATA_WEIGHT'}\n",
      "Setting default data_group_out  to  {'data': 'DATA_ROT', 'flag': 'FLAG', 'id': '3', 'uvw': 'UVW_ROT', 'weight': 'DATA_WEIGHT', 'imaging_weight': 'DATA_WEIGHT'}\n",
      "Setting data_group_in  to  {'id': '0', 'pb': 'PB', 'weight_pb': 'WEIGHT_PB', 'weight_pb_sum_weight': 'WEIGHT_PB_SUM_WEIGHT'}\n",
      "Setting default data_group_out [' pb ']  to  PB\n",
      "Setting default data_group_out [' weight_pb ']  to  WEIGHT_PB\n",
      "Setting default data_group_out [' weight_pb_sum_weight ']  to  WEIGHT_PB_SUM_WEIGHT\n",
      "Setting default data_group_out [' sum_weight ']  to  SUM_WEIGHT\n",
      "Setting default data_group_out [' image ']  to  IMAGE\n",
      "grid sizes 480 240\n",
      "#########################  Created graph for make_mosaic_with_gcf #########################\n"
     ]
    }
   ],
   "source": [
    "from ngcasa.imaging import make_image_with_gcf\n",
    "from ngcasa.imaging import make_mosaic_pb\n",
    "img_xds = xr.Dataset() #empty dataset\n",
    "vis_sel_parms = {}\n",
    "vis_sel_parms['xds'] = 'xds1'\n",
    "vis_sel_parms['data_group_in_id'] = 2\n",
    "\n",
    "img_xds = make_mosaic_pb(mxds,gcf_xds,img_xds,vis_sel_parms,img_sel_parms,grid_parms)\n",
    "\n",
    "vis_select_parms = {}\n",
    "vis_select_parms['xds'] = 'xds1'\n",
    "vis_select_parms['data_group_in_id'] = 2\n",
    "\n",
    "img_select_parms = {}\n",
    "img_select_parms['data_group_in_id'] = 0\n",
    "img_select_parms['data_group_out_id'] = 0\n",
    "\n",
    "norm_parms = {}\n",
    "norm_parms['norm_type'] = 'flat_sky'\n",
    "\n",
    "img_xds = make_image_with_gcf(mxds,gcf_xds, img_xds, grid_parms, norm_parms, vis_select_parms, img_select_parms)\n",
    "#Need make_image_with_gcf instead of make_image, add make_gridding_convolutional_function, direction_rotate\n",
    "#Note: if no primary beam, use 'flat_noise' instead of 'flat_sky'"
   ]
  },
  {
   "cell_type": "code",
   "execution_count": 36,
   "id": "813aa8a1-cde4-4060-a131-1700fb0e954f",
   "metadata": {},
   "outputs": [
    {
     "data": {
      "text/plain": [
       "[{'0': {'id': '0',\n",
       "   'pb': 'PB',\n",
       "   'weight_pb': 'WEIGHT_PB',\n",
       "   'weight_pb_sum_weight': 'WEIGHT_PB_SUM_WEIGHT',\n",
       "   'sum_weight': 'SUM_WEIGHT',\n",
       "   'image': 'IMAGE'}}]"
      ]
     },
     "execution_count": 36,
     "metadata": {},
     "output_type": "execute_result"
    }
   ],
   "source": [
    "img_xds.data_groups"
   ]
  },
  {
   "cell_type": "code",
   "execution_count": 37,
   "id": "48a9da02-2d6b-4d87-b2c5-a834b87fbeb6",
   "metadata": {},
   "outputs": [
    {
     "data": {
      "text/plain": [
       "[{'0': {'data': 'DATA',\n",
       "   'flag': 'FLAG',\n",
       "   'id': '0',\n",
       "   'uvw': 'UVW',\n",
       "   'weight': 'DATA_WEIGHT'},\n",
       "  '1': {'data': 'CORRECTED_DATA',\n",
       "   'flag': 'FLAG',\n",
       "   'id': '1',\n",
       "   'uvw': 'UVW',\n",
       "   'weight': 'CORRECTED_DATA_WEIGHT'},\n",
       "  '2': {'data': 'DATA_ROT',\n",
       "   'flag': 'FLAG',\n",
       "   'id': '2',\n",
       "   'uvw': 'UVW_ROT',\n",
       "   'weight': 'DATA_WEIGHT',\n",
       "   'imaging_weight': 'DATA_WEIGHT'}}]"
      ]
     },
     "execution_count": 37,
     "metadata": {},
     "output_type": "execute_result"
    }
   ],
   "source": [
    "mxds.xds1.data_groups"
   ]
  },
  {
   "cell_type": "code",
   "execution_count": 38,
   "id": "c3f79034-c642-4e8b-9387-5aece34b6984",
   "metadata": {},
   "outputs": [],
   "source": [
    "#Select chan 1\n",
    "chan = 1\n",
    "ngcasa_image_name = 'IMAGE'\n",
    "pb_limit = 0.2\n",
    "#extent = extent=(np.min(casa_img_xds.m),np.max(casa_img_xds.m),np.min(casa_img_xds.l),np.max(casa_img_xds.l))\n",
    "\n",
    "mosaic_pb = img_xds.PB.isel(chan=chan)\n",
    "mosaic_img = img_xds[ngcasa_image_name].isel(chan=chan)\n",
    "mosaic_img = mosaic_img.where(mosaic_pb > pb_limit,other=np.nan)"
   ]
  },
  {
   "cell_type": "code",
   "execution_count": 39,
   "id": "abb076a3-ff4c-4bdf-ab82-d5103adff2c4",
   "metadata": {},
   "outputs": [
    {
     "data": {
      "text/html": [
       "<div><svg style=\"position: absolute; width: 0; height: 0; overflow: hidden\">\n",
       "<defs>\n",
       "<symbol id=\"icon-database\" viewBox=\"0 0 32 32\">\n",
       "<path d=\"M16 0c-8.837 0-16 2.239-16 5v4c0 2.761 7.163 5 16 5s16-2.239 16-5v-4c0-2.761-7.163-5-16-5z\"></path>\n",
       "<path d=\"M16 17c-8.837 0-16-2.239-16-5v6c0 2.761 7.163 5 16 5s16-2.239 16-5v-6c0 2.761-7.163 5-16 5z\"></path>\n",
       "<path d=\"M16 26c-8.837 0-16-2.239-16-5v6c0 2.761 7.163 5 16 5s16-2.239 16-5v-6c0 2.761-7.163 5-16 5z\"></path>\n",
       "</symbol>\n",
       "<symbol id=\"icon-file-text2\" viewBox=\"0 0 32 32\">\n",
       "<path d=\"M28.681 7.159c-0.694-0.947-1.662-2.053-2.724-3.116s-2.169-2.030-3.116-2.724c-1.612-1.182-2.393-1.319-2.841-1.319h-15.5c-1.378 0-2.5 1.121-2.5 2.5v27c0 1.378 1.122 2.5 2.5 2.5h23c1.378 0 2.5-1.122 2.5-2.5v-19.5c0-0.448-0.137-1.23-1.319-2.841zM24.543 5.457c0.959 0.959 1.712 1.825 2.268 2.543h-4.811v-4.811c0.718 0.556 1.584 1.309 2.543 2.268zM28 29.5c0 0.271-0.229 0.5-0.5 0.5h-23c-0.271 0-0.5-0.229-0.5-0.5v-27c0-0.271 0.229-0.5 0.5-0.5 0 0 15.499-0 15.5 0v7c0 0.552 0.448 1 1 1h7v19.5z\"></path>\n",
       "<path d=\"M23 26h-14c-0.552 0-1-0.448-1-1s0.448-1 1-1h14c0.552 0 1 0.448 1 1s-0.448 1-1 1z\"></path>\n",
       "<path d=\"M23 22h-14c-0.552 0-1-0.448-1-1s0.448-1 1-1h14c0.552 0 1 0.448 1 1s-0.448 1-1 1z\"></path>\n",
       "<path d=\"M23 18h-14c-0.552 0-1-0.448-1-1s0.448-1 1-1h14c0.552 0 1 0.448 1 1s-0.448 1-1 1z\"></path>\n",
       "</symbol>\n",
       "</defs>\n",
       "</svg>\n",
       "<style>/* CSS stylesheet for displaying xarray objects in jupyterlab.\n",
       " *\n",
       " */\n",
       "\n",
       ":root {\n",
       "  --xr-font-color0: var(--jp-content-font-color0, rgba(0, 0, 0, 1));\n",
       "  --xr-font-color2: var(--jp-content-font-color2, rgba(0, 0, 0, 0.54));\n",
       "  --xr-font-color3: var(--jp-content-font-color3, rgba(0, 0, 0, 0.38));\n",
       "  --xr-border-color: var(--jp-border-color2, #e0e0e0);\n",
       "  --xr-disabled-color: var(--jp-layout-color3, #bdbdbd);\n",
       "  --xr-background-color: var(--jp-layout-color0, white);\n",
       "  --xr-background-color-row-even: var(--jp-layout-color1, white);\n",
       "  --xr-background-color-row-odd: var(--jp-layout-color2, #eeeeee);\n",
       "}\n",
       "\n",
       "html[theme=dark],\n",
       "body.vscode-dark {\n",
       "  --xr-font-color0: rgba(255, 255, 255, 1);\n",
       "  --xr-font-color2: rgba(255, 255, 255, 0.54);\n",
       "  --xr-font-color3: rgba(255, 255, 255, 0.38);\n",
       "  --xr-border-color: #1F1F1F;\n",
       "  --xr-disabled-color: #515151;\n",
       "  --xr-background-color: #111111;\n",
       "  --xr-background-color-row-even: #111111;\n",
       "  --xr-background-color-row-odd: #313131;\n",
       "}\n",
       "\n",
       ".xr-wrap {\n",
       "  display: block;\n",
       "  min-width: 300px;\n",
       "  max-width: 700px;\n",
       "}\n",
       "\n",
       ".xr-text-repr-fallback {\n",
       "  /* fallback to plain text repr when CSS is not injected (untrusted notebook) */\n",
       "  display: none;\n",
       "}\n",
       "\n",
       ".xr-header {\n",
       "  padding-top: 6px;\n",
       "  padding-bottom: 6px;\n",
       "  margin-bottom: 4px;\n",
       "  border-bottom: solid 1px var(--xr-border-color);\n",
       "}\n",
       "\n",
       ".xr-header > div,\n",
       ".xr-header > ul {\n",
       "  display: inline;\n",
       "  margin-top: 0;\n",
       "  margin-bottom: 0;\n",
       "}\n",
       "\n",
       ".xr-obj-type,\n",
       ".xr-array-name {\n",
       "  margin-left: 2px;\n",
       "  margin-right: 10px;\n",
       "}\n",
       "\n",
       ".xr-obj-type {\n",
       "  color: var(--xr-font-color2);\n",
       "}\n",
       "\n",
       ".xr-sections {\n",
       "  padding-left: 0 !important;\n",
       "  display: grid;\n",
       "  grid-template-columns: 150px auto auto 1fr 20px 20px;\n",
       "}\n",
       "\n",
       ".xr-section-item {\n",
       "  display: contents;\n",
       "}\n",
       "\n",
       ".xr-section-item input {\n",
       "  display: none;\n",
       "}\n",
       "\n",
       ".xr-section-item input + label {\n",
       "  color: var(--xr-disabled-color);\n",
       "}\n",
       "\n",
       ".xr-section-item input:enabled + label {\n",
       "  cursor: pointer;\n",
       "  color: var(--xr-font-color2);\n",
       "}\n",
       "\n",
       ".xr-section-item input:enabled + label:hover {\n",
       "  color: var(--xr-font-color0);\n",
       "}\n",
       "\n",
       ".xr-section-summary {\n",
       "  grid-column: 1;\n",
       "  color: var(--xr-font-color2);\n",
       "  font-weight: 500;\n",
       "}\n",
       "\n",
       ".xr-section-summary > span {\n",
       "  display: inline-block;\n",
       "  padding-left: 0.5em;\n",
       "}\n",
       "\n",
       ".xr-section-summary-in:disabled + label {\n",
       "  color: var(--xr-font-color2);\n",
       "}\n",
       "\n",
       ".xr-section-summary-in + label:before {\n",
       "  display: inline-block;\n",
       "  content: '►';\n",
       "  font-size: 11px;\n",
       "  width: 15px;\n",
       "  text-align: center;\n",
       "}\n",
       "\n",
       ".xr-section-summary-in:disabled + label:before {\n",
       "  color: var(--xr-disabled-color);\n",
       "}\n",
       "\n",
       ".xr-section-summary-in:checked + label:before {\n",
       "  content: '▼';\n",
       "}\n",
       "\n",
       ".xr-section-summary-in:checked + label > span {\n",
       "  display: none;\n",
       "}\n",
       "\n",
       ".xr-section-summary,\n",
       ".xr-section-inline-details {\n",
       "  padding-top: 4px;\n",
       "  padding-bottom: 4px;\n",
       "}\n",
       "\n",
       ".xr-section-inline-details {\n",
       "  grid-column: 2 / -1;\n",
       "}\n",
       "\n",
       ".xr-section-details {\n",
       "  display: none;\n",
       "  grid-column: 1 / -1;\n",
       "  margin-bottom: 5px;\n",
       "}\n",
       "\n",
       ".xr-section-summary-in:checked ~ .xr-section-details {\n",
       "  display: contents;\n",
       "}\n",
       "\n",
       ".xr-array-wrap {\n",
       "  grid-column: 1 / -1;\n",
       "  display: grid;\n",
       "  grid-template-columns: 20px auto;\n",
       "}\n",
       "\n",
       ".xr-array-wrap > label {\n",
       "  grid-column: 1;\n",
       "  vertical-align: top;\n",
       "}\n",
       "\n",
       ".xr-preview {\n",
       "  color: var(--xr-font-color3);\n",
       "}\n",
       "\n",
       ".xr-array-preview,\n",
       ".xr-array-data {\n",
       "  padding: 0 5px !important;\n",
       "  grid-column: 2;\n",
       "}\n",
       "\n",
       ".xr-array-data,\n",
       ".xr-array-in:checked ~ .xr-array-preview {\n",
       "  display: none;\n",
       "}\n",
       "\n",
       ".xr-array-in:checked ~ .xr-array-data,\n",
       ".xr-array-preview {\n",
       "  display: inline-block;\n",
       "}\n",
       "\n",
       ".xr-dim-list {\n",
       "  display: inline-block !important;\n",
       "  list-style: none;\n",
       "  padding: 0 !important;\n",
       "  margin: 0;\n",
       "}\n",
       "\n",
       ".xr-dim-list li {\n",
       "  display: inline-block;\n",
       "  padding: 0;\n",
       "  margin: 0;\n",
       "}\n",
       "\n",
       ".xr-dim-list:before {\n",
       "  content: '(';\n",
       "}\n",
       "\n",
       ".xr-dim-list:after {\n",
       "  content: ')';\n",
       "}\n",
       "\n",
       ".xr-dim-list li:not(:last-child):after {\n",
       "  content: ',';\n",
       "  padding-right: 5px;\n",
       "}\n",
       "\n",
       ".xr-has-index {\n",
       "  font-weight: bold;\n",
       "}\n",
       "\n",
       ".xr-var-list,\n",
       ".xr-var-item {\n",
       "  display: contents;\n",
       "}\n",
       "\n",
       ".xr-var-item > div,\n",
       ".xr-var-item label,\n",
       ".xr-var-item > .xr-var-name span {\n",
       "  background-color: var(--xr-background-color-row-even);\n",
       "  margin-bottom: 0;\n",
       "}\n",
       "\n",
       ".xr-var-item > .xr-var-name:hover span {\n",
       "  padding-right: 5px;\n",
       "}\n",
       "\n",
       ".xr-var-list > li:nth-child(odd) > div,\n",
       ".xr-var-list > li:nth-child(odd) > label,\n",
       ".xr-var-list > li:nth-child(odd) > .xr-var-name span {\n",
       "  background-color: var(--xr-background-color-row-odd);\n",
       "}\n",
       "\n",
       ".xr-var-name {\n",
       "  grid-column: 1;\n",
       "}\n",
       "\n",
       ".xr-var-dims {\n",
       "  grid-column: 2;\n",
       "}\n",
       "\n",
       ".xr-var-dtype {\n",
       "  grid-column: 3;\n",
       "  text-align: right;\n",
       "  color: var(--xr-font-color2);\n",
       "}\n",
       "\n",
       ".xr-var-preview {\n",
       "  grid-column: 4;\n",
       "}\n",
       "\n",
       ".xr-var-name,\n",
       ".xr-var-dims,\n",
       ".xr-var-dtype,\n",
       ".xr-preview,\n",
       ".xr-attrs dt {\n",
       "  white-space: nowrap;\n",
       "  overflow: hidden;\n",
       "  text-overflow: ellipsis;\n",
       "  padding-right: 10px;\n",
       "}\n",
       "\n",
       ".xr-var-name:hover,\n",
       ".xr-var-dims:hover,\n",
       ".xr-var-dtype:hover,\n",
       ".xr-attrs dt:hover {\n",
       "  overflow: visible;\n",
       "  width: auto;\n",
       "  z-index: 1;\n",
       "}\n",
       "\n",
       ".xr-var-attrs,\n",
       ".xr-var-data {\n",
       "  display: none;\n",
       "  background-color: var(--xr-background-color) !important;\n",
       "  padding-bottom: 5px !important;\n",
       "}\n",
       "\n",
       ".xr-var-attrs-in:checked ~ .xr-var-attrs,\n",
       ".xr-var-data-in:checked ~ .xr-var-data {\n",
       "  display: block;\n",
       "}\n",
       "\n",
       ".xr-var-data > table {\n",
       "  float: right;\n",
       "}\n",
       "\n",
       ".xr-var-name span,\n",
       ".xr-var-data,\n",
       ".xr-attrs {\n",
       "  padding-left: 25px !important;\n",
       "}\n",
       "\n",
       ".xr-attrs,\n",
       ".xr-var-attrs,\n",
       ".xr-var-data {\n",
       "  grid-column: 1 / -1;\n",
       "}\n",
       "\n",
       "dl.xr-attrs {\n",
       "  padding: 0;\n",
       "  margin: 0;\n",
       "  display: grid;\n",
       "  grid-template-columns: 125px auto;\n",
       "}\n",
       "\n",
       ".xr-attrs dt,\n",
       ".xr-attrs dd {\n",
       "  padding: 0;\n",
       "  margin: 0;\n",
       "  float: left;\n",
       "  padding-right: 10px;\n",
       "  width: auto;\n",
       "}\n",
       "\n",
       ".xr-attrs dt {\n",
       "  font-weight: normal;\n",
       "  grid-column: 1;\n",
       "}\n",
       "\n",
       ".xr-attrs dt:hover span {\n",
       "  display: inline-block;\n",
       "  background: var(--xr-background-color);\n",
       "  padding-right: 10px;\n",
       "}\n",
       "\n",
       ".xr-attrs dd {\n",
       "  grid-column: 2;\n",
       "  white-space: pre-wrap;\n",
       "  word-break: break-all;\n",
       "}\n",
       "\n",
       ".xr-icon-database,\n",
       ".xr-icon-file-text2 {\n",
       "  display: inline-block;\n",
       "  vertical-align: middle;\n",
       "  width: 1em;\n",
       "  height: 1.5em !important;\n",
       "  stroke-width: 0;\n",
       "  stroke: currentColor;\n",
       "  fill: currentColor;\n",
       "}\n",
       "</style><pre class='xr-text-repr-fallback'>&lt;xarray.DataArray &#x27;IMAGE&#x27; (l: 400, m: 200, time: 1, pol: 1)&gt;\n",
       "dask.array&lt;where, shape=(400, 200, 1, 1), dtype=float32, chunksize=(400, 200, 1, 1), chunktype=numpy.ndarray&gt;\n",
       "Coordinates:\n",
       "    chan             float64 3.4e+09\n",
       "  * l                (l) float64 0.01939 0.0193 0.0192 ... -0.0192 -0.0193\n",
       "  * m                (m) float64 -0.009696 -0.009599 ... 0.009502 0.009599\n",
       "  * pol              (pol) int64 5\n",
       "  * time             (time) datetime64[ns] 2019-10-04T02:55:38.491905280\n",
       "    chan_width       float64 dask.array&lt;chunksize=(), meta=np.ndarray&gt;\n",
       "    right_ascension  (l, m) float64 -1.02 -1.02 -1.02 ... -1.071 -1.071 -1.071\n",
       "    declination      (l, m) float64 0.7011 0.7012 0.7013 ... 0.7203 0.7204</pre><div class='xr-wrap' hidden><div class='xr-header'><div class='xr-obj-type'>xarray.DataArray</div><div class='xr-array-name'>'IMAGE'</div><ul class='xr-dim-list'><li><span class='xr-has-index'>l</span>: 400</li><li><span class='xr-has-index'>m</span>: 200</li><li><span class='xr-has-index'>time</span>: 1</li><li><span class='xr-has-index'>pol</span>: 1</li></ul></div><ul class='xr-sections'><li class='xr-section-item'><div class='xr-array-wrap'><input id='section-81b2a09f-bd53-4380-9927-4875fbcfbff3' class='xr-array-in' type='checkbox' checked><label for='section-81b2a09f-bd53-4380-9927-4875fbcfbff3' title='Show/hide data repr'><svg class='icon xr-icon-database'><use xlink:href='#icon-database'></use></svg></label><div class='xr-array-preview xr-preview'><span>dask.array&lt;chunksize=(400, 200, 1, 1), meta=np.ndarray&gt;</span></div><div class='xr-array-data'><table>\n",
       "<tr>\n",
       "<td>\n",
       "<table>\n",
       "  <thead>\n",
       "    <tr><td> </td><th> Array </th><th> Chunk </th></tr>\n",
       "  </thead>\n",
       "  <tbody>\n",
       "    <tr><th> Bytes </th><td> 312.50 kiB </td> <td> 312.50 kiB </td></tr>\n",
       "    <tr><th> Shape </th><td> (400, 200, 1, 1) </td> <td> (400, 200, 1, 1) </td></tr>\n",
       "    <tr><th> Count </th><td> 396 Tasks </td><td> 1 Chunks </td></tr>\n",
       "    <tr><th> Type </th><td> float32 </td><td> numpy.ndarray </td></tr>\n",
       "  </tbody>\n",
       "</table>\n",
       "</td>\n",
       "<td>\n",
       "<svg width=\"490\" height=\"110\" style=\"stroke:rgb(0,0,0);stroke-width:1\" >\n",
       "\n",
       "  <!-- Horizontal lines -->\n",
       "  <line x1=\"0\" y1=\"0\" x2=\"120\" y2=\"0\" style=\"stroke-width:2\" />\n",
       "  <line x1=\"0\" y1=\"25\" x2=\"120\" y2=\"25\" style=\"stroke-width:2\" />\n",
       "\n",
       "  <!-- Vertical lines -->\n",
       "  <line x1=\"0\" y1=\"0\" x2=\"0\" y2=\"25\" style=\"stroke-width:2\" />\n",
       "  <line x1=\"120\" y1=\"0\" x2=\"120\" y2=\"25\" style=\"stroke-width:2\" />\n",
       "\n",
       "  <!-- Colored Rectangle -->\n",
       "  <polygon points=\"0.0,0.0 120.0,0.0 120.0,25.412616514582485 0.0,25.412616514582485\" style=\"fill:#ECB172A0;stroke-width:0\"/>\n",
       "\n",
       "  <!-- Text -->\n",
       "  <text x=\"60.000000\" y=\"45.412617\" font-size=\"1.0rem\" font-weight=\"100\" text-anchor=\"middle\" >400</text>\n",
       "  <text x=\"140.000000\" y=\"12.706308\" font-size=\"1.0rem\" font-weight=\"100\" text-anchor=\"middle\" transform=\"rotate(0,140.000000,12.706308)\">1</text>\n",
       "\n",
       "\n",
       "  <!-- Horizontal lines -->\n",
       "  <line x1=\"190\" y1=\"0\" x2=\"225\" y2=\"35\" style=\"stroke-width:2\" />\n",
       "  <line x1=\"190\" y1=\"25\" x2=\"225\" y2=\"60\" style=\"stroke-width:2\" />\n",
       "\n",
       "  <!-- Vertical lines -->\n",
       "  <line x1=\"190\" y1=\"0\" x2=\"190\" y2=\"25\" style=\"stroke-width:2\" />\n",
       "  <line x1=\"225\" y1=\"35\" x2=\"225\" y2=\"60\" style=\"stroke-width:2\" />\n",
       "\n",
       "  <!-- Colored Rectangle -->\n",
       "  <polygon points=\"190.0,0.0 225.29411764705884,35.294117647058826 225.29411764705884,60.70673416164131 190.0,25.412616514582485\" style=\"fill:#ECB172A0;stroke-width:0\"/>\n",
       "\n",
       "  <!-- Horizontal lines -->\n",
       "  <line x1=\"190\" y1=\"0\" x2=\"215\" y2=\"0\" style=\"stroke-width:2\" />\n",
       "  <line x1=\"225\" y1=\"35\" x2=\"250\" y2=\"35\" style=\"stroke-width:2\" />\n",
       "\n",
       "  <!-- Vertical lines -->\n",
       "  <line x1=\"190\" y1=\"0\" x2=\"225\" y2=\"35\" style=\"stroke-width:2\" />\n",
       "  <line x1=\"215\" y1=\"0\" x2=\"250\" y2=\"35\" style=\"stroke-width:2\" />\n",
       "\n",
       "  <!-- Colored Rectangle -->\n",
       "  <polygon points=\"190.0,0.0 215.41261651458248,0.0 250.7067341616413,35.294117647058826 225.29411764705884,35.294117647058826\" style=\"fill:#ECB172A0;stroke-width:0\"/>\n",
       "\n",
       "  <!-- Horizontal lines -->\n",
       "  <line x1=\"225\" y1=\"35\" x2=\"250\" y2=\"35\" style=\"stroke-width:2\" />\n",
       "  <line x1=\"225\" y1=\"60\" x2=\"250\" y2=\"60\" style=\"stroke-width:2\" />\n",
       "\n",
       "  <!-- Vertical lines -->\n",
       "  <line x1=\"225\" y1=\"35\" x2=\"225\" y2=\"60\" style=\"stroke-width:2\" />\n",
       "  <line x1=\"250\" y1=\"35\" x2=\"250\" y2=\"60\" style=\"stroke-width:2\" />\n",
       "\n",
       "  <!-- Colored Rectangle -->\n",
       "  <polygon points=\"225.29411764705884,35.294117647058826 250.70673416164132,35.294117647058826 250.70673416164132,60.70673416164131 225.29411764705884,60.70673416164131\" style=\"fill:#ECB172A0;stroke-width:0\"/>\n",
       "\n",
       "  <!-- Text -->\n",
       "  <text x=\"238.000426\" y=\"80.706734\" font-size=\"1.0rem\" font-weight=\"100\" text-anchor=\"middle\" >1</text>\n",
       "  <text x=\"270.706734\" y=\"48.000426\" font-size=\"1.0rem\" font-weight=\"100\" text-anchor=\"middle\" transform=\"rotate(0,270.706734,48.000426)\">1</text>\n",
       "  <text x=\"197.647059\" y=\"63.059675\" font-size=\"1.0rem\" font-weight=\"100\" text-anchor=\"middle\" transform=\"rotate(45,197.647059,63.059675)\">200</text>\n",
       "</svg>\n",
       "</td>\n",
       "</tr>\n",
       "</table></div></div></li><li class='xr-section-item'><input id='section-acaaf482-c334-4945-a6df-a2acc6386a62' class='xr-section-summary-in' type='checkbox'  checked><label for='section-acaaf482-c334-4945-a6df-a2acc6386a62' class='xr-section-summary' >Coordinates: <span>(8)</span></label><div class='xr-section-inline-details'></div><div class='xr-section-details'><ul class='xr-var-list'><li class='xr-var-item'><div class='xr-var-name'><span>chan</span></div><div class='xr-var-dims'>()</div><div class='xr-var-dtype'>float64</div><div class='xr-var-preview xr-preview'>3.4e+09</div><input id='attrs-259acfca-e842-4d40-8a1f-8a88f83d7394' class='xr-var-attrs-in' type='checkbox' disabled><label for='attrs-259acfca-e842-4d40-8a1f-8a88f83d7394' title='Show/Hide attributes'><svg class='icon xr-icon-file-text2'><use xlink:href='#icon-file-text2'></use></svg></label><input id='data-14f1e304-ee14-4e9c-9cb8-465edc651f95' class='xr-var-data-in' type='checkbox'><label for='data-14f1e304-ee14-4e9c-9cb8-465edc651f95' title='Show/Hide data repr'><svg class='icon xr-icon-database'><use xlink:href='#icon-database'></use></svg></label><div class='xr-var-attrs'><dl class='xr-attrs'></dl></div><div class='xr-var-data'><pre>array(3.4e+09)</pre></div></li><li class='xr-var-item'><div class='xr-var-name'><span class='xr-has-index'>l</span></div><div class='xr-var-dims'>(l)</div><div class='xr-var-dtype'>float64</div><div class='xr-var-preview xr-preview'>0.01939 0.0193 ... -0.0192 -0.0193</div><input id='attrs-20e406e4-a6f0-4950-822f-c8193b05ebfe' class='xr-var-attrs-in' type='checkbox' disabled><label for='attrs-20e406e4-a6f0-4950-822f-c8193b05ebfe' title='Show/Hide attributes'><svg class='icon xr-icon-file-text2'><use xlink:href='#icon-file-text2'></use></svg></label><input id='data-b2ffe40e-af82-485f-9cfe-2b0d6000a190' class='xr-var-data-in' type='checkbox'><label for='data-b2ffe40e-af82-485f-9cfe-2b0d6000a190' title='Show/Hide data repr'><svg class='icon xr-icon-database'><use xlink:href='#icon-database'></use></svg></label><div class='xr-var-attrs'><dl class='xr-attrs'></dl></div><div class='xr-var-data'><pre>array([ 0.019393,  0.019296,  0.019199, ..., -0.019102, -0.019199, -0.019296])</pre></div></li><li class='xr-var-item'><div class='xr-var-name'><span class='xr-has-index'>m</span></div><div class='xr-var-dims'>(m)</div><div class='xr-var-dtype'>float64</div><div class='xr-var-preview xr-preview'>-0.009696 -0.009599 ... 0.009599</div><input id='attrs-9b04180f-78d4-41dd-a88d-ae47bd53cf3c' class='xr-var-attrs-in' type='checkbox' disabled><label for='attrs-9b04180f-78d4-41dd-a88d-ae47bd53cf3c' title='Show/Hide attributes'><svg class='icon xr-icon-file-text2'><use xlink:href='#icon-file-text2'></use></svg></label><input id='data-7190e55c-83cd-4c34-a3b0-5a4d0fb5dfac' class='xr-var-data-in' type='checkbox'><label for='data-7190e55c-83cd-4c34-a3b0-5a4d0fb5dfac' title='Show/Hide data repr'><svg class='icon xr-icon-database'><use xlink:href='#icon-database'></use></svg></label><div class='xr-var-attrs'><dl class='xr-attrs'></dl></div><div class='xr-var-data'><pre>array([-9.696274e-03, -9.599311e-03, -9.502348e-03, -9.405385e-03,\n",
       "       -9.308423e-03, -9.211460e-03, -9.114497e-03, -9.017534e-03,\n",
       "       -8.920572e-03, -8.823609e-03, -8.726646e-03, -8.629684e-03,\n",
       "       -8.532721e-03, -8.435758e-03, -8.338795e-03, -8.241833e-03,\n",
       "       -8.144870e-03, -8.047907e-03, -7.950944e-03, -7.853982e-03,\n",
       "       -7.757019e-03, -7.660056e-03, -7.563093e-03, -7.466131e-03,\n",
       "       -7.369168e-03, -7.272205e-03, -7.175242e-03, -7.078280e-03,\n",
       "       -6.981317e-03, -6.884354e-03, -6.787392e-03, -6.690429e-03,\n",
       "       -6.593466e-03, -6.496503e-03, -6.399541e-03, -6.302578e-03,\n",
       "       -6.205615e-03, -6.108652e-03, -6.011690e-03, -5.914727e-03,\n",
       "       -5.817764e-03, -5.720801e-03, -5.623839e-03, -5.526876e-03,\n",
       "       -5.429913e-03, -5.332950e-03, -5.235988e-03, -5.139025e-03,\n",
       "       -5.042062e-03, -4.945100e-03, -4.848137e-03, -4.751174e-03,\n",
       "       -4.654211e-03, -4.557249e-03, -4.460286e-03, -4.363323e-03,\n",
       "       -4.266360e-03, -4.169398e-03, -4.072435e-03, -3.975472e-03,\n",
       "       -3.878509e-03, -3.781547e-03, -3.684584e-03, -3.587621e-03,\n",
       "       -3.490659e-03, -3.393696e-03, -3.296733e-03, -3.199770e-03,\n",
       "       -3.102808e-03, -3.005845e-03, -2.908882e-03, -2.811919e-03,\n",
       "       -2.714957e-03, -2.617994e-03, -2.521031e-03, -2.424068e-03,\n",
       "       -2.327106e-03, -2.230143e-03, -2.133180e-03, -2.036217e-03,\n",
       "       -1.939255e-03, -1.842292e-03, -1.745329e-03, -1.648367e-03,\n",
       "       -1.551404e-03, -1.454441e-03, -1.357478e-03, -1.260516e-03,\n",
       "       -1.163553e-03, -1.066590e-03, -9.696274e-04, -8.726646e-04,\n",
       "       -7.757019e-04, -6.787392e-04, -5.817764e-04, -4.848137e-04,\n",
       "       -3.878509e-04, -2.908882e-04, -1.939255e-04, -9.696274e-05,\n",
       "        0.000000e+00,  9.696274e-05,  1.939255e-04,  2.908882e-04,\n",
       "        3.878509e-04,  4.848137e-04,  5.817764e-04,  6.787392e-04,\n",
       "        7.757019e-04,  8.726646e-04,  9.696274e-04,  1.066590e-03,\n",
       "        1.163553e-03,  1.260516e-03,  1.357478e-03,  1.454441e-03,\n",
       "        1.551404e-03,  1.648367e-03,  1.745329e-03,  1.842292e-03,\n",
       "        1.939255e-03,  2.036217e-03,  2.133180e-03,  2.230143e-03,\n",
       "        2.327106e-03,  2.424068e-03,  2.521031e-03,  2.617994e-03,\n",
       "        2.714957e-03,  2.811919e-03,  2.908882e-03,  3.005845e-03,\n",
       "        3.102808e-03,  3.199770e-03,  3.296733e-03,  3.393696e-03,\n",
       "        3.490659e-03,  3.587621e-03,  3.684584e-03,  3.781547e-03,\n",
       "        3.878509e-03,  3.975472e-03,  4.072435e-03,  4.169398e-03,\n",
       "        4.266360e-03,  4.363323e-03,  4.460286e-03,  4.557249e-03,\n",
       "        4.654211e-03,  4.751174e-03,  4.848137e-03,  4.945100e-03,\n",
       "        5.042062e-03,  5.139025e-03,  5.235988e-03,  5.332950e-03,\n",
       "        5.429913e-03,  5.526876e-03,  5.623839e-03,  5.720801e-03,\n",
       "        5.817764e-03,  5.914727e-03,  6.011690e-03,  6.108652e-03,\n",
       "        6.205615e-03,  6.302578e-03,  6.399541e-03,  6.496503e-03,\n",
       "        6.593466e-03,  6.690429e-03,  6.787392e-03,  6.884354e-03,\n",
       "        6.981317e-03,  7.078280e-03,  7.175242e-03,  7.272205e-03,\n",
       "        7.369168e-03,  7.466131e-03,  7.563093e-03,  7.660056e-03,\n",
       "        7.757019e-03,  7.853982e-03,  7.950944e-03,  8.047907e-03,\n",
       "        8.144870e-03,  8.241833e-03,  8.338795e-03,  8.435758e-03,\n",
       "        8.532721e-03,  8.629684e-03,  8.726646e-03,  8.823609e-03,\n",
       "        8.920572e-03,  9.017534e-03,  9.114497e-03,  9.211460e-03,\n",
       "        9.308423e-03,  9.405385e-03,  9.502348e-03,  9.599311e-03])</pre></div></li><li class='xr-var-item'><div class='xr-var-name'><span class='xr-has-index'>pol</span></div><div class='xr-var-dims'>(pol)</div><div class='xr-var-dtype'>int64</div><div class='xr-var-preview xr-preview'>5</div><input id='attrs-613b8c6a-cea4-494b-89ce-e3b3df31762c' class='xr-var-attrs-in' type='checkbox' disabled><label for='attrs-613b8c6a-cea4-494b-89ce-e3b3df31762c' title='Show/Hide attributes'><svg class='icon xr-icon-file-text2'><use xlink:href='#icon-file-text2'></use></svg></label><input id='data-d34aa0a0-5ecc-4397-8e75-e8707b17ffa3' class='xr-var-data-in' type='checkbox'><label for='data-d34aa0a0-5ecc-4397-8e75-e8707b17ffa3' title='Show/Hide data repr'><svg class='icon xr-icon-database'><use xlink:href='#icon-database'></use></svg></label><div class='xr-var-attrs'><dl class='xr-attrs'></dl></div><div class='xr-var-data'><pre>array([5])</pre></div></li><li class='xr-var-item'><div class='xr-var-name'><span class='xr-has-index'>time</span></div><div class='xr-var-dims'>(time)</div><div class='xr-var-dtype'>datetime64[ns]</div><div class='xr-var-preview xr-preview'>2019-10-04T02:55:38.491905280</div><input id='attrs-12a323fe-0d3b-4420-abf8-089b88051cfb' class='xr-var-attrs-in' type='checkbox' disabled><label for='attrs-12a323fe-0d3b-4420-abf8-089b88051cfb' title='Show/Hide attributes'><svg class='icon xr-icon-file-text2'><use xlink:href='#icon-file-text2'></use></svg></label><input id='data-3f2926cf-fc22-4762-91c7-b83bd64ab30f' class='xr-var-data-in' type='checkbox'><label for='data-3f2926cf-fc22-4762-91c7-b83bd64ab30f' title='Show/Hide data repr'><svg class='icon xr-icon-database'><use xlink:href='#icon-database'></use></svg></label><div class='xr-var-attrs'><dl class='xr-attrs'></dl></div><div class='xr-var-data'><pre>array([&#x27;2019-10-04T02:55:38.491905280&#x27;], dtype=&#x27;datetime64[ns]&#x27;)</pre></div></li><li class='xr-var-item'><div class='xr-var-name'><span>chan_width</span></div><div class='xr-var-dims'>()</div><div class='xr-var-dtype'>float64</div><div class='xr-var-preview xr-preview'>dask.array&lt;chunksize=(), meta=np.ndarray&gt;</div><input id='attrs-837a92be-5244-4265-bafd-9e14e17d62b3' class='xr-var-attrs-in' type='checkbox' disabled><label for='attrs-837a92be-5244-4265-bafd-9e14e17d62b3' title='Show/Hide attributes'><svg class='icon xr-icon-file-text2'><use xlink:href='#icon-file-text2'></use></svg></label><input id='data-d854b580-5551-49cb-bbfe-f79098545ef5' class='xr-var-data-in' type='checkbox'><label for='data-d854b580-5551-49cb-bbfe-f79098545ef5' title='Show/Hide data repr'><svg class='icon xr-icon-database'><use xlink:href='#icon-database'></use></svg></label><div class='xr-var-attrs'><dl class='xr-attrs'></dl></div><div class='xr-var-data'><table>\n",
       "<tr>\n",
       "<td>\n",
       "<table>\n",
       "  <thead>\n",
       "    <tr><td> </td><th> Array </th><th> Chunk </th></tr>\n",
       "  </thead>\n",
       "  <tbody>\n",
       "    <tr><th> Bytes </th><td> 8 B </td> <td> 8.0 B </td></tr>\n",
       "    <tr><th> Shape </th><td> () </td> <td> () </td></tr>\n",
       "    <tr><th> Count </th><td> 6 Tasks </td><td> 1 Chunks </td></tr>\n",
       "    <tr><th> Type </th><td> float64 </td><td> numpy.ndarray </td></tr>\n",
       "  </tbody>\n",
       "</table>\n",
       "</td>\n",
       "<td>\n",
       "\n",
       "</td>\n",
       "</tr>\n",
       "</table></div></li><li class='xr-var-item'><div class='xr-var-name'><span>right_ascension</span></div><div class='xr-var-dims'>(l, m)</div><div class='xr-var-dtype'>float64</div><div class='xr-var-preview xr-preview'>-1.02 -1.02 -1.02 ... -1.071 -1.071</div><input id='attrs-fabf9959-6a13-40d0-bb9a-3479bcc62c5b' class='xr-var-attrs-in' type='checkbox' disabled><label for='attrs-fabf9959-6a13-40d0-bb9a-3479bcc62c5b' title='Show/Hide attributes'><svg class='icon xr-icon-file-text2'><use xlink:href='#icon-file-text2'></use></svg></label><input id='data-2c7622cb-67d2-403a-8f4f-628654e48109' class='xr-var-data-in' type='checkbox'><label for='data-2c7622cb-67d2-403a-8f4f-628654e48109' title='Show/Hide data repr'><svg class='icon xr-icon-database'><use xlink:href='#icon-database'></use></svg></label><div class='xr-var-attrs'><dl class='xr-attrs'></dl></div><div class='xr-var-data'><pre>array([[-1.01974416, -1.01974208, -1.01974   , ..., -1.0193234 ,\n",
       "        -1.01932121, -1.01931901],\n",
       "       [-1.01987106, -1.01986899, -1.01986692, ..., -1.0194524 ,\n",
       "        -1.01945022, -1.01944803],\n",
       "       [-1.01999795, -1.0199959 , -1.01999384, ..., -1.0195814 ,\n",
       "        -1.01957923, -1.01957706],\n",
       "       ...,\n",
       "       [-1.07012509, -1.07012714, -1.07012919, ..., -1.07053954,\n",
       "        -1.0705417 , -1.07054387],\n",
       "       [-1.07025199, -1.07025405, -1.07025611, ..., -1.07066854,\n",
       "        -1.07067072, -1.07067289],\n",
       "       [-1.07037889, -1.07038096, -1.07038302, ..., -1.07079754,\n",
       "        -1.07079973, -1.07080191]])</pre></div></li><li class='xr-var-item'><div class='xr-var-name'><span>declination</span></div><div class='xr-var-dims'>(l, m)</div><div class='xr-var-dtype'>float64</div><div class='xr-var-preview xr-preview'>0.7011 0.7012 ... 0.7203 0.7204</div><input id='attrs-9d87ce64-6f2b-472e-be94-b4d5cdfc1f28' class='xr-var-attrs-in' type='checkbox' disabled><label for='attrs-9d87ce64-6f2b-472e-be94-b4d5cdfc1f28' title='Show/Hide attributes'><svg class='icon xr-icon-file-text2'><use xlink:href='#icon-file-text2'></use></svg></label><input id='data-9a93c34c-ba0e-45d8-b2dc-679ab3c4de7f' class='xr-var-data-in' type='checkbox'><label for='data-9a93c34c-ba0e-45d8-b2dc-679ab3c4de7f' title='Show/Hide data repr'><svg class='icon xr-icon-database'><use xlink:href='#icon-database'></use></svg></label><div class='xr-var-attrs'><dl class='xr-attrs'></dl></div><div class='xr-var-data'><pre>array([[0.70108102, 0.70117798, 0.70127493, ..., 0.72018031, 0.72027726,\n",
       "        0.72037422],\n",
       "       [0.70108262, 0.70117958, 0.70127653, ..., 0.72018194, 0.72027889,\n",
       "        0.72037584],\n",
       "       [0.70108422, 0.70118117, 0.70127813, ..., 0.72018356, 0.72028051,\n",
       "        0.72037746],\n",
       "       ...,\n",
       "       [0.7010858 , 0.70118276, 0.70127971, ..., 0.72018517, 0.72028212,\n",
       "        0.72037908],\n",
       "       [0.70108422, 0.70118117, 0.70127813, ..., 0.72018356, 0.72028051,\n",
       "        0.72037746],\n",
       "       [0.70108262, 0.70117958, 0.70127653, ..., 0.72018194, 0.72027889,\n",
       "        0.72037584]])</pre></div></li></ul></div></li><li class='xr-section-item'><input id='section-aa945179-834a-4ae4-839e-a1bc97568b6e' class='xr-section-summary-in' type='checkbox' disabled ><label for='section-aa945179-834a-4ae4-839e-a1bc97568b6e' class='xr-section-summary'  title='Expand/collapse section'>Attributes: <span>(0)</span></label><div class='xr-section-inline-details'></div><div class='xr-section-details'><dl class='xr-attrs'></dl></div></li></ul></div></div>"
      ],
      "text/plain": [
       "<xarray.DataArray 'IMAGE' (l: 400, m: 200, time: 1, pol: 1)>\n",
       "dask.array<where, shape=(400, 200, 1, 1), dtype=float32, chunksize=(400, 200, 1, 1), chunktype=numpy.ndarray>\n",
       "Coordinates:\n",
       "    chan             float64 3.4e+09\n",
       "  * l                (l) float64 0.01939 0.0193 0.0192 ... -0.0192 -0.0193\n",
       "  * m                (m) float64 -0.009696 -0.009599 ... 0.009502 0.009599\n",
       "  * pol              (pol) int64 5\n",
       "  * time             (time) datetime64[ns] 2019-10-04T02:55:38.491905280\n",
       "    chan_width       float64 dask.array<chunksize=(), meta=np.ndarray>\n",
       "    right_ascension  (l, m) float64 -1.02 -1.02 -1.02 ... -1.071 -1.071 -1.071\n",
       "    declination      (l, m) float64 0.7011 0.7012 0.7013 ... 0.7203 0.7204"
      ]
     },
     "execution_count": 39,
     "metadata": {},
     "output_type": "execute_result"
    }
   ],
   "source": [
    "mosaic_img"
   ]
  },
  {
   "cell_type": "code",
   "execution_count": 40,
   "id": "51dea7f5-b83d-40aa-8622-addac68e52d3",
   "metadata": {},
   "outputs": [
    {
     "ename": "AssertionError",
     "evalue": "######### ERROR: support_cut_level too small or imsize too small.39,*,15",
     "output_type": "error",
     "traceback": [
      "\u001b[0;31m---------------------------------------------------------------------------\u001b[0m",
      "\u001b[0;31mAssertionError\u001b[0m                            Traceback (most recent call last)",
      "\u001b[0;32m<ipython-input-40-c75f589f7ca5>\u001b[0m in \u001b[0;36m<module>\u001b[0;34m\u001b[0m\n\u001b[1;32m      1\u001b[0m \u001b[0mplt\u001b[0m\u001b[0;34m.\u001b[0m\u001b[0mfigure\u001b[0m\u001b[0;34m(\u001b[0m\u001b[0;34m)\u001b[0m\u001b[0;34m\u001b[0m\u001b[0;34m\u001b[0m\u001b[0m\n\u001b[1;32m      2\u001b[0m \u001b[0;31m#plt.imshow(img_xds.IMAGE.isel(chan=chan,time=0,pol=0))\u001b[0m\u001b[0;34m\u001b[0m\u001b[0;34m\u001b[0m\u001b[0;34m\u001b[0m\u001b[0m\n\u001b[0;32m----> 3\u001b[0;31m \u001b[0mplt\u001b[0m\u001b[0;34m.\u001b[0m\u001b[0mimshow\u001b[0m\u001b[0;34m(\u001b[0m\u001b[0mmosaic_img\u001b[0m\u001b[0;34m)\u001b[0m\u001b[0;34m\u001b[0m\u001b[0;34m\u001b[0m\u001b[0m\n\u001b[0m",
      "\u001b[0;32m~/miniconda3/envs/casa_env/lib/python3.7/site-packages/matplotlib/pyplot.py\u001b[0m in \u001b[0;36mimshow\u001b[0;34m(X, cmap, norm, aspect, interpolation, alpha, vmin, vmax, origin, extent, shape, filternorm, filterrad, imlim, resample, url, data, **kwargs)\u001b[0m\n\u001b[1;32m   2649\u001b[0m         \u001b[0mfilternorm\u001b[0m\u001b[0;34m=\u001b[0m\u001b[0mfilternorm\u001b[0m\u001b[0;34m,\u001b[0m \u001b[0mfilterrad\u001b[0m\u001b[0;34m=\u001b[0m\u001b[0mfilterrad\u001b[0m\u001b[0;34m,\u001b[0m \u001b[0mimlim\u001b[0m\u001b[0;34m=\u001b[0m\u001b[0mimlim\u001b[0m\u001b[0;34m,\u001b[0m\u001b[0;34m\u001b[0m\u001b[0;34m\u001b[0m\u001b[0m\n\u001b[1;32m   2650\u001b[0m         resample=resample, url=url, **({\"data\": data} if data is not\n\u001b[0;32m-> 2651\u001b[0;31m         None else {}), **kwargs)\n\u001b[0m\u001b[1;32m   2652\u001b[0m     \u001b[0msci\u001b[0m\u001b[0;34m(\u001b[0m\u001b[0m__ret\u001b[0m\u001b[0;34m)\u001b[0m\u001b[0;34m\u001b[0m\u001b[0;34m\u001b[0m\u001b[0m\n\u001b[1;32m   2653\u001b[0m     \u001b[0;32mreturn\u001b[0m \u001b[0m__ret\u001b[0m\u001b[0;34m\u001b[0m\u001b[0;34m\u001b[0m\u001b[0m\n",
      "\u001b[0;32m~/miniconda3/envs/casa_env/lib/python3.7/site-packages/matplotlib/__init__.py\u001b[0m in \u001b[0;36minner\u001b[0;34m(ax, data, *args, **kwargs)\u001b[0m\n\u001b[1;32m   1563\u001b[0m     \u001b[0;32mdef\u001b[0m \u001b[0minner\u001b[0m\u001b[0;34m(\u001b[0m\u001b[0max\u001b[0m\u001b[0;34m,\u001b[0m \u001b[0;34m*\u001b[0m\u001b[0margs\u001b[0m\u001b[0;34m,\u001b[0m \u001b[0mdata\u001b[0m\u001b[0;34m=\u001b[0m\u001b[0;32mNone\u001b[0m\u001b[0;34m,\u001b[0m \u001b[0;34m**\u001b[0m\u001b[0mkwargs\u001b[0m\u001b[0;34m)\u001b[0m\u001b[0;34m:\u001b[0m\u001b[0;34m\u001b[0m\u001b[0;34m\u001b[0m\u001b[0m\n\u001b[1;32m   1564\u001b[0m         \u001b[0;32mif\u001b[0m \u001b[0mdata\u001b[0m \u001b[0;32mis\u001b[0m \u001b[0;32mNone\u001b[0m\u001b[0;34m:\u001b[0m\u001b[0;34m\u001b[0m\u001b[0;34m\u001b[0m\u001b[0m\n\u001b[0;32m-> 1565\u001b[0;31m             \u001b[0;32mreturn\u001b[0m \u001b[0mfunc\u001b[0m\u001b[0;34m(\u001b[0m\u001b[0max\u001b[0m\u001b[0;34m,\u001b[0m \u001b[0;34m*\u001b[0m\u001b[0mmap\u001b[0m\u001b[0;34m(\u001b[0m\u001b[0msanitize_sequence\u001b[0m\u001b[0;34m,\u001b[0m \u001b[0margs\u001b[0m\u001b[0;34m)\u001b[0m\u001b[0;34m,\u001b[0m \u001b[0;34m**\u001b[0m\u001b[0mkwargs\u001b[0m\u001b[0;34m)\u001b[0m\u001b[0;34m\u001b[0m\u001b[0;34m\u001b[0m\u001b[0m\n\u001b[0m\u001b[1;32m   1566\u001b[0m \u001b[0;34m\u001b[0m\u001b[0m\n\u001b[1;32m   1567\u001b[0m         \u001b[0mbound\u001b[0m \u001b[0;34m=\u001b[0m \u001b[0mnew_sig\u001b[0m\u001b[0;34m.\u001b[0m\u001b[0mbind\u001b[0m\u001b[0;34m(\u001b[0m\u001b[0max\u001b[0m\u001b[0;34m,\u001b[0m \u001b[0;34m*\u001b[0m\u001b[0margs\u001b[0m\u001b[0;34m,\u001b[0m \u001b[0;34m**\u001b[0m\u001b[0mkwargs\u001b[0m\u001b[0;34m)\u001b[0m\u001b[0;34m\u001b[0m\u001b[0;34m\u001b[0m\u001b[0m\n",
      "\u001b[0;32m~/miniconda3/envs/casa_env/lib/python3.7/site-packages/matplotlib/cbook/deprecation.py\u001b[0m in \u001b[0;36mwrapper\u001b[0;34m(*args, **kwargs)\u001b[0m\n\u001b[1;32m    356\u001b[0m                 \u001b[0;34mf\"%(removal)s.  If any parameter follows {name!r}, they \"\u001b[0m\u001b[0;34m\u001b[0m\u001b[0;34m\u001b[0m\u001b[0m\n\u001b[1;32m    357\u001b[0m                 f\"should be pass as keyword, not positionally.\")\n\u001b[0;32m--> 358\u001b[0;31m         \u001b[0;32mreturn\u001b[0m \u001b[0mfunc\u001b[0m\u001b[0;34m(\u001b[0m\u001b[0;34m*\u001b[0m\u001b[0margs\u001b[0m\u001b[0;34m,\u001b[0m \u001b[0;34m**\u001b[0m\u001b[0mkwargs\u001b[0m\u001b[0;34m)\u001b[0m\u001b[0;34m\u001b[0m\u001b[0;34m\u001b[0m\u001b[0m\n\u001b[0m\u001b[1;32m    359\u001b[0m \u001b[0;34m\u001b[0m\u001b[0m\n\u001b[1;32m    360\u001b[0m     \u001b[0;32mreturn\u001b[0m \u001b[0mwrapper\u001b[0m\u001b[0;34m\u001b[0m\u001b[0;34m\u001b[0m\u001b[0m\n",
      "\u001b[0;32m~/miniconda3/envs/casa_env/lib/python3.7/site-packages/matplotlib/cbook/deprecation.py\u001b[0m in \u001b[0;36mwrapper\u001b[0;34m(*args, **kwargs)\u001b[0m\n\u001b[1;32m    356\u001b[0m                 \u001b[0;34mf\"%(removal)s.  If any parameter follows {name!r}, they \"\u001b[0m\u001b[0;34m\u001b[0m\u001b[0;34m\u001b[0m\u001b[0m\n\u001b[1;32m    357\u001b[0m                 f\"should be pass as keyword, not positionally.\")\n\u001b[0;32m--> 358\u001b[0;31m         \u001b[0;32mreturn\u001b[0m \u001b[0mfunc\u001b[0m\u001b[0;34m(\u001b[0m\u001b[0;34m*\u001b[0m\u001b[0margs\u001b[0m\u001b[0;34m,\u001b[0m \u001b[0;34m**\u001b[0m\u001b[0mkwargs\u001b[0m\u001b[0;34m)\u001b[0m\u001b[0;34m\u001b[0m\u001b[0;34m\u001b[0m\u001b[0m\n\u001b[0m\u001b[1;32m    359\u001b[0m \u001b[0;34m\u001b[0m\u001b[0m\n\u001b[1;32m    360\u001b[0m     \u001b[0;32mreturn\u001b[0m \u001b[0mwrapper\u001b[0m\u001b[0;34m\u001b[0m\u001b[0;34m\u001b[0m\u001b[0m\n",
      "\u001b[0;32m~/miniconda3/envs/casa_env/lib/python3.7/site-packages/matplotlib/axes/_axes.py\u001b[0m in \u001b[0;36mimshow\u001b[0;34m(self, X, cmap, norm, aspect, interpolation, alpha, vmin, vmax, origin, extent, shape, filternorm, filterrad, imlim, resample, url, **kwargs)\u001b[0m\n\u001b[1;32m   5624\u001b[0m                               resample=resample, **kwargs)\n\u001b[1;32m   5625\u001b[0m \u001b[0;34m\u001b[0m\u001b[0m\n\u001b[0;32m-> 5626\u001b[0;31m         \u001b[0mim\u001b[0m\u001b[0;34m.\u001b[0m\u001b[0mset_data\u001b[0m\u001b[0;34m(\u001b[0m\u001b[0mX\u001b[0m\u001b[0;34m)\u001b[0m\u001b[0;34m\u001b[0m\u001b[0;34m\u001b[0m\u001b[0m\n\u001b[0m\u001b[1;32m   5627\u001b[0m         \u001b[0mim\u001b[0m\u001b[0;34m.\u001b[0m\u001b[0mset_alpha\u001b[0m\u001b[0;34m(\u001b[0m\u001b[0malpha\u001b[0m\u001b[0;34m)\u001b[0m\u001b[0;34m\u001b[0m\u001b[0;34m\u001b[0m\u001b[0m\n\u001b[1;32m   5628\u001b[0m         \u001b[0;32mif\u001b[0m \u001b[0mim\u001b[0m\u001b[0;34m.\u001b[0m\u001b[0mget_clip_path\u001b[0m\u001b[0;34m(\u001b[0m\u001b[0;34m)\u001b[0m \u001b[0;32mis\u001b[0m \u001b[0;32mNone\u001b[0m\u001b[0;34m:\u001b[0m\u001b[0;34m\u001b[0m\u001b[0;34m\u001b[0m\u001b[0m\n",
      "\u001b[0;32m~/miniconda3/envs/casa_env/lib/python3.7/site-packages/matplotlib/image.py\u001b[0m in \u001b[0;36mset_data\u001b[0;34m(self, A)\u001b[0m\n\u001b[1;32m    687\u001b[0m             \u001b[0;32mif\u001b[0m \u001b[0misinstance\u001b[0m\u001b[0;34m(\u001b[0m\u001b[0mA\u001b[0m\u001b[0;34m,\u001b[0m \u001b[0mImage\u001b[0m\u001b[0;34m.\u001b[0m\u001b[0mImage\u001b[0m\u001b[0;34m)\u001b[0m\u001b[0;34m:\u001b[0m\u001b[0;34m\u001b[0m\u001b[0;34m\u001b[0m\u001b[0m\n\u001b[1;32m    688\u001b[0m                 \u001b[0mA\u001b[0m \u001b[0;34m=\u001b[0m \u001b[0mpil_to_array\u001b[0m\u001b[0;34m(\u001b[0m\u001b[0mA\u001b[0m\u001b[0;34m)\u001b[0m  \u001b[0;31m# Needed e.g. to apply png palette.\u001b[0m\u001b[0;34m\u001b[0m\u001b[0;34m\u001b[0m\u001b[0m\n\u001b[0;32m--> 689\u001b[0;31m         \u001b[0mself\u001b[0m\u001b[0;34m.\u001b[0m\u001b[0m_A\u001b[0m \u001b[0;34m=\u001b[0m \u001b[0mcbook\u001b[0m\u001b[0;34m.\u001b[0m\u001b[0msafe_masked_invalid\u001b[0m\u001b[0;34m(\u001b[0m\u001b[0mA\u001b[0m\u001b[0;34m,\u001b[0m \u001b[0mcopy\u001b[0m\u001b[0;34m=\u001b[0m\u001b[0;32mTrue\u001b[0m\u001b[0;34m)\u001b[0m\u001b[0;34m\u001b[0m\u001b[0;34m\u001b[0m\u001b[0m\n\u001b[0m\u001b[1;32m    690\u001b[0m \u001b[0;34m\u001b[0m\u001b[0m\n\u001b[1;32m    691\u001b[0m         if (self._A.dtype != np.uint8 and\n",
      "\u001b[0;32m~/miniconda3/envs/casa_env/lib/python3.7/site-packages/matplotlib/cbook/__init__.py\u001b[0m in \u001b[0;36msafe_masked_invalid\u001b[0;34m(x, copy)\u001b[0m\n\u001b[1;32m    704\u001b[0m \u001b[0;34m\u001b[0m\u001b[0m\n\u001b[1;32m    705\u001b[0m \u001b[0;32mdef\u001b[0m \u001b[0msafe_masked_invalid\u001b[0m\u001b[0;34m(\u001b[0m\u001b[0mx\u001b[0m\u001b[0;34m,\u001b[0m \u001b[0mcopy\u001b[0m\u001b[0;34m=\u001b[0m\u001b[0;32mFalse\u001b[0m\u001b[0;34m)\u001b[0m\u001b[0;34m:\u001b[0m\u001b[0;34m\u001b[0m\u001b[0;34m\u001b[0m\u001b[0m\n\u001b[0;32m--> 706\u001b[0;31m     \u001b[0mx\u001b[0m \u001b[0;34m=\u001b[0m \u001b[0mnp\u001b[0m\u001b[0;34m.\u001b[0m\u001b[0marray\u001b[0m\u001b[0;34m(\u001b[0m\u001b[0mx\u001b[0m\u001b[0;34m,\u001b[0m \u001b[0msubok\u001b[0m\u001b[0;34m=\u001b[0m\u001b[0;32mTrue\u001b[0m\u001b[0;34m,\u001b[0m \u001b[0mcopy\u001b[0m\u001b[0;34m=\u001b[0m\u001b[0mcopy\u001b[0m\u001b[0;34m)\u001b[0m\u001b[0;34m\u001b[0m\u001b[0;34m\u001b[0m\u001b[0m\n\u001b[0m\u001b[1;32m    707\u001b[0m     \u001b[0;32mif\u001b[0m \u001b[0;32mnot\u001b[0m \u001b[0mx\u001b[0m\u001b[0;34m.\u001b[0m\u001b[0mdtype\u001b[0m\u001b[0;34m.\u001b[0m\u001b[0misnative\u001b[0m\u001b[0;34m:\u001b[0m\u001b[0;34m\u001b[0m\u001b[0;34m\u001b[0m\u001b[0m\n\u001b[1;32m    708\u001b[0m         \u001b[0;31m# Note that the argument to `byteswap` is 'inplace',\u001b[0m\u001b[0;34m\u001b[0m\u001b[0;34m\u001b[0m\u001b[0;34m\u001b[0m\u001b[0m\n",
      "\u001b[0;32m~/miniconda3/envs/casa_env/lib/python3.7/site-packages/xarray/core/common.py\u001b[0m in \u001b[0;36m__array__\u001b[0;34m(self, dtype)\u001b[0m\n\u001b[1;32m    139\u001b[0m \u001b[0;34m\u001b[0m\u001b[0m\n\u001b[1;32m    140\u001b[0m     \u001b[0;32mdef\u001b[0m \u001b[0m__array__\u001b[0m\u001b[0;34m(\u001b[0m\u001b[0mself\u001b[0m\u001b[0;34m:\u001b[0m \u001b[0mAny\u001b[0m\u001b[0;34m,\u001b[0m \u001b[0mdtype\u001b[0m\u001b[0;34m:\u001b[0m \u001b[0mDTypeLike\u001b[0m \u001b[0;34m=\u001b[0m \u001b[0;32mNone\u001b[0m\u001b[0;34m)\u001b[0m \u001b[0;34m->\u001b[0m \u001b[0mnp\u001b[0m\u001b[0;34m.\u001b[0m\u001b[0mndarray\u001b[0m\u001b[0;34m:\u001b[0m\u001b[0;34m\u001b[0m\u001b[0;34m\u001b[0m\u001b[0m\n\u001b[0;32m--> 141\u001b[0;31m         \u001b[0;32mreturn\u001b[0m \u001b[0mnp\u001b[0m\u001b[0;34m.\u001b[0m\u001b[0masarray\u001b[0m\u001b[0;34m(\u001b[0m\u001b[0mself\u001b[0m\u001b[0;34m.\u001b[0m\u001b[0mvalues\u001b[0m\u001b[0;34m,\u001b[0m \u001b[0mdtype\u001b[0m\u001b[0;34m=\u001b[0m\u001b[0mdtype\u001b[0m\u001b[0;34m)\u001b[0m\u001b[0;34m\u001b[0m\u001b[0;34m\u001b[0m\u001b[0m\n\u001b[0m\u001b[1;32m    142\u001b[0m \u001b[0;34m\u001b[0m\u001b[0m\n\u001b[1;32m    143\u001b[0m     \u001b[0;32mdef\u001b[0m \u001b[0m__repr__\u001b[0m\u001b[0;34m(\u001b[0m\u001b[0mself\u001b[0m\u001b[0;34m)\u001b[0m \u001b[0;34m->\u001b[0m \u001b[0mstr\u001b[0m\u001b[0;34m:\u001b[0m\u001b[0;34m\u001b[0m\u001b[0;34m\u001b[0m\u001b[0m\n",
      "\u001b[0;32m~/miniconda3/envs/casa_env/lib/python3.7/site-packages/xarray/core/dataarray.py\u001b[0m in \u001b[0;36mvalues\u001b[0;34m(self)\u001b[0m\n\u001b[1;32m    632\u001b[0m     \u001b[0;32mdef\u001b[0m \u001b[0mvalues\u001b[0m\u001b[0;34m(\u001b[0m\u001b[0mself\u001b[0m\u001b[0;34m)\u001b[0m \u001b[0;34m->\u001b[0m \u001b[0mnp\u001b[0m\u001b[0;34m.\u001b[0m\u001b[0mndarray\u001b[0m\u001b[0;34m:\u001b[0m\u001b[0;34m\u001b[0m\u001b[0;34m\u001b[0m\u001b[0m\n\u001b[1;32m    633\u001b[0m         \u001b[0;34m\"\"\"The array's data as a numpy.ndarray\"\"\"\u001b[0m\u001b[0;34m\u001b[0m\u001b[0;34m\u001b[0m\u001b[0m\n\u001b[0;32m--> 634\u001b[0;31m         \u001b[0;32mreturn\u001b[0m \u001b[0mself\u001b[0m\u001b[0;34m.\u001b[0m\u001b[0mvariable\u001b[0m\u001b[0;34m.\u001b[0m\u001b[0mvalues\u001b[0m\u001b[0;34m\u001b[0m\u001b[0;34m\u001b[0m\u001b[0m\n\u001b[0m\u001b[1;32m    635\u001b[0m \u001b[0;34m\u001b[0m\u001b[0m\n\u001b[1;32m    636\u001b[0m     \u001b[0;34m@\u001b[0m\u001b[0mvalues\u001b[0m\u001b[0;34m.\u001b[0m\u001b[0msetter\u001b[0m\u001b[0;34m\u001b[0m\u001b[0;34m\u001b[0m\u001b[0m\n",
      "\u001b[0;32m~/miniconda3/envs/casa_env/lib/python3.7/site-packages/xarray/core/variable.py\u001b[0m in \u001b[0;36mvalues\u001b[0;34m(self)\u001b[0m\n\u001b[1;32m    518\u001b[0m     \u001b[0;32mdef\u001b[0m \u001b[0mvalues\u001b[0m\u001b[0;34m(\u001b[0m\u001b[0mself\u001b[0m\u001b[0;34m)\u001b[0m\u001b[0;34m:\u001b[0m\u001b[0;34m\u001b[0m\u001b[0;34m\u001b[0m\u001b[0m\n\u001b[1;32m    519\u001b[0m         \u001b[0;34m\"\"\"The variable's data as a numpy.ndarray\"\"\"\u001b[0m\u001b[0;34m\u001b[0m\u001b[0;34m\u001b[0m\u001b[0m\n\u001b[0;32m--> 520\u001b[0;31m         \u001b[0;32mreturn\u001b[0m \u001b[0m_as_array_or_item\u001b[0m\u001b[0;34m(\u001b[0m\u001b[0mself\u001b[0m\u001b[0;34m.\u001b[0m\u001b[0m_data\u001b[0m\u001b[0;34m)\u001b[0m\u001b[0;34m\u001b[0m\u001b[0;34m\u001b[0m\u001b[0m\n\u001b[0m\u001b[1;32m    521\u001b[0m \u001b[0;34m\u001b[0m\u001b[0m\n\u001b[1;32m    522\u001b[0m     \u001b[0;34m@\u001b[0m\u001b[0mvalues\u001b[0m\u001b[0;34m.\u001b[0m\u001b[0msetter\u001b[0m\u001b[0;34m\u001b[0m\u001b[0;34m\u001b[0m\u001b[0m\n",
      "\u001b[0;32m~/miniconda3/envs/casa_env/lib/python3.7/site-packages/xarray/core/variable.py\u001b[0m in \u001b[0;36m_as_array_or_item\u001b[0;34m(data)\u001b[0m\n\u001b[1;32m    260\u001b[0m     \u001b[0mTODO\u001b[0m\u001b[0;34m:\u001b[0m \u001b[0mremove\u001b[0m \u001b[0mthis\u001b[0m \u001b[0;34m(\u001b[0m\u001b[0mreplace\u001b[0m \u001b[0;32mwith\u001b[0m \u001b[0mnp\u001b[0m\u001b[0;34m.\u001b[0m\u001b[0masarray\u001b[0m\u001b[0;34m)\u001b[0m \u001b[0monce\u001b[0m \u001b[0mthese\u001b[0m \u001b[0missues\u001b[0m \u001b[0mare\u001b[0m \u001b[0mfixed\u001b[0m\u001b[0;34m\u001b[0m\u001b[0;34m\u001b[0m\u001b[0m\n\u001b[1;32m    261\u001b[0m     \"\"\"\n\u001b[0;32m--> 262\u001b[0;31m     \u001b[0mdata\u001b[0m \u001b[0;34m=\u001b[0m \u001b[0mdata\u001b[0m\u001b[0;34m.\u001b[0m\u001b[0mget\u001b[0m\u001b[0;34m(\u001b[0m\u001b[0;34m)\u001b[0m \u001b[0;32mif\u001b[0m \u001b[0misinstance\u001b[0m\u001b[0;34m(\u001b[0m\u001b[0mdata\u001b[0m\u001b[0;34m,\u001b[0m \u001b[0mcupy_array_type\u001b[0m\u001b[0;34m)\u001b[0m \u001b[0;32melse\u001b[0m \u001b[0mnp\u001b[0m\u001b[0;34m.\u001b[0m\u001b[0masarray\u001b[0m\u001b[0;34m(\u001b[0m\u001b[0mdata\u001b[0m\u001b[0;34m)\u001b[0m\u001b[0;34m\u001b[0m\u001b[0;34m\u001b[0m\u001b[0m\n\u001b[0m\u001b[1;32m    263\u001b[0m     \u001b[0;32mif\u001b[0m \u001b[0mdata\u001b[0m\u001b[0;34m.\u001b[0m\u001b[0mndim\u001b[0m \u001b[0;34m==\u001b[0m \u001b[0;36m0\u001b[0m\u001b[0;34m:\u001b[0m\u001b[0;34m\u001b[0m\u001b[0;34m\u001b[0m\u001b[0m\n\u001b[1;32m    264\u001b[0m         \u001b[0;32mif\u001b[0m \u001b[0mdata\u001b[0m\u001b[0;34m.\u001b[0m\u001b[0mdtype\u001b[0m\u001b[0;34m.\u001b[0m\u001b[0mkind\u001b[0m \u001b[0;34m==\u001b[0m \u001b[0;34m\"M\"\u001b[0m\u001b[0;34m:\u001b[0m\u001b[0;34m\u001b[0m\u001b[0;34m\u001b[0m\u001b[0m\n",
      "\u001b[0;32m~/miniconda3/envs/casa_env/lib/python3.7/site-packages/numpy/core/_asarray.py\u001b[0m in \u001b[0;36masarray\u001b[0;34m(a, dtype, order)\u001b[0m\n\u001b[1;32m     81\u001b[0m \u001b[0;34m\u001b[0m\u001b[0m\n\u001b[1;32m     82\u001b[0m     \"\"\"\n\u001b[0;32m---> 83\u001b[0;31m     \u001b[0;32mreturn\u001b[0m \u001b[0marray\u001b[0m\u001b[0;34m(\u001b[0m\u001b[0ma\u001b[0m\u001b[0;34m,\u001b[0m \u001b[0mdtype\u001b[0m\u001b[0;34m,\u001b[0m \u001b[0mcopy\u001b[0m\u001b[0;34m=\u001b[0m\u001b[0;32mFalse\u001b[0m\u001b[0;34m,\u001b[0m \u001b[0morder\u001b[0m\u001b[0;34m=\u001b[0m\u001b[0morder\u001b[0m\u001b[0;34m)\u001b[0m\u001b[0;34m\u001b[0m\u001b[0;34m\u001b[0m\u001b[0m\n\u001b[0m\u001b[1;32m     84\u001b[0m \u001b[0;34m\u001b[0m\u001b[0m\n\u001b[1;32m     85\u001b[0m \u001b[0;34m\u001b[0m\u001b[0m\n",
      "\u001b[0;32m~/miniconda3/envs/casa_env/lib/python3.7/site-packages/dask/array/core.py\u001b[0m in \u001b[0;36m__array__\u001b[0;34m(self, dtype, **kwargs)\u001b[0m\n\u001b[1;32m   1494\u001b[0m \u001b[0;34m\u001b[0m\u001b[0m\n\u001b[1;32m   1495\u001b[0m     \u001b[0;32mdef\u001b[0m \u001b[0m__array__\u001b[0m\u001b[0;34m(\u001b[0m\u001b[0mself\u001b[0m\u001b[0;34m,\u001b[0m \u001b[0mdtype\u001b[0m\u001b[0;34m=\u001b[0m\u001b[0;32mNone\u001b[0m\u001b[0;34m,\u001b[0m \u001b[0;34m**\u001b[0m\u001b[0mkwargs\u001b[0m\u001b[0;34m)\u001b[0m\u001b[0;34m:\u001b[0m\u001b[0;34m\u001b[0m\u001b[0;34m\u001b[0m\u001b[0m\n\u001b[0;32m-> 1496\u001b[0;31m         \u001b[0mx\u001b[0m \u001b[0;34m=\u001b[0m \u001b[0mself\u001b[0m\u001b[0;34m.\u001b[0m\u001b[0mcompute\u001b[0m\u001b[0;34m(\u001b[0m\u001b[0;34m)\u001b[0m\u001b[0;34m\u001b[0m\u001b[0;34m\u001b[0m\u001b[0m\n\u001b[0m\u001b[1;32m   1497\u001b[0m         \u001b[0;32mif\u001b[0m \u001b[0mdtype\u001b[0m \u001b[0;32mand\u001b[0m \u001b[0mx\u001b[0m\u001b[0;34m.\u001b[0m\u001b[0mdtype\u001b[0m \u001b[0;34m!=\u001b[0m \u001b[0mdtype\u001b[0m\u001b[0;34m:\u001b[0m\u001b[0;34m\u001b[0m\u001b[0;34m\u001b[0m\u001b[0m\n\u001b[1;32m   1498\u001b[0m             \u001b[0mx\u001b[0m \u001b[0;34m=\u001b[0m \u001b[0mx\u001b[0m\u001b[0;34m.\u001b[0m\u001b[0mastype\u001b[0m\u001b[0;34m(\u001b[0m\u001b[0mdtype\u001b[0m\u001b[0;34m)\u001b[0m\u001b[0;34m\u001b[0m\u001b[0;34m\u001b[0m\u001b[0m\n",
      "\u001b[0;32m~/miniconda3/envs/casa_env/lib/python3.7/site-packages/dask/base.py\u001b[0m in \u001b[0;36mcompute\u001b[0;34m(self, **kwargs)\u001b[0m\n\u001b[1;32m    283\u001b[0m         \u001b[0mdask\u001b[0m\u001b[0;34m.\u001b[0m\u001b[0mbase\u001b[0m\u001b[0;34m.\u001b[0m\u001b[0mcompute\u001b[0m\u001b[0;34m\u001b[0m\u001b[0;34m\u001b[0m\u001b[0m\n\u001b[1;32m    284\u001b[0m         \"\"\"\n\u001b[0;32m--> 285\u001b[0;31m         \u001b[0;34m(\u001b[0m\u001b[0mresult\u001b[0m\u001b[0;34m,\u001b[0m\u001b[0;34m)\u001b[0m \u001b[0;34m=\u001b[0m \u001b[0mcompute\u001b[0m\u001b[0;34m(\u001b[0m\u001b[0mself\u001b[0m\u001b[0;34m,\u001b[0m \u001b[0mtraverse\u001b[0m\u001b[0;34m=\u001b[0m\u001b[0;32mFalse\u001b[0m\u001b[0;34m,\u001b[0m \u001b[0;34m**\u001b[0m\u001b[0mkwargs\u001b[0m\u001b[0;34m)\u001b[0m\u001b[0;34m\u001b[0m\u001b[0;34m\u001b[0m\u001b[0m\n\u001b[0m\u001b[1;32m    286\u001b[0m         \u001b[0;32mreturn\u001b[0m \u001b[0mresult\u001b[0m\u001b[0;34m\u001b[0m\u001b[0;34m\u001b[0m\u001b[0m\n\u001b[1;32m    287\u001b[0m \u001b[0;34m\u001b[0m\u001b[0m\n",
      "\u001b[0;32m~/miniconda3/envs/casa_env/lib/python3.7/site-packages/dask/base.py\u001b[0m in \u001b[0;36mcompute\u001b[0;34m(*args, **kwargs)\u001b[0m\n\u001b[1;32m    565\u001b[0m         \u001b[0mpostcomputes\u001b[0m\u001b[0;34m.\u001b[0m\u001b[0mappend\u001b[0m\u001b[0;34m(\u001b[0m\u001b[0mx\u001b[0m\u001b[0;34m.\u001b[0m\u001b[0m__dask_postcompute__\u001b[0m\u001b[0;34m(\u001b[0m\u001b[0;34m)\u001b[0m\u001b[0;34m)\u001b[0m\u001b[0;34m\u001b[0m\u001b[0;34m\u001b[0m\u001b[0m\n\u001b[1;32m    566\u001b[0m \u001b[0;34m\u001b[0m\u001b[0m\n\u001b[0;32m--> 567\u001b[0;31m     \u001b[0mresults\u001b[0m \u001b[0;34m=\u001b[0m \u001b[0mschedule\u001b[0m\u001b[0;34m(\u001b[0m\u001b[0mdsk\u001b[0m\u001b[0;34m,\u001b[0m \u001b[0mkeys\u001b[0m\u001b[0;34m,\u001b[0m \u001b[0;34m**\u001b[0m\u001b[0mkwargs\u001b[0m\u001b[0;34m)\u001b[0m\u001b[0;34m\u001b[0m\u001b[0;34m\u001b[0m\u001b[0m\n\u001b[0m\u001b[1;32m    568\u001b[0m     \u001b[0;32mreturn\u001b[0m \u001b[0mrepack\u001b[0m\u001b[0;34m(\u001b[0m\u001b[0;34m[\u001b[0m\u001b[0mf\u001b[0m\u001b[0;34m(\u001b[0m\u001b[0mr\u001b[0m\u001b[0;34m,\u001b[0m \u001b[0;34m*\u001b[0m\u001b[0ma\u001b[0m\u001b[0;34m)\u001b[0m \u001b[0;32mfor\u001b[0m \u001b[0mr\u001b[0m\u001b[0;34m,\u001b[0m \u001b[0;34m(\u001b[0m\u001b[0mf\u001b[0m\u001b[0;34m,\u001b[0m \u001b[0ma\u001b[0m\u001b[0;34m)\u001b[0m \u001b[0;32min\u001b[0m \u001b[0mzip\u001b[0m\u001b[0;34m(\u001b[0m\u001b[0mresults\u001b[0m\u001b[0;34m,\u001b[0m \u001b[0mpostcomputes\u001b[0m\u001b[0;34m)\u001b[0m\u001b[0;34m]\u001b[0m\u001b[0;34m)\u001b[0m\u001b[0;34m\u001b[0m\u001b[0;34m\u001b[0m\u001b[0m\n\u001b[1;32m    569\u001b[0m \u001b[0;34m\u001b[0m\u001b[0m\n",
      "\u001b[0;32m~/miniconda3/envs/casa_env/lib/python3.7/site-packages/dask/threaded.py\u001b[0m in \u001b[0;36mget\u001b[0;34m(dsk, result, cache, num_workers, pool, **kwargs)\u001b[0m\n\u001b[1;32m     85\u001b[0m         \u001b[0mget_id\u001b[0m\u001b[0;34m=\u001b[0m\u001b[0m_thread_get_id\u001b[0m\u001b[0;34m,\u001b[0m\u001b[0;34m\u001b[0m\u001b[0;34m\u001b[0m\u001b[0m\n\u001b[1;32m     86\u001b[0m         \u001b[0mpack_exception\u001b[0m\u001b[0;34m=\u001b[0m\u001b[0mpack_exception\u001b[0m\u001b[0;34m,\u001b[0m\u001b[0;34m\u001b[0m\u001b[0;34m\u001b[0m\u001b[0m\n\u001b[0;32m---> 87\u001b[0;31m         \u001b[0;34m**\u001b[0m\u001b[0mkwargs\u001b[0m\u001b[0;34m\u001b[0m\u001b[0;34m\u001b[0m\u001b[0m\n\u001b[0m\u001b[1;32m     88\u001b[0m     )\n\u001b[1;32m     89\u001b[0m \u001b[0;34m\u001b[0m\u001b[0m\n",
      "\u001b[0;32m~/miniconda3/envs/casa_env/lib/python3.7/site-packages/dask/local.py\u001b[0m in \u001b[0;36mget_async\u001b[0;34m(submit, num_workers, dsk, result, cache, get_id, rerun_exceptions_locally, pack_exception, raise_exception, callbacks, dumps, loads, chunksize, **kwargs)\u001b[0m\n\u001b[1;32m    512\u001b[0m                             \u001b[0m_execute_task\u001b[0m\u001b[0;34m(\u001b[0m\u001b[0mtask\u001b[0m\u001b[0;34m,\u001b[0m \u001b[0mdata\u001b[0m\u001b[0;34m)\u001b[0m  \u001b[0;31m# Re-execute locally\u001b[0m\u001b[0;34m\u001b[0m\u001b[0;34m\u001b[0m\u001b[0m\n\u001b[1;32m    513\u001b[0m                         \u001b[0;32melse\u001b[0m\u001b[0;34m:\u001b[0m\u001b[0;34m\u001b[0m\u001b[0;34m\u001b[0m\u001b[0m\n\u001b[0;32m--> 514\u001b[0;31m                             \u001b[0mraise_exception\u001b[0m\u001b[0;34m(\u001b[0m\u001b[0mexc\u001b[0m\u001b[0;34m,\u001b[0m \u001b[0mtb\u001b[0m\u001b[0;34m)\u001b[0m\u001b[0;34m\u001b[0m\u001b[0;34m\u001b[0m\u001b[0m\n\u001b[0m\u001b[1;32m    515\u001b[0m                     \u001b[0mres\u001b[0m\u001b[0;34m,\u001b[0m \u001b[0mworker_id\u001b[0m \u001b[0;34m=\u001b[0m \u001b[0mloads\u001b[0m\u001b[0;34m(\u001b[0m\u001b[0mres_info\u001b[0m\u001b[0;34m)\u001b[0m\u001b[0;34m\u001b[0m\u001b[0;34m\u001b[0m\u001b[0m\n\u001b[1;32m    516\u001b[0m                     \u001b[0mstate\u001b[0m\u001b[0;34m[\u001b[0m\u001b[0;34m\"cache\"\u001b[0m\u001b[0;34m]\u001b[0m\u001b[0;34m[\u001b[0m\u001b[0mkey\u001b[0m\u001b[0;34m]\u001b[0m \u001b[0;34m=\u001b[0m \u001b[0mres\u001b[0m\u001b[0;34m\u001b[0m\u001b[0;34m\u001b[0m\u001b[0m\n",
      "\u001b[0;32m~/miniconda3/envs/casa_env/lib/python3.7/site-packages/dask/local.py\u001b[0m in \u001b[0;36mreraise\u001b[0;34m(exc, tb)\u001b[0m\n\u001b[1;32m    323\u001b[0m     \u001b[0;32mif\u001b[0m \u001b[0mexc\u001b[0m\u001b[0;34m.\u001b[0m\u001b[0m__traceback__\u001b[0m \u001b[0;32mis\u001b[0m \u001b[0;32mnot\u001b[0m \u001b[0mtb\u001b[0m\u001b[0;34m:\u001b[0m\u001b[0;34m\u001b[0m\u001b[0;34m\u001b[0m\u001b[0m\n\u001b[1;32m    324\u001b[0m         \u001b[0;32mraise\u001b[0m \u001b[0mexc\u001b[0m\u001b[0;34m.\u001b[0m\u001b[0mwith_traceback\u001b[0m\u001b[0;34m(\u001b[0m\u001b[0mtb\u001b[0m\u001b[0;34m)\u001b[0m\u001b[0;34m\u001b[0m\u001b[0;34m\u001b[0m\u001b[0m\n\u001b[0;32m--> 325\u001b[0;31m     \u001b[0;32mraise\u001b[0m \u001b[0mexc\u001b[0m\u001b[0;34m\u001b[0m\u001b[0;34m\u001b[0m\u001b[0m\n\u001b[0m\u001b[1;32m    326\u001b[0m \u001b[0;34m\u001b[0m\u001b[0m\n\u001b[1;32m    327\u001b[0m \u001b[0;34m\u001b[0m\u001b[0m\n",
      "\u001b[0;32m~/miniconda3/envs/casa_env/lib/python3.7/site-packages/dask/local.py\u001b[0m in \u001b[0;36mexecute_task\u001b[0;34m(key, task_info, dumps, loads, get_id, pack_exception)\u001b[0m\n\u001b[1;32m    221\u001b[0m     \u001b[0;32mtry\u001b[0m\u001b[0;34m:\u001b[0m\u001b[0;34m\u001b[0m\u001b[0;34m\u001b[0m\u001b[0m\n\u001b[1;32m    222\u001b[0m         \u001b[0mtask\u001b[0m\u001b[0;34m,\u001b[0m \u001b[0mdata\u001b[0m \u001b[0;34m=\u001b[0m \u001b[0mloads\u001b[0m\u001b[0;34m(\u001b[0m\u001b[0mtask_info\u001b[0m\u001b[0;34m)\u001b[0m\u001b[0;34m\u001b[0m\u001b[0;34m\u001b[0m\u001b[0m\n\u001b[0;32m--> 223\u001b[0;31m         \u001b[0mresult\u001b[0m \u001b[0;34m=\u001b[0m \u001b[0m_execute_task\u001b[0m\u001b[0;34m(\u001b[0m\u001b[0mtask\u001b[0m\u001b[0;34m,\u001b[0m \u001b[0mdata\u001b[0m\u001b[0;34m)\u001b[0m\u001b[0;34m\u001b[0m\u001b[0;34m\u001b[0m\u001b[0m\n\u001b[0m\u001b[1;32m    224\u001b[0m         \u001b[0mid\u001b[0m \u001b[0;34m=\u001b[0m \u001b[0mget_id\u001b[0m\u001b[0;34m(\u001b[0m\u001b[0;34m)\u001b[0m\u001b[0;34m\u001b[0m\u001b[0;34m\u001b[0m\u001b[0m\n\u001b[1;32m    225\u001b[0m         \u001b[0mresult\u001b[0m \u001b[0;34m=\u001b[0m \u001b[0mdumps\u001b[0m\u001b[0;34m(\u001b[0m\u001b[0;34m(\u001b[0m\u001b[0mresult\u001b[0m\u001b[0;34m,\u001b[0m \u001b[0mid\u001b[0m\u001b[0;34m)\u001b[0m\u001b[0;34m)\u001b[0m\u001b[0;34m\u001b[0m\u001b[0;34m\u001b[0m\u001b[0m\n",
      "\u001b[0;32m~/miniconda3/envs/casa_env/lib/python3.7/site-packages/dask/core.py\u001b[0m in \u001b[0;36m_execute_task\u001b[0;34m(arg, cache, dsk)\u001b[0m\n\u001b[1;32m    119\u001b[0m         \u001b[0;31m# temporaries by their reference count and can execute certain\u001b[0m\u001b[0;34m\u001b[0m\u001b[0;34m\u001b[0m\u001b[0;34m\u001b[0m\u001b[0m\n\u001b[1;32m    120\u001b[0m         \u001b[0;31m# operations in-place.\u001b[0m\u001b[0;34m\u001b[0m\u001b[0;34m\u001b[0m\u001b[0;34m\u001b[0m\u001b[0m\n\u001b[0;32m--> 121\u001b[0;31m         \u001b[0;32mreturn\u001b[0m \u001b[0mfunc\u001b[0m\u001b[0;34m(\u001b[0m\u001b[0;34m*\u001b[0m\u001b[0;34m(\u001b[0m\u001b[0m_execute_task\u001b[0m\u001b[0;34m(\u001b[0m\u001b[0ma\u001b[0m\u001b[0;34m,\u001b[0m \u001b[0mcache\u001b[0m\u001b[0;34m)\u001b[0m \u001b[0;32mfor\u001b[0m \u001b[0ma\u001b[0m \u001b[0;32min\u001b[0m \u001b[0margs\u001b[0m\u001b[0;34m)\u001b[0m\u001b[0;34m)\u001b[0m\u001b[0;34m\u001b[0m\u001b[0;34m\u001b[0m\u001b[0m\n\u001b[0m\u001b[1;32m    122\u001b[0m     \u001b[0;32melif\u001b[0m \u001b[0;32mnot\u001b[0m \u001b[0mishashable\u001b[0m\u001b[0;34m(\u001b[0m\u001b[0marg\u001b[0m\u001b[0;34m)\u001b[0m\u001b[0;34m:\u001b[0m\u001b[0;34m\u001b[0m\u001b[0;34m\u001b[0m\u001b[0m\n\u001b[1;32m    123\u001b[0m         \u001b[0;32mreturn\u001b[0m \u001b[0marg\u001b[0m\u001b[0;34m\u001b[0m\u001b[0;34m\u001b[0m\u001b[0m\n",
      "\u001b[0;32m~/miniconda3/envs/casa_env/lib/python3.7/site-packages/ngcasa/imaging/make_gridding_convolution_function.py\u001b[0m in \u001b[0;36mresize_and_calc_support\u001b[0;34m(conv_kernel, conv_weight_kernel, gcf_parms, grid_parms)\u001b[0m\n\u001b[1;32m    371\u001b[0m \u001b[0;34m\u001b[0m\u001b[0m\n\u001b[1;32m    372\u001b[0m     \u001b[0;32mfor\u001b[0m \u001b[0midx\u001b[0m \u001b[0;32min\u001b[0m \u001b[0mitertools\u001b[0m\u001b[0;34m.\u001b[0m\u001b[0mproduct\u001b[0m\u001b[0;34m(\u001b[0m\u001b[0;34m*\u001b[0m\u001b[0;34m[\u001b[0m\u001b[0mrange\u001b[0m\u001b[0;34m(\u001b[0m\u001b[0ms\u001b[0m\u001b[0;34m)\u001b[0m \u001b[0;32mfor\u001b[0m \u001b[0ms\u001b[0m \u001b[0;32min\u001b[0m \u001b[0mconv_shape\u001b[0m\u001b[0;34m]\u001b[0m\u001b[0;34m)\u001b[0m\u001b[0;34m:\u001b[0m\u001b[0;34m\u001b[0m\u001b[0;34m\u001b[0m\u001b[0m\n\u001b[0;32m--> 373\u001b[0;31m         \u001b[0mconv_support\u001b[0m\u001b[0;34m[\u001b[0m\u001b[0midx\u001b[0m\u001b[0;34m]\u001b[0m \u001b[0;34m=\u001b[0m \u001b[0mcalc_conv_size\u001b[0m\u001b[0;34m(\u001b[0m\u001b[0mconv_weight_kernel\u001b[0m\u001b[0;34m[\u001b[0m\u001b[0midx\u001b[0m\u001b[0;34m]\u001b[0m\u001b[0;34m,\u001b[0m\u001b[0mgrid_parms\u001b[0m\u001b[0;34m[\u001b[0m\u001b[0;34m'image_size_padded'\u001b[0m\u001b[0;34m]\u001b[0m\u001b[0;34m,\u001b[0m\u001b[0mgcf_parms\u001b[0m\u001b[0;34m[\u001b[0m\u001b[0;34m'support_cut_level'\u001b[0m\u001b[0;34m]\u001b[0m\u001b[0;34m,\u001b[0m\u001b[0mgcf_parms\u001b[0m\u001b[0;34m[\u001b[0m\u001b[0;34m'oversampling'\u001b[0m\u001b[0;34m]\u001b[0m\u001b[0;34m,\u001b[0m\u001b[0mgcf_parms\u001b[0m\u001b[0;34m[\u001b[0m\u001b[0;34m'max_support'\u001b[0m\u001b[0;34m]\u001b[0m\u001b[0;34m)\u001b[0m\u001b[0;34m\u001b[0m\u001b[0;34m\u001b[0m\u001b[0m\n\u001b[0m\u001b[1;32m    374\u001b[0m \u001b[0;34m\u001b[0m\u001b[0m\n\u001b[1;32m    375\u001b[0m \u001b[0;34m\u001b[0m\u001b[0m\n",
      "\u001b[0;32m~/miniconda3/envs/casa_env/lib/python3.7/site-packages/ngcasa/imaging/make_gridding_convolution_function.py\u001b[0m in \u001b[0;36mcalc_conv_size\u001b[0;34m(sub_a_term, imsize, support_cut_level, oversampling, max_support)\u001b[0m\n\u001b[1;32m    445\u001b[0m         \u001b[0;31m#support_y = support_y if (support_y % 2) else support_y+1 #Support must be odd, to ensure symmetry\u001b[0m\u001b[0;34m\u001b[0m\u001b[0;34m\u001b[0m\u001b[0;34m\u001b[0m\u001b[0m\n\u001b[1;32m    446\u001b[0m \u001b[0;34m\u001b[0m\u001b[0m\n\u001b[0;32m--> 447\u001b[0;31m         \u001b[0;32massert\u001b[0m\u001b[0;34m(\u001b[0m\u001b[0msupport_x\u001b[0m \u001b[0;34m<\u001b[0m \u001b[0mmax_support\u001b[0m\u001b[0;34m[\u001b[0m\u001b[0;36m0\u001b[0m\u001b[0;34m]\u001b[0m\u001b[0;34m)\u001b[0m\u001b[0;34m,\u001b[0m \u001b[0;34m\"######### ERROR: support_cut_level too small or imsize too small.\"\u001b[0m \u001b[0;34m+\u001b[0m \u001b[0mstr\u001b[0m\u001b[0;34m(\u001b[0m\u001b[0msupport_x\u001b[0m\u001b[0;34m)\u001b[0m \u001b[0;34m+\u001b[0m \u001b[0;34m\",*,\"\u001b[0m \u001b[0;34m+\u001b[0m \u001b[0mstr\u001b[0m\u001b[0;34m(\u001b[0m\u001b[0mmax_support\u001b[0m\u001b[0;34m[\u001b[0m\u001b[0;36m0\u001b[0m\u001b[0;34m]\u001b[0m\u001b[0;34m)\u001b[0m\u001b[0;34m\u001b[0m\u001b[0;34m\u001b[0m\u001b[0m\n\u001b[0m\u001b[1;32m    448\u001b[0m         \u001b[0;32massert\u001b[0m\u001b[0;34m(\u001b[0m\u001b[0msupport_y\u001b[0m \u001b[0;34m<\u001b[0m \u001b[0mmax_support\u001b[0m\u001b[0;34m[\u001b[0m\u001b[0;36m1\u001b[0m\u001b[0;34m]\u001b[0m\u001b[0;34m)\u001b[0m\u001b[0;34m,\u001b[0m \u001b[0;34m\"######### ERROR: support_cut_level too small or imsize too small.\"\u001b[0m \u001b[0;34m+\u001b[0m \u001b[0mstr\u001b[0m\u001b[0;34m(\u001b[0m\u001b[0msupport_y\u001b[0m\u001b[0;34m)\u001b[0m \u001b[0;34m+\u001b[0m \u001b[0;34m\",*,\"\u001b[0m \u001b[0;34m+\u001b[0m \u001b[0mstr\u001b[0m\u001b[0;34m(\u001b[0m\u001b[0mmax_support\u001b[0m\u001b[0;34m[\u001b[0m\u001b[0;36m1\u001b[0m\u001b[0;34m]\u001b[0m\u001b[0;34m)\u001b[0m\u001b[0;34m\u001b[0m\u001b[0;34m\u001b[0m\u001b[0m\n\u001b[1;32m    449\u001b[0m \u001b[0;34m\u001b[0m\u001b[0m\n",
      "\u001b[0;31mAssertionError\u001b[0m: ######### ERROR: support_cut_level too small or imsize too small.39,*,15"
     ]
    },
    {
     "data": {
      "image/png": "[encoded data removed]",
      "text/plain": [
       "<Figure size 432x288 with 1 Axes>"
      ]
     },
     "metadata": {
      "needs_background": "light"
     },
     "output_type": "display_data"
    }
   ],
   "source": [
    "plt.figure()\n",
    "#plt.imshow(img_xds.IMAGE.isel(chan=chan,time=0,pol=0))\n",
    "plt.imshow(mosaic_img)"
   ]
  },
  {
   "cell_type": "markdown",
   "id": "74684047-cd2c-41ac-91b0-a4a0afb07e93",
   "metadata": {},
   "source": [
    "### Calculate Pixel Position"
   ]
  },
  {
   "cell_type": "code",
   "execution_count": 81,
   "id": "89229f60-6349-4edf-81d3-7903b5dacdb8",
   "metadata": {},
   "outputs": [],
   "source": [
    "phase_center = grid_parms['phase_center']\n",
    "w = WCS(naxis=2)\n",
    "w.wcs.crpix = np.array(grid_parms['image_size'])//2\n",
    "w.wcs.cdelt = np.array([-20,20])*arcsec_to_deg\n",
    "w.wcs.crval = phase_center*rad_to_deg\n",
    "w.wcs.ctype = ['RA---SIN','DEC--SIN']"
   ]
  },
  {
   "cell_type": "code",
   "execution_count": 82,
   "id": "f3f7dad6-20ce-48b0-8843-ec3f83f3a523",
   "metadata": {},
   "outputs": [
    {
     "name": "stdout",
     "output_type": "stream",
     "text": [
      "source pix pos [[116.16846152 221.01091901]]\n"
     ]
    }
   ],
   "source": [
    "lm_pix_pos = w.all_world2pix(point_source_ra_dec[0,:,:]*rad_to_deg, 1)\n",
    "print('source pix pos',lm_pix_pos)"
   ]
  },
  {
   "cell_type": "code",
   "execution_count": 83,
   "id": "a3d78fa4-13f5-4c50-a3c5-932d1a803301",
   "metadata": {},
   "outputs": [
    {
     "name": "stdout",
     "output_type": "stream",
     "text": [
      "source pix pos [[ 65.90135428 200.048544  ]\n",
      " [134.268903   140.04912485]]\n"
     ]
    }
   ],
   "source": [
    "lm_pix_pos = w.all_world2pix(pointing_ra_dec[0,:,:]*rad_to_deg, 1)\n",
    "print('source pix pos',lm_pix_pos)"
   ]
  },
  {
   "cell_type": "code",
   "execution_count": null,
   "id": "e6cc19de-7997-45e4-9003-a165bbcd5d06",
   "metadata": {},
   "outputs": [],
   "source": []
  },
  {
   "cell_type": "code",
   "execution_count": 42,
   "id": "171a2d19-2951-4ce0-b6c0-40f8412e0043",
   "metadata": {},
   "outputs": [
    {
     "name": "stdout",
     "output_type": "stream",
     "text": [
      "source lm pos [[-0.00156774  0.00203728]]\n"
     ]
    }
   ],
   "source": [
    "cell_size = np.array(grid_parms['cell_size'])*arcsec_to_rad\n",
    "cell_size[0] = -cell_size[0]\n",
    "image_center = np.array(grid_parms['image_size'])//2\n",
    "source_lm_pos = lm_pix_pos*cell_size - image_center*cell_size\n",
    "print('source lm pos',source_lm_pos)"
   ]
  },
  {
   "cell_type": "markdown",
   "id": "79bb7c25-40f1-4977-a548-fcff5abb2511",
   "metadata": {},
   "source": [
    "### Plot Primary Beam"
   ]
  },
  {
   "cell_type": "code",
   "execution_count": 4,
   "id": "3ce52e07-04b3-4894-addc-cbfbda27d07e",
   "metadata": {},
   "outputs": [],
   "source": [
    "from sirius._sirius_utils._make_pb_symmetric import _casa_airy_disk"
   ]
  },
  {
   "cell_type": "code",
   "execution_count": 58,
   "id": "5471a8c8-8b93-450c-98c4-b3369b958385",
   "metadata": {},
   "outputs": [],
   "source": [
    "grid_parms = {}\n",
    "grid_parms['chan_mode'] = 'continuum'\n",
    "grid_parms['image_size'] = np.array([200,400])\n",
    "grid_parms['cell_size'] = np.array([-20,20])*arcsec_to_rad\n",
    "grid_parms['phase_center'] = pointing_ra_dec[0,0,:]\n",
    "pol = [1]\n",
    "grid_parms['image_center'] = grid_parms['image_size']//2\n",
    "\n",
    "grid_parms2 = {}\n",
    "grid_parms2['chan_mode'] = 'continuum'\n",
    "grid_parms2['image_size'] = np.array([200,400])\n",
    "grid_parms2['cell_size'] = np.array([-20,20])*arcsec_to_rad\n",
    "grid_parms2['phase_center'] = pointing_ra_dec2[0,0,:]\n",
    "pol = [1]\n",
    "grid_parms2['image_center'] = grid_parms['image_size']//2"
   ]
  },
  {
   "cell_type": "code",
   "execution_count": 59,
   "id": "de89b4ad-3f7b-4572-8c78-e05b5a0ac11e",
   "metadata": {},
   "outputs": [],
   "source": [
    "pb_parms = {}\n",
    "pb_parms['pb_func'] = 'casa_airy'\n",
    "pb_parms['list_dish_diameters'] = [24.5] #Can make this smaller for larger primary beam\n",
    "pb_parms['list_blockage_diameters'] = [0.0]\n",
    "pb_parms['ipower'] = 2"
   ]
  },
  {
   "cell_type": "code",
   "execution_count": 60,
   "id": "fcaa1997-17c9-40f4-8b35-d43524cd56c6",
   "metadata": {},
   "outputs": [
    {
     "data": {
      "text/plain": [
       "array([[5.23369701, 0.71093805],\n",
       "       [4.95008101, 0.70512029]])"
      ]
     },
     "execution_count": 60,
     "metadata": {},
     "output_type": "execute_result"
    }
   ],
   "source": [
    "pointing_ra_dec[0, :, :]"
   ]
  },
  {
   "cell_type": "code",
   "execution_count": 61,
   "id": "efe2e249-95fd-4c77-8545-2fbcb8e7d492",
   "metadata": {},
   "outputs": [
    {
     "data": {
      "text/plain": [
       "array([[[4.95008101, 0.70512029]]])"
      ]
     },
     "execution_count": 61,
     "metadata": {},
     "output_type": "execute_result"
    }
   ],
   "source": [
    "pointing_ra_dec2"
   ]
  },
  {
   "cell_type": "code",
   "execution_count": 62,
   "id": "00678a31-8de0-40b9-976e-6d213bef1688",
   "metadata": {},
   "outputs": [],
   "source": [
    "pb = _casa_airy_disk(freq_chan,pol,pb_parms,grid_parms)\n",
    "pb2 = _casa_airy_disk(freq_chan,pol,pb_parms,grid_parms2)"
   ]
  },
  {
   "cell_type": "code",
   "execution_count": 63,
   "id": "d419fbcb-7ff3-413d-b83a-d196cebdf937",
   "metadata": {},
   "outputs": [
    {
     "data": {
      "image/png": "[encoded data removed]",
      "text/plain": [
       "<Figure size 432x288 with 1 Axes>"
      ]
     },
     "metadata": {
      "needs_background": "light"
     },
     "output_type": "display_data"
    }
   ],
   "source": [
    "plt.figure()\n",
    "plt.imshow(pb[:,:,1,0,0])\n",
    "#plt.imshow(pb2[:,:,1,0,0])\n",
    "\n",
    "plt.show()"
   ]
  },
  {
   "cell_type": "code",
   "execution_count": null,
   "id": "b4b9cab1-b7c6-457b-912d-eb4265657573",
   "metadata": {},
   "outputs": [],
   "source": []
  }
 ],
 "metadata": {
  "kernelspec": {
   "display_name": "Python 3",
   "language": "python",
   "name": "python3"
  },
  "language_info": {
   "codemirror_mode": {
    "name": "ipython",
    "version": 3
   },
   "file_extension": ".py",
   "mimetype": "text/x-python",
   "name": "python",
   "nbconvert_exporter": "python",
   "pygments_lexer": "ipython3",
   "version": "3.7.10"
  }
 },
 "nbformat": 4,
 "nbformat_minor": 5
}
