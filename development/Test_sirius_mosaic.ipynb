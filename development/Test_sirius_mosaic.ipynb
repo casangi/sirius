{
 "cells": [
  {
   "cell_type": "code",
   "execution_count": 1,
   "id": "3aadcd20-4edb-4bfd-bfa1-fbcfaa6d415f",
   "metadata": {},
   "outputs": [],
   "source": [
    "c = 299792458\n",
    "#from direction_rotate import _calc_rotation_mats\n",
    "import matplotlib.pyplot as plt\n",
    "import xarray as xr\n",
    "import dask.array as da\n",
    "import cngi.conversion.convert_ms as convert_ms\n",
    "import cngi.conversion.convert_image as convert_image\n",
    "from cngi.dio import read_vis\n",
    "import numpy as np\n",
    "from astropy.coordinates import SkyCoord\n",
    "from sirius import calc_vis_point\n",
    "from sympy import *\n",
    "from astropy.wcs import WCS\n",
    "import time"
   ]
  },
  {
   "cell_type": "code",
   "execution_count": 2,
   "id": "9a7c5f07-48c6-4af6-a247-142384c21c7e",
   "metadata": {},
   "outputs": [],
   "source": [
    "#Load Data from converted CASA simulated ms (steal uvw values)\n",
    "ms_file = 'point_source_sim_vis/mosaic_point_source_sim_dovp_True.vis.zarr' #remember to change pb_parms['pb_func'] = 'casa_airy'\n",
    "#ms_file = 'point_source_sim_vis/point_source_sim_dovp_False.vis.zarr'\n",
    "#remember to change pb_parms['pb_func'] = 'none'\n",
    "#ms_file = 'zenith_point_source_sim_dovp_False.vis.zarr'"
   ]
  },
  {
   "cell_type": "code",
   "execution_count": 3,
   "id": "96435d03-339d-4e7b-a0fd-0114a1fb7ae3",
   "metadata": {},
   "outputs": [
    {
     "name": "stdout",
     "output_type": "stream",
     "text": [
      "<xarray.Dataset>\n",
      "Dimensions:           (antenna_ids: 3, feed_ids: 3, field_ids: 2, observation_ids: 1, polarization_ids: 1, source_ids: 2, spw_ids: 1, state_ids: 1)\n",
      "Coordinates:\n",
      "  * antenna_ids       (antenna_ids) int64 0 1 2\n",
      "    antennas          (antenna_ids) <U16 'W01' 'W02' 'W03'\n",
      "  * field_ids         (field_ids) int64 0 1\n",
      "    fields            (field_ids) <U5 'fake' 'fake2'\n",
      "  * feed_ids          (feed_ids) int64 0 0 0\n",
      "  * observation_ids   (observation_ids) int64 0\n",
      "    observations      (observation_ids) <U16 'CASA simulation'\n",
      "  * polarization_ids  (polarization_ids) int64 0\n",
      "  * source_ids        (source_ids) int64 0 1\n",
      "    sources           (source_ids) <U5 'fake' 'fake2'\n",
      "  * spw_ids           (spw_ids) int64 0\n",
      "  * state_ids         (state_ids) int64 0\n",
      "Data variables:\n",
      "    *empty*\n",
      "Attributes:\n",
      "    xds0:             <xarray.Dataset>\\nDimensions:                (baseline:...\n",
      "    ANTENNA:          <xarray.Dataset>\\nDimensions:        (antenna_id: 3, d1...\n",
      "    FEED:             <xarray.Dataset>\\nDimensions:             (d0: 3, d1: 3...\n",
      "    FIELD:            <xarray.Dataset>\\nDimensions:        (d1: 1, d2: 2, fie...\n",
      "    OBSERVATION:      <xarray.Dataset>\\nDimensions:         (d1: 2, observati...\n",
      "    POINTING:         <xarray.Dataset>\\nDimensions:      (antenna_id: 3, d2: ...\n",
      "    POLARIZATION:     <xarray.Dataset>\\nDimensions:       (d0: 1, d1: 2, d2: ...\n",
      "    SOURCE:           <xarray.Dataset>\\nDimensions:             (d0: 2, d1: 2...\n",
      "    SPECTRAL_WINDOW:  <xarray.Dataset>\\nDimensions:             (d1: 3, spect...\n",
      "    STATE:            <xarray.Dataset>\\nDimensions:   (state_id: 1)\\nCoordina...\n"
     ]
    }
   ],
   "source": [
    "mxds = read_vis(ms_file)\n",
    "print(mxds)"
   ]
  },
  {
   "cell_type": "code",
   "execution_count": 4,
   "id": "789b9b5c-764c-4fd0-b719-a51af1f3630b",
   "metadata": {},
   "outputs": [],
   "source": [
    "vis_xds = read_vis(ms_file).xds0"
   ]
  },
  {
   "cell_type": "code",
   "execution_count": 5,
   "id": "3f80d07d-cdb9-4f8c-8526-76f45fc962e3",
   "metadata": {},
   "outputs": [],
   "source": [
    "cas_vis_data = vis_xds.DATA.data.compute()"
   ]
  },
  {
   "cell_type": "code",
   "execution_count": 6,
   "id": "26c30be4-ac3d-47ae-b02c-e1393a8353b0",
   "metadata": {},
   "outputs": [],
   "source": [
    "uvw = vis_xds.UVW.data.compute()"
   ]
  },
  {
   "cell_type": "code",
   "execution_count": 7,
   "id": "9a37d9ef-441d-4d5b-810a-0f5276e4ba0f",
   "metadata": {},
   "outputs": [],
   "source": [
    "freq_chan = vis_xds.chan.values"
   ]
  },
  {
   "cell_type": "code",
   "execution_count": 8,
   "id": "7106a69d-4c73-4353-bc29-edc00df17228",
   "metadata": {},
   "outputs": [
    {
     "data": {
      "text/plain": [
       "(10, 3, 3, 2)"
      ]
     },
     "execution_count": 8,
     "metadata": {},
     "output_type": "execute_result"
    }
   ],
   "source": [
    "cas_vis_data.shape"
   ]
  },
  {
   "cell_type": "markdown",
   "id": "c83d8ce2-690c-4ce8-8144-4f9f489695b7",
   "metadata": {},
   "source": [
    "### Sirius Simulation"
   ]
  },
  {
   "cell_type": "code",
   "execution_count": 9,
   "id": "c5853ef6-f75c-4add-a324-98d273537d46",
   "metadata": {},
   "outputs": [],
   "source": [
    "#Setup phase centre (rename pointing_ra_dec to phase_center)\n",
    "#pointing_ra_dec:  [n_time, n_baseline, 2]                   (singleton: n_time, n_baseline)\n",
    "phase_center = SkyCoord(ra='20h00m28.5s',dec='+40d44m01.5s',frame='fk5') #sim\n",
    "phase_center2 = SkyCoord(ra='19h58m28.5s',dec='+40d44m01.5s',frame='fk5')\n",
    "#To do: concat, check shape\n",
    "#pointing_skycoord = SkyCoord(ra='0h0m0.0s',dec='90d00m00.0s',frame='fk5') #zenith\n",
    "phase_center_ra_dec = np.array([phase_center.ra.rad,phase_center.dec.rad]).reshape((1, 2))*np.ones(5).reshape((5, 1))\n",
    "phase_center_ra_dec2 = np.array([phase_center2.ra.rad,phase_center2.dec.rad]).reshape((1, 2))*np.ones(5).reshape((5, 1))\n",
    "phase_center_ra_dec = np.append(phase_center_ra_dec, phase_center_ra_dec2, axis = 0)"
   ]
  },
  {
   "cell_type": "code",
   "execution_count": 10,
   "id": "dca22fd7-eaf8-4df6-95d6-b4e3190f8fef",
   "metadata": {},
   "outputs": [],
   "source": [
    "#Add cell that creates pointing_ra_dec\n",
    "pointing_ra_dec = np.zeros((1, 1, 2)) #Singleton"
   ]
  },
  {
   "cell_type": "code",
   "execution_count": 11,
   "id": "2321a985-5ed1-4f45-9464-2bf65ea804a6",
   "metadata": {},
   "outputs": [
    {
     "data": {
      "text/plain": [
       "(10, 2)"
      ]
     },
     "execution_count": 11,
     "metadata": {},
     "output_type": "execute_result"
    }
   ],
   "source": [
    "phase_center_ra_dec.shape"
   ]
  },
  {
   "cell_type": "code",
   "execution_count": 12,
   "id": "55b94c5f-2a76-49f3-84dd-ae82c451cb20",
   "metadata": {},
   "outputs": [],
   "source": [
    "#Setup point source skycoord\n",
    "#point_source_ra_dec:  [n_time, n_point_sources, 2]          (singleton: n_time)\n",
    "point_source_skycoord = SkyCoord(ra='20h00m28.5s',dec='+40d44m01.5s',frame='fk5') #sim\n",
    "point_source_skycoord2 = SkyCoord(ra='19h58m28.5s',dec='+40d44m01.5s',frame='fk5') #sim\n",
    "#point_source_skycoord = SkyCoord(ra='19h59m0.0s',dec='+89d54m01.5s',frame='fk5') #zenith\n",
    "point_source_ra_dec = np.array([point_source_skycoord.ra.rad,point_source_skycoord.dec.rad])[None,None,:]*np.ones(5).reshape(5, 1, 1)\n",
    "point_source_ra_dec2 = np.array([point_source_skycoord2.ra.rad,point_source_skycoord2.dec.rad])[None,None,:]*np.ones(5).reshape(5, 1, 1)\n",
    "point_source_ra_dec = np.append(point_source_ra_dec, point_source_ra_dec2, axis = 0)"
   ]
  },
  {
   "cell_type": "code",
   "execution_count": 13,
   "id": "b727377a-6932-4c19-b00e-861087f4888a",
   "metadata": {},
   "outputs": [
    {
     "data": {
      "text/plain": [
       "(10, 1, 2)"
      ]
     },
     "execution_count": 13,
     "metadata": {},
     "output_type": "execute_result"
    }
   ],
   "source": [
    "point_source_ra_dec.shape"
   ]
  },
  {
   "cell_type": "code",
   "execution_count": 14,
   "id": "1156cb2e-edca-4478-aca2-92418ad0f35b",
   "metadata": {},
   "outputs": [],
   "source": [
    "#Source flux\n",
    "#point_source_flux: [n_time, n_chan, n_pol, n_point_sources] (singleton: n_time, n_chan, n_pol)\n",
    "point_source_flux = np.array([2.17, 2.17])[None,None,None,:]*np.ones(10).reshape(10, 1, 1, 1)"
   ]
  },
  {
   "cell_type": "code",
   "execution_count": 15,
   "id": "0ebca430-a882-49ed-8dbd-7fd464013918",
   "metadata": {},
   "outputs": [
    {
     "data": {
      "text/plain": [
       "(10, 1, 1, 2)"
      ]
     },
     "execution_count": 15,
     "metadata": {},
     "output_type": "execute_result"
    }
   ],
   "source": [
    "point_source_flux.shape"
   ]
  },
  {
   "cell_type": "code",
   "execution_count": 16,
   "id": "7af821b9-d836-4831-948c-24d465be76f1",
   "metadata": {},
   "outputs": [],
   "source": [
    "#Primary Beam Model parameters\n",
    "pb_parms = {}\n",
    "pb_parms['pb_func'] = 'casa_airy' # casa_airy/airy/none\n",
    "#pb_parms['pb_func'] = 'none'\n",
    "pb_parms['dish_diameter'] = 24.5\n",
    "pb_parms['blockage_diameter'] = 0.0\n",
    "pb_parms['ipower'] = 1 #CHANGE"
   ]
  },
  {
   "cell_type": "code",
   "execution_count": 17,
   "id": "60b29233-dcbb-418a-9287-d95303763c75",
   "metadata": {},
   "outputs": [],
   "source": [
    "n_time, n_baseline, n_chan, n_pol = cas_vis_data.shape\n",
    "antenna1 = np.zeros(n_baseline)\n",
    "antenna2 = np.zeros(n_baseline)\n",
    "n_ant = 1"
   ]
  },
  {
   "cell_type": "code",
   "execution_count": 18,
   "id": "f9f8ad81-8c43-4133-b7cf-e5fb58994fa9",
   "metadata": {},
   "outputs": [
    {
     "data": {
      "text/plain": [
       "(10, 2)"
      ]
     },
     "execution_count": 18,
     "metadata": {},
     "output_type": "execute_result"
    }
   ],
   "source": [
    "phase_center_ra_dec.shape"
   ]
  },
  {
   "cell_type": "code",
   "execution_count": 19,
   "id": "cc01af06-000c-4536-9f31-afaba85fb737",
   "metadata": {},
   "outputs": [
    {
     "name": "stdout",
     "output_type": "stream",
     "text": [
      "lmn is [0. 0. 0.]\n",
      "lmn is [0. 0. 0.]\n",
      "lmn is [0. 0. 0.]\n",
      "lmn is [0. 0. 0.]\n",
      "lmn is [0. 0. 0.]\n",
      "lmn is [0. 0. 0.]\n",
      "lmn is [0. 0. 0.]\n",
      "lmn is [0. 0. 0.]\n",
      "lmn is [0. 0. 0.]\n",
      "lmn is [0. 0. 0.]\n",
      "lmn is [0. 0. 0.]\n",
      "lmn is [0. 0. 0.]\n",
      "lmn is [0. 0. 0.]\n",
      "lmn is [0. 0. 0.]\n",
      "lmn is [0. 0. 0.]\n",
      "lmn is [0. 0. 0.]\n",
      "lmn is [0. 0. 0.]\n",
      "lmn is [0. 0. 0.]\n",
      "lmn is [0. 0. 0.]\n",
      "lmn is [0. 0. 0.]\n",
      "lmn is [0. 0. 0.]\n",
      "lmn is [0. 0. 0.]\n",
      "lmn is [0. 0. 0.]\n",
      "lmn is [0. 0. 0.]\n",
      "lmn is [0. 0. 0.]\n",
      "lmn is [0. 0. 0.]\n",
      "lmn is [0. 0. 0.]\n",
      "lmn is [0. 0. 0.]\n",
      "lmn is [0. 0. 0.]\n",
      "lmn is [0. 0. 0.]\n",
      "lmn is [0. 0. 0.]\n",
      "lmn is [0. 0. 0.]\n",
      "lmn is [0. 0. 0.]\n",
      "lmn is [0. 0. 0.]\n",
      "lmn is [0. 0. 0.]\n",
      "lmn is [0. 0. 0.]\n",
      "lmn is [0. 0. 0.]\n",
      "lmn is [0. 0. 0.]\n",
      "lmn is [0. 0. 0.]\n",
      "lmn is [0. 0. 0.]\n",
      "lmn is [0. 0. 0.]\n",
      "lmn is [0. 0. 0.]\n",
      "lmn is [0. 0. 0.]\n",
      "lmn is [0. 0. 0.]\n",
      "lmn is [0. 0. 0.]\n",
      "lmn is [-6.61253303e-03 -1.88277475e-05  2.18632128e-05]\n",
      "lmn is [-6.61253303e-03 -1.88277475e-05  2.18632128e-05]\n",
      "lmn is [-6.61253303e-03 -1.88277475e-05  2.18632128e-05]\n",
      "lmn is [-6.61253303e-03 -1.88277475e-05  2.18632128e-05]\n",
      "lmn is [-6.61253303e-03 -1.88277475e-05  2.18632128e-05]\n",
      "lmn is [-6.61253303e-03 -1.88277475e-05  2.18632128e-05]\n",
      "lmn is [-6.61253303e-03 -1.88277475e-05  2.18632128e-05]\n",
      "lmn is [-6.61253303e-03 -1.88277475e-05  2.18632128e-05]\n",
      "lmn is [-6.61253303e-03 -1.88277475e-05  2.18632128e-05]\n",
      "lmn is [-6.61253303e-03 -1.88277475e-05  2.18632128e-05]\n",
      "lmn is [-6.61253303e-03 -1.88277475e-05  2.18632128e-05]\n",
      "lmn is [-6.61253303e-03 -1.88277475e-05  2.18632128e-05]\n",
      "lmn is [-6.61253303e-03 -1.88277475e-05  2.18632128e-05]\n",
      "lmn is [-6.61253303e-03 -1.88277475e-05  2.18632128e-05]\n",
      "lmn is [-6.61253303e-03 -1.88277475e-05  2.18632128e-05]\n",
      "lmn is [-6.61253303e-03 -1.88277475e-05  2.18632128e-05]\n",
      "lmn is [-6.61253303e-03 -1.88277475e-05  2.18632128e-05]\n",
      "lmn is [-6.61253303e-03 -1.88277475e-05  2.18632128e-05]\n",
      "lmn is [-6.61253303e-03 -1.88277475e-05  2.18632128e-05]\n",
      "lmn is [-6.61253303e-03 -1.88277475e-05  2.18632128e-05]\n",
      "lmn is [-6.61253303e-03 -1.88277475e-05  2.18632128e-05]\n",
      "lmn is [-6.61253303e-03 -1.88277475e-05  2.18632128e-05]\n",
      "lmn is [-6.61253303e-03 -1.88277475e-05  2.18632128e-05]\n",
      "lmn is [-6.61253303e-03 -1.88277475e-05  2.18632128e-05]\n",
      "lmn is [-6.61253303e-03 -1.88277475e-05  2.18632128e-05]\n",
      "lmn is [-6.61253303e-03 -1.88277475e-05  2.18632128e-05]\n",
      "lmn is [-6.61253303e-03 -1.88277475e-05  2.18632128e-05]\n",
      "lmn is [-6.61253303e-03 -1.88277475e-05  2.18632128e-05]\n",
      "lmn is [-6.61253303e-03 -1.88277475e-05  2.18632128e-05]\n",
      "lmn is [-6.61253303e-03 -1.88277475e-05  2.18632128e-05]\n",
      "lmn is [-6.61253303e-03 -1.88277475e-05  2.18632128e-05]\n",
      "lmn is [-6.61253303e-03 -1.88277475e-05  2.18632128e-05]\n",
      "lmn is [-6.61253303e-03 -1.88277475e-05  2.18632128e-05]\n",
      "lmn is [-6.61253303e-03 -1.88277475e-05  2.18632128e-05]\n",
      "lmn is [-6.61253303e-03 -1.88277475e-05  2.18632128e-05]\n",
      "lmn is [-6.61253303e-03 -1.88277475e-05  2.18632128e-05]\n",
      "lmn is [-6.61253303e-03 -1.88277475e-05  2.18632128e-05]\n",
      "lmn is [-6.61253303e-03 -1.88277475e-05  2.18632128e-05]\n",
      "lmn is [-6.61253303e-03 -1.88277475e-05  2.18632128e-05]\n",
      "lmn is [-6.61253303e-03 -1.88277475e-05  2.18632128e-05]\n",
      "lmn is [-6.61253303e-03 -1.88277475e-05  2.18632128e-05]\n",
      "lmn is [-6.61253303e-03 -1.88277475e-05  2.18632128e-05]\n",
      "lmn is [-6.61253303e-03 -1.88277475e-05  2.18632128e-05]\n",
      "lmn is [-6.61253303e-03 -1.88277475e-05  2.18632128e-05]\n",
      "lmn is [-6.61253303e-03 -1.88277475e-05  2.18632128e-05]\n",
      "Compute Time 0.06415486335754395\n"
     ]
    }
   ],
   "source": [
    "start = time.time()\n",
    "vis_data = calc_vis_point.calc_vis(uvw,cas_vis_data.shape,point_source_flux,point_source_ra_dec,pointing_ra_dec,phase_center_ra_dec,antenna1,antenna2,n_ant,freq_chan,pb_parms)\n",
    "print('Compute Time', time.time()-start)"
   ]
  },
  {
   "cell_type": "code",
   "execution_count": 20,
   "id": "d13e5908-1ef4-4b83-aad0-8925dfd96a5f",
   "metadata": {},
   "outputs": [],
   "source": [
    "abs_dif = np.ravel(np.abs(cas_vis_data[:,:,:,0]-vis_data[:,:,:,0])/np.abs(vis_data[:,:,:,0]))"
   ]
  },
  {
   "cell_type": "code",
   "execution_count": 21,
   "id": "f0f93e90-e4b7-440a-a7a2-d3df12b50224",
   "metadata": {},
   "outputs": [
    {
     "data": {
      "text/plain": [
       "(10, 3, 3, 2)"
      ]
     },
     "execution_count": 21,
     "metadata": {},
     "output_type": "execute_result"
    }
   ],
   "source": [
    "cas_vis_data.shape"
   ]
  },
  {
   "cell_type": "code",
   "execution_count": 22,
   "id": "13e64450-d640-4a6a-96bc-2c8d7f5a33ee",
   "metadata": {},
   "outputs": [
    {
     "data": {
      "text/plain": [
       "(10, 3, 3, 2)"
      ]
     },
     "execution_count": 22,
     "metadata": {},
     "output_type": "execute_result"
    }
   ],
   "source": [
    "vis_data.shape"
   ]
  },
  {
   "cell_type": "code",
   "execution_count": 23,
   "id": "bd3c14ff-f1f0-4cb0-8fca-a7050781f22d",
   "metadata": {},
   "outputs": [
    {
     "data": {
      "text/plain": [
       "Text(0, 0.5, 'Relative Change (out of 1)')"
      ]
     },
     "execution_count": 23,
     "metadata": {},
     "output_type": "execute_result"
    },
    {
     "data": {
      "image/png": "[encoded data removed]",
      "text/plain": [
       "<Figure size 432x288 with 1 Axes>"
      ]
     },
     "metadata": {
      "needs_background": "light"
     },
     "output_type": "display_data"
    }
   ],
   "source": [
    "plt.figure()\n",
    "plt.plot(abs_dif)\n",
    "plt.xlabel('Vis Number (ravel)')\n",
    "plt.ylabel('Relative Change (out of 1)')"
   ]
  },
  {
   "cell_type": "markdown",
   "id": "2776fb53-1a87-45a6-b593-40290eaa60cc",
   "metadata": {},
   "source": [
    "### Create Image Using ngCASA"
   ]
  },
  {
   "cell_type": "code",
   "execution_count": 24,
   "id": "6d0e39d7-bbcc-41ac-825f-299a6da85b21",
   "metadata": {},
   "outputs": [],
   "source": [
    "#from cngi.vis import apply_flags\n",
    "from ngcasa.imaging import make_imaging_weight\n",
    "from ngcasa.imaging import make_image\n",
    "from ngcasa.imaging import make_pb\n",
    "from cngi.dio import write_image\n",
    "import dask\n",
    "import dask.array as da"
   ]
  },
  {
   "cell_type": "code",
   "execution_count": 25,
   "id": "630e5e81-db83-42df-a067-e76e3e6da81a",
   "metadata": {},
   "outputs": [],
   "source": [
    "rad_to_deg =  180/np.pi\n",
    "deg_to_rad = np.pi/180\n",
    "arcsec_to_deg = 1/3600\n",
    "arcsec_to_rad = np.pi/(180*3600)"
   ]
  },
  {
   "cell_type": "code",
   "execution_count": 26,
   "id": "76bdcef6-fd0a-451f-8a02-543b500d7572",
   "metadata": {},
   "outputs": [],
   "source": [
    "#mxds = apply_flags(mxds, 'xds0', flags='FLAG')\n",
    "mxds.attrs['xds1'] = mxds.attrs['xds0'].isel(pol=slice(0,1))\n",
    "mxds.attrs['xds1']['DATA'] = xr.DataArray(da.from_array(vis_data[:,:,:,0][:,:,:,None],chunks=mxds.attrs['xds1']['DATA'].chunks),coords=mxds.attrs['xds1']['DATA'].coords)"
   ]
  },
  {
   "cell_type": "code",
   "execution_count": 27,
   "id": "3313046d-25a2-43fb-922d-e599e9f80666",
   "metadata": {},
   "outputs": [
    {
     "data": {
      "text/plain": [
       "<xarray.core.options.set_options at 0x7ff04c3452d0>"
      ]
     },
     "execution_count": 27,
     "metadata": {},
     "output_type": "execute_result"
    }
   ],
   "source": [
    "from ngcasa.imaging import direction_rotate\n",
    "xr.set_options(display_style=\"html\")"
   ]
  },
  {
   "cell_type": "code",
   "execution_count": 28,
   "id": "ad78adb8-380c-4776-b25b-101f5d49d234",
   "metadata": {},
   "outputs": [],
   "source": [
    "grid_parms = {}\n",
    "grid_parms['chan_mode'] = 'cube'\n",
    "grid_parms['image_size'] = [800,400]\n",
    "grid_parms['cell_size'] = [5,5]\n",
    "grid_parms['phase_center'] = (mxds.FIELD.PHASE_DIR[0,0,:].data.compute() + mxds.FIELD.PHASE_DIR[1,0,:].data.compute())/2"
   ]
  },
  {
   "cell_type": "code",
   "execution_count": 29,
   "id": "331fb2f4-15da-479a-962c-d58736799a85",
   "metadata": {},
   "outputs": [
    {
     "data": {
      "text/plain": [
       "[{'0': {'data': 'DATA',\n",
       "   'flag': 'FLAG',\n",
       "   'id': '0',\n",
       "   'uvw': 'UVW',\n",
       "   'weight': 'DATA_WEIGHT'},\n",
       "  '1': {'data': 'CORRECTED_DATA',\n",
       "   'flag': 'FLAG',\n",
       "   'id': '1',\n",
       "   'uvw': 'UVW',\n",
       "   'weight': 'CORRECTED_DATA_WEIGHT'}}]"
      ]
     },
     "execution_count": 29,
     "metadata": {},
     "output_type": "execute_result"
    }
   ],
   "source": [
    "mxds.xds1.data_groups"
   ]
  },
  {
   "cell_type": "code",
   "execution_count": 30,
   "id": "1b8d20d5-dcd0-4974-8388-c4cd3469a565",
   "metadata": {},
   "outputs": [
    {
     "name": "stdout",
     "output_type": "stream",
     "text": [
      "######################### Start direction_rotate #########################\n",
      "Setting data_group_in  to  {'data': 'DATA', 'flag': 'FLAG', 'id': '0', 'uvw': 'UVW', 'weight': 'DATA_WEIGHT'}\n",
      "Setting default data_group_out  to  {'data': 'DATA_ROT', 'flag': 'FLAG', 'id': '2', 'uvw': 'UVW_ROT', 'weight': 'DATA_WEIGHT'}\n",
      "######################### Created graph for direction_rotate #########################\n"
     ]
    }
   ],
   "source": [
    "sel_parms = {}\n",
    "sel_parms['xds'] = 'xds1' #KEEP USING XDS1 THROUGHOUT\n",
    "sel_parms['data_group_in_id'] = 0 #CHANGE TO DATA GROUP 2 AFTER ROTATION\n",
    "\n",
    "rotation_parms = {}\n",
    "rotation_parms['new_phase_center'] = grid_parms['phase_center']\n",
    "rotation_parms['common_tangent_reprojection'] = True\n",
    "rotation_parms['single_precision'] = False\n",
    "\n",
    "mxds = direction_rotate(mxds, rotation_parms, sel_parms)"
   ]
  },
  {
   "cell_type": "code",
   "execution_count": 31,
   "id": "2729e6ad-8322-40a4-8f20-ad98758c1fb8",
   "metadata": {},
   "outputs": [
    {
     "data": {
      "text/plain": [
       "[{'0': {'data': 'DATA',\n",
       "   'flag': 'FLAG',\n",
       "   'id': '0',\n",
       "   'uvw': 'UVW',\n",
       "   'weight': 'DATA_WEIGHT'},\n",
       "  '1': {'data': 'CORRECTED_DATA',\n",
       "   'flag': 'FLAG',\n",
       "   'id': '1',\n",
       "   'uvw': 'UVW',\n",
       "   'weight': 'CORRECTED_DATA_WEIGHT'},\n",
       "  '2': {'data': 'DATA_ROT',\n",
       "   'flag': 'FLAG',\n",
       "   'id': '2',\n",
       "   'uvw': 'UVW_ROT',\n",
       "   'weight': 'DATA_WEIGHT'}}]"
      ]
     },
     "execution_count": 31,
     "metadata": {},
     "output_type": "execute_result"
    }
   ],
   "source": [
    "mxds.xds1.data_groups"
   ]
  },
  {
   "cell_type": "code",
   "execution_count": 32,
   "id": "c281966c-fa45-499c-814f-e9100afb0dfe",
   "metadata": {},
   "outputs": [],
   "source": [
    "imaging_weights_parms = {}\n",
    "imaging_weights_parms['weighting'] = 'natural'"
   ]
  },
  {
   "cell_type": "code",
   "execution_count": 33,
   "id": "2be86fd6-eec3-4be7-aae0-c0b1e7d591f1",
   "metadata": {},
   "outputs": [],
   "source": [
    "sel_parms = {}\n",
    "sel_parms['xds'] = 'xds1'\n",
    "sel_parms['data_group_in_id'] = 2"
   ]
  },
  {
   "cell_type": "code",
   "execution_count": 34,
   "id": "bf430815-db61-4767-80ab-bfdfa2227d83",
   "metadata": {},
   "outputs": [
    {
     "name": "stdout",
     "output_type": "stream",
     "text": [
      "######################### Start make_imaging_weights #########################\n",
      "Setting data_group_in  to  {'data': 'DATA_ROT', 'flag': 'FLAG', 'id': '2', 'uvw': 'UVW_ROT', 'weight': 'DATA_WEIGHT'}\n",
      "Setting default data_group_out  to  {'data': 'DATA_ROT', 'flag': 'FLAG', 'id': '2', 'uvw': 'UVW_ROT', 'weight': 'DATA_WEIGHT', 'imaging_weight': 'IMAGING_WEIGHT'}\n",
      "Since weighting is natural input weight will be reused as imaging weight.\n",
      "######################### Created graph for make_imaging_weight #########################\n"
     ]
    }
   ],
   "source": [
    "mxds = make_imaging_weight(mxds, imaging_weights_parms, grid_parms, sel_parms)"
   ]
  },
  {
   "cell_type": "code",
   "execution_count": 35,
   "id": "f7a93444-5597-48e9-80e1-e52eb86c1286",
   "metadata": {},
   "outputs": [],
   "source": [
    "vis_sel_parms = {}\n",
    "vis_sel_parms['xds'] = 'xds1'\n",
    "vis_sel_parms['data_group_in_id'] = 2"
   ]
  },
  {
   "cell_type": "code",
   "execution_count": 36,
   "id": "d75be9a0-4762-46dd-92aa-d4249ae5bef1",
   "metadata": {},
   "outputs": [],
   "source": [
    "img_sel_parms = {}\n",
    "img_sel_parms['data_group_out_id'] = 0"
   ]
  },
  {
   "cell_type": "code",
   "execution_count": 37,
   "id": "b9546449-8563-4ddc-a7f3-0f1bbd40f4e7",
   "metadata": {},
   "outputs": [
    {
     "ename": "NameError",
     "evalue": "name 'make_gridding_convolution_function' is not defined",
     "output_type": "error",
     "traceback": [
      "\u001b[0;31m---------------------------------------------------------------------------\u001b[0m",
      "\u001b[0;31mNameError\u001b[0m                                 Traceback (most recent call last)",
      "\u001b[0;32m<ipython-input-37-ba43e18a3a7a>\u001b[0m in \u001b[0;36m<module>\u001b[0;34m\u001b[0m\n\u001b[1;32m     19\u001b[0m \u001b[0msel_parms\u001b[0m\u001b[0;34m[\u001b[0m\u001b[0;34m'xds'\u001b[0m\u001b[0;34m]\u001b[0m \u001b[0;34m=\u001b[0m \u001b[0;34m'xds1'\u001b[0m\u001b[0;34m\u001b[0m\u001b[0;34m\u001b[0m\u001b[0m\n\u001b[1;32m     20\u001b[0m \u001b[0msel_parms\u001b[0m\u001b[0;34m[\u001b[0m\u001b[0;34m'data_group_in_id'\u001b[0m\u001b[0;34m]\u001b[0m \u001b[0;34m=\u001b[0m \u001b[0;36m2\u001b[0m\u001b[0;34m\u001b[0m\u001b[0;34m\u001b[0m\u001b[0m\n\u001b[0;32m---> 21\u001b[0;31m \u001b[0mgcf_xds\u001b[0m \u001b[0;34m=\u001b[0m \u001b[0mmake_gridding_convolution_function\u001b[0m\u001b[0;34m(\u001b[0m\u001b[0mmxds\u001b[0m\u001b[0;34m,\u001b[0m \u001b[0mgcf_parms\u001b[0m\u001b[0;34m,\u001b[0m \u001b[0mgrid_parms\u001b[0m\u001b[0;34m,\u001b[0m \u001b[0msel_parms\u001b[0m\u001b[0;34m)\u001b[0m\u001b[0;34m\u001b[0m\u001b[0;34m\u001b[0m\u001b[0m\n\u001b[0m\u001b[1;32m     22\u001b[0m \u001b[0mdask\u001b[0m\u001b[0;34m.\u001b[0m\u001b[0mcompute\u001b[0m\u001b[0;34m(\u001b[0m\u001b[0mgcf_xds\u001b[0m\u001b[0;34m)\u001b[0m\u001b[0;34m\u001b[0m\u001b[0;34m\u001b[0m\u001b[0m\n",
      "\u001b[0;31mNameError\u001b[0m: name 'make_gridding_convolution_function' is not defined"
     ]
    }
   ],
   "source": [
    "from cngi.dio import write_image\n",
    "write_imagegrid_parms = {}\n",
    "grid_parms['chan_mode'] = 'cube'\n",
    "grid_parms['image_size'] = [800,400]\n",
    "grid_parms['cell_size'] = [5,5]\n",
    "grid_parms['phase_center'] = (mxds.FIELD.PHASE_DIR[0,0,:].data.compute() + mxds.FIELD.PHASE_DIR[1,0,:].data.compute())/2\n",
    "gcf_parms = {}\n",
    "gcf_parms['function'] = 'alma_airy'\n",
    "gcf_parms['list_dish_diameters'] = np.array([24.5])\n",
    "gcf_parms['list_blockage_diameters'] = np.array([0])\n",
    "gcf_parms['max_support'] = [24, 24]\n",
    "gcf_parms['oversampling'] = [10, 10]\n",
    "unique_ant_indx = mxds.ANTENNA.DISH_DIAMETER.values\n",
    "unique_ant_indx[unique_ant_indx == 25.0] = 0\n",
    "mxds.ANTENNA.DISH_DIAMETER.values\n",
    "gcf_parms['unique_ant_indx'] = unique_ant_indx.astype(int)\n",
    "gcf_parms['phase_center'] = grid_parms['phase_center']\n",
    "sel_parms = {}\n",
    "sel_parms['xds'] = 'xds1'\n",
    "sel_parms['data_group_in_id'] = 2\n",
    "gcf_xds = make_gridding_convolution_function(mxds, gcf_parms, grid_parms, sel_parms)\n",
    "dask.compute(gcf_xds)"
   ]
  },
  {
   "cell_type": "code",
   "execution_count": 46,
   "id": "b29d677f-0811-4dbb-98fe-7837d6f5db7e",
   "metadata": {},
   "outputs": [
    {
     "ename": "NameError",
     "evalue": "name 'gcf_xds' is not defined",
     "output_type": "error",
     "traceback": [
      "\u001b[0;31m---------------------------------------------------------------------------\u001b[0m",
      "\u001b[0;31mNameError\u001b[0m                                 Traceback (most recent call last)",
      "\u001b[0;32m<ipython-input-46-026f5f0310c6>\u001b[0m in \u001b[0;36m<module>\u001b[0;34m\u001b[0m\n\u001b[1;32m      6\u001b[0m \u001b[0mvis_sel_parms\u001b[0m\u001b[0;34m[\u001b[0m\u001b[0;34m'data_group_in_id'\u001b[0m\u001b[0;34m]\u001b[0m \u001b[0;34m=\u001b[0m \u001b[0;36m2\u001b[0m\u001b[0;34m\u001b[0m\u001b[0;34m\u001b[0m\u001b[0m\n\u001b[1;32m      7\u001b[0m \u001b[0;34m\u001b[0m\u001b[0m\n\u001b[0;32m----> 8\u001b[0;31m \u001b[0mimg_xds\u001b[0m \u001b[0;34m=\u001b[0m \u001b[0mmake_mosaic_pb\u001b[0m\u001b[0;34m(\u001b[0m\u001b[0mmxds\u001b[0m\u001b[0;34m,\u001b[0m\u001b[0mgcf_xds\u001b[0m\u001b[0;34m,\u001b[0m\u001b[0mimg_xds\u001b[0m\u001b[0;34m,\u001b[0m\u001b[0mvis_sel_parms\u001b[0m\u001b[0;34m,\u001b[0m\u001b[0mimg_sel_parms\u001b[0m\u001b[0;34m,\u001b[0m\u001b[0mgrid_parms\u001b[0m\u001b[0;34m)\u001b[0m\u001b[0;34m\u001b[0m\u001b[0;34m\u001b[0m\u001b[0m\n\u001b[0m\u001b[1;32m      9\u001b[0m \u001b[0;34m\u001b[0m\u001b[0m\n\u001b[1;32m     10\u001b[0m \u001b[0mvis_select_parms\u001b[0m \u001b[0;34m=\u001b[0m \u001b[0;34m{\u001b[0m\u001b[0;34m}\u001b[0m\u001b[0;34m\u001b[0m\u001b[0;34m\u001b[0m\u001b[0m\n",
      "\u001b[0;31mNameError\u001b[0m: name 'gcf_xds' is not defined"
     ]
    }
   ],
   "source": [
    "from ngcasa.imaging import make_image_with_gcf\n",
    "from ngcasa.imaging import make_mosaic_pb\n",
    "img_xds = xr.Dataset() #empty dataset\n",
    "vis_sel_parms = {}\n",
    "vis_sel_parms['xds'] = 'xds1'\n",
    "vis_sel_parms['data_group_in_id'] = 2\n",
    "\n",
    "img_xds = make_mosaic_pb(mxds,gcf_xds,img_xds,vis_sel_parms,img_sel_parms,grid_parms)\n",
    "\n",
    "vis_select_parms = {}\n",
    "vis_select_parms['xds'] = 'xds1'\n",
    "vis_select_parms['data_group_in_id'] = 2\n",
    "\n",
    "img_select_parms = {}\n",
    "img_select_parms['data_group_in_id'] = 0\n",
    "img_select_parms['data_group_out_id'] = 0\n",
    "\n",
    "norm_parms = {}\n",
    "norm_parms['norm_type'] = 'flat_sky'\n",
    "\n",
    "img_xds = make_image_with_gcf(mxds,gcf_xds, img_xds, grid_parms, norm_parms, vis_select_parms, img_select_parms)\n",
    "#Need make_image_with_gcf instead of make_image, add make_gridding_convolutional_function, direction_rotate\n",
    "#Note: if no primary beam, use 'flat_noise' instead of 'flat_sky'"
   ]
  },
  {
   "cell_type": "code",
   "execution_count": 38,
   "id": "813aa8a1-cde4-4060-a131-1700fb0e954f",
   "metadata": {},
   "outputs": [
    {
     "ename": "NameError",
     "evalue": "name 'img_xds' is not defined",
     "output_type": "error",
     "traceback": [
      "\u001b[0;31m---------------------------------------------------------------------------\u001b[0m",
      "\u001b[0;31mNameError\u001b[0m                                 Traceback (most recent call last)",
      "\u001b[0;32m<ipython-input-38-8d6bbe3b7786>\u001b[0m in \u001b[0;36m<module>\u001b[0;34m\u001b[0m\n\u001b[0;32m----> 1\u001b[0;31m \u001b[0mimg_xds\u001b[0m\u001b[0;34m.\u001b[0m\u001b[0mdata_groups\u001b[0m\u001b[0;34m\u001b[0m\u001b[0;34m\u001b[0m\u001b[0m\n\u001b[0m",
      "\u001b[0;31mNameError\u001b[0m: name 'img_xds' is not defined"
     ]
    }
   ],
   "source": [
    "img_xds.data_groups"
   ]
  },
  {
   "cell_type": "code",
   "execution_count": 39,
   "id": "48a9da02-2d6b-4d87-b2c5-a834b87fbeb6",
   "metadata": {},
   "outputs": [
    {
     "data": {
      "text/plain": [
       "[{'0': {'data': 'DATA',\n",
       "   'flag': 'FLAG',\n",
       "   'id': '0',\n",
       "   'uvw': 'UVW',\n",
       "   'weight': 'DATA_WEIGHT'},\n",
       "  '1': {'data': 'CORRECTED_DATA',\n",
       "   'flag': 'FLAG',\n",
       "   'id': '1',\n",
       "   'uvw': 'UVW',\n",
       "   'weight': 'CORRECTED_DATA_WEIGHT'},\n",
       "  '2': {'data': 'DATA_ROT',\n",
       "   'flag': 'FLAG',\n",
       "   'id': '2',\n",
       "   'uvw': 'UVW_ROT',\n",
       "   'weight': 'DATA_WEIGHT',\n",
       "   'imaging_weight': 'DATA_WEIGHT'}}]"
      ]
     },
     "execution_count": 39,
     "metadata": {},
     "output_type": "execute_result"
    }
   ],
   "source": [
    "mxds.xds1.data_groups"
   ]
  },
  {
   "cell_type": "code",
   "execution_count": 40,
   "id": "c3f79034-c642-4e8b-9387-5aece34b6984",
   "metadata": {},
   "outputs": [
    {
     "ename": "NameError",
     "evalue": "name 'img_xds' is not defined",
     "output_type": "error",
     "traceback": [
      "\u001b[0;31m---------------------------------------------------------------------------\u001b[0m",
      "\u001b[0;31mNameError\u001b[0m                                 Traceback (most recent call last)",
      "\u001b[0;32m<ipython-input-40-bd7048c1d708>\u001b[0m in \u001b[0;36m<module>\u001b[0;34m\u001b[0m\n\u001b[1;32m      5\u001b[0m \u001b[0;31m#extent = extent=(np.min(casa_img_xds.m),np.max(casa_img_xds.m),np.min(casa_img_xds.l),np.max(casa_img_xds.l))\u001b[0m\u001b[0;34m\u001b[0m\u001b[0;34m\u001b[0m\u001b[0;34m\u001b[0m\u001b[0m\n\u001b[1;32m      6\u001b[0m \u001b[0;34m\u001b[0m\u001b[0m\n\u001b[0;32m----> 7\u001b[0;31m \u001b[0mmosaic_pb\u001b[0m \u001b[0;34m=\u001b[0m \u001b[0mimg_xds\u001b[0m\u001b[0;34m.\u001b[0m\u001b[0mPB\u001b[0m\u001b[0;34m.\u001b[0m\u001b[0misel\u001b[0m\u001b[0;34m(\u001b[0m\u001b[0mchan\u001b[0m\u001b[0;34m=\u001b[0m\u001b[0mchan\u001b[0m\u001b[0;34m)\u001b[0m\u001b[0;34m\u001b[0m\u001b[0;34m\u001b[0m\u001b[0m\n\u001b[0m\u001b[1;32m      8\u001b[0m \u001b[0mmosaic_img\u001b[0m \u001b[0;34m=\u001b[0m \u001b[0mimg_xds\u001b[0m\u001b[0;34m[\u001b[0m\u001b[0mngcasa_image_name\u001b[0m\u001b[0;34m]\u001b[0m\u001b[0;34m.\u001b[0m\u001b[0misel\u001b[0m\u001b[0;34m(\u001b[0m\u001b[0mchan\u001b[0m\u001b[0;34m=\u001b[0m\u001b[0mchan\u001b[0m\u001b[0;34m)\u001b[0m\u001b[0;34m\u001b[0m\u001b[0;34m\u001b[0m\u001b[0m\n\u001b[1;32m      9\u001b[0m \u001b[0mmosaic_img\u001b[0m \u001b[0;34m=\u001b[0m \u001b[0mmosaic_img\u001b[0m\u001b[0;34m.\u001b[0m\u001b[0mwhere\u001b[0m\u001b[0;34m(\u001b[0m\u001b[0mmosaic_pb\u001b[0m \u001b[0;34m>\u001b[0m \u001b[0mnp\u001b[0m\u001b[0;34m.\u001b[0m\u001b[0mmax\u001b[0m\u001b[0;34m(\u001b[0m\u001b[0mmosaic_pb\u001b[0m\u001b[0;34m)\u001b[0m\u001b[0;34m*\u001b[0m\u001b[0mpb_limit\u001b[0m\u001b[0;34m,\u001b[0m\u001b[0mother\u001b[0m\u001b[0;34m=\u001b[0m\u001b[0mnp\u001b[0m\u001b[0;34m.\u001b[0m\u001b[0mnan\u001b[0m\u001b[0;34m)\u001b[0m\u001b[0;34m\u001b[0m\u001b[0;34m\u001b[0m\u001b[0m\n",
      "\u001b[0;31mNameError\u001b[0m: name 'img_xds' is not defined"
     ]
    }
   ],
   "source": [
    "#Select chan 1\n",
    "chan = 1\n",
    "ngcasa_image_name = 'IMAGE'\n",
    "pb_limit = 0.2\n",
    "#extent = extent=(np.min(casa_img_xds.m),np.max(casa_img_xds.m),np.min(casa_img_xds.l),np.max(casa_img_xds.l))\n",
    "\n",
    "mosaic_pb = img_xds.PB.isel(chan=chan)\n",
    "mosaic_img = img_xds[ngcasa_image_name].isel(chan=chan)\n",
    "mosaic_img = mosaic_img.where(mosaic_pb > np.max(mosaic_pb)*pb_limit,other=np.nan)"
   ]
  },
  {
   "cell_type": "code",
   "execution_count": 41,
   "id": "abb076a3-ff4c-4bdf-ab82-d5103adff2c4",
   "metadata": {},
   "outputs": [
    {
     "ename": "NameError",
     "evalue": "name 'mosaic_img' is not defined",
     "output_type": "error",
     "traceback": [
      "\u001b[0;31m---------------------------------------------------------------------------\u001b[0m",
      "\u001b[0;31mNameError\u001b[0m                                 Traceback (most recent call last)",
      "\u001b[0;32m<ipython-input-41-06c11bc8f9bc>\u001b[0m in \u001b[0;36m<module>\u001b[0;34m\u001b[0m\n\u001b[0;32m----> 1\u001b[0;31m \u001b[0mmosaic_img\u001b[0m\u001b[0;34m\u001b[0m\u001b[0;34m\u001b[0m\u001b[0m\n\u001b[0m",
      "\u001b[0;31mNameError\u001b[0m: name 'mosaic_img' is not defined"
     ]
    }
   ],
   "source": [
    "mosaic_img"
   ]
  },
  {
   "cell_type": "code",
   "execution_count": 42,
   "id": "65902c3f-c04b-4ae0-93e7-4e563a73be99",
   "metadata": {},
   "outputs": [
    {
     "ename": "NameError",
     "evalue": "name 'mosaic_img' is not defined",
     "output_type": "error",
     "traceback": [
      "\u001b[0;31m---------------------------------------------------------------------------\u001b[0m",
      "\u001b[0;31mNameError\u001b[0m                                 Traceback (most recent call last)",
      "\u001b[0;32m<ipython-input-42-756d43751a11>\u001b[0m in \u001b[0;36m<module>\u001b[0;34m\u001b[0m\n\u001b[0;32m----> 1\u001b[0;31m \u001b[0mmosaic_img\u001b[0m\u001b[0;34m[\u001b[0m\u001b[0;34m:\u001b[0m\u001b[0;34m,\u001b[0m \u001b[0;34m:\u001b[0m\u001b[0;34m,\u001b[0m \u001b[0;36m0\u001b[0m\u001b[0;34m,\u001b[0m \u001b[0;36m0\u001b[0m\u001b[0;34m]\u001b[0m\u001b[0;34m\u001b[0m\u001b[0;34m\u001b[0m\u001b[0m\n\u001b[0m",
      "\u001b[0;31mNameError\u001b[0m: name 'mosaic_img' is not defined"
     ]
    }
   ],
   "source": [
    "mosaic_img[:, :, 0, 0]"
   ]
  },
  {
   "cell_type": "code",
   "execution_count": 43,
   "id": "51dea7f5-b83d-40aa-8622-addac68e52d3",
   "metadata": {},
   "outputs": [
    {
     "ename": "NameError",
     "evalue": "name 'mosaic_img' is not defined",
     "output_type": "error",
     "traceback": [
      "\u001b[0;31m---------------------------------------------------------------------------\u001b[0m",
      "\u001b[0;31mNameError\u001b[0m                                 Traceback (most recent call last)",
      "\u001b[0;32m<ipython-input-43-f700162076c4>\u001b[0m in \u001b[0;36m<module>\u001b[0;34m\u001b[0m\n\u001b[1;32m      1\u001b[0m \u001b[0mplt\u001b[0m\u001b[0;34m.\u001b[0m\u001b[0mfigure\u001b[0m\u001b[0;34m(\u001b[0m\u001b[0;34m)\u001b[0m\u001b[0;34m\u001b[0m\u001b[0;34m\u001b[0m\u001b[0m\n\u001b[1;32m      2\u001b[0m \u001b[0;31m#plt.imshow(img_xds.IMAGE.isel(chan=chan,time=0,pol=0))\u001b[0m\u001b[0;34m\u001b[0m\u001b[0;34m\u001b[0m\u001b[0;34m\u001b[0m\u001b[0m\n\u001b[0;32m----> 3\u001b[0;31m \u001b[0mplt\u001b[0m\u001b[0;34m.\u001b[0m\u001b[0mimshow\u001b[0m\u001b[0;34m(\u001b[0m\u001b[0mmosaic_img\u001b[0m\u001b[0;34m[\u001b[0m\u001b[0;34m:\u001b[0m\u001b[0;34m,\u001b[0m \u001b[0;34m:\u001b[0m\u001b[0;34m,\u001b[0m \u001b[0;36m0\u001b[0m\u001b[0;34m,\u001b[0m \u001b[0;36m0\u001b[0m\u001b[0;34m]\u001b[0m\u001b[0;34m)\u001b[0m\u001b[0;34m\u001b[0m\u001b[0;34m\u001b[0m\u001b[0m\n\u001b[0m",
      "\u001b[0;31mNameError\u001b[0m: name 'mosaic_img' is not defined"
     ]
    },
    {
     "data": {
      "text/plain": [
       "<Figure size 432x288 with 0 Axes>"
      ]
     },
     "metadata": {},
     "output_type": "display_data"
    }
   ],
   "source": [
    "plt.figure()\n",
    "#plt.imshow(img_xds.IMAGE.isel(chan=chan,time=0,pol=0))\n",
    "plt.imshow(mosaic_img[:, :, 0, 0])"
   ]
  },
  {
   "cell_type": "markdown",
   "id": "74684047-cd2c-41ac-91b0-a4a0afb07e93",
   "metadata": {},
   "source": [
    "### Calculate Pixel Position"
   ]
  },
  {
   "cell_type": "code",
   "execution_count": 44,
   "id": "89229f60-6349-4edf-81d3-7903b5dacdb8",
   "metadata": {},
   "outputs": [],
   "source": [
    "phase_center = grid_parms['phase_center']\n",
    "w = WCS(naxis=2)\n",
    "w.wcs.crpix = np.array(grid_parms['image_size'])//2\n",
    "w.wcs.cdelt = np.array([-20,20])*arcsec_to_deg\n",
    "w.wcs.crval = phase_center*rad_to_deg\n",
    "w.wcs.ctype = ['RA---SIN','DEC--SIN']"
   ]
  },
  {
   "cell_type": "code",
   "execution_count": 45,
   "id": "f3f7dad6-20ce-48b0-8843-ec3f83f3a523",
   "metadata": {},
   "outputs": [
    {
     "name": "stdout",
     "output_type": "stream",
     "text": [
      "source pix pos [[365.90135428 200.048544  ]]\n"
     ]
    }
   ],
   "source": [
    "lm_pix_pos = w.all_world2pix(point_source_ra_dec[0,:,:]*rad_to_deg, 1)\n",
    "print('source pix pos',lm_pix_pos)"
   ]
  },
  {
   "cell_type": "code",
   "execution_count": 83,
   "id": "a3d78fa4-13f5-4c50-a3c5-932d1a803301",
   "metadata": {},
   "outputs": [
    {
     "name": "stdout",
     "output_type": "stream",
     "text": [
      "source pix pos [[ 65.90135428 200.048544  ]\n",
      " [134.268903   140.04912485]]\n"
     ]
    }
   ],
   "source": [
    "lm_pix_pos = w.all_world2pix(pointing_ra_dec[0,:,:]*rad_to_deg, 1)\n",
    "print('source pix pos',lm_pix_pos)"
   ]
  },
  {
   "cell_type": "code",
   "execution_count": null,
   "id": "e6cc19de-7997-45e4-9003-a165bbcd5d06",
   "metadata": {},
   "outputs": [],
   "source": []
  },
  {
   "cell_type": "code",
   "execution_count": 42,
   "id": "171a2d19-2951-4ce0-b6c0-40f8412e0043",
   "metadata": {},
   "outputs": [
    {
     "name": "stdout",
     "output_type": "stream",
     "text": [
      "source lm pos [[-0.00156774  0.00203728]]\n"
     ]
    }
   ],
   "source": [
    "cell_size = np.array(grid_parms['cell_size'])*arcsec_to_rad\n",
    "cell_size[0] = -cell_size[0]\n",
    "image_center = np.array(grid_parms['image_size'])//2\n",
    "source_lm_pos = lm_pix_pos*cell_size - image_center*cell_size\n",
    "print('source lm pos',source_lm_pos)"
   ]
  },
  {
   "cell_type": "markdown",
   "id": "79bb7c25-40f1-4977-a548-fcff5abb2511",
   "metadata": {},
   "source": [
    "### Plot Primary Beam"
   ]
  },
  {
   "cell_type": "code",
   "execution_count": 4,
   "id": "3ce52e07-04b3-4894-addc-cbfbda27d07e",
   "metadata": {},
   "outputs": [],
   "source": [
    "from sirius._sirius_utils._make_pb_symmetric import _casa_airy_disk"
   ]
  },
  {
   "cell_type": "code",
   "execution_count": 58,
   "id": "5471a8c8-8b93-450c-98c4-b3369b958385",
   "metadata": {},
   "outputs": [],
   "source": [
    "grid_parms = {}\n",
    "grid_parms['chan_mode'] = 'continuum'\n",
    "grid_parms['image_size'] = np.array([200,400])\n",
    "grid_parms['cell_size'] = np.array([-20,20])*arcsec_to_rad\n",
    "grid_parms['phase_center'] = pointing_ra_dec[0,0,:]\n",
    "pol = [1]\n",
    "grid_parms['image_center'] = grid_parms['image_size']//2\n",
    "\n",
    "grid_parms2 = {}\n",
    "grid_parms2['chan_mode'] = 'continuum'\n",
    "grid_parms2['image_size'] = np.array([200,400])\n",
    "grid_parms2['cell_size'] = np.array([-20,20])*arcsec_to_rad\n",
    "grid_parms2['phase_center'] = pointing_ra_dec2[0,0,:]\n",
    "pol = [1]\n",
    "grid_parms2['image_center'] = grid_parms['image_size']//2"
   ]
  },
  {
   "cell_type": "code",
   "execution_count": 59,
   "id": "de89b4ad-3f7b-4572-8c78-e05b5a0ac11e",
   "metadata": {},
   "outputs": [],
   "source": [
    "pb_parms = {}\n",
    "pb_parms['pb_func'] = 'casa_airy'\n",
    "pb_parms['list_dish_diameters'] = [24.5] #Can make this smaller for larger primary beam\n",
    "pb_parms['list_blockage_diameters'] = [0.0]\n",
    "pb_parms['ipower'] = 2"
   ]
  },
  {
   "cell_type": "code",
   "execution_count": 60,
   "id": "fcaa1997-17c9-40f4-8b35-d43524cd56c6",
   "metadata": {},
   "outputs": [
    {
     "data": {
      "text/plain": [
       "array([[5.23369701, 0.71093805],\n",
       "       [4.95008101, 0.70512029]])"
      ]
     },
     "execution_count": 60,
     "metadata": {},
     "output_type": "execute_result"
    }
   ],
   "source": [
    "pointing_ra_dec[0, :, :]"
   ]
  },
  {
   "cell_type": "code",
   "execution_count": 61,
   "id": "efe2e249-95fd-4c77-8545-2fbcb8e7d492",
   "metadata": {},
   "outputs": [
    {
     "data": {
      "text/plain": [
       "array([[[4.95008101, 0.70512029]]])"
      ]
     },
     "execution_count": 61,
     "metadata": {},
     "output_type": "execute_result"
    }
   ],
   "source": [
    "pointing_ra_dec2"
   ]
  },
  {
   "cell_type": "code",
   "execution_count": 62,
   "id": "00678a31-8de0-40b9-976e-6d213bef1688",
   "metadata": {},
   "outputs": [],
   "source": [
    "pb = _casa_airy_disk(freq_chan,pol,pb_parms,grid_parms)\n",
    "pb2 = _casa_airy_disk(freq_chan,pol,pb_parms,grid_parms2)"
   ]
  },
  {
   "cell_type": "code",
   "execution_count": 63,
   "id": "d419fbcb-7ff3-413d-b83a-d196cebdf937",
   "metadata": {},
   "outputs": [
    {
     "data": {
      "image/png": "[encoded data removed]",
      "text/plain": [
       "<Figure size 432x288 with 1 Axes>"
      ]
     },
     "metadata": {
      "needs_background": "light"
     },
     "output_type": "display_data"
    }
   ],
   "source": [
    "plt.figure()\n",
    "plt.imshow(pb[:,:,1,0,0])\n",
    "#plt.imshow(pb2[:,:,1,0,0])\n",
    "\n",
    "plt.show()"
   ]
  },
  {
   "cell_type": "code",
   "execution_count": null,
   "id": "b4b9cab1-b7c6-457b-912d-eb4265657573",
   "metadata": {},
   "outputs": [],
   "source": []
  }
 ],
 "metadata": {
  "kernelspec": {
   "display_name": "Python 3",
   "language": "python",
   "name": "python3"
  },
  "language_info": {
   "codemirror_mode": {
    "name": "ipython",
    "version": 3
   },
   "file_extension": ".py",
   "mimetype": "text/x-python",
   "name": "python",
   "nbconvert_exporter": "python",
   "pygments_lexer": "ipython3",
   "version": "3.7.10"
  }
 },
 "nbformat": 4,
 "nbformat_minor": 5
}
