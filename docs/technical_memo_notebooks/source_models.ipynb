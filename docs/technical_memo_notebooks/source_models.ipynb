{
 "cells": [
  {
   "cell_type": "markdown",
   "id": "823cef61-c79a-4ab1-a926-e36c25f34a9c",
   "metadata": {},
   "source": [
    "# Source Models Notebook"
   ]
  },
  {
   "cell_type": "markdown",
   "id": "a5e4d7d7-81d2-4569-a849-1de83f3048aa",
   "metadata": {},
   "source": [
    "Refernce to weighting dissertation. lmn and uvw have been rotated \n",
    "$$\n",
    "V = \\int \\int I(l,m,n) \\frac{e^{2 \\pi j (ul + vm + nw) \\nu/c}}{1-n} dl dm\n",
    "$$\n",
    "where <br>\n",
    "$I$ <br>\n",
    "<br>"
   ]
  },
  {
   "cell_type": "code",
   "execution_count": null,
   "id": "17942622-f519-40c8-ba8e-f7cbeca01e1d",
   "metadata": {},
   "outputs": [],
   "source": []
  }
 ],
 "metadata": {
  "kernelspec": {
   "display_name": "Python 3 (ipykernel)",
   "language": "python",
   "name": "python3"
  },
  "language_info": {
   "codemirror_mode": {
    "name": "ipython",
    "version": 3
   },
   "file_extension": ".py",
   "mimetype": "text/x-python",
   "name": "python",
   "nbconvert_exporter": "python",
   "pygments_lexer": "ipython3",
   "version": "3.8.12"
  }
 },
 "nbformat": 4,
 "nbformat_minor": 5
}
