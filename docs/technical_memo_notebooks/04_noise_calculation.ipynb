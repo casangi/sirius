{
 "cells": [
  {
   "cell_type": "code",
   "execution_count": null,
   "id": "3a15bb80-338a-4875-9b9c-a6572f39f9f1",
   "metadata": {},
   "outputs": [],
   "source": [
    "import os\n",
    "try:\n",
    "    import sirius \n",
    "    print('SiRIUS version',sirius.__version__,'already installed.')\n",
    "except ImportError as e:\n",
    "    print(e)\n",
    "    print('Installing SiRIUS')\n",
    "    os.system(\"pip install sirius\")\n",
    "    import sirius \n",
    "    print('SiRIUS version',sirius.__version__,' installed.')\n",
    "\n",
    "import pkg_resources\n",
    "import xarray as xr\n",
    "import numpy as np\n",
    "\n",
    "try:\n",
    "    from google.colab import output\n",
    "    output.enable_custom_widget_manager()\n",
    "    IN_COLAB = True\n",
    "    %matplotlib widget\n",
    "except:\n",
    "    IN_COLAB = False\n",
    "    %matplotlib inline\n",
    "    \n",
    "import numpy as np\n",
    "import matplotlib.pyplot as plt\n",
    "import scipy.constants\n",
    "import pkg_resources\n",
    "import glob\n",
    "import shutil\n",
    "\n",
    "from casatools import image\n",
    "from casatasks import tclean\n",
    "\n",
    "from astropy.coordinates import SkyCoord\n",
    "from astropy.wcs import WCS\n",
    "\n",
    "from sirius import simulation\n",
    "from sirius.dio import make_time_xda\n",
    "from sirius.dio import make_chan_xda\n",
    "from sirius_data.beam_1d_func_models.airy_disk import vla \n",
    "from sirius._sirius_utils._coord_transforms import _calc_rotation_mats, _directional_cosine,  _sin_project\n",
    "\n",
    "\n",
    "xr.set_options(display_style=\"html\")"
   ]
  },
  {
   "cell_type": "markdown",
   "id": "3bfbc1a1-df68-40d5-878b-2c05fd591c88",
   "metadata": {
    "tags": []
   },
   "source": [
    "# Noise Calculation and Verification\n",
    "\n",
    "The goal of this notebook is to verify the theoretical noise calculation found in the __Noise Theory__ section using SiRIUS for manual noise simulation. This is done using the following steps:\n",
    " - Use SiRIUS to do a noise only (no source) simulation.\n",
    " - Analytical calculation of the RMS noise of the resulting image.\n",
    " - Calculation of the expected noise using the method found in __Noise Theory__."
   ]
  },
  {
   "cell_type": "markdown",
   "id": "f810d05e-b03c-44dd-a25a-6b52acc8cdd4",
   "metadata": {
    "tags": []
   },
   "source": [
    "## Noise Theory"
   ]
  },
  {
   "cell_type": "markdown",
   "id": "0a59e30e-dcb5-4ad8-b591-ae206b20eb98",
   "metadata": {},
   "source": [
    "### SiRIUS tsys-manual noise calculation\n",
    "\n",
    "The following explanation is partially based on pages 188-192 in Thompson et al.'s second edition of  Interferometry and Synthesis in Radio Astronomy.\n",
    "\n",
    "The <b>system temperature (K)</b> (with the zenith atmospheric opacity $\\tau=0$)* is:\n",
    "\\begin{align}\n",
    "T_{sys} &= T_{rx} + T_{atmos}(1 - \\eta_{spill} ) + T_{cmb}\\\\\n",
    "\\end{align}\n",
    "where\n",
    " - $T_{rx}$ is the receiver temperature ($K$),\n",
    " - $T_{atmos}$ is the atmospheric temperature ($K$),\n",
    " - $\\eta_{spill}$ is the forward spillover efficiency,\n",
    " - $T_{cmb}$ is the cosmic microwave background temperature ($K$).\n",
    "*In a future release the atmospheric opacity will be included.\n",
    "\n",
    "The <b>effective dish area ($m^2$)</b> for baseline $ij$:\n",
    "\\begin{align}\n",
    "A^{eff}_{ij} = \\eta_a \\frac{\\pi d_i d_j}{4}\n",
    "\\end{align}\n",
    "where\n",
    " - $\\eta_a$ is the antenna efficiency,\n",
    " - $d_{i/j}$ is the dish diamter of the $i/j$ antenna.\n",
    "\n",
    "The <b>rms noise level (Jy)</b> at the correlator for the $ij$ baseline for a single component of the visibility (real or complex):\n",
    "\\begin{align}\n",
    "\\sigma_{ij} = \\frac{\\sqrt{2} k_b T_{sys} × 10^{26}}{A^{eff}_{i,j} \\eta_q \\eta_{cor} \\sqrt{\\Delta t \\Delta \\nu}}\n",
    "\\end{align}\n",
    "where\n",
    "- $k_b = 1.38064852 × 10^{-23} m^2 \\: kg \\: s^{-2} K^{-1}$ is Boltzmann's constant,\n",
    "- $10^{26}$ is the factor that converts from $J m^{-2}$ to $Jy$.\n",
    "- $\\eta_q$ is the digitizer quantization efficiency,\n",
    "- $\\eta_{cor}$ is the correlator efficiency,\n",
    "- $\\Delta t$ is the correlator dump time (Seconds),\n",
    "- $\\Delta \\nu$ is the bandwidth of a single channel (Hertz).\n",
    "\n",
    "SiRIUS will save the following values to the main table of the measuremnet set (version 2):\n",
    "\\begin{align}\n",
    "SIGMA_{ij} &= \\sigma_{ij}, \\\\\n",
    "WEIGHT_{ij} &= \\frac{1}{\\sigma_{ij}^2}.\n",
    "\\end{align}\n",
    "\n",
    "In the synthesized map, with natural weighting, the flux density of a point source for which the peak response is equal to the rms noise level is given by:\n",
    "\\begin{align}\n",
    "S_{rms} = \\sqrt{1/\\left( \\sum^{n_{t}} \\sum^{n_{b}} \\sum^{n_{chan}} \\sum^{n_{pol}} \\frac{1}{\\sigma_{ij}^2} \\right)} \n",
    "\\end{align}\n",
    "where\n",
    "- $n_{t}$ is the number of time samples with dump time $\\Delta t$,\n",
    "- $n_{b} = \\frac{n_a^2 - n_a}{2}$ is the number of baselines (no autocorrelations),\n",
    "- $n_{chan}$ number of channels with bandwidth $\\Delta \\nu$,\n",
    "- $n_{pol}$ number of instrumental polarizations used to create the image (for stokes I, $n_{pol} = 2$).\n",
    "\n",
    "If $d=d_i = d_j$ ($\\sigma_{ij}$ is no longer a function baseline) we can simplify the point source rms sensitivity to:\n",
    "\\begin{align}\n",
    "S_{nat} = \\frac{\\sigma_{ij}}{\\sqrt{n_{t} n_{b} n_{chan}n_{pol}}} = \\frac{\\sqrt{2} k_b T_{sys} × 10^{26}}{A^{eff} \\eta_q \\eta_{cor} \\sqrt{ (n_t \\Delta t) n_b (n_{chan} \\Delta \\nu) n_{pol}}} = \\frac{\\sqrt{2} k_b T_{sys} × 10^{26}}{A^{eff} \\eta_q \\eta_{cor} \\sqrt{ t_{int} \\nu_{int} n_b n_{pol}}} = \\frac{2 k_b T_{sys} × 10^{26}}{A^{eff} \\eta_q \\eta_{cor} \\sqrt{ t_{int} \\nu_{int} n_a (n_a - 1) n_{pol}}}\n",
    "\\end{align}\n",
    "\n",
    "where $t_{int} = n_{t} \\Delta t$. When a weighting scheme is added:\n",
    "\\begin{align}\n",
    "S_{wgt} = \\frac{S_{nat}}{\\eta_{wgt}} = S_{nat} \\frac{\\sqrt{\\sum w_i^2}}{\\sum w_i}.\n",
    "\\end{align}\n",
    "\n",
    "The <b>antenna system equivalent flux density ($Jy$)</b>:\n",
    "\\begin{align}\n",
    "SEFD &= \\frac{2 k_b T_{sys}}{\\eta_q A^{eff}} × 10^{26} \\\\\n",
    "\\end{align}\n",
    "\n",
    "\\begin{align}\n",
    "S_{wgt} &= \\frac{\\sqrt{2} SEFD }{\\eta_{wgt} \\eta_{cor} \\sqrt{ t_{int} \\nu_{int} n_a (n_a - 1) n_{pol}}} .\n",
    "\\end{align}\n",
    "\n",
    "\\begin{align}\n",
    "t_{int} =  \\frac{t_{int,nat}}{\\eta_{wgt}^2} = \\frac{2 n_{wgt}^2 SEFD^2}{\\eta_{wgt}^2 S_{wgt}^2 \\eta^2_{cor} \\nu_{int} n_a (n_a - 1) n_{pol}}\n",
    "\\end{align}\n"
   ]
  },
  {
   "cell_type": "markdown",
   "id": "0d25a196-0701-4ac1-bc97-0298279765b4",
   "metadata": {
    "tags": []
   },
   "source": [
    "## Helper Functions"
   ]
  },
  {
   "cell_type": "code",
   "execution_count": null,
   "id": "95e57046-a3ba-4fdc-9af5-9c189cd1be8e",
   "metadata": {},
   "outputs": [],
   "source": [
    "def effective_dish_area(d_i: float, d_j: float, n_antenna=0.8)->float:\n",
    "    '''\n",
    "        Calculate effective dish area.\n",
    "    '''\n",
    "    \n",
    "    return 0.25*n_antenna*np.pi*(d_i*d_j)\n",
    "\n",
    "def system_temp(t_receiver_temp=50.0, t_atmosphere=250.0, n_spill=0.85, t_microwave_background=2.725)->float:\n",
    "    '''\n",
    "        Calculate system area.\n",
    "    '''\n",
    "    \n",
    "    return t_receiver_temp + t_atmosphere*(1 - n_spill) + t_microwave_background\n",
    "\n",
    "def calc_noise_level(t_system:float, A_effective_area: float, n_quant=0.96, n_correlator=0.88, delta_t=3600, delta_v=10000000.0)->float:\n",
    "    '''\n",
    "        Calculate noise level.\n",
    "    '''\n",
    "    \n",
    "    return (np.sqrt(2)*scipy.constants.k*t_system*np.power(10.0, 26))/( A_effective_area*n_quant*n_correlator*np.sqrt(delta_t*delta_v))\n",
    "\n",
    "def calc_flux_density(n_t:float, n_pol:int, n_chan:int, n_a:int, delta_t=3600, delta_v=10000000.0)->float:\n",
    "    '''\n",
    "        Calculate flux density.\n",
    "    '''\n",
    "    \n",
    "    sigma = calc_noise_level(\n",
    "        system_temp(),\n",
    "        effective_dish_area(d_i=24.5, d_j=24.5)\n",
    "    )\n",
    "    \n",
    "    return np.sqrt(2)*(sigma)/np.sqrt(n_t*n_chan*n_pol*n_a*(n_a - 1))\n",
    "\n",
    "def clean_output_files(prefix:str)->None:\n",
    "    '''\n",
    "        Parse directory for prefix extension and remove measurement files.\n",
    "    '''\n",
    "    \n",
    "    for file in glob.glob('{0}/{1}.*'.format(os.getcwd(), prefix)):\n",
    "        try:\n",
    "            shutil.rmtree(file)\n",
    "        except Exception as error:\n",
    "            print('Failed to remove {0}: {1}'.format(file, error))"
   ]
  },
  {
   "cell_type": "markdown",
   "id": "fef35e52-a4c6-45d2-aeff-d8ceefdb54e0",
   "metadata": {
    "tags": []
   },
   "source": [
    "# Setup"
   ]
  },
  {
   "cell_type": "markdown",
   "id": "f1c71fd8-7ec3-40c8-9a1f-7ae8e453f948",
   "metadata": {},
   "source": [
    "## Simulation Setup\n",
    "\n",
    "Setup the desired parmaters for the simulation. This cell follows the simple simulation example found in `sirus/docs/simple_simulation.ipynb`."
   ]
  },
  {
   "cell_type": "code",
   "execution_count": null,
   "id": "d7a55e67-f220-4285-8711-7f686b4b45bc",
   "metadata": {},
   "outputs": [],
   "source": [
    "# Get telescope layout\n",
    "tel_dir = pkg_resources.resource_filename('sirius_data', 'telescope_layout/data/vla.d.tel.zarr')\n",
    "tel_xds = xr.open_zarr(tel_dir,consolidated=False)\n",
    "n_ant = tel_xds.dims['ant_name']\n",
    "\n",
    "# Create time and frequency xarrays\n",
    "time_xda = make_time_xda(time_start='2019-10-03T19:00:00.000',time_delta=3600,n_samples=10,n_chunks=1)\n",
    "\n",
    "spw_name = 'SBand'\n",
    "\n",
    "chan_xda = make_chan_xda(freq_start = 3*10**9, freq_delta = 0.4*10**9, freq_resolution=0.01*10**9, n_channels=3, n_chunks=1)\n",
    "\n",
    "# Setup beam models\n",
    "airy_disk_parms = vla\n",
    "\n",
    "beam_models = [airy_disk_parms]\n",
    "\n",
    "#Map the antenna index to a model in beam_models. \n",
    "beam_model_map = np.zeros(n_ant,dtype=int) \n",
    "\n",
    "beam_parms = {}\n",
    "\n",
    "# Initialize polarization\n",
    "#\n",
    "# ['RR','RL','LR','LL'] => [5,6,7,8], ['XX','XY','YX','YY'] => [9,10,11,12]\n",
    "pol = [5,8] \n",
    "\n",
    "# Setup UVW parameters\n",
    "casa_data_dir = pkg_resources.resource_filename('casadata', '__data__')\n",
    "rc_file = open(os.path.expanduser(\"~/.casarc\"), \"a+\")\n",
    "rc_file.write(\"\\n measures.directory: \" + casa_data_dir)\n",
    "rc_file.close()\n",
    "\n",
    "uvw_parms = {}\n",
    "uvw_parms['calc_method'] = 'casa' #'astropy' or 'casa'\n",
    "uvw_parms['auto_corr'] = False\n",
    "\n",
    "# Initialize point source and point source flux\n",
    "point_source_skycoord = SkyCoord(ra='19h59m50.51793355s',dec='+40d48m11.3694551s',frame='fk5') \n",
    "point_source_ra_dec = np.array([point_source_skycoord.ra.rad,point_source_skycoord.dec.rad])[None,None,:]\n",
    "\n",
    "point_source_flux = np.array([0.0, 0, 0, 0.0])[None,None,None,:] \n",
    "\n",
    "# Telescope setup\n",
    "phase_center = SkyCoord(ra='19h59m28.5s',dec='+40d44m01.5s',frame='fk5')\n",
    "phase_center_ra_dec = np.array([phase_center.ra.rad,phase_center.dec.rad])[None,:]\n",
    "phase_center_names = np.array(['field1'])\n",
    "phase_center_indx = np.array([0])\n",
    "\n",
    "%load_ext autoreload\n",
    "%autoreload 2\n",
    "\n",
    "lm_sin = _sin_project(phase_center_ra_dec[0,:],point_source_ra_dec[0,:,:])[0,:]\n",
    "\n",
    "pointing_ra_dec = None\n",
    "\n",
    "# Setup noise parameters\n",
    "noise_parms = {}"
   ]
  },
  {
   "cell_type": "markdown",
   "id": "c99fa1f0-a842-4f85-a4d9-4df5e176707e",
   "metadata": {},
   "source": [
    "## Simulation"
   ]
  },
  {
   "cell_type": "code",
   "execution_count": null,
   "id": "a6b2355d-7b83-42e8-90d0-27e8bfb34312",
   "metadata": {},
   "outputs": [],
   "source": [
    "save_parms = {\n",
    "    'ms_name':'simple_sim.ms',\n",
    "    'write_to_ms':True,\n",
    "    'DAG_name_vis_uvw_gen':'DAG_vis_uvw_gen.png',\n",
    "    'DAG_name_write':'DAG_write.png'\n",
    "}\n",
    "\n",
    "ms_xds = simulation(point_source_flux, \n",
    "                    point_source_ra_dec, \n",
    "                    pointing_ra_dec, \n",
    "                    phase_center_ra_dec, \n",
    "                    phase_center_names, \n",
    "                    phase_center_indx,\n",
    "                    beam_parms,beam_models,\n",
    "                    beam_model_map,uvw_parms, \n",
    "                    tel_xds, \n",
    "                    time_xda, \n",
    "                    chan_xda, \n",
    "                    pol, \n",
    "                    noise_parms, \n",
    "                    save_parms\n",
    ")"
   ]
  },
  {
   "cell_type": "markdown",
   "id": "2f730f2f-4cf6-4f31-bd87-ba58ac1fbb05",
   "metadata": {},
   "source": [
    "## TCLEAN"
   ]
  },
  {
   "cell_type": "code",
   "execution_count": null,
   "id": "02ba05ec-29a3-44bb-8175-8a3ed53c3ea3",
   "metadata": {},
   "outputs": [],
   "source": [
    "clean_output_files(prefix='simple')\n",
    "\n",
    "save_parms = {\n",
    "    'ms_name':'simple_sim.ms',\n",
    "    'write_to_ms':True,\n",
    "    'DAG_name_vis_uvw_gen':'DAG_vis_uvw_gen.png',\n",
    "    'DAG_name_write':'DAG_write.png'\n",
    "}\n",
    "\n",
    "tclean(\n",
    "    vis=save_parms['ms_name'],\n",
    "    \n",
    "    imagename='simple',\n",
    "    imsize=[400,400],\n",
    "    cell=[5.0,5.0],\n",
    "    specmode='mfs',\n",
    "    niter=0,\n",
    "    pblimit=0.1,\n",
    "    pbmask=0.1,\n",
    "    gridder='standard',\n",
    "    stokes='I'\n",
    ")"
   ]
  },
  {
   "cell_type": "markdown",
   "id": "dc29ddb0-b035-4480-a594-344b65a4f36b",
   "metadata": {
    "tags": []
   },
   "source": [
    "# RMS Noise Verification"
   ]
  },
  {
   "cell_type": "markdown",
   "id": "36d6814c-8887-42ed-a977-baac071575f2",
   "metadata": {},
   "source": [
    "## Calculation of RMS from image"
   ]
  },
  {
   "cell_type": "code",
   "execution_count": null,
   "id": "ce847528-87e0-4457-89f5-11448b8b2f77",
   "metadata": {},
   "outputs": [],
   "source": [
    "ia = image()\n",
    "ia.open('simple.image')\n",
    "csys = ia.coordsys()\n",
    "\n",
    "w = WCS(naxis=2)\n",
    "\n",
    "rad_to_deg = 180/np.pi\n",
    "\n",
    "w.wcs.crpix = csys.referencepixel()['numeric'][0:2]\n",
    "w.wcs.cdelt = csys.increment()['numeric'][0:2]*rad_to_deg\n",
    "w.wcs.crval = csys.referencevalue()['numeric'][0:2]*rad_to_deg\n",
    "w.wcs.ctype = ['RA---SIN','DEC--SIN']\n",
    "\n",
    "data = ia.getchunk()[:, :, 0, 0]\n",
    "\n",
    "fig, ax = plt.subplots(figsize=(15, 10))\n",
    "fig.delaxes(ax)\n",
    "\n",
    "ax = fig.add_axes(rect=[1, 1, 1, 1], projection=w)\n",
    "ax.set_xlabel('Right Ascension')\n",
    "ax.set_ylabel('Declination')\n",
    "\n",
    "ax.imshow(data, origin='lower', cmap='inferno')"
   ]
  },
  {
   "cell_type": "code",
   "execution_count": null,
   "id": "f2d1a445-07f6-410d-9d9c-5a33cc6a4ea7",
   "metadata": {},
   "outputs": [],
   "source": [
    "import IPython\n",
    "\n",
    "IPython.display.Markdown('### Noise RMS:\\n' + str(data.std()))"
   ]
  },
  {
   "cell_type": "markdown",
   "id": "32312175-dd74-4626-8980-fbee24a9b721",
   "metadata": {},
   "source": [
    "## Theoretical Calculation of RMS"
   ]
  },
  {
   "cell_type": "code",
   "execution_count": null,
   "id": "18354820-4b2a-470d-a96e-095886561a96",
   "metadata": {},
   "outputs": [],
   "source": [
    "rms = calc_flux_density(\n",
    "    n_t=10,\n",
    "    n_pol=2,\n",
    "    n_chan=3,\n",
    "    n_a=27\n",
    ")\n",
    "\n",
    "rms"
   ]
  },
  {
   "cell_type": "code",
   "execution_count": null,
   "id": "b3de255e-bffc-4dbe-ada3-b537ee44fa80",
   "metadata": {},
   "outputs": [],
   "source": [
    "IPython.display.Markdown('## Noise RMS Comparison: \\n Theory: {0} \\n\\n Analytical: {1}'.format(rms, str(data.std())))"
   ]
  }
 ],
 "metadata": {
  "kernelspec": {
   "display_name": "Python 3 (ipykernel)",
   "language": "python",
   "name": "python3"
  },
  "language_info": {
   "codemirror_mode": {
    "name": "ipython",
    "version": 3
   },
   "file_extension": ".py",
   "mimetype": "text/x-python",
   "name": "python",
   "nbconvert_exporter": "python",
   "pygments_lexer": "ipython3",
   "version": "3.8.13"
  }
 },
 "nbformat": 4,
 "nbformat_minor": 5
}
