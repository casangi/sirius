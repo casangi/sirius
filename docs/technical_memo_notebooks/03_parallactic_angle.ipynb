{
 "cells": [
  {
   "cell_type": "markdown",
   "id": "7fa2daf5",
   "metadata": {
    "colab_type": "text",
    "id": "view-in-github"
   },
   "source": [
    "[![Open In Colab](https://colab.research.google.com/assets/colab-badge.svg)](https://colab.research.google.com/github/casangi/sirius/blob/main/docs/technical_memo_notebooks/03_parallactic_angle.ipynb)\n",
    "\n",
    "The purpose of this notebook is to compare the different ways parallactic angles are calculated using Astropy and CASA. The functions can be found in ```sirius/sirius/_sirius_utils/_calc_parallactic_angles.py```. \n",
    "\n",
    "- ```_calc_parallactic_angles_astropy```  Converts a direction and zenith (frame FK5) to a topocentric WGS84 Altitude-Azimuth (https://docs.astropy.org/en/stable/api/astropy.coordinates.AltAz.html) frame centered at the observing_location (frame ITRF) for a UTC time. The parallactic angles is calculated as the position angle of the Altitude-Azimuth direction and zenith.\n",
    "- ```_calc_parallactic_angles_astropy2``` Uses the Astroplan Observer container class.\n",
    "- ```_calc_parallactic_angles_casa``` Uses the same approach as ```_calc_parallactic_angles_astropy``` except using the Casacore measures tool and the earth model can be specified (frame='AZEL' (spherical) or AZELGEO (WGS84)).\n",
    "- ```_calc_parallactic_angles_casa2``` Uses the approach in https://github.com/ARDG-NRAO/plumber/blob/master/plumber/sky.py.\n",
    "- ```_calc_parallactic_angles_casa3``` Based on ```casacore/ms/MSOper/MSDerivedValues.cc::parAngle()``` and ```casacore/casa/Quanta/MVDirection.cc::positionAngle```.\n",
    "\n",
    "All of the functions will be compared to ```_calc_parallactic_angles_casa```, since this function allows for the earth model can be specified. The parallactic angles calculated by the awproject gridder will also be compared."
   ]
  },
  {
   "cell_type": "markdown",
   "id": "39f56022-d926-4c39-a648-5ad4bcc4efed",
   "metadata": {},
   "source": [
    "## Astropy\n",
    "![title](astropy_pa.png)\n",
    "\n",
    "## CASA\n",
    "![title](casa_pa.png)"
   ]
  },
  {
   "cell_type": "code",
   "execution_count": 1,
   "id": "56a0506b",
   "metadata": {
    "colab": {
     "base_uri": "https://localhost:8080/"
    },
    "id": "56a0506b",
    "outputId": "b3e86a90-8e27-49f5-a5ce-faf232cdb32d"
   },
   "outputs": [
    {
     "name": "stdout",
     "output_type": "stream",
     "text": [
      "SiRIUS version 0.0.28 already installed.\n"
     ]
    }
   ],
   "source": [
    "import os\n",
    "try:\n",
    "    import sirius \n",
    "    print('SiRIUS version',sirius.__version__,'already installed.')\n",
    "except ImportError as e:\n",
    "    print(e)\n",
    "    print('Installing SiRIUS')\n",
    "    os.system(\"pip install sirius\")\n",
    "    import sirius \n",
    "    print('SiRIUS version',sirius.__version__,' installed.')\n",
    "\n"
   ]
  },
  {
   "cell_type": "markdown",
   "id": "33eecc84",
   "metadata": {
    "id": "33eecc84"
   },
   "source": [
    "## Load Packages"
   ]
  },
  {
   "cell_type": "code",
   "execution_count": 2,
   "id": "4f28872a",
   "metadata": {},
   "outputs": [],
   "source": [
    "import pkg_resources\n",
    "import xarray as xr\n",
    "import numpy as np\n",
    "from astropy.coordinates import SkyCoord\n",
    "from datetime import datetime\n",
    "\n",
    "xr.set_options(display_style=\"html\")\n",
    "import os\n",
    "try:\n",
    "    from google.colab import output\n",
    "    output.enable_custom_widget_manager()\n",
    "    IN_COLAB = True\n",
    "except:\n",
    "    IN_COLAB = False\n",
    "    \n",
    "#Create directory to store generated data\n",
    "data_dir = 'data/'\n",
    "os.makedirs(data_dir, exist_ok=True)\n",
    "\n",
    "#Move casa log to data dir\n",
    "from casatasks import casalog\n",
    "now = datetime.now()\n",
    "dt_string = now.strftime(\"-%d%m%Y-%H%M%S\")\n",
    "casalog.setlogfile(data_dir+'casa'+dt_string+'.log')\n",
    "    \n",
    "#interactive plots\n",
    "#%matplotlib widget \n",
    "#embeded plots \n",
    "%matplotlib inline "
   ]
  },
  {
   "cell_type": "markdown",
   "id": "5b769ad2-7e15-43d2-93b4-aad2af2da208",
   "metadata": {},
   "source": [
    "To calculate a parallatic angle we need the following info:\n",
    "\n",
    "- Date time \n",
    "- Earth location\n",
    "- Direction\n",
    "\n",
    "For the VLA the antenna pads have been tilted in such a way so that a single earth location can be used to calculate the parallatic angle for all antennas. This is however not the case for ALMA. The awproject gridder in tclean uses the position of the first antenna to calculate the parallactic angle for the array.\n",
    "\n",
    "The array center which is used for the correlator point (origin for UVW) and the position on Earth where the TOPO frequency is measured for that telescope can be obtained using:"
   ]
  },
  {
   "cell_type": "code",
   "execution_count": 3,
   "id": "f10c253e-93ec-4d1a-9e07-027768f59170",
   "metadata": {},
   "outputs": [
    {
     "name": "stdout",
     "output_type": "stream",
     "text": [
      "{'type': 'position', 'refer': 'ITRF', 'm2': {'value': 6373580.000000001, 'unit': 'm'}, 'm1': {'unit': 'rad', 'value': 0.5916753430723376}, 'm0': {'unit': 'rad', 'value': -1.8782884344112576}}\n",
      "{'type': 'position', 'refer': 'WGS84', 'm2': {'value': 2118.614142014645, 'unit': 'm'}, 'm1': {'unit': 'rad', 'value': 0.5947877410277558}, 'm0': {'unit': 'rad', 'value': -1.8782884344112576}}\n"
     ]
    }
   ],
   "source": [
    "from casacore.measures import measures\n",
    "me = measures()\n",
    "site_pos =  me.observatory('EVLA')\n",
    "site_pos=me.measure(me.observatory('EVLA'),'ITRF')\n",
    "print(site_pos)\n",
    "site_pos=me.measure(me.observatory('EVLA'),'WGS84')\n",
    "print(site_pos)"
   ]
  },
  {
   "cell_type": "markdown",
   "id": "ae26abb3-1750-44fe-afbd-28198de9cc04",
   "metadata": {},
   "source": [
    "- ITRF is a geocentric \n",
    "- WGS84 is a geodetic"
   ]
  },
  {
   "cell_type": "markdown",
   "id": "4d263680-a9ef-457c-b3a9-85942d5de741",
   "metadata": {},
   "source": [
    "## CASA Sim using Awprojewct"
   ]
  },
  {
   "cell_type": "code",
   "execution_count": 4,
   "id": "52cc9d25-787b-4e9e-ab56-87f1aa0a8bf5",
   "metadata": {},
   "outputs": [],
   "source": [
    "if not os.path.isdir(data_dir+'sim_awproject.ms'):\n",
    "    from scripts.awproject_sim_03 import sim_awproject_evla\n",
    "    sim_awproject_evla(data_dir+'sim_awproject.ms')"
   ]
  },
  {
   "cell_type": "markdown",
   "id": "d6f07632-4571-4018-a69d-7439981c8386",
   "metadata": {},
   "source": [
    "## SiRIUS Sim"
   ]
  },
  {
   "cell_type": "code",
   "execution_count": 5,
   "id": "0c318dfe-d44c-4783-b06a-89b34a9023de",
   "metadata": {},
   "outputs": [],
   "source": [
    "if not os.path.isdir(data_dir+'sim_sirius.ms'):\n",
    "    from scripts.sirius_sim_03 import sim_sirius_evla\n",
    "    sim_sirius_evla(data_dir+'sim_sirius.ms')"
   ]
  },
  {
   "cell_type": "markdown",
   "id": "b5481ed7-c8e9-4e99-831c-1011de822b8c",
   "metadata": {},
   "source": [
    "## Awproject Parallactic Angles\n",
    "\n",
    "Extract parallactic angles from cfcache."
   ]
  },
  {
   "cell_type": "code",
   "execution_count": 6,
   "id": "0f821d6a-29ce-4ba3-837c-9373ced550a3",
   "metadata": {},
   "outputs": [
    {
     "name": "stdout",
     "output_type": "stream",
     "text": [
      "Parallactic angles in degrees [ -70.649899    -86.29112099 -115.71606771  114.72711096   85.99807173\n",
      "   70.39997555]\n"
     ]
    }
   ],
   "source": [
    "from casatools import image\n",
    "ia = image()\n",
    "awproject_pa = np.zeros(6)\n",
    "\n",
    "for i in range(6):\n",
    "    ia.open(data_dir+'img_sim_awproject.cf/'+'CFS_'+str(i)+'_0_CF_0_0_0.im')\n",
    "    miscinfo = ia.miscinfo()\n",
    "    awproject_pa[i] = miscinfo['ParallacticAngle']\n",
    "    ia.close()\n",
    "    \n",
    "print(\"Parallactic angles in degrees\",awproject_pa)\n",
    "\n"
   ]
  },
  {
   "cell_type": "markdown",
   "id": "4558fd75-0417-467d-8994-2335662c185a",
   "metadata": {},
   "source": [
    "## SiRIUS Parallactic Angles"
   ]
  },
  {
   "cell_type": "code",
   "execution_count": 13,
   "id": "9a7b62ff-d920-45de-952b-8795a0ac4b2c",
   "metadata": {},
   "outputs": [
    {
     "name": "stdout",
     "output_type": "stream",
     "text": [
      "awproject parallactic angle degrees  [ -70.649899    -86.29112099 -115.71606771  114.72711096   85.99807173\n",
      "   70.39997555]\n",
      "casa parallactic angle degrees [ -70.64989838  -86.29112085 -115.7160621   114.72711189   85.99807229\n",
      "   70.39997512]\n",
      "Difference in arcseconds  [-0.00222751 -0.00052524 -0.0202098  -0.00334638 -0.00203884  0.0015493 ]\n",
      "****************\n",
      "astropy parallactic angle degrees [ -70.34777117  -85.89276089 -114.96699024  114.23132453   85.84484406\n",
      "   70.341338  ]\n",
      "casa parallactic angle degrees [ -70.34778111  -85.89275009 -114.96710083  114.2309824    85.84475879\n",
      "   70.34128818]\n",
      "Difference in arcseconds  [ 0.03577029 -0.03888978  0.39811484  1.23167225  0.30695619  0.17934905]\n",
      "****************\n",
      "astropy parallactic angle degrees [ -70.34777117  -85.89276089 -114.96699024  114.23132453   85.84484406\n",
      "   70.341338  ]\n",
      "casa parallactic angle degrees [ -70.64989838  -86.29112085 -115.7160621   114.72711189   85.99807229\n",
      "   70.39997512]\n",
      "Difference in arcseconds  [ 1087.65796601  1434.09583315  2696.65867659 -1784.83450561\n",
      "  -551.62163782  -211.09363545]\n",
      "****************\n",
      "astropy2 parallactic angle degrees [ -70.52068117  -86.03348829 -115.21363947  113.56085681   85.54291475\n",
      "   70.09943368]\n",
      "casa parallactic angle degrees [ -70.52860623  -86.16984232 -115.59481569  114.84831951   86.11924807\n",
      "   70.52113777]\n",
      "Difference in arcseconds  [   28.53022608   490.87450772  1372.23439417 -4634.86573468\n",
      " -2074.79997378 -1518.13470321]\n",
      "****************\n",
      "casa2 parallactic angle degrees [ -70.69971862  -86.30908555 -115.83883742  114.18564625   85.81927097\n",
      "   70.28124285]\n",
      "casa parallactic angle degrees [ -70.64989838  -86.29112085 -115.7160621   114.72711189   85.99807229\n",
      "   70.39997512]\n",
      "Difference in arcseconds  [0. 0. 0. 0. 0. 0.]\n",
      "****************\n",
      "casa3 parallactic angle degrees [ -70.64989838  -86.29112085 -115.7160621   114.72711189   85.99807229\n",
      "   70.39997512]\n",
      "casa parallactic angle degrees [ -70.64989838  -86.29112085 -115.7160621   114.72711189   85.99807229\n",
      "   70.39997512]\n",
      "[0. 0. 0. 0. 0. 0.]\n",
      "****************\n",
      "casa_HADEC parallactic angle degrees [ -70.46907325  -86.01402861 -115.08834724  114.10977477   85.72358301\n",
      "   70.22012553]\n",
      "casa_FK5 parallactic angle degrees [ -70.34778111  -85.89275009 -114.96710083  114.2309824    85.84475879\n",
      "   70.34128818]\n",
      "Difference in arcseconds  [-436.65173754 -436.60268521 -436.48707683 -436.34744092 -436.23281453\n",
      " -436.1855308 ]\n",
      "****************\n",
      "casa_AZELGEO parallactic angle degrees [ -70.34778111  -85.89275009 -114.96710083  114.2309824    85.84475879\n",
      "   70.34128818]\n",
      "casa_AZEL parallactic angle degrees [ -70.52860623  -86.16984232 -115.59481569  114.84831951   86.11924807\n",
      "   70.52113777]\n",
      "Difference in arcseconds  [  650.97045818   997.53203771  2259.77348492 -2222.41361878\n",
      "  -988.16140853  -647.4585153 ]\n"
     ]
    }
   ],
   "source": [
    "def fix_ang(a):\n",
    "    a[a > np.pi]= a[a > np.pi] - 2*np.pi\n",
    "    a = a*180/np.pi\n",
    "    return a\n",
    "\n",
    "from sirius._sirius_utils._calc_parallactic_angles import _calc_parallactic_angles_astropy, _calc_parallactic_angles_astropy2, _calc_parallactic_angles_casa, _calc_parallactic_angles_casa2, _calc_parallactic_angles_casa3\n",
    "from casatools import msmetadata, measures, quanta\n",
    "from astropy.time import Time\n",
    "import numpy as np\n",
    "import pkg_resources\n",
    "import xarray as xr\n",
    "msmd = msmetadata()\n",
    "me = measures()\n",
    "\n",
    "# Get Time Steps\n",
    "field = 'field1'\n",
    "#msmd.open('data/sim_awproject.ms')\n",
    "msmd.open('data/sim_sirius.ms')\n",
    "times = msmd.timesforfield(msmd.fieldsforname(field)[0])\n",
    "time_str = Time(times/(3600.* 24), format='mjd').isot\n",
    "\n",
    "'''\n",
    "# Array Center\n",
    "from sirius._sirius_utils._coord_transforms import _convert_latlong_to_xyz\n",
    "site_pos =  me.observatory('EVLA')\n",
    "site_pos=me.measure(me.observatory('EVLA'),'ITRF')\n",
    "_convert_latlong_to_xyz(site_pos)\n",
    "observing_location = np.array([site_pos['m0']['value'],site_pos['m1']['value'],site_pos['m2']['value']])\n",
    "'''\n",
    "\n",
    "# awproject uses the position of the first antenna to calculate the parallactic angle\n",
    "tel_dir = pkg_resources.resource_filename('sirius_data', 'telescope_layout/data/evla.d.tel.zarr')\n",
    "tel_xds = xr.open_zarr(tel_dir,consolidated=False)\n",
    "observing_location = tel_xds.ANT_POS[0,:].values\n",
    "\n",
    "phase_center = msmd.phasecenter(msmd.fieldsforname(field)[0])\n",
    "phase_center_ra_dec = np.array([phase_center['m0']['value'],phase_center['m1']['value']])[None,:]\n",
    "\n",
    "\n",
    "# What does awproject in CASA do\n",
    "pa_ang_sirius_casa = fix_ang(_calc_parallactic_angles_casa(time_str, observing_location, phase_center_ra_dec, frame='AZEL', dir_frame='FK5', zenith_frame='HADEC'))\n",
    "print('awproject parallactic angle degrees ',awproject_pa)\n",
    "print('casa parallactic angle degrees',pa_ang_sirius_casa)\n",
    "print('Difference in arcseconds ',(awproject_pa-pa_ang_sirius_casa)*(3600))\n",
    "print('****************')\n",
    "\n",
    "# Replicate other astropy and casa functions.\n",
    "\n",
    "pa_ang_sirius_astropy = fix_ang(_calc_parallactic_angles_astropy(time_str, observing_location, phase_center_ra_dec, dir_frame='FK5'))\n",
    "pa_ang_sirius_casa = fix_ang(_calc_parallactic_angles_casa(time_str, observing_location, phase_center_ra_dec, frame='AZELGEO', dir_frame='FK5', zenith_frame='FK5'))\n",
    "print('astropy parallactic angle degrees',pa_ang_sirius_astropy)\n",
    "print('casa parallactic angle degrees',pa_ang_sirius_casa)\n",
    "print('Difference in arcseconds ' ,(pa_ang_sirius_astropy-pa_ang_sirius_casa)*3600)\n",
    "print('****************')\n",
    "\n",
    "pa_ang_sirius_astropy = fix_ang(_calc_parallactic_angles_astropy(time_str, observing_location, phase_center_ra_dec, dir_frame='FK5'))\n",
    "pa_ang_sirius_casa = fix_ang(_calc_parallactic_angles_casa(time_str, observing_location, phase_center_ra_dec, frame='AZEL', dir_frame='FK5', zenith_frame='HADEC'))\n",
    "print('astropy parallactic angle degrees',pa_ang_sirius_astropy)\n",
    "print('casa parallactic angle degrees',pa_ang_sirius_casa)\n",
    "print('Difference in arcseconds ' ,(pa_ang_sirius_astropy-pa_ang_sirius_casa)*3600)\n",
    "print('****************')\n",
    "\n",
    "pa_ang_sirius_astropy2 = fix_ang(_calc_parallactic_angles_astropy2(time_str, observing_location, phase_center_ra_dec, dir_frame='FK5'))\n",
    "pa_ang_sirius_casa = fix_ang(_calc_parallactic_angles_casa(time_str, observing_location, phase_center_ra_dec, frame='AZEL', dir_frame='FK5', zenith_frame='FK5'))\n",
    "print('astropy2 parallactic angle degrees',pa_ang_sirius_astropy2)\n",
    "print('casa parallactic angle degrees',pa_ang_sirius_casa)\n",
    "print('Difference in arcseconds ' ,(pa_ang_sirius_astropy2-pa_ang_sirius_casa)*3600)\n",
    "print('****************')\n",
    "\n",
    "pa_ang_sirius_casa2 = fix_ang(_calc_parallactic_angles_casa2(time_str, observing_location, phase_center_ra_dec, dir_frame='FK5'))\n",
    "pa_ang_sirius_casa = fix_ang(_calc_parallactic_angles_casa(time_str, observing_location, phase_center_ra_dec, frame='AZEL', dir_frame='FK5', zenith_frame='HADEC'))\n",
    "print('casa2 parallactic angle degrees',pa_ang_sirius_casa2)\n",
    "print('casa parallactic angle degrees',pa_ang_sirius_casa)\n",
    "print('Difference in arcseconds ' ,(pa_ang_sirius_casa2-pa_ang_sirius_casa2)*3600)\n",
    "print('****************')\n",
    "\n",
    "pa_ang_sirius_casa3 = fix_ang(_calc_parallactic_angles_casa3(time_str, observing_location, phase_center_ra_dec, frame='AZEL', dir_frame='FK5', zenith_frame='HADEC'))\n",
    "pa_ang_sirius_casa = fix_ang(_calc_parallactic_angles_casa(time_str, observing_location, phase_center_ra_dec, frame='AZEL', dir_frame='FK5', zenith_frame='HADEC'))\n",
    "print('casa3 parallactic angle degrees',pa_ang_sirius_casa)\n",
    "print('casa parallactic angle degrees',pa_ang_sirius_casa)\n",
    "print((pa_ang_sirius_casa-pa_ang_sirius_casa3)*3600)\n",
    "print('****************')\n",
    "\n",
    "#Zenith starting frame 'HADEC' vs 'FK5'\n",
    "pa_ang_sirius_casa_HADEC = fix_ang(_calc_parallactic_angles_casa(time_str, observing_location, phase_center_ra_dec, frame='AZELGEO', dir_frame='FK5', zenith_frame='HADEC'))\n",
    "pa_ang_sirius_casa_FK5 = fix_ang(_calc_parallactic_angles_casa(time_str, observing_location, phase_center_ra_dec, frame='AZELGEO', dir_frame='FK5', zenith_frame='FK5'))\n",
    "print('casa_HADEC parallactic angle degrees',pa_ang_sirius_casa_HADEC)\n",
    "print('casa_FK5 parallactic angle degrees',pa_ang_sirius_casa_FK5)\n",
    "print('Difference in arcseconds ' ,(pa_ang_sirius_casa_HADEC-pa_ang_sirius_casa_FK5)*3600)\n",
    "print('****************')\n",
    "\n",
    "#Frame to convert to 'AZELGEO' vs 'AZEL'\n",
    "pa_ang_sirius_casa_AZELGEO = fix_ang(_calc_parallactic_angles_casa(time_str, observing_location, phase_center_ra_dec, frame='AZELGEO', dir_frame='FK5', zenith_frame='FK5'))\n",
    "pa_ang_sirius_casa_AZEL = fix_ang(_calc_parallactic_angles_casa(time_str, observing_location, phase_center_ra_dec, frame='AZEL', dir_frame='FK5', zenith_frame='FK5'))\n",
    "print('casa_AZELGEO parallactic angle degrees',pa_ang_sirius_casa_AZELGEO)\n",
    "print('casa_AZEL parallactic angle degrees',pa_ang_sirius_casa_AZEL)\n",
    "print('Difference in arcseconds ' ,(pa_ang_sirius_casa_AZELGEO-pa_ang_sirius_casa_AZEL)*3600)\n",
    "\n",
    "#Questions FK5 (J2000) -> ICRS\n",
    "#For PA calc AZEL vs AZELGEO\n",
    "#Zenith for PA calc FK5 or HADEC"
   ]
  },
  {
   "cell_type": "markdown",
   "id": "cfb9a273-1883-48ff-962f-2b51086dd3e1",
   "metadata": {},
   "source": [
    "- (PA_AZELGEO \\- PA_AZEL) is a function of elevation. The closer to the horizon, the smaller the error.\n",
    "- (PA_HADEC \\- PA_FK5) is almost constant."
   ]
  }
 ],
 "metadata": {
  "colab": {
   "include_colab_link": true,
   "name": "simple_simulation.ipynb",
   "provenance": []
  },
  "kernelspec": {
   "display_name": "Python 3 (ipykernel)",
   "language": "python",
   "name": "python3"
  },
  "language_info": {
   "codemirror_mode": {
    "name": "ipython",
    "version": 3
   },
   "file_extension": ".py",
   "mimetype": "text/x-python",
   "name": "python",
   "nbconvert_exporter": "python",
   "pygments_lexer": "ipython3",
   "version": "3.8.12"
  },
  "widgets": {
   "application/vnd.jupyter.widget-state+json": {
    "661dab50a4d249b6bea98ee951066b5f": {
     "model_module": "@jupyter-widgets/base",
     "model_module_version": "1.2.0",
     "model_name": "LayoutModel",
     "state": {
      "_model_module": "@jupyter-widgets/base",
      "_model_module_version": "1.2.0",
      "_model_name": "LayoutModel",
      "_view_count": null,
      "_view_module": "@jupyter-widgets/base",
      "_view_module_version": "1.2.0",
      "_view_name": "LayoutView",
      "align_content": null,
      "align_items": null,
      "align_self": null,
      "border": null,
      "bottom": null,
      "display": null,
      "flex": null,
      "flex_flow": null,
      "grid_area": null,
      "grid_auto_columns": null,
      "grid_auto_flow": null,
      "grid_auto_rows": null,
      "grid_column": null,
      "grid_gap": null,
      "grid_row": null,
      "grid_template_areas": null,
      "grid_template_columns": null,
      "grid_template_rows": null,
      "height": null,
      "justify_content": null,
      "justify_items": null,
      "left": null,
      "margin": null,
      "max_height": null,
      "max_width": null,
      "min_height": null,
      "min_width": null,
      "object_fit": null,
      "object_position": null,
      "order": null,
      "overflow": null,
      "overflow_x": null,
      "overflow_y": null,
      "padding": null,
      "right": null,
      "top": null,
      "visibility": null,
      "width": null
     }
    },
    "9e234070ae354cdeb737a9fee5f9f8dd": {
     "model_module": "jupyter-matplotlib",
     "model_module_version": "^0.10.0",
     "model_name": "MPLCanvasModel",
     "state": {
      "_cursor": "default",
      "_dom_classes": [],
      "_figure_label": "Figure 1",
      "_height": 360,
      "_image_mode": "full",
      "_message": "x=0.37027      y=0.330385    ",
      "_model_module": "jupyter-matplotlib",
      "_model_module_version": "^0.10.0",
      "_model_name": "MPLCanvasModel",
      "_rubberband_height": 0,
      "_rubberband_width": 0,
      "_rubberband_x": 0,
      "_rubberband_y": 0,
      "_view_count": null,
      "_view_module": "jupyter-matplotlib",
      "_view_module_version": "^0.10.0",
      "_view_name": "MPLCanvasView",
      "_width": 864,
      "capture_scroll": false,
      "footer_visible": true,
      "header_visible": true,
      "layout": "IPY_MODEL_bc09e84ddc2c404fb58f9498f7d2f03f",
      "resizable": true,
      "toolbar": "IPY_MODEL_a31bc813da254ce0b8ab71c4f6aa3b55",
      "toolbar_position": "left",
      "toolbar_visible": true
     }
    },
    "a31bc813da254ce0b8ab71c4f6aa3b55": {
     "model_module": "jupyter-matplotlib",
     "model_module_version": "^0.10.0",
     "model_name": "ToolbarModel",
     "state": {
      "_current_action": "",
      "_dom_classes": [],
      "_model_module": "jupyter-matplotlib",
      "_model_module_version": "^0.10.0",
      "_model_name": "ToolbarModel",
      "_view_count": null,
      "_view_module": "jupyter-matplotlib",
      "_view_module_version": "^0.10.0",
      "_view_name": "ToolbarView",
      "button_style": "",
      "collapsed": true,
      "layout": "IPY_MODEL_661dab50a4d249b6bea98ee951066b5f",
      "orientation": "vertical",
      "toolitems": [
       [
        "Home",
        "Reset original view",
        "home",
        "home"
       ],
       [
        "Back",
        "Back to previous view",
        "arrow-left",
        "back"
       ],
       [
        "Forward",
        "Forward to next view",
        "arrow-right",
        "forward"
       ],
       [
        "Pan",
        "Pan axes with left mouse, zoom with right",
        "arrows",
        "pan"
       ],
       [
        "Zoom",
        "Zoom to rectangle",
        "square-o",
        "zoom"
       ],
       [
        "Download",
        "Download plot",
        "floppy-o",
        "save_figure"
       ]
      ]
     }
    },
    "bc09e84ddc2c404fb58f9498f7d2f03f": {
     "model_module": "@jupyter-widgets/base",
     "model_module_version": "1.2.0",
     "model_name": "LayoutModel",
     "state": {
      "_model_module": "@jupyter-widgets/base",
      "_model_module_version": "1.2.0",
      "_model_name": "LayoutModel",
      "_view_count": null,
      "_view_module": "@jupyter-widgets/base",
      "_view_module_version": "1.2.0",
      "_view_name": "LayoutView",
      "align_content": null,
      "align_items": null,
      "align_self": null,
      "border": null,
      "bottom": null,
      "display": null,
      "flex": null,
      "flex_flow": null,
      "grid_area": null,
      "grid_auto_columns": null,
      "grid_auto_flow": null,
      "grid_auto_rows": null,
      "grid_column": null,
      "grid_gap": null,
      "grid_row": null,
      "grid_template_areas": null,
      "grid_template_columns": null,
      "grid_template_rows": null,
      "height": null,
      "justify_content": null,
      "justify_items": null,
      "left": null,
      "margin": null,
      "max_height": null,
      "max_width": null,
      "min_height": null,
      "min_width": null,
      "object_fit": null,
      "object_position": null,
      "order": null,
      "overflow": null,
      "overflow_x": null,
      "overflow_y": null,
      "padding": null,
      "right": null,
      "top": null,
      "visibility": null,
      "width": null
     }
    }
   }
  }
 },
 "nbformat": 4,
 "nbformat_minor": 5
}
