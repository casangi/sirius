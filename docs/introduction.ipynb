{
 "cells": [
  {
   "cell_type": "markdown",
   "id": "e46c2166",
   "metadata": {},
   "source": [
    "# Introduction: SiRIUS (Simulation of Radio Interferometry from Unique Sources)\n",
    "\n",
    "SiRIUS is a component list radio interferometry visibilities simulator **in development** for the [VLA](https://public.nrao.edu/telescopes/vla/), [ALMA](https://www.almaobservatory.org/en/home/), and the [ngVLA](https://ngvla.nrao.edu/) telescopes. It makes use of modular Common Astronomy Software Applications ([CASA](https://casadocs.readthedocs.io/en/stable/)), the CASA Next Generation Infrastructure framework ([CNGI](https://cngi-prototype.readthedocs.io/en/latest/introduction.html)), and dask-ms ([dask-ms](https://dask-ms.readthedocs.io/en/latest/)). "
   ]
  },
  {
   "cell_type": "markdown",
   "id": "2e82f5a3-0689-4bae-be6f-999561ad8ce2",
   "metadata": {},
   "source": [
    "## Goals\n",
    "- Create a production-ready simulation package using the CNGI framework that integrates seamlessly into the modular CASA Python environment to demonstrate the framework's suitability for developing ngCASA.\n",
    "- Demonstrate performance and scalability by simulating large ngVLA size datasets on a cluster computer.\n",
    "- Exceed the CASA component list simulator functionality of the simulator tool, simobserve task, and simalma task. \n",
    "- Validate full Stokes imaging of the mosaic, awproject, and hpg gridders in the CASA task tclean using SiRIUS simulated datasets."
   ]
  },
  {
   "cell_type": "markdown",
   "id": "4a34959c-4649-44b6-bcf9-3b25026a84f5",
   "metadata": {
    "tags": []
   },
   "source": [
    "## Framework\n",
    "\n",
    "SiRIUS makes use of a modified version of the functional programming paradigm in the [CNGI prototype](https://cngi-prototype.readthedocs.io/en/latest/development.html#Framework) were a directed acyclic graph (DAG) of blocked algorithms composed from functions (the edges) and data (the vertices) for lazy evaluation by a scheduler process coordinating a network of (optionally distributed and heterogeneous) machine resources. SiRIUS expands on the [CNGI prototype framework](https://cngi-prototype.readthedocs.io/en/latest/development.html#Framework) by incorporating [dask-ms](https://dask-ms.readthedocs.io/en/latest/) which enables reading and writing CASA tables, via [python-casacore](https://github.com/casacore/python-casacore), with an xarray Dataset interface and Dask lazy execution. The addition of dask-ms allows SiRIUS to be compatible with CASA because the visibility data can now be stored in a [Measurement Set](https://casadocs.readthedocs.io/en/latest/notebooks/casa-fundamentals.html#MeasurementSet-v2).\n",
    "\n",
    "The relationship between the libraries used in SiRIUS can be conceptualized by the following diagram:\n",
    "\n",
    "![im10](https://raw.githubusercontent.com/casangi/sirius/master/docs/_media/sirius_framework.png)\n",
    "\n",
    "In the framework, data is stored in either the [Measurement Set v2]((https://casadocs.readthedocs.io/en/latest/notebooks/casa-fundamentals.html#MeasurementSet-v2)) or the Zarr format. The Zarr format allows files to be mounted on a local disk or in the cloud, while the Measurement Set data can only be mounted on a local disk. The Dask scheduler manages N worker processes identified to the central scheduler by their unique network address and coordinating M threads. Each thread applies functions to a set of data chunks. Xarray wraps Dask functions and labels the Dask arrays for ease of interface. Any code that is wrapped with Python can be parallelized with Dask. Therefore, the option to use C++, Numba, Cupy, or another custom high-performance computing (HPC) code is retained. The CASA Measures tool and Astropy are used for coordinate conversions. Cloud deployment is enbaled using Docker and Kubernetes. User can interface with the SiRIUS using Jupyter notebooks (see the basic simulation [example](https://sirius-sim.readthedocs.io/en/latest/simple_simulation.html)). "
   ]
  },
  {
   "cell_type": "markdown",
   "id": "3c8b53b4-ad05-4273-8893-44b4b4add01d",
   "metadata": {},
   "source": [
    "## Requirements\n",
    "\n",
    "SiRIUS should work on Mac OS and Linux using Python=3.8."
   ]
  },
  {
   "cell_type": "markdown",
   "id": "6a57694d-402b-44a9-b034-fbf6e884932d",
   "metadata": {},
   "source": [
    "## Installation"
   ]
  },
  {
   "cell_type": "markdown",
   "id": "dcbac009-22f8-4143-b179-4e9c6268cdba",
   "metadata": {},
   "source": [
    "Currently, the python-casacore dependency fails to ```pip install``` for Mac users, consequently ```conda install``` must be used.\n",
    "\n",
    "```sh\n",
    "conda create -n sirius python=3.8\n",
    "conda activate sirius\n",
    "conda install -c conda-forge python-casacore\n",
    "pip install sirius\n",
    "```"
   ]
  },
  {
   "cell_type": "markdown",
   "id": "07455566-dcb7-4605-80d0-aa452051db37",
   "metadata": {},
   "source": [
    "## Development Installation\n",
    "\n",
    "```sh\n",
    "conda create -n sirius python=3.8\n",
    "conda activate sirius\n",
    "conda install -c conda-forge python-casacore\n",
    "git clone https://github.com/casangi/sirius.git\n",
    "cd sirius\n",
    "pip install -e .\n",
    "```\n"
   ]
  },
  {
   "cell_type": "markdown",
   "id": "f5406247-c08b-4b8a-a3bd-84a0cac71d52",
   "metadata": {},
   "source": [
    "## Contact\n",
    "\n",
    "Questions and feedback can be sent to: jsteeb@nrao.edu"
   ]
  },
  {
   "cell_type": "markdown",
   "id": "5d6b2cd1-f13d-434b-ba92-c212befc6746",
   "metadata": {},
   "source": [
    "Sirius A and B image by NASA, ESA, H. Bond (STScI), and M. Barstow (University of Leicester)."
   ]
  }
 ],
 "metadata": {
  "kernelspec": {
   "display_name": "Python 3 (ipykernel)",
   "language": "python",
   "name": "python3"
  },
  "language_info": {
   "codemirror_mode": {
    "name": "ipython",
    "version": 3
   },
   "file_extension": ".py",
   "mimetype": "text/x-python",
   "name": "python",
   "nbconvert_exporter": "python",
   "pygments_lexer": "ipython3",
   "version": "3.8.12"
  }
 },
 "nbformat": 4,
 "nbformat_minor": 5
}
