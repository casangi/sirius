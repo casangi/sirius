{
 "cells": [
  {
   "cell_type": "markdown",
   "id": "e46c2166",
   "metadata": {},
   "source": [
    "# Introduction\n",
    "\n",
    "Under development."
   ]
  },
  {
   "cell_type": "markdown",
   "id": "5d6b2cd1-f13d-434b-ba92-c212befc6746",
   "metadata": {},
   "source": [
    "Sirius A and B image by NASA, ESA, H. Bond (STScI), and M. Barstow (University of Leicester)."
   ]
  },
  {
   "cell_type": "code",
   "execution_count": null,
   "id": "b627a793-cc65-4cac-b83a-a472d9c0725c",
   "metadata": {},
   "outputs": [],
   "source": []
  }
 ],
 "metadata": {
  "kernelspec": {
   "display_name": "Python 3 (ipykernel)",
   "language": "python",
   "name": "python3"
  },
  "language_info": {
   "codemirror_mode": {
    "name": "ipython",
    "version": 3
   },
   "file_extension": ".py",
   "mimetype": "text/x-python",
   "name": "python",
   "nbconvert_exporter": "python",
   "pygments_lexer": "ipython3",
   "version": "3.8.12"
  }
 },
 "nbformat": 4,
 "nbformat_minor": 5
}
