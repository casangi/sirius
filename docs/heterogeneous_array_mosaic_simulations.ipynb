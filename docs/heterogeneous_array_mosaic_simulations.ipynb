{
 "cells": [
  {
   "cell_type": "markdown",
   "id": "981f325e",
   "metadata": {
    "colab_type": "text",
    "id": "view-in-github"
   },
   "source": [
    "[![Open In Colab](https://colab.research.google.com/assets/colab-badge.svg)](https://colab.research.google.com/github/googlecolab/colabtools/blob/master/notebooks/colab-github-demo.ipynb)\n",
    "\n",
    "Too see plots run in google colab: https://colab.research.google.com/github/googlecolab/colabtools/blob/master/notebooks/colab-github-demo.ipynb"
   ]
  },
  {
   "cell_type": "markdown",
   "id": "cb8ef606-3935-4e94-a732-09dd6175f505",
   "metadata": {
    "id": "cb8ef606-3935-4e94-a732-09dd6175f505"
   },
   "source": [
    "# Heterogeneous Array Mosaic Simulations and Imaging"
   ]
  },
  {
   "cell_type": "code",
   "execution_count": 1,
   "id": "664347c3-d215-4f21-a1ca-5b225e46c593",
   "metadata": {
    "id": "664347c3-d215-4f21-a1ca-5b225e46c593",
    "outputId": "5680aa85-3019-4563-b216-c04d78fcc49a"
   },
   "outputs": [
    {
     "name": "stdout",
     "output_type": "stream",
     "text": [
      "SiRIUS version 0.0.21 already installed.\n"
     ]
    }
   ],
   "source": [
    "import os\n",
    "try:\n",
    "    import sirius \n",
    "    print('SiRIUS version',sirius.__version__,'already installed.')\n",
    "except:\n",
    "    print('Installing SiRIUS')\n",
    "    os.system(\"pip install sirius\")\n",
    "    import sirius \n",
    "    print('SiRIUS version',sirius.__version__,' installed.')"
   ]
  },
  {
   "cell_type": "code",
   "execution_count": 2,
   "id": "2d01e414-6bdc-48b5-91d8-4b6e571cb55e",
   "metadata": {
    "id": "2d01e414-6bdc-48b5-91d8-4b6e571cb55e"
   },
   "outputs": [],
   "source": [
    "import pkg_resources\n",
    "import xarray as xr\n",
    "import numpy as np\n",
    "from astropy.coordinates import SkyCoord\n",
    "xr.set_options(display_style=\"html\")\n",
    "import os\n",
    "try:\n",
    "    from google.colab import output\n",
    "    output.enable_custom_widget_manager()\n",
    "    IN_COLAB = True\n",
    "except:\n",
    "    IN_COLAB = False\n",
    "%matplotlib widget \n",
    "#%matplotlib inline\n",
    "\n",
    "#working_dir = '/lustre/cv/users/jsteeb/simulation/'\n",
    "working_dir = ''"
   ]
  },
  {
   "cell_type": "markdown",
   "id": "35703301-e47f-4a12-b0ee-302e97937cec",
   "metadata": {
    "id": "35703301-e47f-4a12-b0ee-302e97937cec"
   },
   "source": [
    "## Telescope Layout"
   ]
  },
  {
   "cell_type": "code",
   "execution_count": 3,
   "id": "203948f5-a8cb-4ed3-b232-7a05bec49504",
   "metadata": {
    "id": "203948f5-a8cb-4ed3-b232-7a05bec49504",
    "outputId": "a254b100-edc8-48a4-f263-2caa7975375b"
   },
   "outputs": [
    {
     "data": {
      "text/html": [
       "<div><svg style=\"position: absolute; width: 0; height: 0; overflow: hidden\">\n",
       "<defs>\n",
       "<symbol id=\"icon-database\" viewBox=\"0 0 32 32\">\n",
       "<path d=\"M16 0c-8.837 0-16 2.239-16 5v4c0 2.761 7.163 5 16 5s16-2.239 16-5v-4c0-2.761-7.163-5-16-5z\"></path>\n",
       "<path d=\"M16 17c-8.837 0-16-2.239-16-5v6c0 2.761 7.163 5 16 5s16-2.239 16-5v-6c0 2.761-7.163 5-16 5z\"></path>\n",
       "<path d=\"M16 26c-8.837 0-16-2.239-16-5v6c0 2.761 7.163 5 16 5s16-2.239 16-5v-6c0 2.761-7.163 5-16 5z\"></path>\n",
       "</symbol>\n",
       "<symbol id=\"icon-file-text2\" viewBox=\"0 0 32 32\">\n",
       "<path d=\"M28.681 7.159c-0.694-0.947-1.662-2.053-2.724-3.116s-2.169-2.030-3.116-2.724c-1.612-1.182-2.393-1.319-2.841-1.319h-15.5c-1.378 0-2.5 1.121-2.5 2.5v27c0 1.378 1.122 2.5 2.5 2.5h23c1.378 0 2.5-1.122 2.5-2.5v-19.5c0-0.448-0.137-1.23-1.319-2.841zM24.543 5.457c0.959 0.959 1.712 1.825 2.268 2.543h-4.811v-4.811c0.718 0.556 1.584 1.309 2.543 2.268zM28 29.5c0 0.271-0.229 0.5-0.5 0.5h-23c-0.271 0-0.5-0.229-0.5-0.5v-27c0-0.271 0.229-0.5 0.5-0.5 0 0 15.499-0 15.5 0v7c0 0.552 0.448 1 1 1h7v19.5z\"></path>\n",
       "<path d=\"M23 26h-14c-0.552 0-1-0.448-1-1s0.448-1 1-1h14c0.552 0 1 0.448 1 1s-0.448 1-1 1z\"></path>\n",
       "<path d=\"M23 22h-14c-0.552 0-1-0.448-1-1s0.448-1 1-1h14c0.552 0 1 0.448 1 1s-0.448 1-1 1z\"></path>\n",
       "<path d=\"M23 18h-14c-0.552 0-1-0.448-1-1s0.448-1 1-1h14c0.552 0 1 0.448 1 1s-0.448 1-1 1z\"></path>\n",
       "</symbol>\n",
       "</defs>\n",
       "</svg>\n",
       "<style>/* CSS stylesheet for displaying xarray objects in jupyterlab.\n",
       " *\n",
       " */\n",
       "\n",
       ":root {\n",
       "  --xr-font-color0: var(--jp-content-font-color0, rgba(0, 0, 0, 1));\n",
       "  --xr-font-color2: var(--jp-content-font-color2, rgba(0, 0, 0, 0.54));\n",
       "  --xr-font-color3: var(--jp-content-font-color3, rgba(0, 0, 0, 0.38));\n",
       "  --xr-border-color: var(--jp-border-color2, #e0e0e0);\n",
       "  --xr-disabled-color: var(--jp-layout-color3, #bdbdbd);\n",
       "  --xr-background-color: var(--jp-layout-color0, white);\n",
       "  --xr-background-color-row-even: var(--jp-layout-color1, white);\n",
       "  --xr-background-color-row-odd: var(--jp-layout-color2, #eeeeee);\n",
       "}\n",
       "\n",
       "html[theme=dark],\n",
       "body.vscode-dark {\n",
       "  --xr-font-color0: rgba(255, 255, 255, 1);\n",
       "  --xr-font-color2: rgba(255, 255, 255, 0.54);\n",
       "  --xr-font-color3: rgba(255, 255, 255, 0.38);\n",
       "  --xr-border-color: #1F1F1F;\n",
       "  --xr-disabled-color: #515151;\n",
       "  --xr-background-color: #111111;\n",
       "  --xr-background-color-row-even: #111111;\n",
       "  --xr-background-color-row-odd: #313131;\n",
       "}\n",
       "\n",
       ".xr-wrap {\n",
       "  display: block !important;\n",
       "  min-width: 300px;\n",
       "  max-width: 700px;\n",
       "}\n",
       "\n",
       ".xr-text-repr-fallback {\n",
       "  /* fallback to plain text repr when CSS is not injected (untrusted notebook) */\n",
       "  display: none;\n",
       "}\n",
       "\n",
       ".xr-header {\n",
       "  padding-top: 6px;\n",
       "  padding-bottom: 6px;\n",
       "  margin-bottom: 4px;\n",
       "  border-bottom: solid 1px var(--xr-border-color);\n",
       "}\n",
       "\n",
       ".xr-header > div,\n",
       ".xr-header > ul {\n",
       "  display: inline;\n",
       "  margin-top: 0;\n",
       "  margin-bottom: 0;\n",
       "}\n",
       "\n",
       ".xr-obj-type,\n",
       ".xr-array-name {\n",
       "  margin-left: 2px;\n",
       "  margin-right: 10px;\n",
       "}\n",
       "\n",
       ".xr-obj-type {\n",
       "  color: var(--xr-font-color2);\n",
       "}\n",
       "\n",
       ".xr-sections {\n",
       "  padding-left: 0 !important;\n",
       "  display: grid;\n",
       "  grid-template-columns: 150px auto auto 1fr 20px 20px;\n",
       "}\n",
       "\n",
       ".xr-section-item {\n",
       "  display: contents;\n",
       "}\n",
       "\n",
       ".xr-section-item input {\n",
       "  display: none;\n",
       "}\n",
       "\n",
       ".xr-section-item input + label {\n",
       "  color: var(--xr-disabled-color);\n",
       "}\n",
       "\n",
       ".xr-section-item input:enabled + label {\n",
       "  cursor: pointer;\n",
       "  color: var(--xr-font-color2);\n",
       "}\n",
       "\n",
       ".xr-section-item input:enabled + label:hover {\n",
       "  color: var(--xr-font-color0);\n",
       "}\n",
       "\n",
       ".xr-section-summary {\n",
       "  grid-column: 1;\n",
       "  color: var(--xr-font-color2);\n",
       "  font-weight: 500;\n",
       "}\n",
       "\n",
       ".xr-section-summary > span {\n",
       "  display: inline-block;\n",
       "  padding-left: 0.5em;\n",
       "}\n",
       "\n",
       ".xr-section-summary-in:disabled + label {\n",
       "  color: var(--xr-font-color2);\n",
       "}\n",
       "\n",
       ".xr-section-summary-in + label:before {\n",
       "  display: inline-block;\n",
       "  content: '►';\n",
       "  font-size: 11px;\n",
       "  width: 15px;\n",
       "  text-align: center;\n",
       "}\n",
       "\n",
       ".xr-section-summary-in:disabled + label:before {\n",
       "  color: var(--xr-disabled-color);\n",
       "}\n",
       "\n",
       ".xr-section-summary-in:checked + label:before {\n",
       "  content: '▼';\n",
       "}\n",
       "\n",
       ".xr-section-summary-in:checked + label > span {\n",
       "  display: none;\n",
       "}\n",
       "\n",
       ".xr-section-summary,\n",
       ".xr-section-inline-details {\n",
       "  padding-top: 4px;\n",
       "  padding-bottom: 4px;\n",
       "}\n",
       "\n",
       ".xr-section-inline-details {\n",
       "  grid-column: 2 / -1;\n",
       "}\n",
       "\n",
       ".xr-section-details {\n",
       "  display: none;\n",
       "  grid-column: 1 / -1;\n",
       "  margin-bottom: 5px;\n",
       "}\n",
       "\n",
       ".xr-section-summary-in:checked ~ .xr-section-details {\n",
       "  display: contents;\n",
       "}\n",
       "\n",
       ".xr-array-wrap {\n",
       "  grid-column: 1 / -1;\n",
       "  display: grid;\n",
       "  grid-template-columns: 20px auto;\n",
       "}\n",
       "\n",
       ".xr-array-wrap > label {\n",
       "  grid-column: 1;\n",
       "  vertical-align: top;\n",
       "}\n",
       "\n",
       ".xr-preview {\n",
       "  color: var(--xr-font-color3);\n",
       "}\n",
       "\n",
       ".xr-array-preview,\n",
       ".xr-array-data {\n",
       "  padding: 0 5px !important;\n",
       "  grid-column: 2;\n",
       "}\n",
       "\n",
       ".xr-array-data,\n",
       ".xr-array-in:checked ~ .xr-array-preview {\n",
       "  display: none;\n",
       "}\n",
       "\n",
       ".xr-array-in:checked ~ .xr-array-data,\n",
       ".xr-array-preview {\n",
       "  display: inline-block;\n",
       "}\n",
       "\n",
       ".xr-dim-list {\n",
       "  display: inline-block !important;\n",
       "  list-style: none;\n",
       "  padding: 0 !important;\n",
       "  margin: 0;\n",
       "}\n",
       "\n",
       ".xr-dim-list li {\n",
       "  display: inline-block;\n",
       "  padding: 0;\n",
       "  margin: 0;\n",
       "}\n",
       "\n",
       ".xr-dim-list:before {\n",
       "  content: '(';\n",
       "}\n",
       "\n",
       ".xr-dim-list:after {\n",
       "  content: ')';\n",
       "}\n",
       "\n",
       ".xr-dim-list li:not(:last-child):after {\n",
       "  content: ',';\n",
       "  padding-right: 5px;\n",
       "}\n",
       "\n",
       ".xr-has-index {\n",
       "  font-weight: bold;\n",
       "}\n",
       "\n",
       ".xr-var-list,\n",
       ".xr-var-item {\n",
       "  display: contents;\n",
       "}\n",
       "\n",
       ".xr-var-item > div,\n",
       ".xr-var-item label,\n",
       ".xr-var-item > .xr-var-name span {\n",
       "  background-color: var(--xr-background-color-row-even);\n",
       "  margin-bottom: 0;\n",
       "}\n",
       "\n",
       ".xr-var-item > .xr-var-name:hover span {\n",
       "  padding-right: 5px;\n",
       "}\n",
       "\n",
       ".xr-var-list > li:nth-child(odd) > div,\n",
       ".xr-var-list > li:nth-child(odd) > label,\n",
       ".xr-var-list > li:nth-child(odd) > .xr-var-name span {\n",
       "  background-color: var(--xr-background-color-row-odd);\n",
       "}\n",
       "\n",
       ".xr-var-name {\n",
       "  grid-column: 1;\n",
       "}\n",
       "\n",
       ".xr-var-dims {\n",
       "  grid-column: 2;\n",
       "}\n",
       "\n",
       ".xr-var-dtype {\n",
       "  grid-column: 3;\n",
       "  text-align: right;\n",
       "  color: var(--xr-font-color2);\n",
       "}\n",
       "\n",
       ".xr-var-preview {\n",
       "  grid-column: 4;\n",
       "}\n",
       "\n",
       ".xr-var-name,\n",
       ".xr-var-dims,\n",
       ".xr-var-dtype,\n",
       ".xr-preview,\n",
       ".xr-attrs dt {\n",
       "  white-space: nowrap;\n",
       "  overflow: hidden;\n",
       "  text-overflow: ellipsis;\n",
       "  padding-right: 10px;\n",
       "}\n",
       "\n",
       ".xr-var-name:hover,\n",
       ".xr-var-dims:hover,\n",
       ".xr-var-dtype:hover,\n",
       ".xr-attrs dt:hover {\n",
       "  overflow: visible;\n",
       "  width: auto;\n",
       "  z-index: 1;\n",
       "}\n",
       "\n",
       ".xr-var-attrs,\n",
       ".xr-var-data {\n",
       "  display: none;\n",
       "  background-color: var(--xr-background-color) !important;\n",
       "  padding-bottom: 5px !important;\n",
       "}\n",
       "\n",
       ".xr-var-attrs-in:checked ~ .xr-var-attrs,\n",
       ".xr-var-data-in:checked ~ .xr-var-data {\n",
       "  display: block;\n",
       "}\n",
       "\n",
       ".xr-var-data > table {\n",
       "  float: right;\n",
       "}\n",
       "\n",
       ".xr-var-name span,\n",
       ".xr-var-data,\n",
       ".xr-attrs {\n",
       "  padding-left: 25px !important;\n",
       "}\n",
       "\n",
       ".xr-attrs,\n",
       ".xr-var-attrs,\n",
       ".xr-var-data {\n",
       "  grid-column: 1 / -1;\n",
       "}\n",
       "\n",
       "dl.xr-attrs {\n",
       "  padding: 0;\n",
       "  margin: 0;\n",
       "  display: grid;\n",
       "  grid-template-columns: 125px auto;\n",
       "}\n",
       "\n",
       ".xr-attrs dt,\n",
       ".xr-attrs dd {\n",
       "  padding: 0;\n",
       "  margin: 0;\n",
       "  float: left;\n",
       "  padding-right: 10px;\n",
       "  width: auto;\n",
       "}\n",
       "\n",
       ".xr-attrs dt {\n",
       "  font-weight: normal;\n",
       "  grid-column: 1;\n",
       "}\n",
       "\n",
       ".xr-attrs dt:hover span {\n",
       "  display: inline-block;\n",
       "  background: var(--xr-background-color);\n",
       "  padding-right: 10px;\n",
       "}\n",
       "\n",
       ".xr-attrs dd {\n",
       "  grid-column: 2;\n",
       "  white-space: pre-wrap;\n",
       "  word-break: break-all;\n",
       "}\n",
       "\n",
       ".xr-icon-database,\n",
       ".xr-icon-file-text2 {\n",
       "  display: inline-block;\n",
       "  vertical-align: middle;\n",
       "  width: 1em;\n",
       "  height: 1.5em !important;\n",
       "  stroke-width: 0;\n",
       "  stroke: currentColor;\n",
       "  fill: currentColor;\n",
       "}\n",
       "</style><pre class='xr-text-repr-fallback'>&lt;xarray.Dataset&gt;\n",
       "Dimensions:        (ant_name: 12, pos_coord: 3)\n",
       "Coordinates:\n",
       "  * ant_name       (ant_name) &lt;U7 &#x27;N601&#x27; &#x27;N606&#x27; &#x27;J505&#x27; ... &#x27;A051&#x27; &#x27;A065&#x27; &#x27;A078&#x27;\n",
       "  * pos_coord      (pos_coord) int64 0 1 2\n",
       "Data variables:\n",
       "    ANT_POS        (ant_name, pos_coord) float64 dask.array&lt;chunksize=(12, 3), meta=np.ndarray&gt;\n",
       "    DISH_DIAMETER  (ant_name) float64 dask.array&lt;chunksize=(12,), meta=np.ndarray&gt;\n",
       "Attributes:\n",
       "    site_pos:        [{&#x27;m0&#x27;: {&#x27;unit&#x27;: &#x27;m&#x27;, &#x27;value&#x27;: 2225142.180268967}, &#x27;m1&#x27;:...\n",
       "    telescope_name:  ALMA</pre><div class='xr-wrap' style='display:none'><div class='xr-header'><div class='xr-obj-type'>xarray.Dataset</div></div><ul class='xr-sections'><li class='xr-section-item'><input id='section-74923d54-a095-41b7-b5d7-8a0120f19371' class='xr-section-summary-in' type='checkbox' disabled ><label for='section-74923d54-a095-41b7-b5d7-8a0120f19371' class='xr-section-summary'  title='Expand/collapse section'>Dimensions:</label><div class='xr-section-inline-details'><ul class='xr-dim-list'><li><span class='xr-has-index'>ant_name</span>: 12</li><li><span class='xr-has-index'>pos_coord</span>: 3</li></ul></div><div class='xr-section-details'></div></li><li class='xr-section-item'><input id='section-e021f573-f8f7-43a3-a12d-abd75c4f27ed' class='xr-section-summary-in' type='checkbox'  checked><label for='section-e021f573-f8f7-43a3-a12d-abd75c4f27ed' class='xr-section-summary' >Coordinates: <span>(2)</span></label><div class='xr-section-inline-details'></div><div class='xr-section-details'><ul class='xr-var-list'><li class='xr-var-item'><div class='xr-var-name'><span class='xr-has-index'>ant_name</span></div><div class='xr-var-dims'>(ant_name)</div><div class='xr-var-dtype'>&lt;U7</div><div class='xr-var-preview xr-preview'>&#x27;N601&#x27; &#x27;N606&#x27; ... &#x27;A065&#x27; &#x27;A078&#x27;</div><input id='attrs-07a674dc-9b89-47ad-a3a6-115258bee109' class='xr-var-attrs-in' type='checkbox' disabled><label for='attrs-07a674dc-9b89-47ad-a3a6-115258bee109' title='Show/Hide attributes'><svg class='icon xr-icon-file-text2'><use xlink:href='#icon-file-text2'></use></svg></label><input id='data-44ba5e59-056d-4961-943b-b317d8a6e097' class='xr-var-data-in' type='checkbox'><label for='data-44ba5e59-056d-4961-943b-b317d8a6e097' title='Show/Hide data repr'><svg class='icon xr-icon-database'><use xlink:href='#icon-database'></use></svg></label><div class='xr-var-attrs'><dl class='xr-attrs'></dl></div><div class='xr-var-data'><pre>array([&#x27;N601&#x27;, &#x27;N606&#x27;, &#x27;J505&#x27;, &#x27;J510&#x27;, &#x27;A001&#x27;, &#x27;A012&#x27;, &#x27;A025&#x27;, &#x27;A033&#x27;, &#x27;A045&#x27;,\n",
       "       &#x27;A051&#x27;, &#x27;A065&#x27;, &#x27;A078&#x27;], dtype=&#x27;&lt;U7&#x27;)</pre></div></li><li class='xr-var-item'><div class='xr-var-name'><span class='xr-has-index'>pos_coord</span></div><div class='xr-var-dims'>(pos_coord)</div><div class='xr-var-dtype'>int64</div><div class='xr-var-preview xr-preview'>0 1 2</div><input id='attrs-a2c1fb4f-6b73-4b21-a35b-cefacdaaec61' class='xr-var-attrs-in' type='checkbox' disabled><label for='attrs-a2c1fb4f-6b73-4b21-a35b-cefacdaaec61' title='Show/Hide attributes'><svg class='icon xr-icon-file-text2'><use xlink:href='#icon-file-text2'></use></svg></label><input id='data-58a55ab5-6f51-4587-8568-edfd03e76937' class='xr-var-data-in' type='checkbox'><label for='data-58a55ab5-6f51-4587-8568-edfd03e76937' title='Show/Hide data repr'><svg class='icon xr-icon-database'><use xlink:href='#icon-database'></use></svg></label><div class='xr-var-attrs'><dl class='xr-attrs'></dl></div><div class='xr-var-data'><pre>array([0, 1, 2])</pre></div></li></ul></div></li><li class='xr-section-item'><input id='section-25c86dfd-d06a-41b5-9f1d-b456fb768606' class='xr-section-summary-in' type='checkbox'  checked><label for='section-25c86dfd-d06a-41b5-9f1d-b456fb768606' class='xr-section-summary' >Data variables: <span>(2)</span></label><div class='xr-section-inline-details'></div><div class='xr-section-details'><ul class='xr-var-list'><li class='xr-var-item'><div class='xr-var-name'><span>ANT_POS</span></div><div class='xr-var-dims'>(ant_name, pos_coord)</div><div class='xr-var-dtype'>float64</div><div class='xr-var-preview xr-preview'>dask.array&lt;chunksize=(12, 3), meta=np.ndarray&gt;</div><input id='attrs-5844feea-28c1-4b42-a8d0-c8fa222c1e2c' class='xr-var-attrs-in' type='checkbox' disabled><label for='attrs-5844feea-28c1-4b42-a8d0-c8fa222c1e2c' title='Show/Hide attributes'><svg class='icon xr-icon-file-text2'><use xlink:href='#icon-file-text2'></use></svg></label><input id='data-2c40f81a-8f0b-4617-ae61-9f12553f950c' class='xr-var-data-in' type='checkbox'><label for='data-2c40f81a-8f0b-4617-ae61-9f12553f950c' title='Show/Hide data repr'><svg class='icon xr-icon-database'><use xlink:href='#icon-database'></use></svg></label><div class='xr-var-attrs'><dl class='xr-attrs'></dl></div><div class='xr-var-data'><table>\n",
       "    <tr>\n",
       "        <td>\n",
       "            <table>\n",
       "                <thead>\n",
       "                    <tr>\n",
       "                        <td> </td>\n",
       "                        <th> Array </th>\n",
       "                        <th> Chunk </th>\n",
       "                    </tr>\n",
       "                </thead>\n",
       "                <tbody>\n",
       "                    \n",
       "                    <tr>\n",
       "                        <th> Bytes </th>\n",
       "                        <td> 288 B </td>\n",
       "                        <td> 288 B </td>\n",
       "                    </tr>\n",
       "                    \n",
       "                    <tr>\n",
       "                        <th> Shape </th>\n",
       "                        <td> (12, 3) </td>\n",
       "                        <td> (12, 3) </td>\n",
       "                    </tr>\n",
       "                    <tr>\n",
       "                        <th> Count </th>\n",
       "                        <td> 3 Tasks </td>\n",
       "                        <td> 1 Chunks </td>\n",
       "                    </tr>\n",
       "                    <tr>\n",
       "                    <th> Type </th>\n",
       "                    <td> float64 </td>\n",
       "                    <td> numpy.ndarray </td>\n",
       "                    </tr>\n",
       "                </tbody>\n",
       "            </table>\n",
       "        </td>\n",
       "        <td>\n",
       "        <svg width=\"92\" height=\"170\" style=\"stroke:rgb(0,0,0);stroke-width:1\" >\n",
       "\n",
       "  <!-- Horizontal lines -->\n",
       "  <line x1=\"0\" y1=\"0\" x2=\"42\" y2=\"0\" style=\"stroke-width:2\" />\n",
       "  <line x1=\"0\" y1=\"120\" x2=\"42\" y2=\"120\" style=\"stroke-width:2\" />\n",
       "\n",
       "  <!-- Vertical lines -->\n",
       "  <line x1=\"0\" y1=\"0\" x2=\"0\" y2=\"120\" style=\"stroke-width:2\" />\n",
       "  <line x1=\"42\" y1=\"0\" x2=\"42\" y2=\"120\" style=\"stroke-width:2\" />\n",
       "\n",
       "  <!-- Colored Rectangle -->\n",
       "  <polygon points=\"0.0,0.0 42.89879552186202,0.0 42.89879552186202,120.0 0.0,120.0\" style=\"fill:#ECB172A0;stroke-width:0\"/>\n",
       "\n",
       "  <!-- Text -->\n",
       "  <text x=\"21.449398\" y=\"140.000000\" font-size=\"1.0rem\" font-weight=\"100\" text-anchor=\"middle\" >3</text>\n",
       "  <text x=\"62.898796\" y=\"60.000000\" font-size=\"1.0rem\" font-weight=\"100\" text-anchor=\"middle\" transform=\"rotate(0,62.898796,60.000000)\">12</text>\n",
       "</svg>\n",
       "        </td>\n",
       "    </tr>\n",
       "</table></div></li><li class='xr-var-item'><div class='xr-var-name'><span>DISH_DIAMETER</span></div><div class='xr-var-dims'>(ant_name)</div><div class='xr-var-dtype'>float64</div><div class='xr-var-preview xr-preview'>dask.array&lt;chunksize=(12,), meta=np.ndarray&gt;</div><input id='attrs-30a6898e-4f85-4cc0-ba03-34414ed097eb' class='xr-var-attrs-in' type='checkbox' disabled><label for='attrs-30a6898e-4f85-4cc0-ba03-34414ed097eb' title='Show/Hide attributes'><svg class='icon xr-icon-file-text2'><use xlink:href='#icon-file-text2'></use></svg></label><input id='data-94ed28c2-9dce-4613-9f4d-b44ef4028b5a' class='xr-var-data-in' type='checkbox'><label for='data-94ed28c2-9dce-4613-9f4d-b44ef4028b5a' title='Show/Hide data repr'><svg class='icon xr-icon-database'><use xlink:href='#icon-database'></use></svg></label><div class='xr-var-attrs'><dl class='xr-attrs'></dl></div><div class='xr-var-data'><table>\n",
       "    <tr>\n",
       "        <td>\n",
       "            <table>\n",
       "                <thead>\n",
       "                    <tr>\n",
       "                        <td> </td>\n",
       "                        <th> Array </th>\n",
       "                        <th> Chunk </th>\n",
       "                    </tr>\n",
       "                </thead>\n",
       "                <tbody>\n",
       "                    \n",
       "                    <tr>\n",
       "                        <th> Bytes </th>\n",
       "                        <td> 96 B </td>\n",
       "                        <td> 96 B </td>\n",
       "                    </tr>\n",
       "                    \n",
       "                    <tr>\n",
       "                        <th> Shape </th>\n",
       "                        <td> (12,) </td>\n",
       "                        <td> (12,) </td>\n",
       "                    </tr>\n",
       "                    <tr>\n",
       "                        <th> Count </th>\n",
       "                        <td> 3 Tasks </td>\n",
       "                        <td> 1 Chunks </td>\n",
       "                    </tr>\n",
       "                    <tr>\n",
       "                    <th> Type </th>\n",
       "                    <td> float64 </td>\n",
       "                    <td> numpy.ndarray </td>\n",
       "                    </tr>\n",
       "                </tbody>\n",
       "            </table>\n",
       "        </td>\n",
       "        <td>\n",
       "        <svg width=\"170\" height=\"87\" style=\"stroke:rgb(0,0,0);stroke-width:1\" >\n",
       "\n",
       "  <!-- Horizontal lines -->\n",
       "  <line x1=\"0\" y1=\"0\" x2=\"120\" y2=\"0\" style=\"stroke-width:2\" />\n",
       "  <line x1=\"0\" y1=\"37\" x2=\"120\" y2=\"37\" style=\"stroke-width:2\" />\n",
       "\n",
       "  <!-- Vertical lines -->\n",
       "  <line x1=\"0\" y1=\"0\" x2=\"0\" y2=\"37\" style=\"stroke-width:2\" />\n",
       "  <line x1=\"120\" y1=\"0\" x2=\"120\" y2=\"37\" style=\"stroke-width:2\" />\n",
       "\n",
       "  <!-- Colored Rectangle -->\n",
       "  <polygon points=\"0.0,0.0 120.0,0.0 120.0,37.56358655585696 0.0,37.56358655585696\" style=\"fill:#ECB172A0;stroke-width:0\"/>\n",
       "\n",
       "  <!-- Text -->\n",
       "  <text x=\"60.000000\" y=\"57.563587\" font-size=\"1.0rem\" font-weight=\"100\" text-anchor=\"middle\" >12</text>\n",
       "  <text x=\"140.000000\" y=\"18.781793\" font-size=\"1.0rem\" font-weight=\"100\" text-anchor=\"middle\" transform=\"rotate(0,140.000000,18.781793)\">1</text>\n",
       "</svg>\n",
       "        </td>\n",
       "    </tr>\n",
       "</table></div></li></ul></div></li><li class='xr-section-item'><input id='section-496c1781-221f-4c36-b463-844c8d912a85' class='xr-section-summary-in' type='checkbox'  checked><label for='section-496c1781-221f-4c36-b463-844c8d912a85' class='xr-section-summary' >Attributes: <span>(2)</span></label><div class='xr-section-inline-details'></div><div class='xr-section-details'><dl class='xr-attrs'><dt><span>site_pos :</span></dt><dd>[{&#x27;m0&#x27;: {&#x27;unit&#x27;: &#x27;m&#x27;, &#x27;value&#x27;: 2225142.180268967}, &#x27;m1&#x27;: {&#x27;unit&#x27;: &#x27;m&#x27;, &#x27;value&#x27;: -5440307.370348562}, &#x27;m2&#x27;: {&#x27;unit&#x27;: &#x27;m&#x27;, &#x27;value&#x27;: -2481029.851873547}, &#x27;refer&#x27;: &#x27;ITRF&#x27;, &#x27;type&#x27;: &#x27;position&#x27;}]</dd><dt><span>telescope_name :</span></dt><dd>ALMA</dd></dl></div></li></ul></div></div>"
      ],
      "text/plain": [
       "<xarray.Dataset>\n",
       "Dimensions:        (ant_name: 12, pos_coord: 3)\n",
       "Coordinates:\n",
       "  * ant_name       (ant_name) <U7 'N601' 'N606' 'J505' ... 'A051' 'A065' 'A078'\n",
       "  * pos_coord      (pos_coord) int64 0 1 2\n",
       "Data variables:\n",
       "    ANT_POS        (ant_name, pos_coord) float64 dask.array<chunksize=(12, 3), meta=np.ndarray>\n",
       "    DISH_DIAMETER  (ant_name) float64 dask.array<chunksize=(12,), meta=np.ndarray>\n",
       "Attributes:\n",
       "    site_pos:        [{'m0': {'unit': 'm', 'value': 2225142.180268967}, 'm1':...\n",
       "    telescope_name:  ALMA"
      ]
     },
     "execution_count": 3,
     "metadata": {},
     "output_type": "execute_result"
    }
   ],
   "source": [
    "########## Get telescope layout ##########\n",
    "tel_dir = pkg_resources.resource_filename('sirius_data', 'telescope_layout/data/alma.all.tel.zarr')\n",
    "tel_xds = xr.open_zarr(tel_dir,consolidated=False).sel(ant_name = ['N601','N606','J505','J510', 'A001', 'A012','A025', 'A033','A045', 'A051','A065', 'A078'])\n",
    "n_ant = tel_xds.dims['ant_name']\n",
    "tel_xds"
   ]
  },
  {
   "cell_type": "markdown",
   "id": "18f64dc4-72e9-427d-8e75-63cce0808a1b",
   "metadata": {
    "id": "18f64dc4-72e9-427d-8e75-63cce0808a1b"
   },
   "source": [
    "## Create Time and Freq Xarrays\n",
    "The chunking of time_xda and chan_xda determines the number of branches in the DAG (maximum parallelism = n_time_chunks x n_chan_chunks)."
   ]
  },
  {
   "cell_type": "code",
   "execution_count": 4,
   "id": "45fcedf4-037e-4034-acad-3c9c44513c59",
   "metadata": {
    "id": "45fcedf4-037e-4034-acad-3c9c44513c59",
    "outputId": "138e0cfe-d2c3-4ab5-e60f-4373a82213f0"
   },
   "outputs": [
    {
     "name": "stdout",
     "output_type": "stream",
     "text": [
      "Number of chunks  1\n"
     ]
    },
    {
     "data": {
      "text/html": [
       "<div><svg style=\"position: absolute; width: 0; height: 0; overflow: hidden\">\n",
       "<defs>\n",
       "<symbol id=\"icon-database\" viewBox=\"0 0 32 32\">\n",
       "<path d=\"M16 0c-8.837 0-16 2.239-16 5v4c0 2.761 7.163 5 16 5s16-2.239 16-5v-4c0-2.761-7.163-5-16-5z\"></path>\n",
       "<path d=\"M16 17c-8.837 0-16-2.239-16-5v6c0 2.761 7.163 5 16 5s16-2.239 16-5v-6c0 2.761-7.163 5-16 5z\"></path>\n",
       "<path d=\"M16 26c-8.837 0-16-2.239-16-5v6c0 2.761 7.163 5 16 5s16-2.239 16-5v-6c0 2.761-7.163 5-16 5z\"></path>\n",
       "</symbol>\n",
       "<symbol id=\"icon-file-text2\" viewBox=\"0 0 32 32\">\n",
       "<path d=\"M28.681 7.159c-0.694-0.947-1.662-2.053-2.724-3.116s-2.169-2.030-3.116-2.724c-1.612-1.182-2.393-1.319-2.841-1.319h-15.5c-1.378 0-2.5 1.121-2.5 2.5v27c0 1.378 1.122 2.5 2.5 2.5h23c1.378 0 2.5-1.122 2.5-2.5v-19.5c0-0.448-0.137-1.23-1.319-2.841zM24.543 5.457c0.959 0.959 1.712 1.825 2.268 2.543h-4.811v-4.811c0.718 0.556 1.584 1.309 2.543 2.268zM28 29.5c0 0.271-0.229 0.5-0.5 0.5h-23c-0.271 0-0.5-0.229-0.5-0.5v-27c0-0.271 0.229-0.5 0.5-0.5 0 0 15.499-0 15.5 0v7c0 0.552 0.448 1 1 1h7v19.5z\"></path>\n",
       "<path d=\"M23 26h-14c-0.552 0-1-0.448-1-1s0.448-1 1-1h14c0.552 0 1 0.448 1 1s-0.448 1-1 1z\"></path>\n",
       "<path d=\"M23 22h-14c-0.552 0-1-0.448-1-1s0.448-1 1-1h14c0.552 0 1 0.448 1 1s-0.448 1-1 1z\"></path>\n",
       "<path d=\"M23 18h-14c-0.552 0-1-0.448-1-1s0.448-1 1-1h14c0.552 0 1 0.448 1 1s-0.448 1-1 1z\"></path>\n",
       "</symbol>\n",
       "</defs>\n",
       "</svg>\n",
       "<style>/* CSS stylesheet for displaying xarray objects in jupyterlab.\n",
       " *\n",
       " */\n",
       "\n",
       ":root {\n",
       "  --xr-font-color0: var(--jp-content-font-color0, rgba(0, 0, 0, 1));\n",
       "  --xr-font-color2: var(--jp-content-font-color2, rgba(0, 0, 0, 0.54));\n",
       "  --xr-font-color3: var(--jp-content-font-color3, rgba(0, 0, 0, 0.38));\n",
       "  --xr-border-color: var(--jp-border-color2, #e0e0e0);\n",
       "  --xr-disabled-color: var(--jp-layout-color3, #bdbdbd);\n",
       "  --xr-background-color: var(--jp-layout-color0, white);\n",
       "  --xr-background-color-row-even: var(--jp-layout-color1, white);\n",
       "  --xr-background-color-row-odd: var(--jp-layout-color2, #eeeeee);\n",
       "}\n",
       "\n",
       "html[theme=dark],\n",
       "body.vscode-dark {\n",
       "  --xr-font-color0: rgba(255, 255, 255, 1);\n",
       "  --xr-font-color2: rgba(255, 255, 255, 0.54);\n",
       "  --xr-font-color3: rgba(255, 255, 255, 0.38);\n",
       "  --xr-border-color: #1F1F1F;\n",
       "  --xr-disabled-color: #515151;\n",
       "  --xr-background-color: #111111;\n",
       "  --xr-background-color-row-even: #111111;\n",
       "  --xr-background-color-row-odd: #313131;\n",
       "}\n",
       "\n",
       ".xr-wrap {\n",
       "  display: block !important;\n",
       "  min-width: 300px;\n",
       "  max-width: 700px;\n",
       "}\n",
       "\n",
       ".xr-text-repr-fallback {\n",
       "  /* fallback to plain text repr when CSS is not injected (untrusted notebook) */\n",
       "  display: none;\n",
       "}\n",
       "\n",
       ".xr-header {\n",
       "  padding-top: 6px;\n",
       "  padding-bottom: 6px;\n",
       "  margin-bottom: 4px;\n",
       "  border-bottom: solid 1px var(--xr-border-color);\n",
       "}\n",
       "\n",
       ".xr-header > div,\n",
       ".xr-header > ul {\n",
       "  display: inline;\n",
       "  margin-top: 0;\n",
       "  margin-bottom: 0;\n",
       "}\n",
       "\n",
       ".xr-obj-type,\n",
       ".xr-array-name {\n",
       "  margin-left: 2px;\n",
       "  margin-right: 10px;\n",
       "}\n",
       "\n",
       ".xr-obj-type {\n",
       "  color: var(--xr-font-color2);\n",
       "}\n",
       "\n",
       ".xr-sections {\n",
       "  padding-left: 0 !important;\n",
       "  display: grid;\n",
       "  grid-template-columns: 150px auto auto 1fr 20px 20px;\n",
       "}\n",
       "\n",
       ".xr-section-item {\n",
       "  display: contents;\n",
       "}\n",
       "\n",
       ".xr-section-item input {\n",
       "  display: none;\n",
       "}\n",
       "\n",
       ".xr-section-item input + label {\n",
       "  color: var(--xr-disabled-color);\n",
       "}\n",
       "\n",
       ".xr-section-item input:enabled + label {\n",
       "  cursor: pointer;\n",
       "  color: var(--xr-font-color2);\n",
       "}\n",
       "\n",
       ".xr-section-item input:enabled + label:hover {\n",
       "  color: var(--xr-font-color0);\n",
       "}\n",
       "\n",
       ".xr-section-summary {\n",
       "  grid-column: 1;\n",
       "  color: var(--xr-font-color2);\n",
       "  font-weight: 500;\n",
       "}\n",
       "\n",
       ".xr-section-summary > span {\n",
       "  display: inline-block;\n",
       "  padding-left: 0.5em;\n",
       "}\n",
       "\n",
       ".xr-section-summary-in:disabled + label {\n",
       "  color: var(--xr-font-color2);\n",
       "}\n",
       "\n",
       ".xr-section-summary-in + label:before {\n",
       "  display: inline-block;\n",
       "  content: '►';\n",
       "  font-size: 11px;\n",
       "  width: 15px;\n",
       "  text-align: center;\n",
       "}\n",
       "\n",
       ".xr-section-summary-in:disabled + label:before {\n",
       "  color: var(--xr-disabled-color);\n",
       "}\n",
       "\n",
       ".xr-section-summary-in:checked + label:before {\n",
       "  content: '▼';\n",
       "}\n",
       "\n",
       ".xr-section-summary-in:checked + label > span {\n",
       "  display: none;\n",
       "}\n",
       "\n",
       ".xr-section-summary,\n",
       ".xr-section-inline-details {\n",
       "  padding-top: 4px;\n",
       "  padding-bottom: 4px;\n",
       "}\n",
       "\n",
       ".xr-section-inline-details {\n",
       "  grid-column: 2 / -1;\n",
       "}\n",
       "\n",
       ".xr-section-details {\n",
       "  display: none;\n",
       "  grid-column: 1 / -1;\n",
       "  margin-bottom: 5px;\n",
       "}\n",
       "\n",
       ".xr-section-summary-in:checked ~ .xr-section-details {\n",
       "  display: contents;\n",
       "}\n",
       "\n",
       ".xr-array-wrap {\n",
       "  grid-column: 1 / -1;\n",
       "  display: grid;\n",
       "  grid-template-columns: 20px auto;\n",
       "}\n",
       "\n",
       ".xr-array-wrap > label {\n",
       "  grid-column: 1;\n",
       "  vertical-align: top;\n",
       "}\n",
       "\n",
       ".xr-preview {\n",
       "  color: var(--xr-font-color3);\n",
       "}\n",
       "\n",
       ".xr-array-preview,\n",
       ".xr-array-data {\n",
       "  padding: 0 5px !important;\n",
       "  grid-column: 2;\n",
       "}\n",
       "\n",
       ".xr-array-data,\n",
       ".xr-array-in:checked ~ .xr-array-preview {\n",
       "  display: none;\n",
       "}\n",
       "\n",
       ".xr-array-in:checked ~ .xr-array-data,\n",
       ".xr-array-preview {\n",
       "  display: inline-block;\n",
       "}\n",
       "\n",
       ".xr-dim-list {\n",
       "  display: inline-block !important;\n",
       "  list-style: none;\n",
       "  padding: 0 !important;\n",
       "  margin: 0;\n",
       "}\n",
       "\n",
       ".xr-dim-list li {\n",
       "  display: inline-block;\n",
       "  padding: 0;\n",
       "  margin: 0;\n",
       "}\n",
       "\n",
       ".xr-dim-list:before {\n",
       "  content: '(';\n",
       "}\n",
       "\n",
       ".xr-dim-list:after {\n",
       "  content: ')';\n",
       "}\n",
       "\n",
       ".xr-dim-list li:not(:last-child):after {\n",
       "  content: ',';\n",
       "  padding-right: 5px;\n",
       "}\n",
       "\n",
       ".xr-has-index {\n",
       "  font-weight: bold;\n",
       "}\n",
       "\n",
       ".xr-var-list,\n",
       ".xr-var-item {\n",
       "  display: contents;\n",
       "}\n",
       "\n",
       ".xr-var-item > div,\n",
       ".xr-var-item label,\n",
       ".xr-var-item > .xr-var-name span {\n",
       "  background-color: var(--xr-background-color-row-even);\n",
       "  margin-bottom: 0;\n",
       "}\n",
       "\n",
       ".xr-var-item > .xr-var-name:hover span {\n",
       "  padding-right: 5px;\n",
       "}\n",
       "\n",
       ".xr-var-list > li:nth-child(odd) > div,\n",
       ".xr-var-list > li:nth-child(odd) > label,\n",
       ".xr-var-list > li:nth-child(odd) > .xr-var-name span {\n",
       "  background-color: var(--xr-background-color-row-odd);\n",
       "}\n",
       "\n",
       ".xr-var-name {\n",
       "  grid-column: 1;\n",
       "}\n",
       "\n",
       ".xr-var-dims {\n",
       "  grid-column: 2;\n",
       "}\n",
       "\n",
       ".xr-var-dtype {\n",
       "  grid-column: 3;\n",
       "  text-align: right;\n",
       "  color: var(--xr-font-color2);\n",
       "}\n",
       "\n",
       ".xr-var-preview {\n",
       "  grid-column: 4;\n",
       "}\n",
       "\n",
       ".xr-var-name,\n",
       ".xr-var-dims,\n",
       ".xr-var-dtype,\n",
       ".xr-preview,\n",
       ".xr-attrs dt {\n",
       "  white-space: nowrap;\n",
       "  overflow: hidden;\n",
       "  text-overflow: ellipsis;\n",
       "  padding-right: 10px;\n",
       "}\n",
       "\n",
       ".xr-var-name:hover,\n",
       ".xr-var-dims:hover,\n",
       ".xr-var-dtype:hover,\n",
       ".xr-attrs dt:hover {\n",
       "  overflow: visible;\n",
       "  width: auto;\n",
       "  z-index: 1;\n",
       "}\n",
       "\n",
       ".xr-var-attrs,\n",
       ".xr-var-data {\n",
       "  display: none;\n",
       "  background-color: var(--xr-background-color) !important;\n",
       "  padding-bottom: 5px !important;\n",
       "}\n",
       "\n",
       ".xr-var-attrs-in:checked ~ .xr-var-attrs,\n",
       ".xr-var-data-in:checked ~ .xr-var-data {\n",
       "  display: block;\n",
       "}\n",
       "\n",
       ".xr-var-data > table {\n",
       "  float: right;\n",
       "}\n",
       "\n",
       ".xr-var-name span,\n",
       ".xr-var-data,\n",
       ".xr-attrs {\n",
       "  padding-left: 25px !important;\n",
       "}\n",
       "\n",
       ".xr-attrs,\n",
       ".xr-var-attrs,\n",
       ".xr-var-data {\n",
       "  grid-column: 1 / -1;\n",
       "}\n",
       "\n",
       "dl.xr-attrs {\n",
       "  padding: 0;\n",
       "  margin: 0;\n",
       "  display: grid;\n",
       "  grid-template-columns: 125px auto;\n",
       "}\n",
       "\n",
       ".xr-attrs dt,\n",
       ".xr-attrs dd {\n",
       "  padding: 0;\n",
       "  margin: 0;\n",
       "  float: left;\n",
       "  padding-right: 10px;\n",
       "  width: auto;\n",
       "}\n",
       "\n",
       ".xr-attrs dt {\n",
       "  font-weight: normal;\n",
       "  grid-column: 1;\n",
       "}\n",
       "\n",
       ".xr-attrs dt:hover span {\n",
       "  display: inline-block;\n",
       "  background: var(--xr-background-color);\n",
       "  padding-right: 10px;\n",
       "}\n",
       "\n",
       ".xr-attrs dd {\n",
       "  grid-column: 2;\n",
       "  white-space: pre-wrap;\n",
       "  word-break: break-all;\n",
       "}\n",
       "\n",
       ".xr-icon-database,\n",
       ".xr-icon-file-text2 {\n",
       "  display: inline-block;\n",
       "  vertical-align: middle;\n",
       "  width: 1em;\n",
       "  height: 1.5em !important;\n",
       "  stroke-width: 0;\n",
       "  stroke: currentColor;\n",
       "  fill: currentColor;\n",
       "}\n",
       "</style><pre class='xr-text-repr-fallback'>&lt;xarray.DataArray &#x27;array-a26c3c2e3ac33048ef565ef252d802d9&#x27; (time: 18)&gt;\n",
       "dask.array&lt;array, shape=(18,), dtype=&lt;U23, chunksize=(18,), chunktype=numpy.ndarray&gt;\n",
       "Dimensions without coordinates: time\n",
       "Attributes:\n",
       "    time_delta:  2000.0</pre><div class='xr-wrap' style='display:none'><div class='xr-header'><div class='xr-obj-type'>xarray.DataArray</div><div class='xr-array-name'>'array-a26c3c2e3ac33048ef565ef252d802d9'</div><ul class='xr-dim-list'><li><span>time</span>: 18</li></ul></div><ul class='xr-sections'><li class='xr-section-item'><div class='xr-array-wrap'><input id='section-45997e07-11d2-4a95-8295-b3b68692706b' class='xr-array-in' type='checkbox' checked><label for='section-45997e07-11d2-4a95-8295-b3b68692706b' title='Show/hide data repr'><svg class='icon xr-icon-database'><use xlink:href='#icon-database'></use></svg></label><div class='xr-array-preview xr-preview'><span>dask.array&lt;chunksize=(18,), meta=np.ndarray&gt;</span></div><div class='xr-array-data'><table>\n",
       "    <tr>\n",
       "        <td>\n",
       "            <table>\n",
       "                <thead>\n",
       "                    <tr>\n",
       "                        <td> </td>\n",
       "                        <th> Array </th>\n",
       "                        <th> Chunk </th>\n",
       "                    </tr>\n",
       "                </thead>\n",
       "                <tbody>\n",
       "                    \n",
       "                    <tr>\n",
       "                        <th> Bytes </th>\n",
       "                        <td> 1.62 kiB </td>\n",
       "                        <td> 1.62 kiB </td>\n",
       "                    </tr>\n",
       "                    \n",
       "                    <tr>\n",
       "                        <th> Shape </th>\n",
       "                        <td> (18,) </td>\n",
       "                        <td> (18,) </td>\n",
       "                    </tr>\n",
       "                    <tr>\n",
       "                        <th> Count </th>\n",
       "                        <td> 1 Tasks </td>\n",
       "                        <td> 1 Chunks </td>\n",
       "                    </tr>\n",
       "                    <tr>\n",
       "                    <th> Type </th>\n",
       "                    <td> <U23 </td>\n",
       "                    <td> numpy.ndarray </td>\n",
       "                    </tr>\n",
       "                </tbody>\n",
       "            </table>\n",
       "        </td>\n",
       "        <td>\n",
       "        <svg width=\"170\" height=\"85\" style=\"stroke:rgb(0,0,0);stroke-width:1\" >\n",
       "\n",
       "  <!-- Horizontal lines -->\n",
       "  <line x1=\"0\" y1=\"0\" x2=\"120\" y2=\"0\" style=\"stroke-width:2\" />\n",
       "  <line x1=\"0\" y1=\"35\" x2=\"120\" y2=\"35\" style=\"stroke-width:2\" />\n",
       "\n",
       "  <!-- Vertical lines -->\n",
       "  <line x1=\"0\" y1=\"0\" x2=\"0\" y2=\"35\" style=\"stroke-width:2\" />\n",
       "  <line x1=\"120\" y1=\"0\" x2=\"120\" y2=\"35\" style=\"stroke-width:2\" />\n",
       "\n",
       "  <!-- Colored Rectangle -->\n",
       "  <polygon points=\"0.0,0.0 120.0,0.0 120.0,35.14482853053541 0.0,35.14482853053541\" style=\"fill:#ECB172A0;stroke-width:0\"/>\n",
       "\n",
       "  <!-- Text -->\n",
       "  <text x=\"60.000000\" y=\"55.144829\" font-size=\"1.0rem\" font-weight=\"100\" text-anchor=\"middle\" >18</text>\n",
       "  <text x=\"140.000000\" y=\"17.572414\" font-size=\"1.0rem\" font-weight=\"100\" text-anchor=\"middle\" transform=\"rotate(0,140.000000,17.572414)\">1</text>\n",
       "</svg>\n",
       "        </td>\n",
       "    </tr>\n",
       "</table></div></div></li><li class='xr-section-item'><input id='section-baf9792f-58f1-4240-b8d6-990c6f74bc49' class='xr-section-summary-in' type='checkbox' disabled ><label for='section-baf9792f-58f1-4240-b8d6-990c6f74bc49' class='xr-section-summary'  title='Expand/collapse section'>Coordinates: <span>(0)</span></label><div class='xr-section-inline-details'></div><div class='xr-section-details'><ul class='xr-var-list'></ul></div></li><li class='xr-section-item'><input id='section-493ee06a-adb6-40f7-9ef4-99ac84c2881f' class='xr-section-summary-in' type='checkbox'  checked><label for='section-493ee06a-adb6-40f7-9ef4-99ac84c2881f' class='xr-section-summary' >Attributes: <span>(1)</span></label><div class='xr-section-inline-details'></div><div class='xr-section-details'><dl class='xr-attrs'><dt><span>time_delta :</span></dt><dd>2000.0</dd></dl></div></li></ul></div></div>"
      ],
      "text/plain": [
       "<xarray.DataArray 'array-a26c3c2e3ac33048ef565ef252d802d9' (time: 18)>\n",
       "dask.array<array, shape=(18,), dtype=<U23, chunksize=(18,), chunktype=numpy.ndarray>\n",
       "Dimensions without coordinates: time\n",
       "Attributes:\n",
       "    time_delta:  2000.0"
      ]
     },
     "execution_count": 4,
     "metadata": {},
     "output_type": "execute_result"
    }
   ],
   "source": [
    "from sirius.dio import make_time_xda \n",
    "\n",
    "#time_xda = make_time_xda(time_start='2020-10-03T18:56:36.44',time_delta=2000,n_samples=18,n_chunks=4)\n",
    "#time_xda = make_time_xda(time_start='2020-10-03T18:57:29.09',time_delta=2000,n_samples=18,n_chunks=4)\n",
    "#time_xda = make_time_xda(time_start='2020-10-04T00:00:00.000',time_delta=2000,n_samples=18,n_chunks=4)\n",
    "\n",
    "#time_xda = make_time_xda(time_start='2020-10-03T18:57:28.95',time_delta=2000,n_samples=18,n_chunks=2)\n",
    "time_xda = make_time_xda(time_start='2020-10-03T18:57:28.95',time_delta=2000,n_samples=18,n_chunks=1)\n",
    "time_xda"
   ]
  },
  {
   "cell_type": "code",
   "execution_count": 5,
   "id": "6db850d5-eee6-4865-ae0b-805c52298e08",
   "metadata": {
    "id": "6db850d5-eee6-4865-ae0b-805c52298e08",
    "outputId": "87f53d3c-418f-48fd-9737-4b81377114c9"
   },
   "outputs": [
    {
     "name": "stdout",
     "output_type": "stream",
     "text": [
      "Number of chunks  1\n"
     ]
    },
    {
     "data": {
      "text/html": [
       "<div><svg style=\"position: absolute; width: 0; height: 0; overflow: hidden\">\n",
       "<defs>\n",
       "<symbol id=\"icon-database\" viewBox=\"0 0 32 32\">\n",
       "<path d=\"M16 0c-8.837 0-16 2.239-16 5v4c0 2.761 7.163 5 16 5s16-2.239 16-5v-4c0-2.761-7.163-5-16-5z\"></path>\n",
       "<path d=\"M16 17c-8.837 0-16-2.239-16-5v6c0 2.761 7.163 5 16 5s16-2.239 16-5v-6c0 2.761-7.163 5-16 5z\"></path>\n",
       "<path d=\"M16 26c-8.837 0-16-2.239-16-5v6c0 2.761 7.163 5 16 5s16-2.239 16-5v-6c0 2.761-7.163 5-16 5z\"></path>\n",
       "</symbol>\n",
       "<symbol id=\"icon-file-text2\" viewBox=\"0 0 32 32\">\n",
       "<path d=\"M28.681 7.159c-0.694-0.947-1.662-2.053-2.724-3.116s-2.169-2.030-3.116-2.724c-1.612-1.182-2.393-1.319-2.841-1.319h-15.5c-1.378 0-2.5 1.121-2.5 2.5v27c0 1.378 1.122 2.5 2.5 2.5h23c1.378 0 2.5-1.122 2.5-2.5v-19.5c0-0.448-0.137-1.23-1.319-2.841zM24.543 5.457c0.959 0.959 1.712 1.825 2.268 2.543h-4.811v-4.811c0.718 0.556 1.584 1.309 2.543 2.268zM28 29.5c0 0.271-0.229 0.5-0.5 0.5h-23c-0.271 0-0.5-0.229-0.5-0.5v-27c0-0.271 0.229-0.5 0.5-0.5 0 0 15.499-0 15.5 0v7c0 0.552 0.448 1 1 1h7v19.5z\"></path>\n",
       "<path d=\"M23 26h-14c-0.552 0-1-0.448-1-1s0.448-1 1-1h14c0.552 0 1 0.448 1 1s-0.448 1-1 1z\"></path>\n",
       "<path d=\"M23 22h-14c-0.552 0-1-0.448-1-1s0.448-1 1-1h14c0.552 0 1 0.448 1 1s-0.448 1-1 1z\"></path>\n",
       "<path d=\"M23 18h-14c-0.552 0-1-0.448-1-1s0.448-1 1-1h14c0.552 0 1 0.448 1 1s-0.448 1-1 1z\"></path>\n",
       "</symbol>\n",
       "</defs>\n",
       "</svg>\n",
       "<style>/* CSS stylesheet for displaying xarray objects in jupyterlab.\n",
       " *\n",
       " */\n",
       "\n",
       ":root {\n",
       "  --xr-font-color0: var(--jp-content-font-color0, rgba(0, 0, 0, 1));\n",
       "  --xr-font-color2: var(--jp-content-font-color2, rgba(0, 0, 0, 0.54));\n",
       "  --xr-font-color3: var(--jp-content-font-color3, rgba(0, 0, 0, 0.38));\n",
       "  --xr-border-color: var(--jp-border-color2, #e0e0e0);\n",
       "  --xr-disabled-color: var(--jp-layout-color3, #bdbdbd);\n",
       "  --xr-background-color: var(--jp-layout-color0, white);\n",
       "  --xr-background-color-row-even: var(--jp-layout-color1, white);\n",
       "  --xr-background-color-row-odd: var(--jp-layout-color2, #eeeeee);\n",
       "}\n",
       "\n",
       "html[theme=dark],\n",
       "body.vscode-dark {\n",
       "  --xr-font-color0: rgba(255, 255, 255, 1);\n",
       "  --xr-font-color2: rgba(255, 255, 255, 0.54);\n",
       "  --xr-font-color3: rgba(255, 255, 255, 0.38);\n",
       "  --xr-border-color: #1F1F1F;\n",
       "  --xr-disabled-color: #515151;\n",
       "  --xr-background-color: #111111;\n",
       "  --xr-background-color-row-even: #111111;\n",
       "  --xr-background-color-row-odd: #313131;\n",
       "}\n",
       "\n",
       ".xr-wrap {\n",
       "  display: block !important;\n",
       "  min-width: 300px;\n",
       "  max-width: 700px;\n",
       "}\n",
       "\n",
       ".xr-text-repr-fallback {\n",
       "  /* fallback to plain text repr when CSS is not injected (untrusted notebook) */\n",
       "  display: none;\n",
       "}\n",
       "\n",
       ".xr-header {\n",
       "  padding-top: 6px;\n",
       "  padding-bottom: 6px;\n",
       "  margin-bottom: 4px;\n",
       "  border-bottom: solid 1px var(--xr-border-color);\n",
       "}\n",
       "\n",
       ".xr-header > div,\n",
       ".xr-header > ul {\n",
       "  display: inline;\n",
       "  margin-top: 0;\n",
       "  margin-bottom: 0;\n",
       "}\n",
       "\n",
       ".xr-obj-type,\n",
       ".xr-array-name {\n",
       "  margin-left: 2px;\n",
       "  margin-right: 10px;\n",
       "}\n",
       "\n",
       ".xr-obj-type {\n",
       "  color: var(--xr-font-color2);\n",
       "}\n",
       "\n",
       ".xr-sections {\n",
       "  padding-left: 0 !important;\n",
       "  display: grid;\n",
       "  grid-template-columns: 150px auto auto 1fr 20px 20px;\n",
       "}\n",
       "\n",
       ".xr-section-item {\n",
       "  display: contents;\n",
       "}\n",
       "\n",
       ".xr-section-item input {\n",
       "  display: none;\n",
       "}\n",
       "\n",
       ".xr-section-item input + label {\n",
       "  color: var(--xr-disabled-color);\n",
       "}\n",
       "\n",
       ".xr-section-item input:enabled + label {\n",
       "  cursor: pointer;\n",
       "  color: var(--xr-font-color2);\n",
       "}\n",
       "\n",
       ".xr-section-item input:enabled + label:hover {\n",
       "  color: var(--xr-font-color0);\n",
       "}\n",
       "\n",
       ".xr-section-summary {\n",
       "  grid-column: 1;\n",
       "  color: var(--xr-font-color2);\n",
       "  font-weight: 500;\n",
       "}\n",
       "\n",
       ".xr-section-summary > span {\n",
       "  display: inline-block;\n",
       "  padding-left: 0.5em;\n",
       "}\n",
       "\n",
       ".xr-section-summary-in:disabled + label {\n",
       "  color: var(--xr-font-color2);\n",
       "}\n",
       "\n",
       ".xr-section-summary-in + label:before {\n",
       "  display: inline-block;\n",
       "  content: '►';\n",
       "  font-size: 11px;\n",
       "  width: 15px;\n",
       "  text-align: center;\n",
       "}\n",
       "\n",
       ".xr-section-summary-in:disabled + label:before {\n",
       "  color: var(--xr-disabled-color);\n",
       "}\n",
       "\n",
       ".xr-section-summary-in:checked + label:before {\n",
       "  content: '▼';\n",
       "}\n",
       "\n",
       ".xr-section-summary-in:checked + label > span {\n",
       "  display: none;\n",
       "}\n",
       "\n",
       ".xr-section-summary,\n",
       ".xr-section-inline-details {\n",
       "  padding-top: 4px;\n",
       "  padding-bottom: 4px;\n",
       "}\n",
       "\n",
       ".xr-section-inline-details {\n",
       "  grid-column: 2 / -1;\n",
       "}\n",
       "\n",
       ".xr-section-details {\n",
       "  display: none;\n",
       "  grid-column: 1 / -1;\n",
       "  margin-bottom: 5px;\n",
       "}\n",
       "\n",
       ".xr-section-summary-in:checked ~ .xr-section-details {\n",
       "  display: contents;\n",
       "}\n",
       "\n",
       ".xr-array-wrap {\n",
       "  grid-column: 1 / -1;\n",
       "  display: grid;\n",
       "  grid-template-columns: 20px auto;\n",
       "}\n",
       "\n",
       ".xr-array-wrap > label {\n",
       "  grid-column: 1;\n",
       "  vertical-align: top;\n",
       "}\n",
       "\n",
       ".xr-preview {\n",
       "  color: var(--xr-font-color3);\n",
       "}\n",
       "\n",
       ".xr-array-preview,\n",
       ".xr-array-data {\n",
       "  padding: 0 5px !important;\n",
       "  grid-column: 2;\n",
       "}\n",
       "\n",
       ".xr-array-data,\n",
       ".xr-array-in:checked ~ .xr-array-preview {\n",
       "  display: none;\n",
       "}\n",
       "\n",
       ".xr-array-in:checked ~ .xr-array-data,\n",
       ".xr-array-preview {\n",
       "  display: inline-block;\n",
       "}\n",
       "\n",
       ".xr-dim-list {\n",
       "  display: inline-block !important;\n",
       "  list-style: none;\n",
       "  padding: 0 !important;\n",
       "  margin: 0;\n",
       "}\n",
       "\n",
       ".xr-dim-list li {\n",
       "  display: inline-block;\n",
       "  padding: 0;\n",
       "  margin: 0;\n",
       "}\n",
       "\n",
       ".xr-dim-list:before {\n",
       "  content: '(';\n",
       "}\n",
       "\n",
       ".xr-dim-list:after {\n",
       "  content: ')';\n",
       "}\n",
       "\n",
       ".xr-dim-list li:not(:last-child):after {\n",
       "  content: ',';\n",
       "  padding-right: 5px;\n",
       "}\n",
       "\n",
       ".xr-has-index {\n",
       "  font-weight: bold;\n",
       "}\n",
       "\n",
       ".xr-var-list,\n",
       ".xr-var-item {\n",
       "  display: contents;\n",
       "}\n",
       "\n",
       ".xr-var-item > div,\n",
       ".xr-var-item label,\n",
       ".xr-var-item > .xr-var-name span {\n",
       "  background-color: var(--xr-background-color-row-even);\n",
       "  margin-bottom: 0;\n",
       "}\n",
       "\n",
       ".xr-var-item > .xr-var-name:hover span {\n",
       "  padding-right: 5px;\n",
       "}\n",
       "\n",
       ".xr-var-list > li:nth-child(odd) > div,\n",
       ".xr-var-list > li:nth-child(odd) > label,\n",
       ".xr-var-list > li:nth-child(odd) > .xr-var-name span {\n",
       "  background-color: var(--xr-background-color-row-odd);\n",
       "}\n",
       "\n",
       ".xr-var-name {\n",
       "  grid-column: 1;\n",
       "}\n",
       "\n",
       ".xr-var-dims {\n",
       "  grid-column: 2;\n",
       "}\n",
       "\n",
       ".xr-var-dtype {\n",
       "  grid-column: 3;\n",
       "  text-align: right;\n",
       "  color: var(--xr-font-color2);\n",
       "}\n",
       "\n",
       ".xr-var-preview {\n",
       "  grid-column: 4;\n",
       "}\n",
       "\n",
       ".xr-var-name,\n",
       ".xr-var-dims,\n",
       ".xr-var-dtype,\n",
       ".xr-preview,\n",
       ".xr-attrs dt {\n",
       "  white-space: nowrap;\n",
       "  overflow: hidden;\n",
       "  text-overflow: ellipsis;\n",
       "  padding-right: 10px;\n",
       "}\n",
       "\n",
       ".xr-var-name:hover,\n",
       ".xr-var-dims:hover,\n",
       ".xr-var-dtype:hover,\n",
       ".xr-attrs dt:hover {\n",
       "  overflow: visible;\n",
       "  width: auto;\n",
       "  z-index: 1;\n",
       "}\n",
       "\n",
       ".xr-var-attrs,\n",
       ".xr-var-data {\n",
       "  display: none;\n",
       "  background-color: var(--xr-background-color) !important;\n",
       "  padding-bottom: 5px !important;\n",
       "}\n",
       "\n",
       ".xr-var-attrs-in:checked ~ .xr-var-attrs,\n",
       ".xr-var-data-in:checked ~ .xr-var-data {\n",
       "  display: block;\n",
       "}\n",
       "\n",
       ".xr-var-data > table {\n",
       "  float: right;\n",
       "}\n",
       "\n",
       ".xr-var-name span,\n",
       ".xr-var-data,\n",
       ".xr-attrs {\n",
       "  padding-left: 25px !important;\n",
       "}\n",
       "\n",
       ".xr-attrs,\n",
       ".xr-var-attrs,\n",
       ".xr-var-data {\n",
       "  grid-column: 1 / -1;\n",
       "}\n",
       "\n",
       "dl.xr-attrs {\n",
       "  padding: 0;\n",
       "  margin: 0;\n",
       "  display: grid;\n",
       "  grid-template-columns: 125px auto;\n",
       "}\n",
       "\n",
       ".xr-attrs dt,\n",
       ".xr-attrs dd {\n",
       "  padding: 0;\n",
       "  margin: 0;\n",
       "  float: left;\n",
       "  padding-right: 10px;\n",
       "  width: auto;\n",
       "}\n",
       "\n",
       ".xr-attrs dt {\n",
       "  font-weight: normal;\n",
       "  grid-column: 1;\n",
       "}\n",
       "\n",
       ".xr-attrs dt:hover span {\n",
       "  display: inline-block;\n",
       "  background: var(--xr-background-color);\n",
       "  padding-right: 10px;\n",
       "}\n",
       "\n",
       ".xr-attrs dd {\n",
       "  grid-column: 2;\n",
       "  white-space: pre-wrap;\n",
       "  word-break: break-all;\n",
       "}\n",
       "\n",
       ".xr-icon-database,\n",
       ".xr-icon-file-text2 {\n",
       "  display: inline-block;\n",
       "  vertical-align: middle;\n",
       "  width: 1em;\n",
       "  height: 1.5em !important;\n",
       "  stroke-width: 0;\n",
       "  stroke: currentColor;\n",
       "  fill: currentColor;\n",
       "}\n",
       "</style><pre class='xr-text-repr-fallback'>&lt;xarray.DataArray &#x27;array-0abbfd50a841ad468a340137153842c0&#x27; (chan: 5)&gt;\n",
       "dask.array&lt;array, shape=(5,), dtype=float64, chunksize=(5,), chunktype=numpy.ndarray&gt;\n",
       "Dimensions without coordinates: chan\n",
       "Attributes:\n",
       "    freq_resolution:  1000000.0\n",
       "    spw_name:         Band3\n",
       "    freq_delta:       2000000000.0</pre><div class='xr-wrap' style='display:none'><div class='xr-header'><div class='xr-obj-type'>xarray.DataArray</div><div class='xr-array-name'>'array-0abbfd50a841ad468a340137153842c0'</div><ul class='xr-dim-list'><li><span>chan</span>: 5</li></ul></div><ul class='xr-sections'><li class='xr-section-item'><div class='xr-array-wrap'><input id='section-66b9b0bb-ff31-4d57-88a2-077656df725f' class='xr-array-in' type='checkbox' checked><label for='section-66b9b0bb-ff31-4d57-88a2-077656df725f' title='Show/hide data repr'><svg class='icon xr-icon-database'><use xlink:href='#icon-database'></use></svg></label><div class='xr-array-preview xr-preview'><span>dask.array&lt;chunksize=(5,), meta=np.ndarray&gt;</span></div><div class='xr-array-data'><table>\n",
       "    <tr>\n",
       "        <td>\n",
       "            <table>\n",
       "                <thead>\n",
       "                    <tr>\n",
       "                        <td> </td>\n",
       "                        <th> Array </th>\n",
       "                        <th> Chunk </th>\n",
       "                    </tr>\n",
       "                </thead>\n",
       "                <tbody>\n",
       "                    \n",
       "                    <tr>\n",
       "                        <th> Bytes </th>\n",
       "                        <td> 40 B </td>\n",
       "                        <td> 40 B </td>\n",
       "                    </tr>\n",
       "                    \n",
       "                    <tr>\n",
       "                        <th> Shape </th>\n",
       "                        <td> (5,) </td>\n",
       "                        <td> (5,) </td>\n",
       "                    </tr>\n",
       "                    <tr>\n",
       "                        <th> Count </th>\n",
       "                        <td> 1 Tasks </td>\n",
       "                        <td> 1 Chunks </td>\n",
       "                    </tr>\n",
       "                    <tr>\n",
       "                    <th> Type </th>\n",
       "                    <td> float64 </td>\n",
       "                    <td> numpy.ndarray </td>\n",
       "                    </tr>\n",
       "                </tbody>\n",
       "            </table>\n",
       "        </td>\n",
       "        <td>\n",
       "        <svg width=\"170\" height=\"92\" style=\"stroke:rgb(0,0,0);stroke-width:1\" >\n",
       "\n",
       "  <!-- Horizontal lines -->\n",
       "  <line x1=\"0\" y1=\"0\" x2=\"120\" y2=\"0\" style=\"stroke-width:2\" />\n",
       "  <line x1=\"0\" y1=\"42\" x2=\"120\" y2=\"42\" style=\"stroke-width:2\" />\n",
       "\n",
       "  <!-- Vertical lines -->\n",
       "  <line x1=\"0\" y1=\"0\" x2=\"0\" y2=\"42\" style=\"stroke-width:2\" />\n",
       "  <line x1=\"120\" y1=\"0\" x2=\"120\" y2=\"42\" style=\"stroke-width:2\" />\n",
       "\n",
       "  <!-- Colored Rectangle -->\n",
       "  <polygon points=\"0.0,0.0 120.0,0.0 120.0,42.00989029700999 0.0,42.00989029700999\" style=\"fill:#ECB172A0;stroke-width:0\"/>\n",
       "\n",
       "  <!-- Text -->\n",
       "  <text x=\"60.000000\" y=\"62.009890\" font-size=\"1.0rem\" font-weight=\"100\" text-anchor=\"middle\" >5</text>\n",
       "  <text x=\"140.000000\" y=\"21.004945\" font-size=\"1.0rem\" font-weight=\"100\" text-anchor=\"middle\" transform=\"rotate(0,140.000000,21.004945)\">1</text>\n",
       "</svg>\n",
       "        </td>\n",
       "    </tr>\n",
       "</table></div></div></li><li class='xr-section-item'><input id='section-6531dc4b-40e8-4561-be73-3074a4a1b627' class='xr-section-summary-in' type='checkbox' disabled ><label for='section-6531dc4b-40e8-4561-be73-3074a4a1b627' class='xr-section-summary'  title='Expand/collapse section'>Coordinates: <span>(0)</span></label><div class='xr-section-inline-details'></div><div class='xr-section-details'><ul class='xr-var-list'></ul></div></li><li class='xr-section-item'><input id='section-66cbc7c4-9666-4011-b02b-8a7354d57238' class='xr-section-summary-in' type='checkbox'  checked><label for='section-66cbc7c4-9666-4011-b02b-8a7354d57238' class='xr-section-summary' >Attributes: <span>(3)</span></label><div class='xr-section-inline-details'></div><div class='xr-section-details'><dl class='xr-attrs'><dt><span>freq_resolution :</span></dt><dd>1000000.0</dd><dt><span>spw_name :</span></dt><dd>Band3</dd><dt><span>freq_delta :</span></dt><dd>2000000000.0</dd></dl></div></li></ul></div></div>"
      ],
      "text/plain": [
       "<xarray.DataArray 'array-0abbfd50a841ad468a340137153842c0' (chan: 5)>\n",
       "dask.array<array, shape=(5,), dtype=float64, chunksize=(5,), chunktype=numpy.ndarray>\n",
       "Dimensions without coordinates: chan\n",
       "Attributes:\n",
       "    freq_resolution:  1000000.0\n",
       "    spw_name:         Band3\n",
       "    freq_delta:       2000000000.0"
      ]
     },
     "execution_count": 5,
     "metadata": {},
     "output_type": "execute_result"
    }
   ],
   "source": [
    "from sirius.dio import make_chan_xda   #n_channels = 5\n",
    "#chan_xda = make_chan_xda(spw_name = 'Band3',freq_start = 90*10**9, freq_delta = 2*10**9, freq_resolution=1*10**6, n_channels=5, n_chunks=2)\n",
    "chan_xda = make_chan_xda(spw_name = 'Band3',freq_start = 90*10**9, freq_delta = 2*10**9, freq_resolution=1*10**6, n_channels=5, n_chunks=1)\n",
    "chan_xda"
   ]
  },
  {
   "cell_type": "markdown",
   "id": "199a7171-a5c3-468b-a0d6-7d78b88cb6f3",
   "metadata": {
    "id": "199a7171-a5c3-468b-a0d6-7d78b88cb6f3"
   },
   "source": [
    "Beam Models"
   ]
  },
  {
   "cell_type": "code",
   "execution_count": 6,
   "id": "e83b21bf-f4d5-4a91-b30a-496c840aee28",
   "metadata": {
    "id": "e83b21bf-f4d5-4a91-b30a-496c840aee28"
   },
   "outputs": [
    {
     "name": "stdout",
     "output_type": "stream",
     "text": [
      "{'func': 'casa_airy', 'dish_diam': 10.7, 'blockage_diam': 0.75, 'max_rad_1GHz': 0.03113667385557884}\n",
      "{'func': 'casa_airy', 'dish_diam': 6.25, 'blockage_diam': 0.75, 'max_rad_1GHz': 0.06227334771115768}\n"
     ]
    }
   ],
   "source": [
    "from sirius_data.beam_1d_func_models.airy_disk import alma, aca\n",
    "airy_disk_parms_alma =  alma\n",
    "airy_disk_parms_aca =  aca\n",
    "\n",
    "print(alma)\n",
    "print(aca)\n",
    "\n",
    "beam_models = [airy_disk_parms_aca, airy_disk_parms_alma]\n",
    "\n",
    "# beam_model_map maps the antenna index to a model in beam_models.\n",
    "beam_model_map = tel_xds.DISH_DIAMETER.values  \n",
    "beam_model_map[beam_model_map == 7] = 0\n",
    "beam_model_map[beam_model_map == 12] = 1\n",
    "beam_model_map= beam_model_map.astype(int)\n",
    "\n",
    "beam_parms = {} #Use default beam parms."
   ]
  },
  {
   "cell_type": "markdown",
   "id": "ca6e38e5-fb2b-4935-aa78-1094ba588c7c",
   "metadata": {
    "id": "ca6e38e5-fb2b-4935-aa78-1094ba588c7c"
   },
   "source": [
    "## Polarization Setup"
   ]
  },
  {
   "cell_type": "code",
   "execution_count": 7,
   "id": "cc72def5-9061-4bf3-9a4f-6e127b0e65f4",
   "metadata": {
    "id": "cc72def5-9061-4bf3-9a4f-6e127b0e65f4"
   },
   "outputs": [],
   "source": [
    "#https://github.com/casacore/casacore/blob/dbf28794ef446bbf4e6150653dbe404379a3c429/measures/Measures/Stokes.h\n",
    "# ['RR','RL','LR','LL'] => [5,6,7,8], ['XX','XY','YX','YY'] => [9,10,11,12]\n",
    "pol = [9,12] "
   ]
  },
  {
   "cell_type": "markdown",
   "id": "f318cbda-4892-44d6-920d-7b2e86f31397",
   "metadata": {
    "id": "f318cbda-4892-44d6-920d-7b2e86f31397"
   },
   "source": [
    "## UVW Parameters"
   ]
  },
  {
   "cell_type": "code",
   "execution_count": 8,
   "id": "f59fb449-540f-4a99-a0fa-0c5c127a2711",
   "metadata": {
    "id": "f59fb449-540f-4a99-a0fa-0c5c127a2711"
   },
   "outputs": [],
   "source": [
    "# If using uvw_parms['calc_method'] = 'casa' .casarc must have directory of casadata. \n",
    "import pkg_resources\n",
    "casa_data_dir = pkg_resources.resource_filename('casadata', '__data__')\n",
    "rc_file = open(os.path.expanduser(\"~/.casarc\"), \"a+\")  # append mode\n",
    "rc_file.write(\"\\n measures.directory: \" + casa_data_dir)\n",
    "rc_file.close()\n",
    "\n",
    "uvw_parms = {}\n",
    "uvw_parms['calc_method'] = 'casa' #'astropy' or 'casa'Heterogeneous Array Mosaic Simulations and Imaging"
   ]
  },
  {
   "cell_type": "markdown",
   "id": "67bca62e-62b1-4f39-b3f1-8895d537c3cf",
   "metadata": {
    "id": "67bca62e-62b1-4f39-b3f1-8895d537c3cf"
   },
   "source": [
    "## Sources\n",
    "### point_source_ra_dec:  [n_time, n_point_sources, 2] (singleton: n_time)"
   ]
  },
  {
   "cell_type": "code",
   "execution_count": 9,
   "id": "893d8f2e-b8ec-4735-b088-213ef42c9ff2",
   "metadata": {
    "id": "893d8f2e-b8ec-4735-b088-213ef42c9ff2"
   },
   "outputs": [],
   "source": [
    "point_source_skycoord = SkyCoord(ra='19h59m28.5s',dec='-40d44m21.5s',frame='fk5') \n",
    "point_source_ra_dec = np.array([point_source_skycoord.ra.rad,point_source_skycoord.dec.rad])[None,None,:]"
   ]
  },
  {
   "cell_type": "markdown",
   "id": "eb22dca4-41ef-4d5d-823e-02ec381e1d27",
   "metadata": {
    "id": "eb22dca4-41ef-4d5d-823e-02ec381e1d27"
   },
   "source": [
    "### point_source_flux: [n_point_sources, n_time, n_chan, n_pol] (singleton: n_time, n_chan)\n",
    "All 4 instramental pol values must be given even if only RR and LL are requested. "
   ]
  },
  {
   "cell_type": "code",
   "execution_count": 10,
   "id": "61479e08-08f9-4110-b86c-39ce93e7a3b7",
   "metadata": {
    "id": "61479e08-08f9-4110-b86c-39ce93e7a3b7"
   },
   "outputs": [],
   "source": [
    "point_source_flux = np.array([1.0, 0, 0, 1.0])[None,None,None,:] "
   ]
  },
  {
   "cell_type": "markdown",
   "id": "e6a80878-a268-40cd-85bf-13d58b4131c5",
   "metadata": {
    "id": "e6a80878-a268-40cd-85bf-13d58b4131c5"
   },
   "source": [
    "## Telescope Setup\n",
    "### phase_center:  [n_time, 2] (singleton: n_time)\n",
    "### phase_center_names: [n_time] (singleton: n_time)"
   ]
  },
  {
   "cell_type": "code",
   "execution_count": 11,
   "id": "4a14c3cf-c910-4b14-a29e-9fc5da74d87c",
   "metadata": {
    "id": "4a14c3cf-c910-4b14-a29e-9fc5da74d87c"
   },
   "outputs": [],
   "source": [
    "n_time = len(time_xda)\n",
    "n_time_per_field = int(n_time/2)\n",
    "phase_center_1 = SkyCoord(ra='19h59m28.5s',dec='-40d44m01.5s',frame='fk5')\n",
    "phase_center_2 = SkyCoord(ra='19h59m28.5s',dec='-40d44m51.5s',frame='fk5')\n",
    "phase_center_names = np.array(['field1']*n_time_per_field + ['field2']*n_time_per_field)\n",
    "phase_center_ra_dec = np.array([[phase_center_1.ra.rad,phase_center_1.dec.rad]]*n_time_per_field + [[phase_center_2.ra.rad,phase_center_2.dec.rad]]*n_time_per_field)"
   ]
  },
  {
   "cell_type": "markdown",
   "id": "be763dd8-6852-4d04-9e22-e7ed24472c29",
   "metadata": {
    "id": "be763dd8-6852-4d04-9e22-e7ed24472c29"
   },
   "source": [
    "### pointing_ra_dec:[n_time, n_ant, 2]                   (singleton: n_time, n_ant) or None"
   ]
  },
  {
   "cell_type": "code",
   "execution_count": 12,
   "id": "d098f55b-dad7-43f2-90c4-d69eb6516cc4",
   "metadata": {
    "id": "d098f55b-dad7-43f2-90c4-d69eb6516cc4"
   },
   "outputs": [],
   "source": [
    "pointing_ra_dec = None #No pointing offsets"
   ]
  },
  {
   "cell_type": "markdown",
   "id": "943d5c9c-5a29-42d2-b028-31b35700d151",
   "metadata": {
    "id": "943d5c9c-5a29-42d2-b028-31b35700d151"
   },
   "source": [
    "## Run Simulation"
   ]
  },
  {
   "cell_type": "code",
   "execution_count": 13,
   "id": "e1eee4f1-734c-4697-9dad-3c0105b34864",
   "metadata": {
    "id": "e1eee4f1-734c-4697-9dad-3c0105b34864",
    "outputId": "2d07ba59-e064-4aa8-bd1b-c3db1e2f1c9d"
   },
   "outputs": [
    {
     "name": "stdout",
     "output_type": "stream",
     "text": [
      "Setting default auto_corr  to  False\n",
      "Setting default fov_scaling  to  4.0\n",
      "Setting default mueller_selection  to  [ 0  5 10 15]\n",
      "Setting default zernike_freq_interp  to  nearest\n",
      "Setting default pa_radius  to  0.2\n",
      "Setting default image_size  to  [1000 1000]\n",
      "Setting default DAG_name_vis_uvw_gen  to  False\n",
      "Setting default DAG_name_write  to  False\n",
      "Meta data creation  30.654367208480835\n",
      "reshape time  0.00202178955078125\n",
      "*** Dask compute time 10.297820568084717\n",
      "compute and save time  10.298502206802368\n"
     ]
    },
    {
     "data": {
      "text/plain": [
       "[<xarray.Dataset>\n",
       " Dimensions:         (row: 594, chan: 5, corr: 2, uvw: 3)\n",
       " Coordinates:\n",
       "     ROWID           (row) int32 dask.array<chunksize=(594,), meta=np.ndarray>\n",
       " Dimensions without coordinates: row, chan, corr, uvw\n",
       " Data variables: (12/21)\n",
       "     TIME_CENTROID   (row) float64 dask.array<chunksize=(594,), meta=np.ndarray>\n",
       "     SCAN_NUMBER     (row) int32 dask.array<chunksize=(594,), meta=np.ndarray>\n",
       "     ANTENNA1        (row) int32 dask.array<chunksize=(594,), meta=np.ndarray>\n",
       "     FEED1           (row) int32 dask.array<chunksize=(594,), meta=np.ndarray>\n",
       "     INTERVAL        (row) float64 dask.array<chunksize=(594,), meta=np.ndarray>\n",
       "     FLAG_ROW        (row) bool dask.array<chunksize=(594,), meta=np.ndarray>\n",
       "     ...              ...\n",
       "     UVW             (row, uvw) float64 dask.array<chunksize=(594, 3), meta=np.ndarray>\n",
       "     TIME            (row) float64 dask.array<chunksize=(594,), meta=np.ndarray>\n",
       "     FLAG            (row, chan, corr) bool dask.array<chunksize=(594, 5, 2), meta=np.ndarray>\n",
       "     STATE_ID        (row) int32 dask.array<chunksize=(594,), meta=np.ndarray>\n",
       "     ARRAY_ID        (row) int32 dask.array<chunksize=(594,), meta=np.ndarray>\n",
       "     CORRECTED_DATA  (row, chan, corr) complex64 dask.array<chunksize=(594, 5, 2), meta=np.ndarray>\n",
       " Attributes:\n",
       "     __daskms_partition_schema__:  (('FIELD_ID', 'int32'), ('DATA_DESC_ID', 'i...\n",
       "     FIELD_ID:                     0\n",
       "     DATA_DESC_ID:                 0,\n",
       " <xarray.Dataset>\n",
       " Dimensions:         (row: 594, chan: 5, corr: 2, uvw: 3)\n",
       " Coordinates:\n",
       "     ROWID           (row) int32 dask.array<chunksize=(594,), meta=np.ndarray>\n",
       " Dimensions without coordinates: row, chan, corr, uvw\n",
       " Data variables: (12/21)\n",
       "     TIME_CENTROID   (row) float64 dask.array<chunksize=(594,), meta=np.ndarray>\n",
       "     SCAN_NUMBER     (row) int32 dask.array<chunksize=(594,), meta=np.ndarray>\n",
       "     ANTENNA1        (row) int32 dask.array<chunksize=(594,), meta=np.ndarray>\n",
       "     FEED1           (row) int32 dask.array<chunksize=(594,), meta=np.ndarray>\n",
       "     INTERVAL        (row) float64 dask.array<chunksize=(594,), meta=np.ndarray>\n",
       "     FLAG_ROW        (row) bool dask.array<chunksize=(594,), meta=np.ndarray>\n",
       "     ...              ...\n",
       "     UVW             (row, uvw) float64 dask.array<chunksize=(594, 3), meta=np.ndarray>\n",
       "     TIME            (row) float64 dask.array<chunksize=(594,), meta=np.ndarray>\n",
       "     FLAG            (row, chan, corr) bool dask.array<chunksize=(594, 5, 2), meta=np.ndarray>\n",
       "     STATE_ID        (row) int32 dask.array<chunksize=(594,), meta=np.ndarray>\n",
       "     ARRAY_ID        (row) int32 dask.array<chunksize=(594,), meta=np.ndarray>\n",
       "     CORRECTED_DATA  (row, chan, corr) complex64 dask.array<chunksize=(594, 5, 2), meta=np.ndarray>\n",
       " Attributes:\n",
       "     __daskms_partition_schema__:  (('FIELD_ID', 'int32'), ('DATA_DESC_ID', 'i...\n",
       "     FIELD_ID:                     1\n",
       "     DATA_DESC_ID:                 0]"
      ]
     },
     "execution_count": 13,
     "metadata": {},
     "output_type": "execute_result"
    }
   ],
   "source": [
    "noise_parms = None\n",
    "\n",
    "from sirius import simulation\n",
    "save_parms = {'ms_name':working_dir+'het_mosaic_sim.ms','write_to_ms':True}\n",
    "vis_xds = simulation(point_source_flux, \n",
    "                     point_source_ra_dec, \n",
    "                     pointing_ra_dec, \n",
    "                     phase_center_ra_dec, \n",
    "                     phase_center_names, \n",
    "                     beam_parms,beam_models,\n",
    "                     beam_model_map,uvw_parms, \n",
    "                     tel_xds, time_xda, chan_xda, pol, noise_parms, save_parms) \n",
    "vis_xds"
   ]
  },
  {
   "cell_type": "markdown",
   "id": "8e3b98e7-20c0-438f-96e4-cd7db2f75554",
   "metadata": {
    "id": "8e3b98e7-20c0-438f-96e4-cd7db2f75554"
   },
   "source": [
    "## Noise simulation"
   ]
  },
  {
   "cell_type": "code",
   "execution_count": 14,
   "id": "80f0ded6-7e14-414b-b830-a17623a6e89c",
   "metadata": {
    "id": "80f0ded6-7e14-414b-b830-a17623a6e89c",
    "outputId": "f6f6ff4f-08a6-41e2-cf08-7a06f185e325"
   },
   "outputs": [
    {
     "name": "stdout",
     "output_type": "stream",
     "text": [
      "Setting default auto_corr  to  False\n",
      "Setting default fov_scaling  to  4.0\n",
      "Setting default mueller_selection  to  [ 0  5 10 15]\n",
      "Setting default zernike_freq_interp  to  nearest\n",
      "Setting default pa_radius  to  0.2\n",
      "Setting default image_size  to  [1000 1000]\n",
      "Setting default t_atmos  to  250.0\n",
      "Currently the effect of Zenith Atmospheric Opacity (Tau) is not included in the noise modeling.\n",
      "Setting default tau  to  0.1\n",
      "Setting default ant_efficiency  to  0.8\n",
      "Setting default spill_efficiency  to  0.85\n",
      "Setting default corr_efficiency  to  0.88\n",
      "Setting default t_ground  to  270.0\n",
      "Setting default t_cmb  to  2.725\n",
      "Setting default DAG_name_vis_uvw_gen  to  False\n",
      "Setting default DAG_name_write  to  False\n",
      "Meta data creation  15.82155966758728\n",
      "reshape time  0.0019490718841552734\n",
      "*** Dask compute time 0.3486812114715576\n",
      "compute and save time  0.3488438129425049\n"
     ]
    },
    {
     "data": {
      "text/plain": [
       "[<xarray.Dataset>\n",
       " Dimensions:         (row: 594, chan: 5, corr: 2, uvw: 3)\n",
       " Coordinates:\n",
       "     ROWID           (row) int32 dask.array<chunksize=(594,), meta=np.ndarray>\n",
       " Dimensions without coordinates: row, chan, corr, uvw\n",
       " Data variables: (12/21)\n",
       "     TIME_CENTROID   (row) float64 dask.array<chunksize=(594,), meta=np.ndarray>\n",
       "     SCAN_NUMBER     (row) int32 dask.array<chunksize=(594,), meta=np.ndarray>\n",
       "     ANTENNA1        (row) int32 dask.array<chunksize=(594,), meta=np.ndarray>\n",
       "     FEED1           (row) int32 dask.array<chunksize=(594,), meta=np.ndarray>\n",
       "     INTERVAL        (row) float64 dask.array<chunksize=(594,), meta=np.ndarray>\n",
       "     FLAG_ROW        (row) bool dask.array<chunksize=(594,), meta=np.ndarray>\n",
       "     ...              ...\n",
       "     UVW             (row, uvw) float64 dask.array<chunksize=(594, 3), meta=np.ndarray>\n",
       "     TIME            (row) float64 dask.array<chunksize=(594,), meta=np.ndarray>\n",
       "     FLAG            (row, chan, corr) bool dask.array<chunksize=(594, 5, 2), meta=np.ndarray>\n",
       "     STATE_ID        (row) int32 dask.array<chunksize=(594,), meta=np.ndarray>\n",
       "     ARRAY_ID        (row) int32 dask.array<chunksize=(594,), meta=np.ndarray>\n",
       "     CORRECTED_DATA  (row, chan, corr) complex64 dask.array<chunksize=(594, 5, 2), meta=np.ndarray>\n",
       " Attributes:\n",
       "     __daskms_partition_schema__:  (('FIELD_ID', 'int32'), ('DATA_DESC_ID', 'i...\n",
       "     FIELD_ID:                     0\n",
       "     DATA_DESC_ID:                 0,\n",
       " <xarray.Dataset>\n",
       " Dimensions:         (row: 594, chan: 5, corr: 2, uvw: 3)\n",
       " Coordinates:\n",
       "     ROWID           (row) int32 dask.array<chunksize=(594,), meta=np.ndarray>\n",
       " Dimensions without coordinates: row, chan, corr, uvw\n",
       " Data variables: (12/21)\n",
       "     TIME_CENTROID   (row) float64 dask.array<chunksize=(594,), meta=np.ndarray>\n",
       "     SCAN_NUMBER     (row) int32 dask.array<chunksize=(594,), meta=np.ndarray>\n",
       "     ANTENNA1        (row) int32 dask.array<chunksize=(594,), meta=np.ndarray>\n",
       "     FEED1           (row) int32 dask.array<chunksize=(594,), meta=np.ndarray>\n",
       "     INTERVAL        (row) float64 dask.array<chunksize=(594,), meta=np.ndarray>\n",
       "     FLAG_ROW        (row) bool dask.array<chunksize=(594,), meta=np.ndarray>\n",
       "     ...              ...\n",
       "     UVW             (row, uvw) float64 dask.array<chunksize=(594, 3), meta=np.ndarray>\n",
       "     TIME            (row) float64 dask.array<chunksize=(594,), meta=np.ndarray>\n",
       "     FLAG            (row, chan, corr) bool dask.array<chunksize=(594, 5, 2), meta=np.ndarray>\n",
       "     STATE_ID        (row) int32 dask.array<chunksize=(594,), meta=np.ndarray>\n",
       "     ARRAY_ID        (row) int32 dask.array<chunksize=(594,), meta=np.ndarray>\n",
       "     CORRECTED_DATA  (row, chan, corr) complex64 dask.array<chunksize=(594, 5, 2), meta=np.ndarray>\n",
       " Attributes:\n",
       "     __daskms_partition_schema__:  (('FIELD_ID', 'int32'), ('DATA_DESC_ID', 'i...\n",
       "     FIELD_ID:                     1\n",
       "     DATA_DESC_ID:                 0]"
      ]
     },
     "execution_count": 14,
     "metadata": {},
     "output_type": "execute_result"
    }
   ],
   "source": [
    "noise_parms = {'t_receiver':5000} #Increased receiver noise so that effect of noise is easy to see in plots.\n",
    "\n",
    "from sirius import simulation\n",
    "save_parms_noisy = {'ms_name':working_dir+'het_mosaic_sim_noisy.ms','write_to_ms':True}\n",
    "vis_xds = simulation(point_source_flux, \n",
    "                     point_source_ra_dec, \n",
    "                     pointing_ra_dec, \n",
    "                     phase_center_ra_dec, \n",
    "                     phase_center_names, \n",
    "                     beam_parms,beam_models,\n",
    "                     beam_model_map,uvw_parms, \n",
    "                     tel_xds, time_xda, chan_xda, pol, noise_parms, save_parms_noisy) \n",
    "vis_xds"
   ]
  },
  {
   "cell_type": "markdown",
   "id": "b68d115f-f6bd-49ee-b8e7-e61e57d0e942",
   "metadata": {
    "id": "b68d115f-f6bd-49ee-b8e7-e61e57d0e942"
   },
   "source": [
    "## Analysis"
   ]
  },
  {
   "cell_type": "markdown",
   "id": "726d40dc-a130-447c-8c67-dd70e4140ea7",
   "metadata": {
    "id": "726d40dc-a130-447c-8c67-dd70e4140ea7"
   },
   "source": [
    "### Plot Antennas"
   ]
  },
  {
   "cell_type": "code",
   "execution_count": 15,
   "id": "7e1dcb4a-de70-49e1-accb-49bd8e3ed68e",
   "metadata": {
    "id": "7e1dcb4a-de70-49e1-accb-49bd8e3ed68e"
   },
   "outputs": [],
   "source": [
    "%load_ext autoreload\n",
    "%autoreload 2"
   ]
  },
  {
   "cell_type": "code",
   "execution_count": 16,
   "id": "1d35c7bb-5275-4b3a-a48a-9de0daa99d7b",
   "metadata": {
    "colab": {
     "referenced_widgets": [
      "d0708d93aa67478596ca1b2c34e9bf6c"
     ]
    },
    "id": "102ff639-94fb-41a4-a462-82d9d84aa6a1",
    "outputId": "3bf1b9b2-4778-485d-bcb0-d154eb24a5b3"
   },
   "outputs": [],
   "source": [
    "from sirius.display_tools import x_plot"
   ]
  },
  {
   "cell_type": "code",
   "execution_count": 17,
   "id": "61f5adbc-90ed-485d-a9d7-dca61e49df50",
   "metadata": {
    "colab": {
     "referenced_widgets": [
      "d0708d93aa67478596ca1b2c34e9bf6c"
     ]
    },
    "id": "102ff639-94fb-41a4-a462-82d9d84aa6a1",
    "outputId": "3bf1b9b2-4778-485d-bcb0-d154eb24a5b3"
   },
   "outputs": [
    {
     "name": "stdout",
     "output_type": "stream",
     "text": [
      "Completed ddi 0  process time 4.26 s.ATA...SPECTRAL_WINDOW_ID...                    \n",
      "Completed subtables  process time 6.16 s...                                     \n",
      "                                                  \n",
      "overwrite_encoded_chunks True\n"
     ]
    },
    {
     "data": {
      "image/png": "[encoded data removed]",
      "text/plain": [
       "<Figure size 432x360 with 1 Axes>"
      ]
     },
     "metadata": {
      "needs_background": "light"
     },
     "output_type": "display_data"
    }
   ],
   "source": [
    "x_plot(vis=save_parms['ms_name'], ptype='plotants')"
   ]
  },
  {
   "cell_type": "code",
   "execution_count": 18,
   "id": "8283c14e-e17a-4cbc-a258-146e1d07709c",
   "metadata": {
    "colab": {
     "referenced_widgets": [
      "f28de7a3ab044612894e5fdefb3ece26"
     ]
    },
    "id": "8283c14e-e17a-4cbc-a258-146e1d07709c",
    "outputId": "7aa03c33-b4e8-4cdf-e6cb-0693c0d62b47"
   },
   "outputs": [
    {
     "name": "stdout",
     "output_type": "stream",
     "text": [
      "Completed ddi 0  process time 4.28 s.ATA...SPECTRAL_WINDOW_ID...                    \n",
      "Completed subtables  process time 6.53 s...                                     \n",
      "                                                  \n",
      "overwrite_encoded_chunks True\n"
     ]
    },
    {
     "data": {
      "image/png": "[encoded data removed]",
      "text/plain": [
       "<Figure size 648x288 with 2 Axes>"
      ]
     },
     "metadata": {
      "needs_background": "light"
     },
     "output_type": "display_data"
    }
   ],
   "source": [
    "from sirius.display_tools import x_plot\n",
    "x_plot(vis=save_parms['ms_name'], ptype='uvcov',forceconvert=True)"
   ]
  },
  {
   "cell_type": "code",
   "execution_count": 19,
   "id": "da3ef4e9-ea19-4834-be76-72f3ac283353",
   "metadata": {
    "id": "da3ef4e9-ea19-4834-be76-72f3ac283353",
    "outputId": "dd7e7249-361a-4d11-bc74-2356f3829575"
   },
   "outputs": [
    {
     "name": "stdout",
     "output_type": "stream",
     "text": [
      "================================================================================\n",
      "           MeasurementSet Name:  /lustre/cv/users/jsteeb/simulation/het_mosaic_sim.ms      MS Version 2\n",
      "================================================================================\n",
      "   Observer: CASA simulator     Project: CASA simulation  \n",
      "Observation: ALMA(12 antennas)\n",
      "Data records: 1188       Total elapsed time = 36000 seconds\n",
      "   Observed from   03-Oct-2020/18:40:49.0   to   04-Oct-2020/04:40:48.9 (UTC)\n",
      "\n",
      "Fields: 2\n",
      "  ID   Code Name                RA               Decl           Epoch   SrcId      nRows\n",
      "  0         field1              19:59:28.500000 -40.44.01.50000 J2000   0            594\n",
      "  1         field2              19:59:28.500000 -40.44.51.50000 J2000   1            594\n",
      "Spectral Windows:  (1 unique spectral windows and 1 unique polarization setups)\n",
      "  SpwID  Name   #Chans   Frame   Ch0(MHz)  ChanWid(kHz)  TotBW(kHz) CtrFreq(MHz)  Corrs  \n",
      "  0      Band3      5   LSRK   90000.000   2000000.000  10000000.0  94000.0000   XX  YY\n",
      "Antennas: 12 'name'='station' \n",
      "   ID=   0-4: 'N601'='P', 'N606'='P', 'J505'='P', 'J510'='P', 'A001'='P', \n",
      "   ID=   5-9: 'A012'='P', 'A025'='P', 'A033'='P', 'A045'='P', 'A051'='P', \n",
      "   ID= 10-11: 'A065'='P', 'A078'='P'\n",
      "Dish diameter : [ 7.  7.  7.  7. 12. 12. 12. 12. 12. 12. 12. 12.]\n",
      "Antenna name : ['N601' 'N606' 'J505' 'J510' 'A001' 'A012' 'A025' 'A033' 'A045' 'A051'\n",
      " 'A065' 'A078']\n"
     ]
    }
   ],
   "source": [
    "from sirius.display_tools import listobs_jupyter\n",
    "listobs_jupyter(vis=save_parms['ms_name'])"
   ]
  },
  {
   "cell_type": "code",
   "execution_count": 20,
   "id": "d65c75ae-d16f-4150-ae11-a63d86a8f651",
   "metadata": {
    "colab": {
     "referenced_widgets": [
      "feba2440eacf4e66af81ea2e5ad64024"
     ]
    },
    "id": "d65c75ae-d16f-4150-ae11-a63d86a8f651",
    "outputId": "d7e2436b-ef25-444a-93cd-faaceb2aad16"
   },
   "outputs": [
    {
     "name": "stdout",
     "output_type": "stream",
     "text": [
      "overwrite_encoded_chunks True\n"
     ]
    },
    {
     "data": {
      "image/png": "[encoded data removed]",
      "text/plain": [
       "<Figure size 648x216 with 1 Axes>"
      ]
     },
     "metadata": {
      "needs_background": "light"
     },
     "output_type": "display_data"
    }
   ],
   "source": [
    "x_plot(vis=save_parms['ms_name'], ptype='amp-time')"
   ]
  },
  {
   "cell_type": "code",
   "execution_count": 21,
   "id": "80e819a8",
   "metadata": {
    "colab": {
     "referenced_widgets": [
      "6b7fea60f7af436686a4e86cdf5d42c2"
     ]
    },
    "id": "80e819a8",
    "outputId": "3216c4e5-cf99-4324-bb45-b1743aac333a"
   },
   "outputs": [
    {
     "name": "stdout",
     "output_type": "stream",
     "text": [
      "overwrite_encoded_chunks True\n"
     ]
    },
    {
     "data": {
      "image/png": "[encoded data removed]",
      "text/plain": [
       "<Figure size 648x216 with 2 Axes>"
      ]
     },
     "metadata": {
      "needs_background": "light"
     },
     "output_type": "display_data"
    }
   ],
   "source": [
    "from sirius.display_tools import x_plot\n",
    "x_plot(vis=save_parms['ms_name'], ptype='amp-freq')"
   ]
  },
  {
   "cell_type": "code",
   "execution_count": 22,
   "id": "a91b15c5",
   "metadata": {
    "colab": {
     "referenced_widgets": [
      "773110729a434ae2918f6097c830c3d1"
     ]
    },
    "id": "a91b15c5",
    "outputId": "98cce472-f57e-4369-dc75-ac6784b0e852"
   },
   "outputs": [
    {
     "name": "stdout",
     "output_type": "stream",
     "text": [
      "Completed ddi 0  process time 4.20 s.ATA...SPECTRAL_WINDOW_ID...                    \n",
      "Completed subtables  process time 6.73 s...                                     \n",
      "                                                  \n",
      "overwrite_encoded_chunks True\n"
     ]
    },
    {
     "data": {
      "image/png": "[encoded data removed]",
      "text/plain": [
       "<Figure size 648x216 with 1 Axes>"
      ]
     },
     "metadata": {
      "needs_background": "light"
     },
     "output_type": "display_data"
    }
   ],
   "source": [
    "from sirius.display_tools import x_plot\n",
    "x_plot(vis=save_parms_noisy['ms_name'], ptype='amp-time')"
   ]
  },
  {
   "cell_type": "code",
   "execution_count": 23,
   "id": "8e214777-c899-4815-8e92-ccba434eb51d",
   "metadata": {
    "colab": {
     "referenced_widgets": [
      "acedf19e38fd40df8a7fd88f438a06c7"
     ]
    },
    "id": "8e214777-c899-4815-8e92-ccba434eb51d",
    "outputId": "1bda1c31-b57a-4107-ba9e-d31fbd9a5853"
   },
   "outputs": [
    {
     "name": "stdout",
     "output_type": "stream",
     "text": [
      "overwrite_encoded_chunks True\n"
     ]
    },
    {
     "data": {
      "image/png": "[encoded data removed]",
      "text/plain": [
       "<Figure size 648x216 with 2 Axes>"
      ]
     },
     "metadata": {
      "needs_background": "light"
     },
     "output_type": "display_data"
    }
   ],
   "source": [
    "from sirius.display_tools import x_plot\n",
    "x_plot(vis=save_parms_noisy['ms_name'], ptype='amp-freq')"
   ]
  },
  {
   "cell_type": "markdown",
   "id": "76459ac5-951d-45cf-9bb8-c2f255f6edd6",
   "metadata": {
    "id": "76459ac5-951d-45cf-9bb8-c2f255f6edd6"
   },
   "source": [
    "## Imaging\n",
    "\n",
    "This will take a while. "
   ]
  },
  {
   "cell_type": "code",
   "execution_count": 24,
   "id": "81a4edc6-79c0-425c-b0d8-d68216e0221e",
   "metadata": {
    "id": "81a4edc6-79c0-425c-b0d8-d68216e0221e",
    "outputId": "9bf4beb2-eff1-43dc-c462-f3505a3f9088"
   },
   "outputs": [
    {
     "name": "stdout",
     "output_type": "stream",
     "text": [
      "antsels[antsel]2  A*&\n",
      "antsels[antsel]2  J*,N*&\n",
      "antsels[antsel]2  A* && J*,N*\n",
      "antsels[antsel]2  *\n"
     ]
    }
   ],
   "source": [
    "from sirius.display_tools import image_ants\n",
    "\n",
    "image_ants(vis=save_parms_noisy['ms_name'],imname=working_dir+'try_ALMA', field='0',antsel='A')\n",
    "image_ants(vis=save_parms_noisy['ms_name'],imname=working_dir+'try_ALMA', field='0',antsel='B')\n",
    "image_ants(vis=save_parms_noisy['ms_name'],imname=working_dir+'try_ALMA', field='0',antsel='cross')\n",
    "image_ants(vis=save_parms_noisy['ms_name'],imname=working_dir+'try_ALMA', field='0',antsel='all')"
   ]
  },
  {
   "cell_type": "markdown",
   "id": "be3068c0-feba-430b-bf7f-3142895989bc",
   "metadata": {
    "id": "be3068c0-feba-430b-bf7f-3142895989bc"
   },
   "source": [
    "### 12m-12m\n",
    "Image only the 12m-12m baselines, with one pointing. The source is located at about the 0.78 gain level of the PB. For this 1 Jy source, the image and PB values should match."
   ]
  },
  {
   "cell_type": "code",
   "execution_count": 26,
   "id": "a5630349-53ca-4d88-b938-914ed5fb21d7",
   "metadata": {
    "colab": {
     "referenced_widgets": [
      "bac0a5b028ab4e8f9cbeb30bf493a2a2"
     ]
    },
    "id": "a5630349-53ca-4d88-b938-914ed5fb21d7",
    "outputId": "c4335ebd-335f-42c5-f3e3-1232b17f0197"
   },
   "outputs": [
    {
     "name": "stdout",
     "output_type": "stream",
     "text": [
      "Peak Intensity (chan0) : 0.7950903\n",
      "PB at location of Intensity peak (chan0) : 0.7841024\n",
      "max pixel location  (array([512]), array([512]), array([0]), array([0]))\n",
      "Residual RMS : 0.0002087\n"
     ]
    },
    {
     "data": {
      "image/png": "[encoded data removed]",
      "text/plain": [
       "<Figure size 864x360 with 2 Axes>"
      ]
     },
     "metadata": {
      "needs_background": "light"
     },
     "output_type": "display_data"
    }
   ],
   "source": [
    "from sirius.display_tools import display_image\n",
    "peak_12m,rms_12m = display_image(imname=working_dir+'try_ALMA_A_single.image',pbname=working_dir+'try_ALMA_A_single.pb',resname=working_dir+'try_ALMA_A_single.residual')"
   ]
  },
  {
   "cell_type": "markdown",
   "id": "8e2e8111-59b8-43ce-bd90-37dec5cf8811",
   "metadata": {
    "id": "8e2e8111-59b8-43ce-bd90-37dec5cf8811"
   },
   "source": [
    "### 7m-7m\n",
    "\n",
    "Image only the 7m-7m baselines, with one pointing. The PB is bigger than with the 12m and the source is located at about the 0.92 gain level of the PB. For this 1 Jy source, the image and PB values should match. "
   ]
  },
  {
   "cell_type": "code",
   "execution_count": 27,
   "id": "d10ddeda-d082-4c25-91e2-507bc25d5d24",
   "metadata": {
    "colab": {
     "referenced_widgets": [
      "b1312d4a0fcb4623a4e3ed74ae4b5ff7"
     ]
    },
    "id": "d10ddeda-d082-4c25-91e2-507bc25d5d24",
    "outputId": "c0f9f748-7799-40cb-ac97-a0583f2736f0"
   },
   "outputs": [
    {
     "name": "stdout",
     "output_type": "stream",
     "text": [
      "Peak Intensity (chan0) : 0.9630291\n",
      "PB at location of Intensity peak (chan0) : 0.9377817\n",
      "max pixel location  (array([512]), array([512]), array([0]), array([0]))\n",
      "Residual RMS : 0.0002087\n"
     ]
    },
    {
     "data": {
      "image/png": "[encoded data removed]",
      "text/plain": [
       "<Figure size 864x360 with 2 Axes>"
      ]
     },
     "metadata": {
      "needs_background": "light"
     },
     "output_type": "display_data"
    }
   ],
   "source": [
    "from sirius.display_tools import display_image\n",
    "peak_7m,rms_7m = display_image(imname=working_dir+'try_ALMA_B_single.image',pbname=working_dir+'try_ALMA_B_single.pb',resname=working_dir+'try_ALMA_A_single.residual')"
   ]
  },
  {
   "cell_type": "markdown",
   "id": "033a5acf-ed76-47e7-82c8-3db86a7d7d8b",
   "metadata": {
    "id": "033a5acf-ed76-47e7-82c8-3db86a7d7d8b"
   },
   "source": [
    "### 12m-7m"
   ]
  },
  {
   "cell_type": "code",
   "execution_count": 29,
   "id": "01a582d2-e9a0-47b2-a8e4-de7ca11beeca",
   "metadata": {
    "colab": {
     "referenced_widgets": [
      "cb7cab9260dc46c7990ba266877a061d"
     ]
    },
    "id": "01a582d2-e9a0-47b2-a8e4-de7ca11beeca",
    "outputId": "c56ce9ef-86fb-49a2-9e04-5df6b1b12aa6"
   },
   "outputs": [
    {
     "name": "stdout",
     "output_type": "stream",
     "text": [
      "Peak Intensity (chan0) : 0.8732699\n",
      "PB at location of Intensity peak (chan0) : 0.8572145\n",
      "max pixel location  (array([512]), array([512]), array([0]), array([0]))\n",
      "Residual RMS : 0.0002631\n"
     ]
    },
    {
     "data": {
      "image/png": "[encoded data removed]",
      "text/plain": [
       "<Figure size 864x360 with 2 Axes>"
      ]
     },
     "metadata": {
      "needs_background": "light"
     },
     "output_type": "display_data"
    }
   ],
   "source": [
    "peak_cross, rms_cross = display_image(imname=working_dir+'try_ALMA_cross_single.image',pbname=working_dir+'try_ALMA_cross_single.pb',resname=working_dir+'try_ALMA_cross_single.residual')"
   ]
  },
  {
   "cell_type": "markdown",
   "id": "d4f802c5-bdcc-4384-badf-50097e14e432",
   "metadata": {
    "id": "d4f802c5-bdcc-4384-badf-50097e14e432"
   },
   "source": [
    "### All baselines together\n",
    "Image all baselines. "
   ]
  },
  {
   "cell_type": "code",
   "execution_count": 28,
   "id": "1598a704-3954-4d97-bdf6-19a67f921af0",
   "metadata": {
    "colab": {
     "referenced_widgets": [
      "8d43ee7fb8bf429fb8877a545869df9d"
     ]
    },
    "id": "1598a704-3954-4d97-bdf6-19a67f921af0",
    "outputId": "8b2e1a7d-3f58-4d95-d3cb-e72a2771aafe"
   },
   "outputs": [
    {
     "name": "stdout",
     "output_type": "stream",
     "text": [
      "Peak Intensity (chan0) : 0.8205988\n",
      "PB at location of Intensity peak (chan0) : 0.8077468\n",
      "max pixel location  (array([512]), array([512]), array([0]), array([0]))\n",
      "Residual RMS : 0.0001830\n"
     ]
    },
    {
     "data": {
      "image/png": "[encoded data removed]",
      "text/plain": [
       "<Figure size 864x360 with 2 Axes>"
      ]
     },
     "metadata": {
      "needs_background": "light"
     },
     "output_type": "display_data"
    }
   ],
   "source": [
    "peak_all, rms_all = display_image(imname=working_dir+'try_ALMA_all_single.image',pbname=working_dir+'try_ALMA_all_single.pb',resname=working_dir+'try_ALMA_all_single.residual')"
   ]
  },
  {
   "cell_type": "markdown",
   "id": "dddd30a0-bf94-4bf8-8b03-0b89bf68a87f",
   "metadata": {
    "id": "dddd30a0-bf94-4bf8-8b03-0b89bf68a87f"
   },
   "source": [
    "### Verify the measured intensity, PB and noise levels."
   ]
  },
  {
   "cell_type": "code",
   "execution_count": 30,
   "id": "16b31fe3-755f-4a2f-b3c2-40c2007a3cec",
   "metadata": {
    "id": "16b31fe3-755f-4a2f-b3c2-40c2007a3cec",
    "outputId": "6c0c2ff0-360e-4a27-990c-4b10a0a5e160"
   },
   "outputs": [
    {
     "data": {
      "text/html": [
       "<table border=\"1\" class=\"dataframe\">\n",
       "  <thead>\n",
       "    <tr style=\"text-align: right;\">\n",
       "      <th></th>\n",
       "      <th>Baseline\n",
       "Types</th>\n",
       "      <th>Vis Mean \n",
       "(V=I=P)</th>\n",
       "      <th>Vis Std\n",
       "(sim)</th>\n",
       "      <th>Vis Std\n",
       "(norm sim)</th>\n",
       "      <th>Vis Std\n",
       "(calc)</th>\n",
       "      <th>Number of \n",
       " Data Pts</th>\n",
       "      <th>Weight\n",
       "(calc)</th>\n",
       "      <th>Weight\n",
       "(sim)</th>\n",
       "      <th>Int Jy/bm\n",
       "(calc)</th>\n",
       "      <th>Int Jy/bm\n",
       "(meas)</th>\n",
       "      <th>RMS mJy\n",
       "(calc)</th>\n",
       "      <th>RMS mJy\n",
       "(meas)</th>\n",
       "    </tr>\n",
       "  </thead>\n",
       "  <tbody>\n",
       "    <tr>\n",
       "      <th>0</th>\n",
       "      <td>12m-12m</td>\n",
       "      <td>0.7912</td>\n",
       "      <td>0.0034</td>\n",
       "      <td>1.0000</td>\n",
       "      <td>1.0000</td>\n",
       "      <td>504.0000</td>\n",
       "      <td>1.0000</td>\n",
       "      <td>82754.9141</td>\n",
       "      <td>0.7912</td>\n",
       "      <td>0.7951</td>\n",
       "      <td>0.1515</td>\n",
       "      <td>0.2087</td>\n",
       "    </tr>\n",
       "    <tr>\n",
       "      <th>1</th>\n",
       "      <td>7m-7m</td>\n",
       "      <td>0.9514</td>\n",
       "      <td>0.0099</td>\n",
       "      <td>2.9132</td>\n",
       "      <td>2.9388</td>\n",
       "      <td>108.0000</td>\n",
       "      <td>0.1158</td>\n",
       "      <td>9633.3809</td>\n",
       "      <td>0.9514</td>\n",
       "      <td>0.9630</td>\n",
       "      <td>0.9536</td>\n",
       "      <td>0.2087</td>\n",
       "    </tr>\n",
       "    <tr>\n",
       "      <th>2</th>\n",
       "      <td>12m-7m</td>\n",
       "      <td>0.8679</td>\n",
       "      <td>0.0060</td>\n",
       "      <td>1.7770</td>\n",
       "      <td>1.7143</td>\n",
       "      <td>576.0000</td>\n",
       "      <td>0.3403</td>\n",
       "      <td>28234.9004</td>\n",
       "      <td>0.8676</td>\n",
       "      <td>0.8733</td>\n",
       "      <td>0.2519</td>\n",
       "      <td>0.2631</td>\n",
       "    </tr>\n",
       "    <tr>\n",
       "      <th>3</th>\n",
       "      <td>All</td>\n",
       "      <td>-NA-</td>\n",
       "      <td>-NA-</td>\n",
       "      <td>-NA-</td>\n",
       "      <td>-NA-</td>\n",
       "      <td>-NA</td>\n",
       "      <td>-NA-</td>\n",
       "      <td>-NA-</td>\n",
       "      <td>0.8152</td>\n",
       "      <td>0.8206</td>\n",
       "      <td>0.1287</td>\n",
       "      <td>0.1830</td>\n",
       "    </tr>\n",
       "  </tbody>\n",
       "</table>"
      ],
      "text/plain": [
       "<IPython.core.display.HTML object>"
      ]
     },
     "metadata": {},
     "output_type": "display_data"
    },
    {
     "name": "stdout",
     "output_type": "stream",
     "text": [
      "Calculated PB size for type A (dia=12.00) : 0.95493 arcmin\n",
      "Calculated PB size for type B (dia=7.00) : 1.63702 arcmin\n"
     ]
    }
   ],
   "source": [
    "from sirius.display_tools import get_baseline_types, check_vals\n",
    "from casatasks import mstransform\n",
    " ## Add the WEIGHT_SPECTRUM column. This is needed only if you intend to use task_visstat on this dataset.\n",
    "os.system('rm -rf het_sim_weight_spectrum.ms')\n",
    "mstransform(vis=save_parms_noisy['ms_name'],outputvis=working_dir+'het_sim_weight_spectrum.ms',datacolumn='DATA',usewtspectrum=True)\n",
    "\n",
    "\n",
    "antsels = get_baseline_types()\n",
    "meas_peaks = {'A':peak_12m, 'B':peak_7m, 'cross':peak_cross, 'all':peak_all}\n",
    "meas_rms = {'A':rms_12m, 'B':rms_7m, 'cross':rms_cross, 'all':rms_all}\n",
    "check_vals(vis=working_dir+'het_sim_weight_spectrum.ms',field='0',spw='0:0',antsels=antsels,meas_peaks=meas_peaks, meas_rms=meas_rms)"
   ]
  },
  {
   "cell_type": "markdown",
   "id": "0fa857b0-d143-4ea6-b60c-bef16e8f7fdf",
   "metadata": {
    "id": "0fa857b0-d143-4ea6-b60c-bef16e8f7fdf"
   },
   "source": [
    "## Run the Imaging tests for a Mosaic\n",
    "The tests below cover joint mosaic imaging. "
   ]
  },
  {
   "cell_type": "code",
   "execution_count": 31,
   "id": "6021c016-140c-4ac0-8bf6-19c8d310ad87",
   "metadata": {
    "id": "6021c016-140c-4ac0-8bf6-19c8d310ad87",
    "outputId": "420af577-f52a-41f2-8f82-f75f28c3a195"
   },
   "outputs": [
    {
     "name": "stdout",
     "output_type": "stream",
     "text": [
      "antsels[antsel]2  A*&\n",
      "antsels[antsel]2  J*,N*&\n",
      "antsels[antsel]2  A* && J*,N*\n",
      "antsels[antsel]2  *\n"
     ]
    }
   ],
   "source": [
    "image_ants(vis=save_parms_noisy['ms_name'],imname=working_dir+'try_ALMA', field='0,1',antsel='A')\n",
    "image_ants(vis=save_parms_noisy['ms_name'],imname=working_dir+'try_ALMA', field='0,1',antsel='B')\n",
    "image_ants(vis=save_parms_noisy['ms_name'],imname=working_dir+'try_ALMA', field='0,1',antsel='cross')\n",
    "image_ants(vis=save_parms_noisy['ms_name'],imname=working_dir+'try_ALMA', field='0,1',antsel='all')"
   ]
  },
  {
   "cell_type": "markdown",
   "id": "45cdf580-049f-4139-9bc7-f48a50b7a190",
   "metadata": {
    "id": "45cdf580-049f-4139-9bc7-f48a50b7a190"
   },
   "source": [
    "### 12m-12m\n",
    "Image only the 12m-12m baselines for a joint mosaic. For this 1 Jy source, the image and the PB values match. "
   ]
  },
  {
   "cell_type": "code",
   "execution_count": 32,
   "id": "834af50b-fab4-429d-9959-a42b728a695f",
   "metadata": {
    "colab": {
     "referenced_widgets": [
      "4358a0a33c3142a79d4af1696218c801"
     ]
    },
    "id": "834af50b-fab4-429d-9959-a42b728a695f",
    "outputId": "404a2952-96ca-4a85-81a5-44ac85966a80"
   },
   "outputs": [
    {
     "name": "stdout",
     "output_type": "stream",
     "text": [
      "Peak Intensity (chan0) : 0.9638311\n",
      "PB at location of Intensity peak (chan0) : 0.9509934\n",
      "max pixel location  (array([512]), array([512]), array([0]), array([0]))\n",
      "Residual RMS : 0.0001933\n"
     ]
    },
    {
     "data": {
      "image/png": "[encoded data removed]",
      "text/plain": [
       "<Figure size 864x360 with 2 Axes>"
      ]
     },
     "metadata": {
      "needs_background": "light"
     },
     "output_type": "display_data"
    }
   ],
   "source": [
    "mospeak_12m,mosrms_12m = display_image(imname=working_dir+'try_ALMA_A_mosaic.image',pbname=working_dir+'try_ALMA_A_mosaic.pb',resname=working_dir+'try_ALMA_A_mosaic.residual')"
   ]
  },
  {
   "cell_type": "markdown",
   "id": "0f8e2b9c-d31f-44fd-81cb-71356cec8e27",
   "metadata": {
    "id": "0f8e2b9c-d31f-44fd-81cb-71356cec8e27"
   },
   "source": [
    "### 7m-7m\n",
    "Image only the 7m-7m baselines for a joint mosaic. For this 1 Jy source, the image and the PB values match. "
   ]
  },
  {
   "cell_type": "code",
   "execution_count": 33,
   "id": "d19f2af7-f496-4c4d-a4b0-c2b03ca62213",
   "metadata": {
    "colab": {
     "referenced_widgets": [
      "7e6d338e6fbc4419941448e03991ec9d"
     ]
    },
    "id": "d19f2af7-f496-4c4d-a4b0-c2b03ca62213",
    "outputId": "44a84cf5-9300-424e-c7ed-521b23e45871"
   },
   "outputs": [
    {
     "name": "stdout",
     "output_type": "stream",
     "text": [
      "Peak Intensity (chan0) : 1.0191978\n",
      "PB at location of Intensity peak (chan0) : 0.9956154\n",
      "max pixel location  (array([512]), array([512]), array([0]), array([4]))\n",
      "Residual RMS : 0.0009187\n"
     ]
    },
    {
     "data": {
      "image/png": "[encoded data removed]",
      "text/plain": [
       "<Figure size 864x360 with 2 Axes>"
      ]
     },
     "metadata": {
      "needs_background": "light"
     },
     "output_type": "display_data"
    }
   ],
   "source": [
    "mospeak_7m,mosrms_7m = display_image(imname=working_dir+'try_ALMA_B_mosaic.image',pbname=working_dir+'try_ALMA_B_mosaic.pb',resname=working_dir+'try_ALMA_B_mosaic.residual')"
   ]
  },
  {
   "cell_type": "markdown",
   "id": "176e1e38-c8e3-41f0-aae5-6ed4c4899e44",
   "metadata": {
    "id": "176e1e38-c8e3-41f0-aae5-6ed4c4899e44"
   },
   "source": [
    "### 12m-7m \n",
    "Image the cross baselines and check that the values of Sky, PB and RMS match the predictions. "
   ]
  },
  {
   "cell_type": "code",
   "execution_count": 34,
   "id": "625b58f9-e4c3-41f2-a596-69ecfd473172",
   "metadata": {
    "colab": {
     "referenced_widgets": [
      "d09adec3a8004870963e69a063baf103"
     ]
    },
    "id": "625b58f9-e4c3-41f2-a596-69ecfd473172",
    "outputId": "94c339c3-37f8-46e1-aa20-82f85e618a68"
   },
   "outputs": [
    {
     "name": "stdout",
     "output_type": "stream",
     "text": [
      "Peak Intensity (chan0) : 1.0148087\n",
      "PB at location of Intensity peak (chan0) : 0.9982338\n",
      "max pixel location  (array([512]), array([512]), array([0]), array([4]))\n",
      "Residual RMS : 0.0002494\n"
     ]
    },
    {
     "data": {
      "image/png": "[encoded data removed]",
      "text/plain": [
       "<Figure size 864x360 with 2 Axes>"
      ]
     },
     "metadata": {
      "needs_background": "light"
     },
     "output_type": "display_data"
    }
   ],
   "source": [
    "mospeak_cross,mosrms_cross = display_image(imname=working_dir+'try_ALMA_cross_mosaic.image',pbname=working_dir+'try_ALMA_cross_mosaic.pb',resname=working_dir+'try_ALMA_cross_mosaic.residual')"
   ]
  },
  {
   "cell_type": "markdown",
   "id": "c55b6d44-b40b-44a8-888d-f9dade5e67a6",
   "metadata": {
    "id": "c55b6d44-b40b-44a8-888d-f9dade5e67a6"
   },
   "source": [
    "### All baselines together\n",
    "\n",
    "Image all baselines together with a mosaic. "
   ]
  },
  {
   "cell_type": "code",
   "execution_count": 35,
   "id": "5a0f0a26-1583-477e-895c-d0eb03d1d0df",
   "metadata": {
    "colab": {
     "referenced_widgets": [
      "8227b1f79c58408288396027c4fd4557"
     ]
    },
    "id": "5a0f0a26-1583-477e-895c-d0eb03d1d0df",
    "outputId": "d5a75917-8afc-41ab-f7b9-81f565fea7c5"
   },
   "outputs": [
    {
     "name": "stdout",
     "output_type": "stream",
     "text": [
      "Peak Intensity (chan0) : 0.9926163\n",
      "PB at location of Intensity peak (chan0) : 0.9780214\n",
      "max pixel location  (array([512]), array([512]), array([0]), array([0]))\n",
      "Residual RMS : 0.0001611\n"
     ]
    },
    {
     "data": {
      "image/png": "[encoded data removed]",
      "text/plain": [
       "<Figure size 864x360 with 2 Axes>"
      ]
     },
     "metadata": {
      "needs_background": "light"
     },
     "output_type": "display_data"
    }
   ],
   "source": [
    "mospeak_all,mosrms_all = display_image(imname=working_dir+'try_ALMA_all_mosaic.image',pbname=working_dir+'try_ALMA_all_mosaic.pb',resname=working_dir+ 'try_ALMA_all_mosaic.residual')"
   ]
  },
  {
   "cell_type": "code",
   "execution_count": null,
   "id": "9c620a28-eb7c-4413-a86d-8bd497914bcf",
   "metadata": {},
   "outputs": [],
   "source": []
  }
 ],
 "metadata": {
  "colab": {
   "include_colab_link": true,
   "name": "heterogeneous_array_mosaic_simulations.ipynb",
   "provenance": []
  },
  "kernelspec": {
   "display_name": "Python 3 (ipykernel)",
   "language": "python",
   "name": "python3"
  },
  "language_info": {
   "codemirror_mode": {
    "name": "ipython",
    "version": 3
   },
   "file_extension": ".py",
   "mimetype": "text/x-python",
   "name": "python",
   "nbconvert_exporter": "python",
   "pygments_lexer": "ipython3",
   "version": "3.8.12"
  }
 },
 "nbformat": 4,
 "nbformat_minor": 5
}
